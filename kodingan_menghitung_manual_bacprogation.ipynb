{
  "nbformat": 4,
  "nbformat_minor": 0,
  "metadata": {
    "colab": {
      "provenance": [],
      "authorship_tag": "ABX9TyO1JkA0ruqGdqLCS/zu4iZm",
      "include_colab_link": true
    },
    "kernelspec": {
      "name": "python3",
      "display_name": "Python 3"
    },
    "language_info": {
      "name": "python"
    }
  },
  "cells": [
    {
      "cell_type": "markdown",
      "metadata": {
        "id": "view-in-github",
        "colab_type": "text"
      },
      "source": [
        "<a href=\"https://colab.research.google.com/github/junpito/collections-of-college-task/blob/main/kodingan_menghitung_manual_bacprogation.ipynb\" target=\"_parent\"><img src=\"https://colab.research.google.com/assets/colab-badge.svg\" alt=\"Open In Colab\"/></a>"
      ]
    },
    {
      "cell_type": "code",
      "source": [
        "import numpy as np\n"
      ],
      "metadata": {
        "id": "ei3FRLaarPaE"
      },
      "execution_count": null,
      "outputs": []
    },
    {
      "cell_type": "code",
      "source": [
        "x1 = -1\n",
        "x2 = 1"
      ],
      "metadata": {
        "id": "Tay-tPd9rHzZ"
      },
      "execution_count": null,
      "outputs": []
    },
    {
      "cell_type": "code",
      "source": [
        "winput = [0.8, -0.4, -0.2, 0.2, 0.5]\n",
        "whidden = [0.5, 0.1]\n",
        "bias_input = [0.4, 0.6]\n",
        "bias_output = -0.3"
      ],
      "metadata": {
        "id": "M8BXBDCMrJMX"
      },
      "execution_count": null,
      "outputs": []
    },
    {
      "cell_type": "code",
      "source": [
        "def sigmoid(x):\n",
        "    return 1 / (1 + np.exp(-x))\n",
        "\n",
        "# Calculate the output of the hidden layer\n",
        "hidden_layer_input = x1 * winput[0] + x2 * winput[1] + bias_input[0]\n",
        "hidden_layer_output = sigmoid(hidden_layer_input)"
      ],
      "metadata": {
        "id": "cugC8FTurJDz"
      },
      "execution_count": null,
      "outputs": []
    },
    {
      "cell_type": "code",
      "source": [
        "# Calculate the final weight\n",
        "output_layer_input = hidden_layer_output * whidden[0] + bias_output\n",
        "output = sigmoid(output_layer_input)"
      ],
      "metadata": {
        "id": "aLqHpuzYrMLo"
      },
      "execution_count": null,
      "outputs": []
    },
    {
      "cell_type": "code",
      "source": [
        "output"
      ],
      "metadata": {
        "colab": {
          "base_uri": "https://localhost:8080/"
        },
        "id": "OQvv-ogorUwo",
        "outputId": "a81b9ea4-f72c-4f24-dc52-858913942da1"
      },
      "execution_count": null,
      "outputs": [
        {
          "output_type": "execute_result",
          "data": {
            "text/plain": [
              "0.4638165529206009"
            ]
          },
          "metadata": {},
          "execution_count": 6
        }
      ]
    }
  ]
}