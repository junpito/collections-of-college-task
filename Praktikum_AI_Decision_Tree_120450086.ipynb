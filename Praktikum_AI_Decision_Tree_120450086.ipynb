{
  "nbformat": 4,
  "nbformat_minor": 0,
  "metadata": {
    "colab": {
      "provenance": [],
      "mount_file_id": "1Uewqepa54PFxqVLr4RPm-Q4hS-KBqxQ0",
      "authorship_tag": "ABX9TyMPq2KeKv8LbCXT4b84dVie",
      "include_colab_link": true
    },
    "kernelspec": {
      "name": "python3",
      "display_name": "Python 3"
    },
    "language_info": {
      "name": "python"
    }
  },
  "cells": [
    {
      "cell_type": "markdown",
      "metadata": {
        "id": "view-in-github",
        "colab_type": "text"
      },
      "source": [
        "<a href=\"https://colab.research.google.com/github/junpito/collections-of-college-task/blob/main/Praktikum_AI_Decision_Tree_120450086.ipynb\" target=\"_parent\"><img src=\"https://colab.research.google.com/assets/colab-badge.svg\" alt=\"Open In Colab\"/></a>"
      ]
    },
    {
      "cell_type": "code",
      "execution_count": null,
      "metadata": {
        "id": "48iZp2axPrgK"
      },
      "outputs": [],
      "source": [
        "import pandas as pd\n",
        "import numpy as np\n"
      ]
    },
    {
      "cell_type": "code",
      "source": [
        "from google.colab import drive\n",
        "drive.mount('/content/gdrive')"
      ],
      "metadata": {
        "colab": {
          "base_uri": "https://localhost:8080/"
        },
        "id": "ldZmtn2vQ6zB",
        "outputId": "1a41e9d7-df6a-4ba1-8b64-a24331d3efcd"
      },
      "execution_count": null,
      "outputs": [
        {
          "output_type": "stream",
          "name": "stdout",
          "text": [
            "Mounted at /content/gdrive\n"
          ]
        }
      ]
    },
    {
      "cell_type": "code",
      "source": [
        "df = pd.read_csv(\"/content/gdrive/MyDrive/praktikum/PlayTennis.csv\")\n",
        "df.head()"
      ],
      "metadata": {
        "colab": {
          "base_uri": "https://localhost:8080/",
          "height": 206
        },
        "id": "956nwnuvQxHp",
        "outputId": "f230b4fe-be8b-4a5f-88bd-f2d95295655f"
      },
      "execution_count": null,
      "outputs": [
        {
          "output_type": "execute_result",
          "data": {
            "text/plain": [
              "    Outlook Temperature Humidity    Wind Play Tennis\n",
              "0     Sunny         Hot     High    Weak          No\n",
              "1     Sunny         Hot     High  Strong          No\n",
              "2  Overcast         Hot     High    Weak         Yes\n",
              "3      Rain        Mild     High    Weak         Yes\n",
              "4      Rain        Cool   Normal    Weak         Yes"
            ],
            "text/html": [
              "\n",
              "  <div id=\"df-15b7567f-ad0e-4bdd-9b5a-27063aadc63e\">\n",
              "    <div class=\"colab-df-container\">\n",
              "      <div>\n",
              "<style scoped>\n",
              "    .dataframe tbody tr th:only-of-type {\n",
              "        vertical-align: middle;\n",
              "    }\n",
              "\n",
              "    .dataframe tbody tr th {\n",
              "        vertical-align: top;\n",
              "    }\n",
              "\n",
              "    .dataframe thead th {\n",
              "        text-align: right;\n",
              "    }\n",
              "</style>\n",
              "<table border=\"1\" class=\"dataframe\">\n",
              "  <thead>\n",
              "    <tr style=\"text-align: right;\">\n",
              "      <th></th>\n",
              "      <th>Outlook</th>\n",
              "      <th>Temperature</th>\n",
              "      <th>Humidity</th>\n",
              "      <th>Wind</th>\n",
              "      <th>Play Tennis</th>\n",
              "    </tr>\n",
              "  </thead>\n",
              "  <tbody>\n",
              "    <tr>\n",
              "      <th>0</th>\n",
              "      <td>Sunny</td>\n",
              "      <td>Hot</td>\n",
              "      <td>High</td>\n",
              "      <td>Weak</td>\n",
              "      <td>No</td>\n",
              "    </tr>\n",
              "    <tr>\n",
              "      <th>1</th>\n",
              "      <td>Sunny</td>\n",
              "      <td>Hot</td>\n",
              "      <td>High</td>\n",
              "      <td>Strong</td>\n",
              "      <td>No</td>\n",
              "    </tr>\n",
              "    <tr>\n",
              "      <th>2</th>\n",
              "      <td>Overcast</td>\n",
              "      <td>Hot</td>\n",
              "      <td>High</td>\n",
              "      <td>Weak</td>\n",
              "      <td>Yes</td>\n",
              "    </tr>\n",
              "    <tr>\n",
              "      <th>3</th>\n",
              "      <td>Rain</td>\n",
              "      <td>Mild</td>\n",
              "      <td>High</td>\n",
              "      <td>Weak</td>\n",
              "      <td>Yes</td>\n",
              "    </tr>\n",
              "    <tr>\n",
              "      <th>4</th>\n",
              "      <td>Rain</td>\n",
              "      <td>Cool</td>\n",
              "      <td>Normal</td>\n",
              "      <td>Weak</td>\n",
              "      <td>Yes</td>\n",
              "    </tr>\n",
              "  </tbody>\n",
              "</table>\n",
              "</div>\n",
              "      <button class=\"colab-df-convert\" onclick=\"convertToInteractive('df-15b7567f-ad0e-4bdd-9b5a-27063aadc63e')\"\n",
              "              title=\"Convert this dataframe to an interactive table.\"\n",
              "              style=\"display:none;\">\n",
              "        \n",
              "  <svg xmlns=\"http://www.w3.org/2000/svg\" height=\"24px\"viewBox=\"0 0 24 24\"\n",
              "       width=\"24px\">\n",
              "    <path d=\"M0 0h24v24H0V0z\" fill=\"none\"/>\n",
              "    <path d=\"M18.56 5.44l.94 2.06.94-2.06 2.06-.94-2.06-.94-.94-2.06-.94 2.06-2.06.94zm-11 1L8.5 8.5l.94-2.06 2.06-.94-2.06-.94L8.5 2.5l-.94 2.06-2.06.94zm10 10l.94 2.06.94-2.06 2.06-.94-2.06-.94-.94-2.06-.94 2.06-2.06.94z\"/><path d=\"M17.41 7.96l-1.37-1.37c-.4-.4-.92-.59-1.43-.59-.52 0-1.04.2-1.43.59L10.3 9.45l-7.72 7.72c-.78.78-.78 2.05 0 2.83L4 21.41c.39.39.9.59 1.41.59.51 0 1.02-.2 1.41-.59l7.78-7.78 2.81-2.81c.8-.78.8-2.07 0-2.86zM5.41 20L4 18.59l7.72-7.72 1.47 1.35L5.41 20z\"/>\n",
              "  </svg>\n",
              "      </button>\n",
              "      \n",
              "  <style>\n",
              "    .colab-df-container {\n",
              "      display:flex;\n",
              "      flex-wrap:wrap;\n",
              "      gap: 12px;\n",
              "    }\n",
              "\n",
              "    .colab-df-convert {\n",
              "      background-color: #E8F0FE;\n",
              "      border: none;\n",
              "      border-radius: 50%;\n",
              "      cursor: pointer;\n",
              "      display: none;\n",
              "      fill: #1967D2;\n",
              "      height: 32px;\n",
              "      padding: 0 0 0 0;\n",
              "      width: 32px;\n",
              "    }\n",
              "\n",
              "    .colab-df-convert:hover {\n",
              "      background-color: #E2EBFA;\n",
              "      box-shadow: 0px 1px 2px rgba(60, 64, 67, 0.3), 0px 1px 3px 1px rgba(60, 64, 67, 0.15);\n",
              "      fill: #174EA6;\n",
              "    }\n",
              "\n",
              "    [theme=dark] .colab-df-convert {\n",
              "      background-color: #3B4455;\n",
              "      fill: #D2E3FC;\n",
              "    }\n",
              "\n",
              "    [theme=dark] .colab-df-convert:hover {\n",
              "      background-color: #434B5C;\n",
              "      box-shadow: 0px 1px 3px 1px rgba(0, 0, 0, 0.15);\n",
              "      filter: drop-shadow(0px 1px 2px rgba(0, 0, 0, 0.3));\n",
              "      fill: #FFFFFF;\n",
              "    }\n",
              "  </style>\n",
              "\n",
              "      <script>\n",
              "        const buttonEl =\n",
              "          document.querySelector('#df-15b7567f-ad0e-4bdd-9b5a-27063aadc63e button.colab-df-convert');\n",
              "        buttonEl.style.display =\n",
              "          google.colab.kernel.accessAllowed ? 'block' : 'none';\n",
              "\n",
              "        async function convertToInteractive(key) {\n",
              "          const element = document.querySelector('#df-15b7567f-ad0e-4bdd-9b5a-27063aadc63e');\n",
              "          const dataTable =\n",
              "            await google.colab.kernel.invokeFunction('convertToInteractive',\n",
              "                                                     [key], {});\n",
              "          if (!dataTable) return;\n",
              "\n",
              "          const docLinkHtml = 'Like what you see? Visit the ' +\n",
              "            '<a target=\"_blank\" href=https://colab.research.google.com/notebooks/data_table.ipynb>data table notebook</a>'\n",
              "            + ' to learn more about interactive tables.';\n",
              "          element.innerHTML = '';\n",
              "          dataTable['output_type'] = 'display_data';\n",
              "          await google.colab.output.renderOutput(dataTable, element);\n",
              "          const docLink = document.createElement('div');\n",
              "          docLink.innerHTML = docLinkHtml;\n",
              "          element.appendChild(docLink);\n",
              "        }\n",
              "      </script>\n",
              "    </div>\n",
              "  </div>\n",
              "  "
            ]
          },
          "metadata": {},
          "execution_count": 3
        }
      ]
    },
    {
      "cell_type": "code",
      "source": [
        "def calc_total_entropy(train_data, label, class_list):\n",
        " total_row = train_data.shape[0] #the total size of the dataset\n",
        " total_entr = 0\n",
        " for c in class_list: #for each class in the label\n",
        "  total_class_count = train_data[train_data[label] == c].shape[0] #number of the class\n",
        "  total_class_entr = - (total_class_count/total_row)*np.log2(total_class_count/total_row)\n",
        "  total_entr += total_class_entr #adding the class entropy to the total entropy of the dataset\n",
        "  return total_entr\n",
        "\n"
      ],
      "metadata": {
        "id": "Ekt1sC1rSqjZ"
      },
      "execution_count": null,
      "outputs": []
    },
    {
      "cell_type": "code",
      "source": [
        "def calc_entropy(feature_value_data, label, class_list):\n",
        " class_count = feature_value_data.shape[0]\n",
        " entropy = 0\n",
        " \n",
        " for c in class_list:\n",
        "   label_class_count = feature_value_data[feature_value_data[label] == c].shape[0] #row count of class c \n",
        "   entropy_class = 0\n",
        "   if label_class_count != 0:\n",
        "     probability_class = label_class_count/class_count #probability of the class\n",
        "     entropy_class = - probability_class * np.log2(probability_class) #entropy\n",
        "     entropy += entropy_class\n",
        "     return entropy"
      ],
      "metadata": {
        "id": "okxe-6f3T0Vx"
      },
      "execution_count": null,
      "outputs": []
    },
    {
      "cell_type": "code",
      "source": [
        "def calc_info_gain(feature_name, train_data, label, class_list):\n",
        "  feature_value_list = train_data[feature_name].unique() #unqiue values of the feature\n",
        "  total_row = train_data.shape[0]\n",
        "  feature_info = 0.0\n",
        "  \n",
        "  for feature_value in feature_value_list:\n",
        "    feature_value_data = train_data[train_data[feature_name] == feature_value] #filtering rows with that feature_value\n",
        "    feature_value_count = feature_value_data.shape[0]\n",
        "    feature_value_entropy = calc_entropy(feature_value_data,label, class_list) #calculcating entropy for the feature value\n",
        "    feature_value_probability = feature_value_count/total_row\n",
        "    feature_info += feature_value_probability * feature_value_entropy #calculating information of the feature value\n",
        " \n",
        "  return calc_total_entropy(train_data, label, class_list) - feature_info #calculating information gain by subtracting"
      ],
      "metadata": {
        "id": "ltlVUZd6Ugib"
      },
      "execution_count": null,
      "outputs": []
    },
    {
      "cell_type": "code",
      "source": [
        "def find_most_informative_feature(train_data, label, class_list):\n",
        "  feature_list = train_data.columns.drop(label) #finding the feature names in the dataset\n",
        " #N.B. label is not a feature, so dropping it\n",
        "  max_info_gain = -1\n",
        "  max_info_feature = None\n",
        " \n",
        "  for feature in feature_list: #for each feature in the dataset\n",
        "    feature_info_gain = calc_info_gain(feature, train_data,label, class_list)\n",
        "    if max_info_gain < feature_info_gain: #selecting feature name with highest information gain\n",
        "      max_info_gain = feature_info_gain\n",
        "      max_info_feature = feature\n",
        "  return max_info_feature\n"
      ],
      "metadata": {
        "id": "gk6C-I1kU-sh"
      },
      "execution_count": null,
      "outputs": []
    },
    {
      "cell_type": "code",
      "source": [
        "def generate_sub_tree(feature_name, train_data, label, class_list):\n",
        "  feature_value_count_dict = train_data[feature_name].value_counts(sort=False) #dictionary of the count of unqiue feature value\n",
        "  tree = {} #sub tree or node\n",
        " \n",
        "  for feature_value, count in feature_value_count_dict.iteritems():\n",
        "    feature_value_data = train_data[train_data[feature_name] == feature_value] #dataset with only feature_name = feature_value\n",
        " \n",
        "    assigned_to_node = False #flag for tracking feature_value is pure class or not\n",
        "  for c in class_list: #for each class\n",
        "    class_count = feature_value_data[feature_value_data[label] == c].shape[0] #count  of class c\n",
        "    if class_count == count: #count of (feature_value =  count) of class (pure class)\n",
        "      tree[feature_value] = c #adding node to the tree\n",
        "      train_data = train_data[train_data[feature_name] !=feature_value] #removing rows with feature_value\n",
        "      assigned_to_node = True\n",
        "    if not assigned_to_node: #not pure class\n",
        "      tree[feature_value] = \"?\" #as feature_value is not a pure class, it should be expanded further, \n",
        " #so the branch is marking with ? \n",
        "  return tree, train_data"
      ],
      "metadata": {
        "id": "tn-GQQRyVweq"
      },
      "execution_count": null,
      "outputs": []
    },
    {
      "cell_type": "code",
      "source": [
        "def make_tree(root, prev_feature_value, train_data, label,class_list):\n",
        "  if train_data.shape[0] != 0: #if dataset becomes enpty after updating\n",
        "    max_info_feature = find_most_informative_feature(train_data,label, class_list) #most informative feature\n",
        "    tree, train_data = generate_sub_tree(max_info_feature,train_data, label, class_list) #getting tree node and updated dataset\n",
        "    next_root = None \n",
        "  if prev_feature_value != None: #add to intermediate node of the tree\n",
        "    root[prev_feature_value] = dict()\n",
        "    root[prev_feature_value][max_info_feature] = tree\n",
        "    next_root = root[prev_feature_value][max_info_feature]\n",
        "  else: #add to root of the tree\n",
        "    root[max_info_feature] = tree\n",
        "    next_root = root[max_info_feature] \n",
        "  for node, branch in list(next_root.items()): #iterating the tree node\n",
        "    if branch == \"?\": #if it is expandable\n",
        "      feature_value_data = train_data[train_data[max_info_feature] == node] #using the updated  dataset\n",
        "      make_tree(next_root, node, feature_value_data, label,class_list) #recursive call with updated dataset"
      ],
      "metadata": {
        "id": "wY354dKTWujx"
      },
      "execution_count": null,
      "outputs": []
    },
    {
      "cell_type": "code",
      "source": [
        "def id3(df, label):\n",
        "  train_data = df.copy() #getting a copy of the dataset\n",
        "  tree = {} #tree which will be updated\n",
        "  class_list = train_data[label].unique() #getting unqiue classes of the label\n",
        "  make_tree(tree, None, train_data, label, class_list) #start calling recursion\n",
        "  return tree"
      ],
      "metadata": {
        "id": "_hV1KBkLXQC5"
      },
      "execution_count": null,
      "outputs": []
    },
    {
      "cell_type": "code",
      "source": [
        "tree = id3(df, 'Play Tennis')\n",
        "tree"
      ],
      "metadata": {
        "colab": {
          "base_uri": "https://localhost:8080/"
        },
        "id": "OeOeqOCRXdYa",
        "outputId": "135e5678-991d-48d6-edc7-58106667f9ab"
      },
      "execution_count": null,
      "outputs": [
        {
          "output_type": "execute_result",
          "data": {
            "text/plain": [
              "{'Outlook': {'Rain': {'Wind': {'Strong': 'No'}}}}"
            ]
          },
          "metadata": {},
          "execution_count": 11
        }
      ]
    },
    {
      "cell_type": "code",
      "source": [
        "def predict(tree, instance):\n",
        "  if not isinstance(tree, dict): #if it is leaf node\n",
        "    return tree #return the value\n",
        "  else:\n",
        "    root_node = next(iter(tree)) #getting first key/feature name of the dictionary\n",
        "    feature_value = instance[root_node] #value of the feature\n",
        "    if feature_value in tree[root_node]: #checking the feature value in current tree node\n",
        "      return predict(tree[root_node][feature_value], instance)\n",
        "      #goto next feature\n",
        "    else:\n",
        "      return None"
      ],
      "metadata": {
        "id": "j-8DK1shX96S"
      },
      "execution_count": null,
      "outputs": []
    },
    {
      "cell_type": "code",
      "source": [
        "def evaluate(tree, test_data_m, label):\n",
        "  correct_preditct = 0\n",
        "  wrong_preditct = 0\n",
        "  for index, row in test_data_m.iterrows(): #for each row in the dataset\n",
        "    result = predict(tree, test_data_m.iloc[index]) #predict the row\n",
        "    if result == test_data_m[label].iloc[index]: #predicted value and expected value is same or not\n",
        "      correct_preditct += 1 #increase correct count\n",
        "    else:\n",
        "      wrong_preditct += 1 #increase incorrect count\n",
        "    accuracy = correct_preditct / (correct_preditct + wrong_preditct)\n",
        "  #calculating accuracy\n",
        "    return accuracy"
      ],
      "metadata": {
        "id": "5OCt6eRpYRgi"
      },
      "execution_count": null,
      "outputs": []
    },
    {
      "cell_type": "code",
      "source": [
        "eval = evaluate(tree, df, \"Play Tennis\")\n",
        "eval"
      ],
      "metadata": {
        "colab": {
          "base_uri": "https://localhost:8080/"
        },
        "id": "MTtNgFmkghHa",
        "outputId": "3f064145-cdd9-4be1-dec0-826c27ebcd6f"
      },
      "execution_count": null,
      "outputs": [
        {
          "output_type": "execute_result",
          "data": {
            "text/plain": [
              "0.0"
            ]
          },
          "metadata": {},
          "execution_count": 21
        }
      ]
    },
    {
      "cell_type": "markdown",
      "source": [
        "Lakukan prediksi dan evaluasi terhadap dataset playingtennis di atas berdasarkan dataset \n",
        "yang baru. Akses dataset test berikut: "
      ],
      "metadata": {
        "id": "w7PGFblmZX_K"
      }
    },
    {
      "cell_type": "code",
      "source": [
        "df2 = pd.read_csv(\"/content/gdrive/MyDrive/praktikum/PlayTennisTest.csv\")\n",
        "df2.head()\n",
        "\n",
        "eval = evaluate(tree, df2, \"Play Tennis\")\n",
        "eval"
      ],
      "metadata": {
        "colab": {
          "base_uri": "https://localhost:8080/"
        },
        "id": "M4IK-1bsYvJu",
        "outputId": "c79c299d-1c09-4488-ba28-36cabd2de348"
      },
      "execution_count": null,
      "outputs": [
        {
          "output_type": "execute_result",
          "data": {
            "text/plain": [
              "0.0"
            ]
          },
          "metadata": {},
          "execution_count": 31
        }
      ]
    },
    {
      "cell_type": "markdown",
      "source": [
        "Buatlah model pohon keputusan dengan algoritma ID3 seperti di atas, dengan menggunakan \n",
        "dataset berikut:"
      ],
      "metadata": {
        "id": "6ocDH2KIitvz"
      }
    },
    {
      "cell_type": "code",
      "source": [
        "df3 = pd.read_csv(\"/content/gdrive/MyDrive/praktikum/datacovid19.txt\", sep=\"\\t\", encoding=\"utf-16\")\n",
        "df3.head()"
      ],
      "metadata": {
        "colab": {
          "base_uri": "https://localhost:8080/",
          "height": 206
        },
        "id": "jq9YUHCdivc7",
        "outputId": "3f42ef19-e30d-47d7-c4dd-e1986367adce"
      },
      "execution_count": null,
      "outputs": [
        {
          "output_type": "execute_result",
          "data": {
            "text/plain": [
              "  Demam  Batuk Gangguan Pernapasan Terinfeksi\n",
              "0    Ya     Ya                  Ya         Ya\n",
              "1    Ya     Ya               Tidak      Tidak\n",
              "2    Ya  Tidak                  Ya         Ya\n",
              "3    Ya     Ya                  Ya         Ya\n",
              "4    Ya  Tidak                  Ya         Ya"
            ],
            "text/html": [
              "\n",
              "  <div id=\"df-9985b5bb-2f8f-4415-92f8-740b5efde6ea\">\n",
              "    <div class=\"colab-df-container\">\n",
              "      <div>\n",
              "<style scoped>\n",
              "    .dataframe tbody tr th:only-of-type {\n",
              "        vertical-align: middle;\n",
              "    }\n",
              "\n",
              "    .dataframe tbody tr th {\n",
              "        vertical-align: top;\n",
              "    }\n",
              "\n",
              "    .dataframe thead th {\n",
              "        text-align: right;\n",
              "    }\n",
              "</style>\n",
              "<table border=\"1\" class=\"dataframe\">\n",
              "  <thead>\n",
              "    <tr style=\"text-align: right;\">\n",
              "      <th></th>\n",
              "      <th>Demam</th>\n",
              "      <th>Batuk</th>\n",
              "      <th>Gangguan Pernapasan</th>\n",
              "      <th>Terinfeksi</th>\n",
              "    </tr>\n",
              "  </thead>\n",
              "  <tbody>\n",
              "    <tr>\n",
              "      <th>0</th>\n",
              "      <td>Ya</td>\n",
              "      <td>Ya</td>\n",
              "      <td>Ya</td>\n",
              "      <td>Ya</td>\n",
              "    </tr>\n",
              "    <tr>\n",
              "      <th>1</th>\n",
              "      <td>Ya</td>\n",
              "      <td>Ya</td>\n",
              "      <td>Tidak</td>\n",
              "      <td>Tidak</td>\n",
              "    </tr>\n",
              "    <tr>\n",
              "      <th>2</th>\n",
              "      <td>Ya</td>\n",
              "      <td>Tidak</td>\n",
              "      <td>Ya</td>\n",
              "      <td>Ya</td>\n",
              "    </tr>\n",
              "    <tr>\n",
              "      <th>3</th>\n",
              "      <td>Ya</td>\n",
              "      <td>Ya</td>\n",
              "      <td>Ya</td>\n",
              "      <td>Ya</td>\n",
              "    </tr>\n",
              "    <tr>\n",
              "      <th>4</th>\n",
              "      <td>Ya</td>\n",
              "      <td>Tidak</td>\n",
              "      <td>Ya</td>\n",
              "      <td>Ya</td>\n",
              "    </tr>\n",
              "  </tbody>\n",
              "</table>\n",
              "</div>\n",
              "      <button class=\"colab-df-convert\" onclick=\"convertToInteractive('df-9985b5bb-2f8f-4415-92f8-740b5efde6ea')\"\n",
              "              title=\"Convert this dataframe to an interactive table.\"\n",
              "              style=\"display:none;\">\n",
              "        \n",
              "  <svg xmlns=\"http://www.w3.org/2000/svg\" height=\"24px\"viewBox=\"0 0 24 24\"\n",
              "       width=\"24px\">\n",
              "    <path d=\"M0 0h24v24H0V0z\" fill=\"none\"/>\n",
              "    <path d=\"M18.56 5.44l.94 2.06.94-2.06 2.06-.94-2.06-.94-.94-2.06-.94 2.06-2.06.94zm-11 1L8.5 8.5l.94-2.06 2.06-.94-2.06-.94L8.5 2.5l-.94 2.06-2.06.94zm10 10l.94 2.06.94-2.06 2.06-.94-2.06-.94-.94-2.06-.94 2.06-2.06.94z\"/><path d=\"M17.41 7.96l-1.37-1.37c-.4-.4-.92-.59-1.43-.59-.52 0-1.04.2-1.43.59L10.3 9.45l-7.72 7.72c-.78.78-.78 2.05 0 2.83L4 21.41c.39.39.9.59 1.41.59.51 0 1.02-.2 1.41-.59l7.78-7.78 2.81-2.81c.8-.78.8-2.07 0-2.86zM5.41 20L4 18.59l7.72-7.72 1.47 1.35L5.41 20z\"/>\n",
              "  </svg>\n",
              "      </button>\n",
              "      \n",
              "  <style>\n",
              "    .colab-df-container {\n",
              "      display:flex;\n",
              "      flex-wrap:wrap;\n",
              "      gap: 12px;\n",
              "    }\n",
              "\n",
              "    .colab-df-convert {\n",
              "      background-color: #E8F0FE;\n",
              "      border: none;\n",
              "      border-radius: 50%;\n",
              "      cursor: pointer;\n",
              "      display: none;\n",
              "      fill: #1967D2;\n",
              "      height: 32px;\n",
              "      padding: 0 0 0 0;\n",
              "      width: 32px;\n",
              "    }\n",
              "\n",
              "    .colab-df-convert:hover {\n",
              "      background-color: #E2EBFA;\n",
              "      box-shadow: 0px 1px 2px rgba(60, 64, 67, 0.3), 0px 1px 3px 1px rgba(60, 64, 67, 0.15);\n",
              "      fill: #174EA6;\n",
              "    }\n",
              "\n",
              "    [theme=dark] .colab-df-convert {\n",
              "      background-color: #3B4455;\n",
              "      fill: #D2E3FC;\n",
              "    }\n",
              "\n",
              "    [theme=dark] .colab-df-convert:hover {\n",
              "      background-color: #434B5C;\n",
              "      box-shadow: 0px 1px 3px 1px rgba(0, 0, 0, 0.15);\n",
              "      filter: drop-shadow(0px 1px 2px rgba(0, 0, 0, 0.3));\n",
              "      fill: #FFFFFF;\n",
              "    }\n",
              "  </style>\n",
              "\n",
              "      <script>\n",
              "        const buttonEl =\n",
              "          document.querySelector('#df-9985b5bb-2f8f-4415-92f8-740b5efde6ea button.colab-df-convert');\n",
              "        buttonEl.style.display =\n",
              "          google.colab.kernel.accessAllowed ? 'block' : 'none';\n",
              "\n",
              "        async function convertToInteractive(key) {\n",
              "          const element = document.querySelector('#df-9985b5bb-2f8f-4415-92f8-740b5efde6ea');\n",
              "          const dataTable =\n",
              "            await google.colab.kernel.invokeFunction('convertToInteractive',\n",
              "                                                     [key], {});\n",
              "          if (!dataTable) return;\n",
              "\n",
              "          const docLinkHtml = 'Like what you see? Visit the ' +\n",
              "            '<a target=\"_blank\" href=https://colab.research.google.com/notebooks/data_table.ipynb>data table notebook</a>'\n",
              "            + ' to learn more about interactive tables.';\n",
              "          element.innerHTML = '';\n",
              "          dataTable['output_type'] = 'display_data';\n",
              "          await google.colab.output.renderOutput(dataTable, element);\n",
              "          const docLink = document.createElement('div');\n",
              "          docLink.innerHTML = docLinkHtml;\n",
              "          element.appendChild(docLink);\n",
              "        }\n",
              "      </script>\n",
              "    </div>\n",
              "  </div>\n",
              "  "
            ]
          },
          "metadata": {},
          "execution_count": 30
        }
      ]
    },
    {
      "cell_type": "code",
      "source": [
        "tree3 = id3(df3,\"Terinfeksi\")\n",
        "tree3"
      ],
      "metadata": {
        "colab": {
          "base_uri": "https://localhost:8080/"
        },
        "id": "S91VQTEHlRXT",
        "outputId": "763710a6-7e03-4403-e1bc-b5f3d917c77d"
      },
      "execution_count": null,
      "outputs": [
        {
          "output_type": "execute_result",
          "data": {
            "text/plain": [
              "{'Gangguan Pernapasan': {'Tidak': {'Batuk': {'Tidak': 'Tidak'}}}}"
            ]
          },
          "metadata": {},
          "execution_count": 33
        }
      ]
    },
    {
      "cell_type": "code",
      "source": [],
      "metadata": {
        "id": "mILUON5Xl5RC"
      },
      "execution_count": null,
      "outputs": []
    }
  ]
}