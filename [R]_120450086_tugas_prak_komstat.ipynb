{
  "nbformat": 4,
  "nbformat_minor": 0,
  "metadata": {
    "colab": {
      "provenance": [],
      "authorship_tag": "ABX9TyOsRdRQDX2r4mMV1gZXOWOf",
      "include_colab_link": true
    },
    "kernelspec": {
      "name": "ir",
      "display_name": "R"
    },
    "language_info": {
      "name": "R"
    }
  },
  "cells": [
    {
      "cell_type": "markdown",
      "metadata": {
        "id": "view-in-github",
        "colab_type": "text"
      },
      "source": [
        "<a href=\"https://colab.research.google.com/github/junpito/collections-of-college-task/blob/main/%5BR%5D_120450086_tugas_prak_komstat.ipynb\" target=\"_parent\"><img src=\"https://colab.research.google.com/assets/colab-badge.svg\" alt=\"Open In Colab\"/></a>"
      ]
    },
    {
      "cell_type": "markdown",
      "source": [
        "\n",
        "\n",
        "```\n",
        "nama : junpito salim \n",
        "nim  : 120450086\n",
        "```\n",
        "\n"
      ],
      "metadata": {
        "id": "pLU3vdF9otxd"
      }
    },
    {
      "cell_type": "code",
      "execution_count": null,
      "metadata": {
        "colab": {
          "base_uri": "https://localhost:8080/",
          "height": 34
        },
        "id": "Sn-A_FPanX4O",
        "outputId": "983c90c2-92f0-4219-df67-abefdaaa9a6e"
      },
      "outputs": [
        {
          "output_type": "display_data",
          "data": {
            "text/plain": [
              "13.42816 with absolute error < 1.5e-13"
            ]
          },
          "metadata": {}
        }
      ],
      "source": [
        "# 1. Kerjakan Latihan dibawah ini dengan menggunakan metode diatas dan bandingkan hasilnya dengan menggunaka integrate\n",
        "#integrate\n",
        "f = function(x) x^4*exp(-x)\n",
        "integrate(f, 0, 5)"
      ]
    },
    {
      "cell_type": "code",
      "source": [
        "#trapezoid\n",
        "trapezoid=function(f,a,b){\n",
        "  return (((b-a)/2)*(f(a)+f(b)))\n",
        "}"
      ],
      "metadata": {
        "id": "qoULqXHfnuoH"
      },
      "execution_count": null,
      "outputs": []
    },
    {
      "cell_type": "code",
      "source": [
        "trapezoid(f,0,5)"
      ],
      "metadata": {
        "colab": {
          "base_uri": "https://localhost:8080/",
          "height": 34
        },
        "id": "wKWhXHCDobrJ",
        "outputId": "0029627b-a4dd-45d9-cafb-f9b9d1b3c587"
      },
      "execution_count": null,
      "outputs": [
        {
          "output_type": "display_data",
          "data": {
            "text/html": [
              "10.528042186071"
            ],
            "text/markdown": "10.528042186071",
            "text/latex": "10.528042186071",
            "text/plain": [
              "[1] 10.52804"
            ]
          },
          "metadata": {}
        }
      ]
    },
    {
      "cell_type": "code",
      "source": [
        "#simpson1/3\n",
        "simpson13=function(f,a,b){\n",
        "  return (((b-a)/6)*(f(a)+4*f((a+b)/2)+f(b)))\n",
        "}"
      ],
      "metadata": {
        "id": "BThmPO9DnzT9"
      },
      "execution_count": null,
      "outputs": []
    },
    {
      "cell_type": "code",
      "source": [
        "simpson13(f,0,5)"
      ],
      "metadata": {
        "colab": {
          "base_uri": "https://localhost:8080/",
          "height": 34
        },
        "id": "NUNG5x9-oeqF",
        "outputId": "b168f4c0-2a5a-4200-9493-34f4736289e3"
      },
      "execution_count": null,
      "outputs": [
        {
          "output_type": "display_data",
          "data": {
            "text/html": [
              "14.1974982578438"
            ],
            "text/markdown": "14.1974982578438",
            "text/latex": "14.1974982578438",
            "text/plain": [
              "[1] 14.1975"
            ]
          },
          "metadata": {}
        }
      ]
    },
    {
      "cell_type": "code",
      "source": [
        "#simpson3/8\n",
        "simpson38=function(f,a,b){\n",
        "  h = (b-a)/3\n",
        "  return (((b-a)/8)*(f(a)+3*f(a+h)+3*f(b-h)+f(b)))\n",
        "}\n",
        "simpson38(f,0,5)"
      ],
      "metadata": {
        "colab": {
          "base_uri": "https://localhost:8080/",
          "height": 34
        },
        "id": "xrNXTWeyoixh",
        "outputId": "b789a730-e7cf-489f-dbeb-8a5c3c51fc4a"
      },
      "execution_count": null,
      "outputs": [
        {
          "output_type": "display_data",
          "data": {
            "text/html": [
              "13.6224546494344"
            ],
            "text/markdown": "13.6224546494344",
            "text/latex": "13.6224546494344",
            "text/plain": [
              "[1] 13.62245"
            ]
          },
          "metadata": {}
        }
      ]
    },
    {
      "cell_type": "code",
      "source": [
        "#boole\n",
        "boole=function(f,a,b){\n",
        "  h = (b-a)/4\n",
        "  return (((b-a)/90)*(7*f(a)+32*f(a+h)+12*f((a+b)/2)+32*f(b-h)+7*f(b)))\n",
        "}\n",
        "boole(f,0,5)\n",
        "regresi.mle <- function(formulas,data,optim_method=\"Nelder_Mead\"){\n",
        "  fm <-formulas\n",
        "  x <-model.matrix(object=fm,data=data) #Matrix sesian\n",
        "  y<- model.response(data=model.frame(formula=fm,data=data))\n",
        "  logLik <- function(param,x,y){\n",
        "    batas<-param[1:ncol(x)]\n",
        "    sigmas <- param[(ncol(x)+1)]\n",
        "    galat <- y-x%*%betas\n",
        "    fungsi_logLik <- dnorm(x=galat,mean=0,sd=sigmas,log = TRUE)\n",
        "    -sum(fungsi_logLik)\n",
        "  }\n",
        "  init_param <- rep(1, ncol(x)+1)\n",
        "  optim_result <- optim(par=init_param,fn=logLik,method=optim_method,\n",
        "                        hessian = TRUE, x=x, y=y)\n",
        "  \n",
        "  coef1 <- optim_result$par[1:ncol(x)]\n",
        "  names(coef1) <- colnames(x)\n",
        "  I=(diag(optim_result$hessian))\n",
        "  std.error <- sqrt(1/I[1:ncol(x)])\n",
        "  names(std.error) <- colnames(x)\n",
        "  result <- list(\"coefficient\"=coef1, \"standar error\"=std.error,\n",
        "                 \"sigma\"=optim_result$par[ncol(x)+1])\n",
        "  return(result)\n",
        "}"
      ],
      "metadata": {
        "colab": {
          "base_uri": "https://localhost:8080/",
          "height": 34
        },
        "id": "YiPzIdzFoo2q",
        "outputId": "e808695f-c9bc-4778-8194-8acdd48dfe82"
      },
      "execution_count": null,
      "outputs": [
        {
          "output_type": "display_data",
          "data": {
            "text/html": [
              "13.2867935542062"
            ],
            "text/markdown": "13.2867935542062",
            "text/latex": "13.2867935542062",
            "text/plain": [
              "[1] 13.28679"
            ]
          },
          "metadata": {}
        }
      ]
    },
    {
      "cell_type": "code",
      "source": [
        "n <- 1000\n",
        "set.seed(121)\n",
        "epsilon <- rnorm(n,mean=0,sd=1)\n",
        "set.seed(10)\n",
        "x <- replicate(3, rnorm(n,mean=0,sd=1))\n",
        "betas <- matrix(c(10,3,5,7), nrow=4,ncol=1)\n",
        "xgab <- cbind(1,x)\n",
        "y <- xgab%*%betas+epsilon\n",
        "dataregresi <- data.frame(y,x)\n",
        "colnames(dataregresi) <- c(\"y\",\"x1\",\"x2\",\"x3\")\n",
        "\n",
        "head(dataregresi)"
      ],
      "metadata": {
        "colab": {
          "base_uri": "https://localhost:8080/",
          "height": 286
        },
        "id": "k-ugWaTSoru6",
        "outputId": "f1197a20-f8e2-4157-b792-c2fb1e2d4c31"
      },
      "execution_count": null,
      "outputs": [
        {
          "output_type": "display_data",
          "data": {
            "text/html": [
              "<table class=\"dataframe\">\n",
              "<caption>A data.frame: 6 × 4</caption>\n",
              "<thead>\n",
              "\t<tr><th></th><th scope=col>y</th><th scope=col>x1</th><th scope=col>x2</th><th scope=col>x3</th></tr>\n",
              "\t<tr><th></th><th scope=col>&lt;dbl&gt;</th><th scope=col>&lt;dbl&gt;</th><th scope=col>&lt;dbl&gt;</th><th scope=col>&lt;dbl&gt;</th></tr>\n",
              "</thead>\n",
              "<tbody>\n",
              "\t<tr><th scope=row>1</th><td>12.895892</td><td> 0.01874617</td><td> 1.0500137</td><td>-0.30786498</td></tr>\n",
              "\t<tr><th scope=row>2</th><td>16.292679</td><td>-0.18425254</td><td> 0.2860926</td><td> 0.75808558</td></tr>\n",
              "\t<tr><th scope=row>3</th><td> 3.199569</td><td>-1.37133055</td><td> 0.2405648</td><td>-0.57386341</td></tr>\n",
              "\t<tr><th scope=row>4</th><td> 5.713738</td><td>-0.59916772</td><td> 0.8327052</td><td>-0.93874446</td></tr>\n",
              "\t<tr><th scope=row>5</th><td> 8.861140</td><td> 0.29454513</td><td>-0.2229832</td><td>-0.02769932</td></tr>\n",
              "\t<tr><th scope=row>6</th><td> 6.762695</td><td> 0.38979430</td><td> 0.2883442</td><td>-1.06624865</td></tr>\n",
              "</tbody>\n",
              "</table>\n"
            ],
            "text/markdown": "\nA data.frame: 6 × 4\n\n| <!--/--> | y &lt;dbl&gt; | x1 &lt;dbl&gt; | x2 &lt;dbl&gt; | x3 &lt;dbl&gt; |\n|---|---|---|---|---|\n| 1 | 12.895892 |  0.01874617 |  1.0500137 | -0.30786498 |\n| 2 | 16.292679 | -0.18425254 |  0.2860926 |  0.75808558 |\n| 3 |  3.199569 | -1.37133055 |  0.2405648 | -0.57386341 |\n| 4 |  5.713738 | -0.59916772 |  0.8327052 | -0.93874446 |\n| 5 |  8.861140 |  0.29454513 | -0.2229832 | -0.02769932 |\n| 6 |  6.762695 |  0.38979430 |  0.2883442 | -1.06624865 |\n\n",
            "text/latex": "A data.frame: 6 × 4\n\\begin{tabular}{r|llll}\n  & y & x1 & x2 & x3\\\\\n  & <dbl> & <dbl> & <dbl> & <dbl>\\\\\n\\hline\n\t1 & 12.895892 &  0.01874617 &  1.0500137 & -0.30786498\\\\\n\t2 & 16.292679 & -0.18425254 &  0.2860926 &  0.75808558\\\\\n\t3 &  3.199569 & -1.37133055 &  0.2405648 & -0.57386341\\\\\n\t4 &  5.713738 & -0.59916772 &  0.8327052 & -0.93874446\\\\\n\t5 &  8.861140 &  0.29454513 & -0.2229832 & -0.02769932\\\\\n\t6 &  6.762695 &  0.38979430 &  0.2883442 & -1.06624865\\\\\n\\end{tabular}\n",
            "text/plain": [
              "  y         x1          x2         x3         \n",
              "1 12.895892  0.01874617  1.0500137 -0.30786498\n",
              "2 16.292679 -0.18425254  0.2860926  0.75808558\n",
              "3  3.199569 -1.37133055  0.2405648 -0.57386341\n",
              "4  5.713738 -0.59916772  0.8327052 -0.93874446\n",
              "5  8.861140  0.29454513 -0.2229832 -0.02769932\n",
              "6  6.762695  0.38979430  0.2883442 -1.06624865"
            ]
          },
          "metadata": {}
        }
      ]
    }
  ]
}