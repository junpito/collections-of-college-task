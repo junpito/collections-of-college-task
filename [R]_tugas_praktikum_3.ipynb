{
  "nbformat": 4,
  "nbformat_minor": 0,
  "metadata": {
    "colab": {
      "provenance": [],
      "authorship_tag": "ABX9TyM0T5P/HbOTWEE1zJr7SzCe",
      "include_colab_link": true
    },
    "kernelspec": {
      "name": "ir",
      "display_name": "R"
    },
    "language_info": {
      "name": "R"
    }
  },
  "cells": [
    {
      "cell_type": "markdown",
      "metadata": {
        "id": "view-in-github",
        "colab_type": "text"
      },
      "source": [
        "<a href=\"https://colab.research.google.com/github/junpito/collections-of-college-task/blob/main/%5BR%5D_tugas_praktikum_3.ipynb\" target=\"_parent\"><img src=\"https://colab.research.google.com/assets/colab-badge.svg\" alt=\"Open In Colab\"/></a>"
      ]
    },
    {
      "cell_type": "markdown",
      "source": [
        "\n",
        "\n",
        "```\n",
        "nama : junpito salim\n",
        "nim  : 120450086\n",
        "\n",
        "```\n",
        "\n"
      ],
      "metadata": {
        "id": "evUl3oae7yvl"
      }
    },
    {
      "cell_type": "code",
      "execution_count": null,
      "metadata": {
        "id": "D1nd1UJC7s4x"
      },
      "outputs": [],
      "source": [
        "perkalian <- function(n){\n",
        "  for(i in 1:n){\n",
        "    print(paste(n,\" * \",i,\" = \",i*n))\n",
        "  }\n",
        "}\n",
        "\n",
        "perkalian(10)\n",
        "perkalian(20)\n",
        "\n",
        "#nomor 2\n",
        "deret_z <- function(n){\n",
        "  a = n+2\n",
        "  b = n+n\n",
        "  hasil = print(paste(n/n,'+',a,'/',b))\n",
        "  for (i in n:n+1){\n",
        "    a = a\n",
        "    b = b\n",
        "    c = a+2\n",
        "    d = a+b\n",
        "    j = paste('+',c,'/',d)\n",
        "    print(paste(hasil,j))\n",
        "  }\n",
        "}\n",
        "deret_z(3)\n",
        "\n",
        "#nomor 3\n",
        "f3 <- function(n){\n",
        "  k <- 2\n",
        "  for(i in 1:n){\n",
        "    if(i==1){\n",
        "      f <- i+1\n",
        "      x <- c(f)\n",
        "    }else if(n==2){\n",
        "      y <- 2 + x[i-1]\n",
        "      x <- c(x,y)\n",
        "      print(x)\n",
        "    }else{\n",
        "      z <- 0\n",
        "      z <- x[k-1] + x[i-k+1]\n",
        "      z <- z + z\n",
        "      k <- k+1\n",
        "      x <- c(x,z)\n",
        "    }\n",
        "  }\n",
        "}\n",
        "sum(f3(7))\n",
        "\n",
        "#nomor 3\n",
        "f <- function(n){\n",
        "  k=2\n",
        "  if(n==1){\n",
        "    return(n+1)\n",
        "  }else if(n==2){\n",
        "    return(2+f(n-1))\n",
        "  }else{\n",
        "    hasil <- 0\n",
        "    for (i in 3:n){\n",
        "      hasil <- hasil + f(k-1)+f(n-k+1)\n",
        "      k <- k+1\n",
        "    }\n",
        "    return(hasil)\n",
        "  }\n",
        "}\n",
        "f(7)"
      ]
    },
    {
      "cell_type": "markdown",
      "source": [
        "1. buat lah tabel perkalian 1 - 10"
      ],
      "metadata": {
        "id": "nPL-bbtA9TzS"
      }
    },
    {
      "cell_type": "code",
      "source": [
        "perkalian <- function(n){\n",
        "  for(i in 1:n){\n",
        "    print(paste(n,\" * \",i,\" = \",i*n))\n",
        "  }\n",
        "}\n",
        "\n",
        "perkalian(10)"
      ],
      "metadata": {
        "colab": {
          "base_uri": "https://localhost:8080/"
        },
        "id": "LKt4hdy89S4_",
        "outputId": "72c83c3b-21e0-4f83-a1c2-754e1c5a032a"
      },
      "execution_count": null,
      "outputs": [
        {
          "output_type": "stream",
          "name": "stdout",
          "text": [
            "[1] \"10  *  1  =  10\"\n",
            "[1] \"10  *  2  =  20\"\n",
            "[1] \"10  *  3  =  30\"\n",
            "[1] \"10  *  4  =  40\"\n",
            "[1] \"10  *  5  =  50\"\n",
            "[1] \"10  *  6  =  60\"\n",
            "[1] \"10  *  7  =  70\"\n",
            "[1] \"10  *  8  =  80\"\n",
            "[1] \"10  *  9  =  90\"\n",
            "[1] \"10  *  10  =  100\"\n"
          ]
        }
      ]
    },
    {
      "cell_type": "markdown",
      "source": [
        "![image.png](data:image/png;base64,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)"
      ],
      "metadata": {
        "id": "FucxyBFE-LZC"
      }
    },
    {
      "cell_type": "code",
      "source": [
        "deret_z <- function(n){\n",
        "  a = n+2\n",
        "  b = n+n\n",
        "  hasil = print(paste(n/n,'+',a,'/',b))\n",
        "  for (i in n:n+1){\n",
        "    a = a\n",
        "    b = b\n",
        "    c = a+2\n",
        "    d = a+b\n",
        "    j = paste('+',c,'/',d)\n",
        "    print(paste(hasil,j))\n",
        "  }\n",
        "}\n",
        "deret_z(3)"
      ],
      "metadata": {
        "colab": {
          "base_uri": "https://localhost:8080/"
        },
        "id": "I09z3Nlg995v",
        "outputId": "33425380-981c-4876-c901-06653fe9cdd2"
      },
      "execution_count": null,
      "outputs": [
        {
          "output_type": "stream",
          "name": "stdout",
          "text": [
            "[1] \"1 + 5 / 6\"\n",
            "[1] \"1 + 5 / 6 + 7 / 11\"\n"
          ]
        }
      ]
    },
    {
      "cell_type": "markdown",
      "source": [
        "![image.png](data:image/png;base64,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)"
      ],
      "metadata": {
        "id": "2VRm-2FB-XFW"
      }
    },
    {
      "cell_type": "code",
      "source": [
        "f3 <- function(n){\n",
        "  k <- 2\n",
        "  for(i in 1:n){\n",
        "    if(i==1){\n",
        "      f <- i+1\n",
        "      x <- c(f)\n",
        "    }else if(n==2){\n",
        "      y <- 2 + x[i-1]\n",
        "      x <- c(x,y)\n",
        "      print(x)\n",
        "    }else{\n",
        "      z <- 0\n",
        "      z <- x[k-1] + x[i-k+1]\n",
        "      z <- z + z\n",
        "      k <- k+1\n",
        "      x <- c(x,z)\n",
        "    }\n",
        "  }\n",
        "}\n",
        "sum(f3(7))"
      ],
      "metadata": {
        "colab": {
          "base_uri": "https://localhost:8080/",
          "height": 34
        },
        "id": "voa_Z4GH-YHu",
        "outputId": "cf1f9e67-4cb8-48a9-e2dd-fb9393cc413b"
      },
      "execution_count": null,
      "outputs": [
        {
          "output_type": "display_data",
          "data": {
            "text/html": [
              "0"
            ],
            "text/markdown": "0",
            "text/latex": "0",
            "text/plain": [
              "[1] 0"
            ]
          },
          "metadata": {}
        }
      ]
    },
    {
      "cell_type": "code",
      "source": [
        "f <- function(n){\n",
        "  k=2\n",
        "  if(n==1){\n",
        "    return(n+1)\n",
        "  }else if(n==2){\n",
        "    return(2+f(n-1))\n",
        "  }else{\n",
        "    hasil <- 0\n",
        "    for (i in 3:n){\n",
        "      hasil <- hasil + f(k-1)+f(n-k+1)\n",
        "      k <- k+1\n",
        "    }\n",
        "    return(hasil)\n",
        "  }\n",
        "}\n",
        "f(7)"
      ],
      "metadata": {
        "id": "SBm5JbfU-fV7",
        "outputId": "3a8c9c82-43dd-407c-898e-f09a968ad422",
        "colab": {
          "base_uri": "https://localhost:8080/",
          "height": 34
        }
      },
      "execution_count": null,
      "outputs": [
        {
          "output_type": "display_data",
          "data": {
            "text/html": [
              "222"
            ],
            "text/markdown": "222",
            "text/latex": "222",
            "text/plain": [
              "[1] 222"
            ]
          },
          "metadata": {}
        }
      ]
    }
  ]
}