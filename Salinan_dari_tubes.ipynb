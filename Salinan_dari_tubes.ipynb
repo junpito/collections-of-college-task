{
  "cells": [
    {
      "cell_type": "markdown",
      "metadata": {
        "id": "view-in-github",
        "colab_type": "text"
      },
      "source": [
        "<a href=\"https://colab.research.google.com/github/junpito/collections-of-college-task/blob/main/Salinan_dari_tubes.ipynb\" target=\"_parent\"><img src=\"https://colab.research.google.com/assets/colab-badge.svg\" alt=\"Open In Colab\"/></a>"
      ]
    },
    {
      "cell_type": "markdown",
      "source": [
        "## **PREDIKSI CUSTOMER CHURN MENGGUNAKAN ARTIFICIAL NEURAL NETWORK (ANN)**"
      ],
      "metadata": {
        "id": "_mCtgn0eiVVl"
      }
    },
    {
      "cell_type": "markdown",
      "source": [
        "# *Kelompok 9*\n",
        "\n",
        "* Masayu Franstika Oktaria - 120450016\n",
        "* Mochammad Aditya Putra Suhendar\n",
        "* Adisya Ridia Nurahma\n",
        "* Junpito Salim"
      ],
      "metadata": {
        "id": "OI8uiMM3ifdU"
      }
    },
    {
      "cell_type": "markdown",
      "metadata": {
        "id": "zYBawP2QDtY1"
      },
      "source": [
        "# Import Library"
      ]
    },
    {
      "cell_type": "code",
      "execution_count": null,
      "metadata": {
        "id": "CmjU4LQRDtY4"
      },
      "outputs": [],
      "source": [
        "import pandas as pd\n",
        "from matplotlib import pyplot as plt\n",
        "import numpy as np\n",
        "%matplotlib inline\n",
        "import seaborn as sns"
      ]
    },
    {
      "cell_type": "markdown",
      "metadata": {
        "id": "BrEjBEfpDtY9"
      },
      "source": [
        "# EDA"
      ]
    },
    {
      "cell_type": "code",
      "source": [
        "from google.colab import drive\n",
        "drive.mount('/content/drive')"
      ],
      "metadata": {
        "colab": {
          "base_uri": "https://localhost:8080/"
        },
        "id": "aBY7KOfPtnUO",
        "outputId": "15939a1f-ac05-49e0-efa0-fe6e9299dfed"
      },
      "execution_count": null,
      "outputs": [
        {
          "output_type": "stream",
          "name": "stdout",
          "text": [
            "Mounted at /content/drive\n"
          ]
        }
      ]
    },
    {
      "cell_type": "code",
      "execution_count": null,
      "metadata": {
        "id": "8VVCZleCDtY-",
        "colab": {
          "base_uri": "https://localhost:8080/",
          "height": 270
        },
        "outputId": "0ba2e82f-d5ac-43c3-ffbe-11e632513681"
      },
      "outputs": [
        {
          "output_type": "execute_result",
          "data": {
            "text/plain": [
              "   Churn  AccountWeeks  ContractRenewal  DataPlan  DataUsage  CustServCalls  \\\n",
              "0      0           128                1         1        2.7              1   \n",
              "1      0           107                1         1        3.7              1   \n",
              "2      0           137                1         0        0.0              0   \n",
              "3      0            84                0         0        0.0              2   \n",
              "4      0            75                0         0        0.0              3   \n",
              "\n",
              "   DayMins  DayCalls  MonthlyCharge  OverageFee  RoamMins  \n",
              "0    265.1       110           89.0        9.87      10.0  \n",
              "1    161.6       123           82.0        9.78      13.7  \n",
              "2    243.4       114           52.0        6.06      12.2  \n",
              "3    299.4        71           57.0        3.10       6.6  \n",
              "4    166.7       113           41.0        7.42      10.1  "
            ],
            "text/html": [
              "\n",
              "  <div id=\"df-b57cc9cf-3687-468b-a659-efa90b1a6c26\">\n",
              "    <div class=\"colab-df-container\">\n",
              "      <div>\n",
              "<style scoped>\n",
              "    .dataframe tbody tr th:only-of-type {\n",
              "        vertical-align: middle;\n",
              "    }\n",
              "\n",
              "    .dataframe tbody tr th {\n",
              "        vertical-align: top;\n",
              "    }\n",
              "\n",
              "    .dataframe thead th {\n",
              "        text-align: right;\n",
              "    }\n",
              "</style>\n",
              "<table border=\"1\" class=\"dataframe\">\n",
              "  <thead>\n",
              "    <tr style=\"text-align: right;\">\n",
              "      <th></th>\n",
              "      <th>Churn</th>\n",
              "      <th>AccountWeeks</th>\n",
              "      <th>ContractRenewal</th>\n",
              "      <th>DataPlan</th>\n",
              "      <th>DataUsage</th>\n",
              "      <th>CustServCalls</th>\n",
              "      <th>DayMins</th>\n",
              "      <th>DayCalls</th>\n",
              "      <th>MonthlyCharge</th>\n",
              "      <th>OverageFee</th>\n",
              "      <th>RoamMins</th>\n",
              "    </tr>\n",
              "  </thead>\n",
              "  <tbody>\n",
              "    <tr>\n",
              "      <th>0</th>\n",
              "      <td>0</td>\n",
              "      <td>128</td>\n",
              "      <td>1</td>\n",
              "      <td>1</td>\n",
              "      <td>2.7</td>\n",
              "      <td>1</td>\n",
              "      <td>265.1</td>\n",
              "      <td>110</td>\n",
              "      <td>89.0</td>\n",
              "      <td>9.87</td>\n",
              "      <td>10.0</td>\n",
              "    </tr>\n",
              "    <tr>\n",
              "      <th>1</th>\n",
              "      <td>0</td>\n",
              "      <td>107</td>\n",
              "      <td>1</td>\n",
              "      <td>1</td>\n",
              "      <td>3.7</td>\n",
              "      <td>1</td>\n",
              "      <td>161.6</td>\n",
              "      <td>123</td>\n",
              "      <td>82.0</td>\n",
              "      <td>9.78</td>\n",
              "      <td>13.7</td>\n",
              "    </tr>\n",
              "    <tr>\n",
              "      <th>2</th>\n",
              "      <td>0</td>\n",
              "      <td>137</td>\n",
              "      <td>1</td>\n",
              "      <td>0</td>\n",
              "      <td>0.0</td>\n",
              "      <td>0</td>\n",
              "      <td>243.4</td>\n",
              "      <td>114</td>\n",
              "      <td>52.0</td>\n",
              "      <td>6.06</td>\n",
              "      <td>12.2</td>\n",
              "    </tr>\n",
              "    <tr>\n",
              "      <th>3</th>\n",
              "      <td>0</td>\n",
              "      <td>84</td>\n",
              "      <td>0</td>\n",
              "      <td>0</td>\n",
              "      <td>0.0</td>\n",
              "      <td>2</td>\n",
              "      <td>299.4</td>\n",
              "      <td>71</td>\n",
              "      <td>57.0</td>\n",
              "      <td>3.10</td>\n",
              "      <td>6.6</td>\n",
              "    </tr>\n",
              "    <tr>\n",
              "      <th>4</th>\n",
              "      <td>0</td>\n",
              "      <td>75</td>\n",
              "      <td>0</td>\n",
              "      <td>0</td>\n",
              "      <td>0.0</td>\n",
              "      <td>3</td>\n",
              "      <td>166.7</td>\n",
              "      <td>113</td>\n",
              "      <td>41.0</td>\n",
              "      <td>7.42</td>\n",
              "      <td>10.1</td>\n",
              "    </tr>\n",
              "  </tbody>\n",
              "</table>\n",
              "</div>\n",
              "      <button class=\"colab-df-convert\" onclick=\"convertToInteractive('df-b57cc9cf-3687-468b-a659-efa90b1a6c26')\"\n",
              "              title=\"Convert this dataframe to an interactive table.\"\n",
              "              style=\"display:none;\">\n",
              "        \n",
              "  <svg xmlns=\"http://www.w3.org/2000/svg\" height=\"24px\"viewBox=\"0 0 24 24\"\n",
              "       width=\"24px\">\n",
              "    <path d=\"M0 0h24v24H0V0z\" fill=\"none\"/>\n",
              "    <path d=\"M18.56 5.44l.94 2.06.94-2.06 2.06-.94-2.06-.94-.94-2.06-.94 2.06-2.06.94zm-11 1L8.5 8.5l.94-2.06 2.06-.94-2.06-.94L8.5 2.5l-.94 2.06-2.06.94zm10 10l.94 2.06.94-2.06 2.06-.94-2.06-.94-.94-2.06-.94 2.06-2.06.94z\"/><path d=\"M17.41 7.96l-1.37-1.37c-.4-.4-.92-.59-1.43-.59-.52 0-1.04.2-1.43.59L10.3 9.45l-7.72 7.72c-.78.78-.78 2.05 0 2.83L4 21.41c.39.39.9.59 1.41.59.51 0 1.02-.2 1.41-.59l7.78-7.78 2.81-2.81c.8-.78.8-2.07 0-2.86zM5.41 20L4 18.59l7.72-7.72 1.47 1.35L5.41 20z\"/>\n",
              "  </svg>\n",
              "      </button>\n",
              "      \n",
              "  <style>\n",
              "    .colab-df-container {\n",
              "      display:flex;\n",
              "      flex-wrap:wrap;\n",
              "      gap: 12px;\n",
              "    }\n",
              "\n",
              "    .colab-df-convert {\n",
              "      background-color: #E8F0FE;\n",
              "      border: none;\n",
              "      border-radius: 50%;\n",
              "      cursor: pointer;\n",
              "      display: none;\n",
              "      fill: #1967D2;\n",
              "      height: 32px;\n",
              "      padding: 0 0 0 0;\n",
              "      width: 32px;\n",
              "    }\n",
              "\n",
              "    .colab-df-convert:hover {\n",
              "      background-color: #E2EBFA;\n",
              "      box-shadow: 0px 1px 2px rgba(60, 64, 67, 0.3), 0px 1px 3px 1px rgba(60, 64, 67, 0.15);\n",
              "      fill: #174EA6;\n",
              "    }\n",
              "\n",
              "    [theme=dark] .colab-df-convert {\n",
              "      background-color: #3B4455;\n",
              "      fill: #D2E3FC;\n",
              "    }\n",
              "\n",
              "    [theme=dark] .colab-df-convert:hover {\n",
              "      background-color: #434B5C;\n",
              "      box-shadow: 0px 1px 3px 1px rgba(0, 0, 0, 0.15);\n",
              "      filter: drop-shadow(0px 1px 2px rgba(0, 0, 0, 0.3));\n",
              "      fill: #FFFFFF;\n",
              "    }\n",
              "  </style>\n",
              "\n",
              "      <script>\n",
              "        const buttonEl =\n",
              "          document.querySelector('#df-b57cc9cf-3687-468b-a659-efa90b1a6c26 button.colab-df-convert');\n",
              "        buttonEl.style.display =\n",
              "          google.colab.kernel.accessAllowed ? 'block' : 'none';\n",
              "\n",
              "        async function convertToInteractive(key) {\n",
              "          const element = document.querySelector('#df-b57cc9cf-3687-468b-a659-efa90b1a6c26');\n",
              "          const dataTable =\n",
              "            await google.colab.kernel.invokeFunction('convertToInteractive',\n",
              "                                                     [key], {});\n",
              "          if (!dataTable) return;\n",
              "\n",
              "          const docLinkHtml = 'Like what you see? Visit the ' +\n",
              "            '<a target=\"_blank\" href=https://colab.research.google.com/notebooks/data_table.ipynb>data table notebook</a>'\n",
              "            + ' to learn more about interactive tables.';\n",
              "          element.innerHTML = '';\n",
              "          dataTable['output_type'] = 'display_data';\n",
              "          await google.colab.output.renderOutput(dataTable, element);\n",
              "          const docLink = document.createElement('div');\n",
              "          docLink.innerHTML = docLinkHtml;\n",
              "          element.appendChild(docLink);\n",
              "        }\n",
              "      </script>\n",
              "    </div>\n",
              "  </div>\n",
              "  "
            ]
          },
          "metadata": {},
          "execution_count": 44
        }
      ],
      "source": [
        "df = pd.read_csv(\"/content/drive/MyDrive/praktikum/telecom_churn.csv\")\n",
        "df.head()"
      ]
    },
    {
      "cell_type": "code",
      "execution_count": null,
      "metadata": {
        "id": "cwp4gQKbDtZA",
        "colab": {
          "base_uri": "https://localhost:8080/",
          "height": 270
        },
        "outputId": "6ff2bbde-09dc-428b-d47a-0e524e0a6bd1"
      },
      "outputs": [
        {
          "output_type": "execute_result",
          "data": {
            "text/plain": [
              "      Churn  AccountWeeks  ContractRenewal  DataPlan  DataUsage  \\\n",
              "3328      0           192                1         1       2.67   \n",
              "3329      0            68                1         0       0.34   \n",
              "3330      0            28                1         0       0.00   \n",
              "3331      0           184                0         0       0.00   \n",
              "3332      0            74                1         1       3.70   \n",
              "\n",
              "      CustServCalls  DayMins  DayCalls  MonthlyCharge  OverageFee  RoamMins  \n",
              "3328              2    156.2        77           71.7       10.78       9.9  \n",
              "3329              3    231.1        57           56.4        7.67       9.6  \n",
              "3330              2    180.8       109           56.0       14.44      14.1  \n",
              "3331              2    213.8       105           50.0        7.98       5.0  \n",
              "3332              0    234.4       113          100.0       13.30      13.7  "
            ],
            "text/html": [
              "\n",
              "  <div id=\"df-a9935896-36d4-4a12-841e-846146713f80\">\n",
              "    <div class=\"colab-df-container\">\n",
              "      <div>\n",
              "<style scoped>\n",
              "    .dataframe tbody tr th:only-of-type {\n",
              "        vertical-align: middle;\n",
              "    }\n",
              "\n",
              "    .dataframe tbody tr th {\n",
              "        vertical-align: top;\n",
              "    }\n",
              "\n",
              "    .dataframe thead th {\n",
              "        text-align: right;\n",
              "    }\n",
              "</style>\n",
              "<table border=\"1\" class=\"dataframe\">\n",
              "  <thead>\n",
              "    <tr style=\"text-align: right;\">\n",
              "      <th></th>\n",
              "      <th>Churn</th>\n",
              "      <th>AccountWeeks</th>\n",
              "      <th>ContractRenewal</th>\n",
              "      <th>DataPlan</th>\n",
              "      <th>DataUsage</th>\n",
              "      <th>CustServCalls</th>\n",
              "      <th>DayMins</th>\n",
              "      <th>DayCalls</th>\n",
              "      <th>MonthlyCharge</th>\n",
              "      <th>OverageFee</th>\n",
              "      <th>RoamMins</th>\n",
              "    </tr>\n",
              "  </thead>\n",
              "  <tbody>\n",
              "    <tr>\n",
              "      <th>3328</th>\n",
              "      <td>0</td>\n",
              "      <td>192</td>\n",
              "      <td>1</td>\n",
              "      <td>1</td>\n",
              "      <td>2.67</td>\n",
              "      <td>2</td>\n",
              "      <td>156.2</td>\n",
              "      <td>77</td>\n",
              "      <td>71.7</td>\n",
              "      <td>10.78</td>\n",
              "      <td>9.9</td>\n",
              "    </tr>\n",
              "    <tr>\n",
              "      <th>3329</th>\n",
              "      <td>0</td>\n",
              "      <td>68</td>\n",
              "      <td>1</td>\n",
              "      <td>0</td>\n",
              "      <td>0.34</td>\n",
              "      <td>3</td>\n",
              "      <td>231.1</td>\n",
              "      <td>57</td>\n",
              "      <td>56.4</td>\n",
              "      <td>7.67</td>\n",
              "      <td>9.6</td>\n",
              "    </tr>\n",
              "    <tr>\n",
              "      <th>3330</th>\n",
              "      <td>0</td>\n",
              "      <td>28</td>\n",
              "      <td>1</td>\n",
              "      <td>0</td>\n",
              "      <td>0.00</td>\n",
              "      <td>2</td>\n",
              "      <td>180.8</td>\n",
              "      <td>109</td>\n",
              "      <td>56.0</td>\n",
              "      <td>14.44</td>\n",
              "      <td>14.1</td>\n",
              "    </tr>\n",
              "    <tr>\n",
              "      <th>3331</th>\n",
              "      <td>0</td>\n",
              "      <td>184</td>\n",
              "      <td>0</td>\n",
              "      <td>0</td>\n",
              "      <td>0.00</td>\n",
              "      <td>2</td>\n",
              "      <td>213.8</td>\n",
              "      <td>105</td>\n",
              "      <td>50.0</td>\n",
              "      <td>7.98</td>\n",
              "      <td>5.0</td>\n",
              "    </tr>\n",
              "    <tr>\n",
              "      <th>3332</th>\n",
              "      <td>0</td>\n",
              "      <td>74</td>\n",
              "      <td>1</td>\n",
              "      <td>1</td>\n",
              "      <td>3.70</td>\n",
              "      <td>0</td>\n",
              "      <td>234.4</td>\n",
              "      <td>113</td>\n",
              "      <td>100.0</td>\n",
              "      <td>13.30</td>\n",
              "      <td>13.7</td>\n",
              "    </tr>\n",
              "  </tbody>\n",
              "</table>\n",
              "</div>\n",
              "      <button class=\"colab-df-convert\" onclick=\"convertToInteractive('df-a9935896-36d4-4a12-841e-846146713f80')\"\n",
              "              title=\"Convert this dataframe to an interactive table.\"\n",
              "              style=\"display:none;\">\n",
              "        \n",
              "  <svg xmlns=\"http://www.w3.org/2000/svg\" height=\"24px\"viewBox=\"0 0 24 24\"\n",
              "       width=\"24px\">\n",
              "    <path d=\"M0 0h24v24H0V0z\" fill=\"none\"/>\n",
              "    <path d=\"M18.56 5.44l.94 2.06.94-2.06 2.06-.94-2.06-.94-.94-2.06-.94 2.06-2.06.94zm-11 1L8.5 8.5l.94-2.06 2.06-.94-2.06-.94L8.5 2.5l-.94 2.06-2.06.94zm10 10l.94 2.06.94-2.06 2.06-.94-2.06-.94-.94-2.06-.94 2.06-2.06.94z\"/><path d=\"M17.41 7.96l-1.37-1.37c-.4-.4-.92-.59-1.43-.59-.52 0-1.04.2-1.43.59L10.3 9.45l-7.72 7.72c-.78.78-.78 2.05 0 2.83L4 21.41c.39.39.9.59 1.41.59.51 0 1.02-.2 1.41-.59l7.78-7.78 2.81-2.81c.8-.78.8-2.07 0-2.86zM5.41 20L4 18.59l7.72-7.72 1.47 1.35L5.41 20z\"/>\n",
              "  </svg>\n",
              "      </button>\n",
              "      \n",
              "  <style>\n",
              "    .colab-df-container {\n",
              "      display:flex;\n",
              "      flex-wrap:wrap;\n",
              "      gap: 12px;\n",
              "    }\n",
              "\n",
              "    .colab-df-convert {\n",
              "      background-color: #E8F0FE;\n",
              "      border: none;\n",
              "      border-radius: 50%;\n",
              "      cursor: pointer;\n",
              "      display: none;\n",
              "      fill: #1967D2;\n",
              "      height: 32px;\n",
              "      padding: 0 0 0 0;\n",
              "      width: 32px;\n",
              "    }\n",
              "\n",
              "    .colab-df-convert:hover {\n",
              "      background-color: #E2EBFA;\n",
              "      box-shadow: 0px 1px 2px rgba(60, 64, 67, 0.3), 0px 1px 3px 1px rgba(60, 64, 67, 0.15);\n",
              "      fill: #174EA6;\n",
              "    }\n",
              "\n",
              "    [theme=dark] .colab-df-convert {\n",
              "      background-color: #3B4455;\n",
              "      fill: #D2E3FC;\n",
              "    }\n",
              "\n",
              "    [theme=dark] .colab-df-convert:hover {\n",
              "      background-color: #434B5C;\n",
              "      box-shadow: 0px 1px 3px 1px rgba(0, 0, 0, 0.15);\n",
              "      filter: drop-shadow(0px 1px 2px rgba(0, 0, 0, 0.3));\n",
              "      fill: #FFFFFF;\n",
              "    }\n",
              "  </style>\n",
              "\n",
              "      <script>\n",
              "        const buttonEl =\n",
              "          document.querySelector('#df-a9935896-36d4-4a12-841e-846146713f80 button.colab-df-convert');\n",
              "        buttonEl.style.display =\n",
              "          google.colab.kernel.accessAllowed ? 'block' : 'none';\n",
              "\n",
              "        async function convertToInteractive(key) {\n",
              "          const element = document.querySelector('#df-a9935896-36d4-4a12-841e-846146713f80');\n",
              "          const dataTable =\n",
              "            await google.colab.kernel.invokeFunction('convertToInteractive',\n",
              "                                                     [key], {});\n",
              "          if (!dataTable) return;\n",
              "\n",
              "          const docLinkHtml = 'Like what you see? Visit the ' +\n",
              "            '<a target=\"_blank\" href=https://colab.research.google.com/notebooks/data_table.ipynb>data table notebook</a>'\n",
              "            + ' to learn more about interactive tables.';\n",
              "          element.innerHTML = '';\n",
              "          dataTable['output_type'] = 'display_data';\n",
              "          await google.colab.output.renderOutput(dataTable, element);\n",
              "          const docLink = document.createElement('div');\n",
              "          docLink.innerHTML = docLinkHtml;\n",
              "          element.appendChild(docLink);\n",
              "        }\n",
              "      </script>\n",
              "    </div>\n",
              "  </div>\n",
              "  "
            ]
          },
          "metadata": {},
          "execution_count": 4
        }
      ],
      "source": [
        "df.tail()"
      ]
    },
    {
      "cell_type": "code",
      "execution_count": null,
      "metadata": {
        "id": "vB8CYA8dDtZB",
        "colab": {
          "base_uri": "https://localhost:8080/"
        },
        "outputId": "2bc26e4d-dc0f-49aa-b632-22c6cbed9674"
      },
      "outputs": [
        {
          "output_type": "stream",
          "name": "stdout",
          "text": [
            "<class 'pandas.core.frame.DataFrame'>\n",
            "RangeIndex: 3333 entries, 0 to 3332\n",
            "Data columns (total 11 columns):\n",
            " #   Column           Non-Null Count  Dtype  \n",
            "---  ------           --------------  -----  \n",
            " 0   Churn            3333 non-null   int64  \n",
            " 1   AccountWeeks     3333 non-null   int64  \n",
            " 2   ContractRenewal  3333 non-null   int64  \n",
            " 3   DataPlan         3333 non-null   int64  \n",
            " 4   DataUsage        3333 non-null   float64\n",
            " 5   CustServCalls    3333 non-null   int64  \n",
            " 6   DayMins          3333 non-null   float64\n",
            " 7   DayCalls         3333 non-null   int64  \n",
            " 8   MonthlyCharge    3333 non-null   float64\n",
            " 9   OverageFee       3333 non-null   float64\n",
            " 10  RoamMins         3333 non-null   float64\n",
            "dtypes: float64(5), int64(6)\n",
            "memory usage: 286.6 KB\n"
          ]
        }
      ],
      "source": [
        "df.info()"
      ]
    },
    {
      "cell_type": "code",
      "source": [
        "df.columns"
      ],
      "metadata": {
        "colab": {
          "base_uri": "https://localhost:8080/"
        },
        "id": "Hwyt8ftAuZub",
        "outputId": "40a88225-4642-419f-b4ce-b7a046d02d8c"
      },
      "execution_count": null,
      "outputs": [
        {
          "output_type": "execute_result",
          "data": {
            "text/plain": [
              "Index(['Churn', 'AccountWeeks', 'ContractRenewal', 'DataPlan', 'DataUsage',\n",
              "       'CustServCalls', 'DayMins', 'DayCalls', 'MonthlyCharge', 'OverageFee',\n",
              "       'RoamMins'],\n",
              "      dtype='object')"
            ]
          },
          "metadata": {},
          "execution_count": 6
        }
      ]
    },
    {
      "cell_type": "code",
      "execution_count": null,
      "metadata": {
        "id": "r5bcP1SUDtZF",
        "colab": {
          "base_uri": "https://localhost:8080/"
        },
        "outputId": "df05368f-0fa5-4aaf-c0f3-a4a872918f5f"
      },
      "outputs": [
        {
          "output_type": "execute_result",
          "data": {
            "text/plain": [
              "(3333, 11)"
            ]
          },
          "metadata": {},
          "execution_count": 7
        }
      ],
      "source": [
        "df.shape"
      ]
    },
    {
      "cell_type": "markdown",
      "source": [
        "check apakah ada yang kosong"
      ],
      "metadata": {
        "id": "xtxVctkV5oz2"
      }
    },
    {
      "cell_type": "code",
      "source": [
        "df.isnull().sum()"
      ],
      "metadata": {
        "id": "G7m_H-AY5t-r",
        "colab": {
          "base_uri": "https://localhost:8080/"
        },
        "outputId": "e9dae156-6a27-4ca3-ed16-3e319d05034d"
      },
      "execution_count": null,
      "outputs": [
        {
          "output_type": "execute_result",
          "data": {
            "text/plain": [
              "Churn              0\n",
              "AccountWeeks       0\n",
              "ContractRenewal    0\n",
              "DataPlan           0\n",
              "DataUsage          0\n",
              "CustServCalls      0\n",
              "DayMins            0\n",
              "DayCalls           0\n",
              "MonthlyCharge      0\n",
              "OverageFee         0\n",
              "RoamMins           0\n",
              "dtype: int64"
            ]
          },
          "metadata": {},
          "execution_count": 8
        }
      ]
    },
    {
      "cell_type": "code",
      "execution_count": null,
      "metadata": {
        "id": "fntT03UDDtZH",
        "colab": {
          "base_uri": "https://localhost:8080/",
          "height": 364
        },
        "outputId": "2df78822-8949-49e9-cd88-6d6919f805cf"
      },
      "outputs": [
        {
          "output_type": "execute_result",
          "data": {
            "text/plain": [
              "             Churn  AccountWeeks  ContractRenewal     DataPlan    DataUsage  \\\n",
              "count  3333.000000   3333.000000      3333.000000  3333.000000  3333.000000   \n",
              "mean      0.144914    101.064806         0.903090     0.276628     0.816475   \n",
              "std       0.352067     39.822106         0.295879     0.447398     1.272668   \n",
              "min       0.000000      1.000000         0.000000     0.000000     0.000000   \n",
              "25%       0.000000     74.000000         1.000000     0.000000     0.000000   \n",
              "50%       0.000000    101.000000         1.000000     0.000000     0.000000   \n",
              "75%       0.000000    127.000000         1.000000     1.000000     1.780000   \n",
              "max       1.000000    243.000000         1.000000     1.000000     5.400000   \n",
              "\n",
              "       CustServCalls      DayMins     DayCalls  MonthlyCharge   OverageFee  \\\n",
              "count    3333.000000  3333.000000  3333.000000    3333.000000  3333.000000   \n",
              "mean        1.562856   179.775098   100.435644      56.305161    10.051488   \n",
              "std         1.315491    54.467389    20.069084      16.426032     2.535712   \n",
              "min         0.000000     0.000000     0.000000      14.000000     0.000000   \n",
              "25%         1.000000   143.700000    87.000000      45.000000     8.330000   \n",
              "50%         1.000000   179.400000   101.000000      53.500000    10.070000   \n",
              "75%         2.000000   216.400000   114.000000      66.200000    11.770000   \n",
              "max         9.000000   350.800000   165.000000     111.300000    18.190000   \n",
              "\n",
              "          RoamMins  \n",
              "count  3333.000000  \n",
              "mean     10.237294  \n",
              "std       2.791840  \n",
              "min       0.000000  \n",
              "25%       8.500000  \n",
              "50%      10.300000  \n",
              "75%      12.100000  \n",
              "max      20.000000  "
            ],
            "text/html": [
              "\n",
              "  <div id=\"df-5f30330f-e438-4a1c-b1d8-a23201a1486f\">\n",
              "    <div class=\"colab-df-container\">\n",
              "      <div>\n",
              "<style scoped>\n",
              "    .dataframe tbody tr th:only-of-type {\n",
              "        vertical-align: middle;\n",
              "    }\n",
              "\n",
              "    .dataframe tbody tr th {\n",
              "        vertical-align: top;\n",
              "    }\n",
              "\n",
              "    .dataframe thead th {\n",
              "        text-align: right;\n",
              "    }\n",
              "</style>\n",
              "<table border=\"1\" class=\"dataframe\">\n",
              "  <thead>\n",
              "    <tr style=\"text-align: right;\">\n",
              "      <th></th>\n",
              "      <th>Churn</th>\n",
              "      <th>AccountWeeks</th>\n",
              "      <th>ContractRenewal</th>\n",
              "      <th>DataPlan</th>\n",
              "      <th>DataUsage</th>\n",
              "      <th>CustServCalls</th>\n",
              "      <th>DayMins</th>\n",
              "      <th>DayCalls</th>\n",
              "      <th>MonthlyCharge</th>\n",
              "      <th>OverageFee</th>\n",
              "      <th>RoamMins</th>\n",
              "    </tr>\n",
              "  </thead>\n",
              "  <tbody>\n",
              "    <tr>\n",
              "      <th>count</th>\n",
              "      <td>3333.000000</td>\n",
              "      <td>3333.000000</td>\n",
              "      <td>3333.000000</td>\n",
              "      <td>3333.000000</td>\n",
              "      <td>3333.000000</td>\n",
              "      <td>3333.000000</td>\n",
              "      <td>3333.000000</td>\n",
              "      <td>3333.000000</td>\n",
              "      <td>3333.000000</td>\n",
              "      <td>3333.000000</td>\n",
              "      <td>3333.000000</td>\n",
              "    </tr>\n",
              "    <tr>\n",
              "      <th>mean</th>\n",
              "      <td>0.144914</td>\n",
              "      <td>101.064806</td>\n",
              "      <td>0.903090</td>\n",
              "      <td>0.276628</td>\n",
              "      <td>0.816475</td>\n",
              "      <td>1.562856</td>\n",
              "      <td>179.775098</td>\n",
              "      <td>100.435644</td>\n",
              "      <td>56.305161</td>\n",
              "      <td>10.051488</td>\n",
              "      <td>10.237294</td>\n",
              "    </tr>\n",
              "    <tr>\n",
              "      <th>std</th>\n",
              "      <td>0.352067</td>\n",
              "      <td>39.822106</td>\n",
              "      <td>0.295879</td>\n",
              "      <td>0.447398</td>\n",
              "      <td>1.272668</td>\n",
              "      <td>1.315491</td>\n",
              "      <td>54.467389</td>\n",
              "      <td>20.069084</td>\n",
              "      <td>16.426032</td>\n",
              "      <td>2.535712</td>\n",
              "      <td>2.791840</td>\n",
              "    </tr>\n",
              "    <tr>\n",
              "      <th>min</th>\n",
              "      <td>0.000000</td>\n",
              "      <td>1.000000</td>\n",
              "      <td>0.000000</td>\n",
              "      <td>0.000000</td>\n",
              "      <td>0.000000</td>\n",
              "      <td>0.000000</td>\n",
              "      <td>0.000000</td>\n",
              "      <td>0.000000</td>\n",
              "      <td>14.000000</td>\n",
              "      <td>0.000000</td>\n",
              "      <td>0.000000</td>\n",
              "    </tr>\n",
              "    <tr>\n",
              "      <th>25%</th>\n",
              "      <td>0.000000</td>\n",
              "      <td>74.000000</td>\n",
              "      <td>1.000000</td>\n",
              "      <td>0.000000</td>\n",
              "      <td>0.000000</td>\n",
              "      <td>1.000000</td>\n",
              "      <td>143.700000</td>\n",
              "      <td>87.000000</td>\n",
              "      <td>45.000000</td>\n",
              "      <td>8.330000</td>\n",
              "      <td>8.500000</td>\n",
              "    </tr>\n",
              "    <tr>\n",
              "      <th>50%</th>\n",
              "      <td>0.000000</td>\n",
              "      <td>101.000000</td>\n",
              "      <td>1.000000</td>\n",
              "      <td>0.000000</td>\n",
              "      <td>0.000000</td>\n",
              "      <td>1.000000</td>\n",
              "      <td>179.400000</td>\n",
              "      <td>101.000000</td>\n",
              "      <td>53.500000</td>\n",
              "      <td>10.070000</td>\n",
              "      <td>10.300000</td>\n",
              "    </tr>\n",
              "    <tr>\n",
              "      <th>75%</th>\n",
              "      <td>0.000000</td>\n",
              "      <td>127.000000</td>\n",
              "      <td>1.000000</td>\n",
              "      <td>1.000000</td>\n",
              "      <td>1.780000</td>\n",
              "      <td>2.000000</td>\n",
              "      <td>216.400000</td>\n",
              "      <td>114.000000</td>\n",
              "      <td>66.200000</td>\n",
              "      <td>11.770000</td>\n",
              "      <td>12.100000</td>\n",
              "    </tr>\n",
              "    <tr>\n",
              "      <th>max</th>\n",
              "      <td>1.000000</td>\n",
              "      <td>243.000000</td>\n",
              "      <td>1.000000</td>\n",
              "      <td>1.000000</td>\n",
              "      <td>5.400000</td>\n",
              "      <td>9.000000</td>\n",
              "      <td>350.800000</td>\n",
              "      <td>165.000000</td>\n",
              "      <td>111.300000</td>\n",
              "      <td>18.190000</td>\n",
              "      <td>20.000000</td>\n",
              "    </tr>\n",
              "  </tbody>\n",
              "</table>\n",
              "</div>\n",
              "      <button class=\"colab-df-convert\" onclick=\"convertToInteractive('df-5f30330f-e438-4a1c-b1d8-a23201a1486f')\"\n",
              "              title=\"Convert this dataframe to an interactive table.\"\n",
              "              style=\"display:none;\">\n",
              "        \n",
              "  <svg xmlns=\"http://www.w3.org/2000/svg\" height=\"24px\"viewBox=\"0 0 24 24\"\n",
              "       width=\"24px\">\n",
              "    <path d=\"M0 0h24v24H0V0z\" fill=\"none\"/>\n",
              "    <path d=\"M18.56 5.44l.94 2.06.94-2.06 2.06-.94-2.06-.94-.94-2.06-.94 2.06-2.06.94zm-11 1L8.5 8.5l.94-2.06 2.06-.94-2.06-.94L8.5 2.5l-.94 2.06-2.06.94zm10 10l.94 2.06.94-2.06 2.06-.94-2.06-.94-.94-2.06-.94 2.06-2.06.94z\"/><path d=\"M17.41 7.96l-1.37-1.37c-.4-.4-.92-.59-1.43-.59-.52 0-1.04.2-1.43.59L10.3 9.45l-7.72 7.72c-.78.78-.78 2.05 0 2.83L4 21.41c.39.39.9.59 1.41.59.51 0 1.02-.2 1.41-.59l7.78-7.78 2.81-2.81c.8-.78.8-2.07 0-2.86zM5.41 20L4 18.59l7.72-7.72 1.47 1.35L5.41 20z\"/>\n",
              "  </svg>\n",
              "      </button>\n",
              "      \n",
              "  <style>\n",
              "    .colab-df-container {\n",
              "      display:flex;\n",
              "      flex-wrap:wrap;\n",
              "      gap: 12px;\n",
              "    }\n",
              "\n",
              "    .colab-df-convert {\n",
              "      background-color: #E8F0FE;\n",
              "      border: none;\n",
              "      border-radius: 50%;\n",
              "      cursor: pointer;\n",
              "      display: none;\n",
              "      fill: #1967D2;\n",
              "      height: 32px;\n",
              "      padding: 0 0 0 0;\n",
              "      width: 32px;\n",
              "    }\n",
              "\n",
              "    .colab-df-convert:hover {\n",
              "      background-color: #E2EBFA;\n",
              "      box-shadow: 0px 1px 2px rgba(60, 64, 67, 0.3), 0px 1px 3px 1px rgba(60, 64, 67, 0.15);\n",
              "      fill: #174EA6;\n",
              "    }\n",
              "\n",
              "    [theme=dark] .colab-df-convert {\n",
              "      background-color: #3B4455;\n",
              "      fill: #D2E3FC;\n",
              "    }\n",
              "\n",
              "    [theme=dark] .colab-df-convert:hover {\n",
              "      background-color: #434B5C;\n",
              "      box-shadow: 0px 1px 3px 1px rgba(0, 0, 0, 0.15);\n",
              "      filter: drop-shadow(0px 1px 2px rgba(0, 0, 0, 0.3));\n",
              "      fill: #FFFFFF;\n",
              "    }\n",
              "  </style>\n",
              "\n",
              "      <script>\n",
              "        const buttonEl =\n",
              "          document.querySelector('#df-5f30330f-e438-4a1c-b1d8-a23201a1486f button.colab-df-convert');\n",
              "        buttonEl.style.display =\n",
              "          google.colab.kernel.accessAllowed ? 'block' : 'none';\n",
              "\n",
              "        async function convertToInteractive(key) {\n",
              "          const element = document.querySelector('#df-5f30330f-e438-4a1c-b1d8-a23201a1486f');\n",
              "          const dataTable =\n",
              "            await google.colab.kernel.invokeFunction('convertToInteractive',\n",
              "                                                     [key], {});\n",
              "          if (!dataTable) return;\n",
              "\n",
              "          const docLinkHtml = 'Like what you see? Visit the ' +\n",
              "            '<a target=\"_blank\" href=https://colab.research.google.com/notebooks/data_table.ipynb>data table notebook</a>'\n",
              "            + ' to learn more about interactive tables.';\n",
              "          element.innerHTML = '';\n",
              "          dataTable['output_type'] = 'display_data';\n",
              "          await google.colab.output.renderOutput(dataTable, element);\n",
              "          const docLink = document.createElement('div');\n",
              "          docLink.innerHTML = docLinkHtml;\n",
              "          element.appendChild(docLink);\n",
              "        }\n",
              "      </script>\n",
              "    </div>\n",
              "  </div>\n",
              "  "
            ]
          },
          "metadata": {},
          "execution_count": 9
        }
      ],
      "source": [
        "df.describe()"
      ]
    },
    {
      "cell_type": "code",
      "execution_count": null,
      "metadata": {
        "id": "h8dXhkr1DtZJ",
        "colab": {
          "base_uri": "https://localhost:8080/",
          "height": 279
        },
        "outputId": "055eeed3-3ffc-4cf7-8efe-fbf1408b47be"
      },
      "outputs": [
        {
          "output_type": "display_data",
          "data": {
            "text/plain": [
              "<Figure size 432x288 with 1 Axes>"
            ],
            "image/png": "[encoded data removed]"
          },
          "metadata": {
            "needs_background": "light"
          }
        }
      ],
      "source": [
        "sns.scatterplot(data=df, x=df['Churn'], y=df['AccountWeeks']);"
      ]
    },
    {
      "cell_type": "code",
      "execution_count": null,
      "metadata": {
        "id": "nysc8drpDtZL",
        "colab": {
          "base_uri": "https://localhost:8080/",
          "height": 279
        },
        "outputId": "6413a23e-abff-4bdb-a9bd-ea045b37fe6d"
      },
      "outputs": [
        {
          "output_type": "display_data",
          "data": {
            "text/plain": [
              "<Figure size 432x288 with 1 Axes>"
            ],
            "image/png": "[encoded data removed]"
          },
          "metadata": {
            "needs_background": "light"
          }
        }
      ],
      "source": [
        "sns.scatterplot(data=df, x=df['Churn'], y=df['OverageFee']);"
      ]
    },
    {
      "cell_type": "code",
      "execution_count": null,
      "metadata": {
        "id": "q4IS-Rn8DtZN",
        "colab": {
          "base_uri": "https://localhost:8080/",
          "height": 668
        },
        "outputId": "b4e81c05-0af7-4618-b0fe-afb024109fe2"
      },
      "outputs": [
        {
          "output_type": "display_data",
          "data": {
            "text/plain": [
              "<Figure size 1080x864 with 12 Axes>"
            ],
            "image/png": "[encoded data removed]"
          },
          "metadata": {
            "needs_background": "light"
          }
        }
      ],
      "source": [
        "df.hist(edgecolor='black', linewidth=1.2)\n",
        "fig = plt.gcf()\n",
        "fig.set_size_inches(15,12)\n",
        "plt.show()"
      ]
    },
    {
      "cell_type": "markdown",
      "source": [],
      "metadata": {
        "id": "YH1-pMBQ6Syv"
      }
    },
    {
      "cell_type": "code",
      "source": [
        "plt.figure(figsize=(20,7))\n",
        "sns.boxplot(data=df)"
      ],
      "metadata": {
        "id": "Si-Q-peQdC_H",
        "colab": {
          "base_uri": "https://localhost:8080/",
          "height": 327
        },
        "outputId": "0ae1d71e-7873-416c-8af0-fff8a421d2ad"
      },
      "execution_count": null,
      "outputs": [
        {
          "output_type": "execute_result",
          "data": {
            "text/plain": [
              "<matplotlib.axes._subplots.AxesSubplot at 0x7fef27421f70>"
            ]
          },
          "metadata": {},
          "execution_count": 13
        },
        {
          "output_type": "display_data",
          "data": {
            "text/plain": [
              "<Figure size 1440x504 with 1 Axes>"
            ],
            "image/png": "[encoded data removed]"
          },
          "metadata": {
            "needs_background": "light"
          }
        }
      ]
    },
    {
      "cell_type": "code",
      "execution_count": null,
      "metadata": {
        "id": "U69F4fL-DtZP",
        "colab": {
          "base_uri": "https://localhost:8080/",
          "height": 458
        },
        "outputId": "5bdb64ba-5219-4dc5-926c-d2b04c2aa6cc"
      },
      "outputs": [
        {
          "output_type": "execute_result",
          "data": {
            "text/plain": [
              "                    Churn  AccountWeeks  ContractRenewal  DataPlan  DataUsage  \\\n",
              "Churn            1.000000      0.016541         0.259852  0.102148   0.087195   \n",
              "AccountWeeks     0.016541      1.000000         0.024735  0.002918   0.014391   \n",
              "ContractRenewal  0.259852      0.024735         1.000000  0.006006   0.019223   \n",
              "DataPlan         0.102148      0.002918         0.006006  1.000000   0.945982   \n",
              "DataUsage        0.087195      0.014391         0.019223  0.945982   1.000000   \n",
              "CustServCalls    0.208750      0.003796         0.024522  0.017824   0.021723   \n",
              "DayMins          0.205151      0.006216         0.049396  0.001684   0.003176   \n",
              "DayCalls         0.018459      0.038470         0.003755  0.011086   0.007962   \n",
              "MonthlyCharge    0.072313      0.012581         0.047291  0.737490   0.781660   \n",
              "OverageFee       0.092812      0.006749         0.019105  0.021526   0.019637   \n",
              "RoamMins         0.068239      0.009514         0.045871  0.001318   0.162746   \n",
              "\n",
              "                 CustServCalls   DayMins  DayCalls  MonthlyCharge  OverageFee  \\\n",
              "Churn                 0.208750  0.205151  0.018459       0.072313    0.092812   \n",
              "AccountWeeks          0.003796  0.006216  0.038470       0.012581    0.006749   \n",
              "ContractRenewal       0.024522  0.049396  0.003755       0.047291    0.019105   \n",
              "DataPlan              0.017824  0.001684  0.011086       0.737490    0.021526   \n",
              "DataUsage             0.021723  0.003176  0.007962       0.781660    0.019637   \n",
              "CustServCalls         1.000000  0.013423  0.018942       0.028017    0.012964   \n",
              "DayMins               0.013423  1.000000  0.006750       0.567968    0.007038   \n",
              "DayCalls              0.018942  0.006750  1.000000       0.007963    0.021449   \n",
              "MonthlyCharge         0.028017  0.567968  0.007963       1.000000    0.281766   \n",
              "OverageFee            0.012964  0.007038  0.021449       0.281766    1.000000   \n",
              "RoamMins              0.009640  0.010155  0.021565       0.117433    0.011023   \n",
              "\n",
              "                 RoamMins  \n",
              "Churn            0.068239  \n",
              "AccountWeeks     0.009514  \n",
              "ContractRenewal  0.045871  \n",
              "DataPlan         0.001318  \n",
              "DataUsage        0.162746  \n",
              "CustServCalls    0.009640  \n",
              "DayMins          0.010155  \n",
              "DayCalls         0.021565  \n",
              "MonthlyCharge    0.117433  \n",
              "OverageFee       0.011023  \n",
              "RoamMins         1.000000  "
            ],
            "text/html": [
              "\n",
              "  <div id=\"df-8b3aadd9-312e-49a1-8f2c-9fc130c111a0\">\n",
              "    <div class=\"colab-df-container\">\n",
              "      <div>\n",
              "<style scoped>\n",
              "    .dataframe tbody tr th:only-of-type {\n",
              "        vertical-align: middle;\n",
              "    }\n",
              "\n",
              "    .dataframe tbody tr th {\n",
              "        vertical-align: top;\n",
              "    }\n",
              "\n",
              "    .dataframe thead th {\n",
              "        text-align: right;\n",
              "    }\n",
              "</style>\n",
              "<table border=\"1\" class=\"dataframe\">\n",
              "  <thead>\n",
              "    <tr style=\"text-align: right;\">\n",
              "      <th></th>\n",
              "      <th>Churn</th>\n",
              "      <th>AccountWeeks</th>\n",
              "      <th>ContractRenewal</th>\n",
              "      <th>DataPlan</th>\n",
              "      <th>DataUsage</th>\n",
              "      <th>CustServCalls</th>\n",
              "      <th>DayMins</th>\n",
              "      <th>DayCalls</th>\n",
              "      <th>MonthlyCharge</th>\n",
              "      <th>OverageFee</th>\n",
              "      <th>RoamMins</th>\n",
              "    </tr>\n",
              "  </thead>\n",
              "  <tbody>\n",
              "    <tr>\n",
              "      <th>Churn</th>\n",
              "      <td>1.000000</td>\n",
              "      <td>0.016541</td>\n",
              "      <td>0.259852</td>\n",
              "      <td>0.102148</td>\n",
              "      <td>0.087195</td>\n",
              "      <td>0.208750</td>\n",
              "      <td>0.205151</td>\n",
              "      <td>0.018459</td>\n",
              "      <td>0.072313</td>\n",
              "      <td>0.092812</td>\n",
              "      <td>0.068239</td>\n",
              "    </tr>\n",
              "    <tr>\n",
              "      <th>AccountWeeks</th>\n",
              "      <td>0.016541</td>\n",
              "      <td>1.000000</td>\n",
              "      <td>0.024735</td>\n",
              "      <td>0.002918</td>\n",
              "      <td>0.014391</td>\n",
              "      <td>0.003796</td>\n",
              "      <td>0.006216</td>\n",
              "      <td>0.038470</td>\n",
              "      <td>0.012581</td>\n",
              "      <td>0.006749</td>\n",
              "      <td>0.009514</td>\n",
              "    </tr>\n",
              "    <tr>\n",
              "      <th>ContractRenewal</th>\n",
              "      <td>0.259852</td>\n",
              "      <td>0.024735</td>\n",
              "      <td>1.000000</td>\n",
              "      <td>0.006006</td>\n",
              "      <td>0.019223</td>\n",
              "      <td>0.024522</td>\n",
              "      <td>0.049396</td>\n",
              "      <td>0.003755</td>\n",
              "      <td>0.047291</td>\n",
              "      <td>0.019105</td>\n",
              "      <td>0.045871</td>\n",
              "    </tr>\n",
              "    <tr>\n",
              "      <th>DataPlan</th>\n",
              "      <td>0.102148</td>\n",
              "      <td>0.002918</td>\n",
              "      <td>0.006006</td>\n",
              "      <td>1.000000</td>\n",
              "      <td>0.945982</td>\n",
              "      <td>0.017824</td>\n",
              "      <td>0.001684</td>\n",
              "      <td>0.011086</td>\n",
              "      <td>0.737490</td>\n",
              "      <td>0.021526</td>\n",
              "      <td>0.001318</td>\n",
              "    </tr>\n",
              "    <tr>\n",
              "      <th>DataUsage</th>\n",
              "      <td>0.087195</td>\n",
              "      <td>0.014391</td>\n",
              "      <td>0.019223</td>\n",
              "      <td>0.945982</td>\n",
              "      <td>1.000000</td>\n",
              "      <td>0.021723</td>\n",
              "      <td>0.003176</td>\n",
              "      <td>0.007962</td>\n",
              "      <td>0.781660</td>\n",
              "      <td>0.019637</td>\n",
              "      <td>0.162746</td>\n",
              "    </tr>\n",
              "    <tr>\n",
              "      <th>CustServCalls</th>\n",
              "      <td>0.208750</td>\n",
              "      <td>0.003796</td>\n",
              "      <td>0.024522</td>\n",
              "      <td>0.017824</td>\n",
              "      <td>0.021723</td>\n",
              "      <td>1.000000</td>\n",
              "      <td>0.013423</td>\n",
              "      <td>0.018942</td>\n",
              "      <td>0.028017</td>\n",
              "      <td>0.012964</td>\n",
              "      <td>0.009640</td>\n",
              "    </tr>\n",
              "    <tr>\n",
              "      <th>DayMins</th>\n",
              "      <td>0.205151</td>\n",
              "      <td>0.006216</td>\n",
              "      <td>0.049396</td>\n",
              "      <td>0.001684</td>\n",
              "      <td>0.003176</td>\n",
              "      <td>0.013423</td>\n",
              "      <td>1.000000</td>\n",
              "      <td>0.006750</td>\n",
              "      <td>0.567968</td>\n",
              "      <td>0.007038</td>\n",
              "      <td>0.010155</td>\n",
              "    </tr>\n",
              "    <tr>\n",
              "      <th>DayCalls</th>\n",
              "      <td>0.018459</td>\n",
              "      <td>0.038470</td>\n",
              "      <td>0.003755</td>\n",
              "      <td>0.011086</td>\n",
              "      <td>0.007962</td>\n",
              "      <td>0.018942</td>\n",
              "      <td>0.006750</td>\n",
              "      <td>1.000000</td>\n",
              "      <td>0.007963</td>\n",
              "      <td>0.021449</td>\n",
              "      <td>0.021565</td>\n",
              "    </tr>\n",
              "    <tr>\n",
              "      <th>MonthlyCharge</th>\n",
              "      <td>0.072313</td>\n",
              "      <td>0.012581</td>\n",
              "      <td>0.047291</td>\n",
              "      <td>0.737490</td>\n",
              "      <td>0.781660</td>\n",
              "      <td>0.028017</td>\n",
              "      <td>0.567968</td>\n",
              "      <td>0.007963</td>\n",
              "      <td>1.000000</td>\n",
              "      <td>0.281766</td>\n",
              "      <td>0.117433</td>\n",
              "    </tr>\n",
              "    <tr>\n",
              "      <th>OverageFee</th>\n",
              "      <td>0.092812</td>\n",
              "      <td>0.006749</td>\n",
              "      <td>0.019105</td>\n",
              "      <td>0.021526</td>\n",
              "      <td>0.019637</td>\n",
              "      <td>0.012964</td>\n",
              "      <td>0.007038</td>\n",
              "      <td>0.021449</td>\n",
              "      <td>0.281766</td>\n",
              "      <td>1.000000</td>\n",
              "      <td>0.011023</td>\n",
              "    </tr>\n",
              "    <tr>\n",
              "      <th>RoamMins</th>\n",
              "      <td>0.068239</td>\n",
              "      <td>0.009514</td>\n",
              "      <td>0.045871</td>\n",
              "      <td>0.001318</td>\n",
              "      <td>0.162746</td>\n",
              "      <td>0.009640</td>\n",
              "      <td>0.010155</td>\n",
              "      <td>0.021565</td>\n",
              "      <td>0.117433</td>\n",
              "      <td>0.011023</td>\n",
              "      <td>1.000000</td>\n",
              "    </tr>\n",
              "  </tbody>\n",
              "</table>\n",
              "</div>\n",
              "      <button class=\"colab-df-convert\" onclick=\"convertToInteractive('df-8b3aadd9-312e-49a1-8f2c-9fc130c111a0')\"\n",
              "              title=\"Convert this dataframe to an interactive table.\"\n",
              "              style=\"display:none;\">\n",
              "        \n",
              "  <svg xmlns=\"http://www.w3.org/2000/svg\" height=\"24px\"viewBox=\"0 0 24 24\"\n",
              "       width=\"24px\">\n",
              "    <path d=\"M0 0h24v24H0V0z\" fill=\"none\"/>\n",
              "    <path d=\"M18.56 5.44l.94 2.06.94-2.06 2.06-.94-2.06-.94-.94-2.06-.94 2.06-2.06.94zm-11 1L8.5 8.5l.94-2.06 2.06-.94-2.06-.94L8.5 2.5l-.94 2.06-2.06.94zm10 10l.94 2.06.94-2.06 2.06-.94-2.06-.94-.94-2.06-.94 2.06-2.06.94z\"/><path d=\"M17.41 7.96l-1.37-1.37c-.4-.4-.92-.59-1.43-.59-.52 0-1.04.2-1.43.59L10.3 9.45l-7.72 7.72c-.78.78-.78 2.05 0 2.83L4 21.41c.39.39.9.59 1.41.59.51 0 1.02-.2 1.41-.59l7.78-7.78 2.81-2.81c.8-.78.8-2.07 0-2.86zM5.41 20L4 18.59l7.72-7.72 1.47 1.35L5.41 20z\"/>\n",
              "  </svg>\n",
              "      </button>\n",
              "      \n",
              "  <style>\n",
              "    .colab-df-container {\n",
              "      display:flex;\n",
              "      flex-wrap:wrap;\n",
              "      gap: 12px;\n",
              "    }\n",
              "\n",
              "    .colab-df-convert {\n",
              "      background-color: #E8F0FE;\n",
              "      border: none;\n",
              "      border-radius: 50%;\n",
              "      cursor: pointer;\n",
              "      display: none;\n",
              "      fill: #1967D2;\n",
              "      height: 32px;\n",
              "      padding: 0 0 0 0;\n",
              "      width: 32px;\n",
              "    }\n",
              "\n",
              "    .colab-df-convert:hover {\n",
              "      background-color: #E2EBFA;\n",
              "      box-shadow: 0px 1px 2px rgba(60, 64, 67, 0.3), 0px 1px 3px 1px rgba(60, 64, 67, 0.15);\n",
              "      fill: #174EA6;\n",
              "    }\n",
              "\n",
              "    [theme=dark] .colab-df-convert {\n",
              "      background-color: #3B4455;\n",
              "      fill: #D2E3FC;\n",
              "    }\n",
              "\n",
              "    [theme=dark] .colab-df-convert:hover {\n",
              "      background-color: #434B5C;\n",
              "      box-shadow: 0px 1px 3px 1px rgba(0, 0, 0, 0.15);\n",
              "      filter: drop-shadow(0px 1px 2px rgba(0, 0, 0, 0.3));\n",
              "      fill: #FFFFFF;\n",
              "    }\n",
              "  </style>\n",
              "\n",
              "      <script>\n",
              "        const buttonEl =\n",
              "          document.querySelector('#df-8b3aadd9-312e-49a1-8f2c-9fc130c111a0 button.colab-df-convert');\n",
              "        buttonEl.style.display =\n",
              "          google.colab.kernel.accessAllowed ? 'block' : 'none';\n",
              "\n",
              "        async function convertToInteractive(key) {\n",
              "          const element = document.querySelector('#df-8b3aadd9-312e-49a1-8f2c-9fc130c111a0');\n",
              "          const dataTable =\n",
              "            await google.colab.kernel.invokeFunction('convertToInteractive',\n",
              "                                                     [key], {});\n",
              "          if (!dataTable) return;\n",
              "\n",
              "          const docLinkHtml = 'Like what you see? Visit the ' +\n",
              "            '<a target=\"_blank\" href=https://colab.research.google.com/notebooks/data_table.ipynb>data table notebook</a>'\n",
              "            + ' to learn more about interactive tables.';\n",
              "          element.innerHTML = '';\n",
              "          dataTable['output_type'] = 'display_data';\n",
              "          await google.colab.output.renderOutput(dataTable, element);\n",
              "          const docLink = document.createElement('div');\n",
              "          docLink.innerHTML = docLinkHtml;\n",
              "          element.appendChild(docLink);\n",
              "        }\n",
              "      </script>\n",
              "    </div>\n",
              "  </div>\n",
              "  "
            ]
          },
          "metadata": {},
          "execution_count": 14
        }
      ],
      "source": [
        "df.corr().abs()"
      ]
    },
    {
      "cell_type": "code",
      "execution_count": null,
      "metadata": {
        "id": "WwQpWHz8DtZQ",
        "colab": {
          "base_uri": "https://localhost:8080/",
          "height": 344
        },
        "outputId": "7bc6cd2a-7a8b-41a9-df1e-7d25426d09eb"
      },
      "outputs": [
        {
          "output_type": "display_data",
          "data": {
            "text/plain": [
              "<Figure size 576x288 with 2 Axes>"
            ],
            "image/png": "[encoded data removed]"
          },
          "metadata": {
            "needs_background": "light"
          }
        }
      ],
      "source": [
        "plt.figure(figsize=(8,4))\n",
        "sns.heatmap(df.corr().abs(), annot=True, cmap='cool')\n",
        "plt.show()"
      ]
    },
    {
      "cell_type": "markdown",
      "metadata": {
        "id": "uDiU3v-0DtZT"
      },
      "source": [
        "##sclaling nilai numerical"
      ]
    },
    {
      "cell_type": "code",
      "execution_count": null,
      "metadata": {
        "id": "Q0oVHpNuDtZU"
      },
      "outputs": [],
      "source": [
        "cols_to_scale = ['AccountWeeks', 'DataPlan', 'DataUsage',\n",
        "       'CustServCalls', 'DayMins', 'DayCalls', 'MonthlyCharge', 'OverageFee',\n",
        "       'RoamMins']\n",
        "\n",
        "from sklearn.preprocessing import MinMaxScaler\n",
        "scaler = MinMaxScaler()\n",
        "df[cols_to_scale] = scaler.fit_transform(df[cols_to_scale])"
      ]
    },
    {
      "cell_type": "code",
      "execution_count": null,
      "metadata": {
        "id": "R2azMVTWDtZV",
        "colab": {
          "base_uri": "https://localhost:8080/"
        },
        "outputId": "c0099827-ad5e-4ec4-e513-e2148ce1fd2b"
      },
      "outputs": [
        {
          "output_type": "stream",
          "name": "stdout",
          "text": [
            "Churn: [0 1]\n",
            "AccountWeeks: [0.52479339 0.43801653 0.56198347 0.34297521 0.30578512 0.48347107\n",
            " 0.49586777 0.60330579 0.47933884 0.5785124  0.26446281 0.30165289\n",
            " 0.69008264 0.38842975 0.25206612 0.66115702 0.34710744 0.38016529\n",
            " 0.30991736 0.29752066 0.31404959 0.53305785 0.45454545 0.54132231\n",
            " 0.71487603 0.23140496 0.21900826 0.0785124  0.19834711 0.58264463\n",
            " 0.70661157 0.04545455 0.29338843 0.1446281  0.31818182 0.55785124\n",
            " 0.61157025 0.40082645 0.55371901 0.13636364 0.65702479 0.26033058\n",
            " 0.23966942 0.48760331 0.39669421 0.2107438  0.24380165 0.03719008\n",
            " 0.39256198 0.3553719  0.33057851 0.2768595  0.51239669 0.47520661\n",
            " 0.15289256 0.16115702 0.17355372 0.46280992 0.51652893 0.61570248\n",
            " 0.5661157  0.66528926 0.3677686  0.20247934 0.33471074 0.59090909\n",
            " 0.18595041 0.28512397 0.2231405  0.4338843  0.38429752 0.63636364\n",
            " 0.32644628 0.42561983 0.40495868 0.49173554 0.44214876 0.5\n",
            " 0.6446281  0.4214876  0.25619835 0.45867769 0.16528926 0.79338843\n",
            " 0.24793388 0.37603306 0.53719008 0.66942149 0.37190083 0.52066116\n",
            " 0.45041322 0.57438017 0.33884298 0.59504132 0.22727273 0.61983471\n",
            " 0.57024793 0.02066116 0.47107438 0.59917355 0.76033058 0.60743802\n",
            " 0.12809917 0.09917355 0.73553719 0.27272727 0.07438017 0.69834711\n",
            " 0.67355372 0.20661157 0.8553719  0.21487603 0.42975207 0.26859504\n",
            " 0.35123967 0.14049587 0.35950413 0.50413223 0.18181818 0.40909091\n",
            " 0.88429752 0.08677686 0.1322314  0.46694215 0.09504132 0.41322314\n",
            " 0.58677686 0.19421488 0.2892562  0.68595041 0.36363636 0.81818182\n",
            " 0.68181818 0.64876033 0.80578512 0.85950413 0.06198347 0.15702479\n",
            " 0.7107438  0.52892562 0.17768595 0.32231405 0.12396694 0.50826446\n",
            " 0.14876033 0.65289256 0.79752066 0.6322314  0.08264463 0.54545455\n",
            " 0.9214876  0.23553719 0.04132231 0.44628099 0.41735537 0.67768595\n",
            " 0.07024793 0.11983471 0.7231405  0.19008264 0.78099174 0.62396694\n",
            " 0.10330579 0.28099174 0.76446281 0.70247934 0.11157025 0.62809917\n",
            " 0.69421488 0.04958678 0.10743802 0.00826446 0.16942149 0.7768595\n",
            " 0.64049587 0.54958678 1.         0.09090909 0.         0.84297521\n",
            " 0.82231405 0.01652893 0.03305785 0.73140496 0.74380165 0.74793388\n",
            " 0.89256198 0.72727273 0.86363636 0.11570248 0.73966942 0.00413223\n",
            " 0.0661157  0.02479339 0.87190083 0.95454545 0.7892562  0.80165289\n",
            " 0.80991736 0.92561983 0.75619835 0.78512397 0.82644628 0.05785124\n",
            " 0.75206612 0.83057851 0.02892562 0.71900826 0.01239669 0.77272727\n",
            " 0.83884298 0.90909091]\n",
            "ContractRenewal: [1 0]\n",
            "DataPlan: [1. 0.]\n",
            "DataUsage: [0.5        0.68518519 0.         0.37592593 0.03518519 0.55925926\n",
            " 0.0537037  0.06296296 0.08148148 0.69074074 0.05740741 0.07222222\n",
            " 0.47592593 0.05925926 0.03888889 0.41481481 0.73518519 0.72592593\n",
            " 0.52592593 0.05555556 0.72962963 0.07037037 0.04444444 0.42592593\n",
            " 0.06481481 0.55       0.02037037 0.29074074 0.57962963 0.62962963\n",
            " 0.30925926 0.60555556 0.04814815 0.49074074 0.42962963 0.54444444\n",
            " 0.03148148 0.22037037 0.45       0.50555556 1.         0.35925926\n",
            " 0.07407407 0.32037037 0.26481481 0.50925926 0.34074074 0.55555556\n",
            " 0.47962963 0.64074074 0.52962963 0.02592593 0.04259259 0.49444444\n",
            " 0.05       0.04074074 0.06111111 0.65555556 0.53518519 0.60925926\n",
            " 0.66481481 0.59444444 0.0462963  0.59074074 0.69444444 0.05185185\n",
            " 0.70555556 0.33518519 0.09444444 0.57037037 0.42037037 0.22592593\n",
            " 0.4        0.32592593 0.07777778 0.02407407 0.77962963 0.51481481\n",
            " 0.03703704 0.48518519 0.38518519 0.37962963 0.25       0.47037037\n",
            " 0.64444444 0.35555556 0.7        0.03333333 0.45925926 0.6\n",
            " 0.07962963 0.18518519 0.08333333 0.06666667 0.8        0.46481481\n",
            " 0.56481481 0.61481481 0.31481481 0.71481481 0.02962963 0.3\n",
            " 0.85925926 0.74074074 0.29444444 0.32962963 0.87592593 0.39074074\n",
            " 0.27037037 0.70925926 0.45555556 0.77037037 0.82592593 0.65925926\n",
            " 0.36481481 0.44074074 0.20555556 0.24074074 0.06851852 0.77592593\n",
            " 0.81481481 0.02777778 0.52037037 0.37037037 0.82037037 0.63518519\n",
            " 0.67037037 0.40925926 0.75       0.75925926 0.67962963 0.79444444\n",
            " 0.62037037 0.40555556 0.80555556 0.58518519 0.44444444 0.43518519\n",
            " 0.27592593 0.84444444 0.25555556 0.08703704 0.54074074 0.78518519\n",
            " 0.67592593 0.34444444 0.65       0.19444444 0.39444444 0.08518519\n",
            " 0.07592593 0.72037037 0.62592593 0.57592593 0.27962963 0.28518519\n",
            " 0.35       0.20925926 0.02222222 0.75555556 0.19074074 0.30555556\n",
            " 0.87962963 0.24444444 0.76481481 0.23518519 0.21481481 0.85\n",
            " 0.74444444 0.82962963 0.14444444 0.25925926 0.12037037 0.12592593]\n",
            "CustServCalls: [0.11111111 0.         0.22222222 0.33333333 0.44444444 0.55555556\n",
            " 0.77777778 1.         0.66666667 0.88888889]\n",
            "DayMins: [0.75570125 0.46066135 0.69384265 ... 0.91533637 0.65877993 0.51539339]\n",
            "DayCalls: [0.66666667 0.74545455 0.69090909 0.43030303 0.68484848 0.59393939\n",
            " 0.53333333 0.47878788 0.58787879 0.50909091 0.83030303 0.76969697\n",
            " 0.58181818 0.42424242 0.40606061 0.84242424 0.4        0.54545455\n",
            " 0.70909091 0.53939394 0.67878788 0.62424242 0.52121212 0.46060606\n",
            " 0.6969697  0.44242424 0.66060606 0.57575758 0.63636364 0.73333333\n",
            " 0.71515152 0.56969697 0.48484848 0.77575758 0.38787879 0.64242424\n",
            " 0.61818182 0.51515152 0.4969697  0.46666667 0.72727273 0.80606061\n",
            " 0.81818182 0.65454545 0.34545455 0.5030303  0.78181818 0.55151515\n",
            " 0.55757576 0.44848485 0.56363636 0.61212121 0.88484848 0.43636364\n",
            " 0.6        0.63030303 0.75757576 0.36969697 0.60606061 0.52727273\n",
            " 0.79393939 0.39393939 0.75151515 0.72121212 0.31515152 0.41212121\n",
            " 0.64848485 0.28484848 0.7030303  0.91515152 0.76363636 0.73939394\n",
            " 0.67272727 0.87878788 0.47272727 0.82424242 0.84848485 0.8969697\n",
            " 0.49090909 0.33333333 0.41818182 0.95757576 0.81212121 0.78787879\n",
            " 0.38181818 0.32121212 0.45454545 0.85454545 0.98787879 0.35757576\n",
            " 0.8        0.83636364 0.32727273 0.35151515 0.37575758 0.87272727\n",
            " 0.86666667 0.89090909 0.21818182 0.24242424 0.90909091 0.33939394\n",
            " 0.30909091 1.         0.18181818 0.29090909 0.36363636 0.25454545\n",
            " 0.         0.27272727 0.96969697 0.9030303  0.92121212 0.86060606\n",
            " 0.94545455 0.21212121 0.2969697  0.95151515 0.26666667]\n",
            "MonthlyCharge: [0.77081192 0.69886948 0.39054471 0.44193217 0.27749229 0.75334018\n",
            " 0.22610483 0.51284687 0.81397739 0.31757451 0.36382323 0.17471737\n",
            " 0.3946557  0.33915725 0.71942446 0.83556012 0.38026721 0.65775951\n",
            " 0.37101747 0.12332991 0.24665982 0.21479959 0.21582734 0.31860226\n",
            " 0.66495375 0.23638232 0.45426516 0.27852004 0.1336074  0.43165468\n",
            " 0.25693731 0.51387461 0.56937307 0.83967112 0.65981501 0.28776978\n",
            " 0.672148   0.74409044 0.32887975 0.19321686 0.35354573 0.49331963\n",
            " 0.36998972 0.34429599 0.59301131 0.46454265 0.34943474 0.39157246\n",
            " 0.40184995 0.43884892 0.42137718 0.80472765 0.81603289 0.68859198\n",
            " 0.48304214 0.75745118 0.41109969 0.56628983 0.0626927  0.40698869\n",
            " 0.47276465 0.45220966 0.57245632 0.79650565 0.60842754 0.5385406\n",
            " 0.30524152 0.46248715 0.48201439 0.37410072 0.34840699 0.78417266\n",
            " 0.48818088 0.51695786 0.30832477 0.2672148  0.11305242 0.98663926\n",
            " 0.30729702 0.45323741 0.55909558 0.35971223 0.49640288 0.19527235\n",
            " 0.64439877 0.26824255 0.50668037 0.4008222  0.59815005 0.63206578\n",
            " 0.69270298 0.29804728 0.55087359 0.76053443 0.64748201 0.72970195\n",
            " 0.53340185 0.15416238 0.80883864 0.54779034 0.4717369  0.68448099\n",
            " 0.62281603 0.2713258  0.35251799 0.52415211 0.65467626 0.08221994\n",
            " 0.54162384 0.42548818 0.5344296  0.55395683 0.31551901 0.28263104\n",
            " 0.30010277 0.77800617 0.54881809 0.61973279 0.92805755 0.16443988\n",
            " 0.56217883 0.64645427 0.5950668  0.31963001 0.59095581 0.36176773\n",
            " 0.61562179 0.91366906 0.81294964 0.76772867 0.42651593 0.56834532\n",
            " 0.1963001  0.14491264 0.69784173 0.62178828 0.53134635 0.37821172\n",
            " 0.7307297  0.25590956 0.51490236 0.76875642 0.2692703  0.663926\n",
            " 0.57553957 0.47893114 0.40390545 0.70811922 0.71017472 0.42857143\n",
            " 0.61664954 0.67420349 0.14388489 0.55292909 0.54984584 0.39979445\n",
            " 0.33299075 0.58170606 0.28160329 0.56526208 0.71120247 0.26002055\n",
            " 0.52209661 0.49845838 0.68242549 0.59403905 0.35149024 0.48098664\n",
            " 0.74717369 0.44604317 0.49743063 0.55498458 0.50359712 0.77903392\n",
            " 0.57451182 0.58478931 0.64131552 0.17882837 0.41212744 0.7327852\n",
            " 0.24460432 0.56320658 0.52106886 0.63103803 0.668037   0.22816033\n",
            " 0.47070915 0.36896197 0.31140802 0.42446043 0.31654676 0.58581706\n",
            " 0.32476876 0.44912641 0.70092497 0.5323741  0.60020555 0.327852\n",
            " 0.22404933 0.54470709 0.72147996 0.70709147 0.67317575 0.50256937\n",
            " 0.4614594  0.78314491 0.69064748 0.5364851  0.47687564 0.21685509\n",
            " 0.67831449 0.74511819 0.84892086 0.38643371 0.55704008 0.62692703\n",
            " 0.70298047 0.36793422 0.89825283 0.20554985 0.10277492 0.47995889\n",
            " 0.85303186 0.47790339 0.42240493 0.34018499 0.70195272 0.62795478\n",
            " 0.26618705 0.63514902 0.61459404 0.90236382 0.68139774 0.40596095\n",
            " 0.75847893 0.07194245 0.45015416 0.11819116 0.38129496 0.29701953\n",
            " 0.54573484 0.74922919 0.3967112  0.48509764 0.67625899 0.47379239\n",
            " 0.88694758 0.63823227 0.41007194 0.60739979 0.58992806 0.69475848\n",
            " 0.23946557 0.70503597 0.91058582 0.54676259 0.72250771 0.53751285\n",
            " 0.96916752 0.42754368 0.94141829 0.69373073 0.30113052 0.43371017\n",
            " 0.70606372 0.6659815  0.38746146 0.63720452 0.3987667  0.80781089\n",
            " 0.67523124 0.56115108 0.57348407 0.65364851 0.336074   0.52517986\n",
            " 0.58067831 0.80986639 0.7995889  0.90030832 0.27646454 0.81089414\n",
            " 0.58684481 0.34224049 0.3340185  0.39362795 0.2610483  0.32065776\n",
            " 0.93216855 0.52004111 0.36279548 0.26207605 0.5971223  0.56012333\n",
            " 0.45837616 0.42034943 0.16546763 0.55190134 0.46659815 0.85611511\n",
            " 0.73175745 0.72764645 0.54265159 0.67112025 0.80678314 0.82733813\n",
            " 0.81192189 0.43782117 0.73381295 0.72661871 0.16238438 0.78211716\n",
            " 0.83658787 0.68756423 0.64234327 0.37923947 0.61151079 0.5991778\n",
            " 0.60637205 0.09249743 0.45118191 0.88900308 0.71325797 0.8016444\n",
            " 0.79136691 0.60226105 0.85200411 0.43679342 0.41418294 0.35457348\n",
            " 0.84172662 0.68345324 0.27338129 0.63309353 0.28571429 0.52312436\n",
            " 0.78725591 0.18705036 0.23535457 0.60431655 0.20760534 0.41726619\n",
            " 0.62384378 0.38232271 0.56731757 0.58787256 0.39773895 0.77286742\n",
            " 0.40801644 0.57759507 0.78520041 0.75539568 0.38848921 0.43062693\n",
            " 0.29393628 0.6032888  0.56423433 0.52929085 0.22302158 0.79239466\n",
            " 0.45529291 0.43576567 0.57656732 0.68036999 0.25282631 0.34121274\n",
            " 0.89619733 0.69989723 0.42343268 0.62076053 0.90955807 0.45940391\n",
            " 0.49434738 0.38335046 0.3299075  0.4696814  0.7368962  0.75950668\n",
            " 0.37204522 0.77697842 0.28982528 0.2631038  0.77389517 0.34532374\n",
            " 0.37512847 0.20349435 0.90544707 0.78931141 0.39260021 0.32168551\n",
            " 0.24254882 0.81808839 0.77183967 0.92394656 0.66084275 0.75642343\n",
            " 0.63617677 0.48920863 0.86947585 0.25899281 0.41829394 0.6700925\n",
            " 0.63001028 0.58890031 0.44090442 0.61870504 0.18499486 0.57040082\n",
            " 0.62898253 0.50154162 0.71531346 0.28674203 0.65673176 0.70400822\n",
            " 0.26413155 0.4655704  0.39568345 0.64542652 0.331963   0.42959918\n",
            " 0.57862282 0.4049332  0.51181912 0.81911614 0.69167523 0.44501542\n",
            " 0.28468654 0.74100719 0.1983556  0.34326824 0.44398767 0.76258993\n",
            " 0.24357657 0.18396711 0.         0.33504625 0.97327852 0.21788284\n",
            " 0.71428571 0.59609455 0.55601233 0.11921891 0.49537513 0.64850976\n",
            " 0.06166495 0.61356629 0.80267215 0.31243577 0.53956835 0.65262076\n",
            " 0.75231244 0.74820144 0.35046249 0.6053443  0.19732785 0.83864337\n",
            " 0.23432682 0.22096608 0.75025694 0.61253854 0.59198356 0.68653649\n",
            " 0.24871531 0.48406989 0.2651593  0.30215827 0.05138746 0.4676259\n",
            " 0.35868448 0.35560123 0.16855087 0.71634121 0.67934224 0.81500514\n",
            " 0.85919836 0.82836588 0.76567318 0.32271326 0.62487153 0.68961973\n",
            " 0.78622816 0.91983556 0.79033916 0.54367934 0.66700925 0.51798561\n",
            " 0.7934224  0.77595067 0.73586845 0.28365879 0.62589928 0.5282631\n",
            " 0.71736896 0.43473792 0.46043165 0.61767729 0.49126413 0.69681398\n",
            " 0.79856115 0.51901336 0.82014388 0.63412127 0.97225077 0.50976362\n",
            " 0.6012333  0.34737924 0.22713258 0.25796506 0.53545735 0.73997945\n",
            " 0.32682425 0.72045221 0.01747174 0.33093525 0.40904419 0.50873587\n",
            " 0.68550874 0.74614594 0.47584789 0.81706064 1.         0.09044193\n",
            " 0.58273381 0.36073998 0.43987667 0.84583762 0.21377184 0.44809866\n",
            " 0.18293936 0.36587873 0.83761562 0.71839671 0.21171634 0.75128469\n",
            " 0.66906475 0.89928058 0.31038027 0.41521069 0.83144913 0.03083248\n",
            " 0.4635149  0.74306269 0.41932169 0.84480987 0.11510791 0.84789311\n",
            " 0.32579651 0.37307297 0.38951696 0.29907503 0.28879753 0.29290853\n",
            " 0.72456321 0.29188078 0.17780062 0.18602261 0.57142857 0.23227133\n",
            " 0.92291881 0.83453237 0.34635149 0.60945529 0.64953751 0.27235355\n",
            " 0.27543679 0.67728674 0.37718397 0.18191161 0.36690647 0.43268243\n",
            " 0.23843782 0.80061665 0.25077081 0.70914697 0.65159301 0.31449126\n",
            " 0.91572456 0.54059609 0.85405961 0.33710175 0.30935252 0.93422405\n",
            " 0.76156218 0.52620761 0.72559096 0.78108941 0.7286742  0.02055498\n",
            " 0.22918808 0.9373073  0.27029805 0.66289825 0.71223022 0.95477903\n",
            " 0.15827338 0.16032888 0.82219938 0.8057554  0.52723535 0.27954779\n",
            " 0.3381295  0.44295992 0.45632066 0.61048304 0.20966084 0.4028777\n",
            " 0.36485098 0.29599178 0.75436793 0.58376156 0.14799589 0.19218911\n",
            " 0.21068859 0.5303186  0.50462487 0.25179856 0.64337102 0.38437821\n",
            " 0.65570401 0.89003083 0.14182939 0.74203494 0.82939363 0.48612539\n",
            " 0.32374101 0.63926002 0.88386434]\n",
            "OverageFee: [0.54260583 0.53765805 0.33315008 ... 0.82627817 0.23364486 0.73117097]\n",
            "RoamMins: [0.5   0.685 0.61  0.33  0.505 0.315 0.375 0.355 0.435 0.56  0.635 0.455\n",
            " 0.615 0.655 0.27  0.69  0.405 0.65  0.53  0.285 0.475 0.385 0.515 0.775\n",
            " 0.735 0.555 0.71  0.63  0.59  0.415 0.725 0.525 0.47  0.73  0.46  0.175\n",
            " 0.425 0.66  0.37  0.44  0.55  0.39  0.34  0.57  0.465 0.485 0.51  0.4\n",
            " 0.29  0.605 0.6   0.58  0.41  0.31  0.365 0.305 0.585 0.75  0.49  0.62\n",
            " 0.43  0.545 0.695 0.445 0.395 0.265 0.22  0.625 0.565 0.45  0.48  0.665\n",
            " 1.    0.36  0.32  0.705 0.715 0.345 0.575 0.79  0.64  0.81  0.    0.595\n",
            " 0.495 0.42  0.54  0.67  0.535 0.88  0.235 0.135 0.675 0.645 0.72  0.52\n",
            " 0.335 0.77  0.225 0.325 0.78  0.295 0.945 0.38  0.25  0.35  0.7   0.9\n",
            " 0.8   0.74  0.185 0.1   0.24  0.765 0.3   0.68  0.86  0.875 0.28  0.91\n",
            " 0.18  0.825 0.23  0.255 0.205 0.815 0.745 0.82  0.835 0.065 0.76  0.755\n",
            " 0.795 0.275 0.805 0.2   0.845 0.26  0.21  0.785 0.85  0.195 0.19  0.11\n",
            " 0.855 0.245 0.895 0.865 0.92  0.89  0.215 0.145 0.155 0.165 0.13  0.17\n",
            " 0.055 0.915 0.83  0.105 0.12  0.125]\n"
          ]
        }
      ],
      "source": [
        "for col in df:\n",
        "    print(f'{col}: {df[col].unique()}')"
      ]
    },
    {
      "cell_type": "code",
      "source": [
        "df['Churn'].value_counts()"
      ],
      "metadata": {
        "colab": {
          "base_uri": "https://localhost:8080/"
        },
        "id": "ciRVwBvEwiI3",
        "outputId": "51ced3d6-99bd-4f3f-9bda-d7b780cc6757"
      },
      "execution_count": null,
      "outputs": [
        {
          "output_type": "execute_result",
          "data": {
            "text/plain": [
              "0    2850\n",
              "1     483\n",
              "Name: Churn, dtype: int64"
            ]
          },
          "metadata": {},
          "execution_count": 18
        }
      ]
    },
    {
      "cell_type": "code",
      "source": [
        "plt.figure(figsize = (10,5))\n",
        "sns.countplot(x = df['Churn'], data = df)\n",
        "plt.title('Checking imbalance ratio of Churn variable')\n",
        "plt.show()"
      ],
      "metadata": {
        "colab": {
          "base_uri": "https://localhost:8080/",
          "height": 350
        },
        "id": "8jeoALaXxTR_",
        "outputId": "57df768a-660e-4d5a-a1af-de4bda48011b"
      },
      "execution_count": null,
      "outputs": [
        {
          "output_type": "display_data",
          "data": {
            "text/plain": [
              "<Figure size 720x360 with 1 Axes>"
            ],
            "image/png": "[encoded data removed]"
          },
          "metadata": {
            "needs_background": "light"
          }
        }
      ]
    },
    {
      "cell_type": "markdown",
      "metadata": {
        "id": "uUSXo9CGDtZX"
      },
      "source": [
        "# Train test split"
      ]
    },
    {
      "cell_type": "code",
      "execution_count": null,
      "metadata": {
        "id": "DvkzhK6aDtZY"
      },
      "outputs": [],
      "source": [
        "X = df.drop('Churn',axis='columns')\n",
        "y = df['Churn']\n",
        "\n",
        "from sklearn.model_selection import train_test_split\n",
        "X_train, X_test, y_train, y_test = train_test_split(X,y,test_size=0.2,random_state=5)"
      ]
    },
    {
      "cell_type": "code",
      "execution_count": null,
      "metadata": {
        "id": "t1Iz35XuDtZZ",
        "colab": {
          "base_uri": "https://localhost:8080/"
        },
        "outputId": "bcb7c484-7297-43b4-efa1-1a950530c1ae"
      },
      "outputs": [
        {
          "output_type": "execute_result",
          "data": {
            "text/plain": [
              "(2666, 10)"
            ]
          },
          "metadata": {},
          "execution_count": 21
        }
      ],
      "source": [
        "X_train.shape"
      ]
    },
    {
      "cell_type": "code",
      "execution_count": null,
      "metadata": {
        "id": "nRUVUrbsDtZa",
        "colab": {
          "base_uri": "https://localhost:8080/"
        },
        "outputId": "bd012f85-1ee2-466d-dde2-48c56987f9ba"
      },
      "outputs": [
        {
          "output_type": "execute_result",
          "data": {
            "text/plain": [
              "(667, 10)"
            ]
          },
          "metadata": {},
          "execution_count": 22
        }
      ],
      "source": [
        "X_test.shape"
      ]
    },
    {
      "cell_type": "code",
      "execution_count": null,
      "metadata": {
        "id": "xRpmV_qwDtZa",
        "colab": {
          "base_uri": "https://localhost:8080/",
          "height": 427
        },
        "outputId": "7f2ce513-c3ee-4871-b23d-25642d68791a"
      },
      "outputs": [
        {
          "output_type": "execute_result",
          "data": {
            "text/plain": [
              "      AccountWeeks  ContractRenewal  DataPlan  DataUsage  CustServCalls  \\\n",
              "1286      0.438017                1       1.0   0.375926       0.111111   \n",
              "1765      0.454545                1       0.0   0.000000       0.444444   \n",
              "2961      0.400826                1       1.0   0.400000       0.666667   \n",
              "1271      0.330579                0       1.0   0.394444       0.111111   \n",
              "869       0.520661                0       0.0   0.048148       0.222222   \n",
              "437       0.409091                1       0.0   0.059259       0.000000   \n",
              "2197      0.545455                1       0.0   0.000000       0.222222   \n",
              "519       0.165289                1       0.0   0.038889       0.333333   \n",
              "2669      0.595041                1       0.0   0.000000       0.222222   \n",
              "2078      0.409091                1       0.0   0.000000       0.111111   \n",
              "\n",
              "       DayMins  DayCalls  MonthlyCharge  OverageFee  RoamMins  \n",
              "1286  0.325827  0.800000       0.445015    0.549203     0.375  \n",
              "1765  0.377993  0.757576       0.287770    0.608026     0.635  \n",
              "2961  0.478905  0.490909       0.520041    0.448598     0.400  \n",
              "1271  0.675884  0.460606       0.722508    0.726223     0.395  \n",
              "869   0.515678  0.690909       0.386434    0.576141     0.370  \n",
              "437   0.792474  0.460606       0.536485    0.485981     0.415  \n",
              "2197  0.616306  0.406061       0.431655    0.610775     0.155  \n",
              "519   0.578392  0.587879       0.371017    0.422760     0.450  \n",
              "2669  0.368871  0.587879       0.246660    0.509621     0.055  \n",
              "2078  0.373717  0.654545       0.246660    0.484332     0.215  "
            ],
            "text/html": [
              "\n",
              "  <div id=\"df-147eb546-df2c-471d-a4f5-874a8c52f4a4\">\n",
              "    <div class=\"colab-df-container\">\n",
              "      <div>\n",
              "<style scoped>\n",
              "    .dataframe tbody tr th:only-of-type {\n",
              "        vertical-align: middle;\n",
              "    }\n",
              "\n",
              "    .dataframe tbody tr th {\n",
              "        vertical-align: top;\n",
              "    }\n",
              "\n",
              "    .dataframe thead th {\n",
              "        text-align: right;\n",
              "    }\n",
              "</style>\n",
              "<table border=\"1\" class=\"dataframe\">\n",
              "  <thead>\n",
              "    <tr style=\"text-align: right;\">\n",
              "      <th></th>\n",
              "      <th>AccountWeeks</th>\n",
              "      <th>ContractRenewal</th>\n",
              "      <th>DataPlan</th>\n",
              "      <th>DataUsage</th>\n",
              "      <th>CustServCalls</th>\n",
              "      <th>DayMins</th>\n",
              "      <th>DayCalls</th>\n",
              "      <th>MonthlyCharge</th>\n",
              "      <th>OverageFee</th>\n",
              "      <th>RoamMins</th>\n",
              "    </tr>\n",
              "  </thead>\n",
              "  <tbody>\n",
              "    <tr>\n",
              "      <th>1286</th>\n",
              "      <td>0.438017</td>\n",
              "      <td>1</td>\n",
              "      <td>1.0</td>\n",
              "      <td>0.375926</td>\n",
              "      <td>0.111111</td>\n",
              "      <td>0.325827</td>\n",
              "      <td>0.800000</td>\n",
              "      <td>0.445015</td>\n",
              "      <td>0.549203</td>\n",
              "      <td>0.375</td>\n",
              "    </tr>\n",
              "    <tr>\n",
              "      <th>1765</th>\n",
              "      <td>0.454545</td>\n",
              "      <td>1</td>\n",
              "      <td>0.0</td>\n",
              "      <td>0.000000</td>\n",
              "      <td>0.444444</td>\n",
              "      <td>0.377993</td>\n",
              "      <td>0.757576</td>\n",
              "      <td>0.287770</td>\n",
              "      <td>0.608026</td>\n",
              "      <td>0.635</td>\n",
              "    </tr>\n",
              "    <tr>\n",
              "      <th>2961</th>\n",
              "      <td>0.400826</td>\n",
              "      <td>1</td>\n",
              "      <td>1.0</td>\n",
              "      <td>0.400000</td>\n",
              "      <td>0.666667</td>\n",
              "      <td>0.478905</td>\n",
              "      <td>0.490909</td>\n",
              "      <td>0.520041</td>\n",
              "      <td>0.448598</td>\n",
              "      <td>0.400</td>\n",
              "    </tr>\n",
              "    <tr>\n",
              "      <th>1271</th>\n",
              "      <td>0.330579</td>\n",
              "      <td>0</td>\n",
              "      <td>1.0</td>\n",
              "      <td>0.394444</td>\n",
              "      <td>0.111111</td>\n",
              "      <td>0.675884</td>\n",
              "      <td>0.460606</td>\n",
              "      <td>0.722508</td>\n",
              "      <td>0.726223</td>\n",
              "      <td>0.395</td>\n",
              "    </tr>\n",
              "    <tr>\n",
              "      <th>869</th>\n",
              "      <td>0.520661</td>\n",
              "      <td>0</td>\n",
              "      <td>0.0</td>\n",
              "      <td>0.048148</td>\n",
              "      <td>0.222222</td>\n",
              "      <td>0.515678</td>\n",
              "      <td>0.690909</td>\n",
              "      <td>0.386434</td>\n",
              "      <td>0.576141</td>\n",
              "      <td>0.370</td>\n",
              "    </tr>\n",
              "    <tr>\n",
              "      <th>437</th>\n",
              "      <td>0.409091</td>\n",
              "      <td>1</td>\n",
              "      <td>0.0</td>\n",
              "      <td>0.059259</td>\n",
              "      <td>0.000000</td>\n",
              "      <td>0.792474</td>\n",
              "      <td>0.460606</td>\n",
              "      <td>0.536485</td>\n",
              "      <td>0.485981</td>\n",
              "      <td>0.415</td>\n",
              "    </tr>\n",
              "    <tr>\n",
              "      <th>2197</th>\n",
              "      <td>0.545455</td>\n",
              "      <td>1</td>\n",
              "      <td>0.0</td>\n",
              "      <td>0.000000</td>\n",
              "      <td>0.222222</td>\n",
              "      <td>0.616306</td>\n",
              "      <td>0.406061</td>\n",
              "      <td>0.431655</td>\n",
              "      <td>0.610775</td>\n",
              "      <td>0.155</td>\n",
              "    </tr>\n",
              "    <tr>\n",
              "      <th>519</th>\n",
              "      <td>0.165289</td>\n",
              "      <td>1</td>\n",
              "      <td>0.0</td>\n",
              "      <td>0.038889</td>\n",
              "      <td>0.333333</td>\n",
              "      <td>0.578392</td>\n",
              "      <td>0.587879</td>\n",
              "      <td>0.371017</td>\n",
              "      <td>0.422760</td>\n",
              "      <td>0.450</td>\n",
              "    </tr>\n",
              "    <tr>\n",
              "      <th>2669</th>\n",
              "      <td>0.595041</td>\n",
              "      <td>1</td>\n",
              "      <td>0.0</td>\n",
              "      <td>0.000000</td>\n",
              "      <td>0.222222</td>\n",
              "      <td>0.368871</td>\n",
              "      <td>0.587879</td>\n",
              "      <td>0.246660</td>\n",
              "      <td>0.509621</td>\n",
              "      <td>0.055</td>\n",
              "    </tr>\n",
              "    <tr>\n",
              "      <th>2078</th>\n",
              "      <td>0.409091</td>\n",
              "      <td>1</td>\n",
              "      <td>0.0</td>\n",
              "      <td>0.000000</td>\n",
              "      <td>0.111111</td>\n",
              "      <td>0.373717</td>\n",
              "      <td>0.654545</td>\n",
              "      <td>0.246660</td>\n",
              "      <td>0.484332</td>\n",
              "      <td>0.215</td>\n",
              "    </tr>\n",
              "  </tbody>\n",
              "</table>\n",
              "</div>\n",
              "      <button class=\"colab-df-convert\" onclick=\"convertToInteractive('df-147eb546-df2c-471d-a4f5-874a8c52f4a4')\"\n",
              "              title=\"Convert this dataframe to an interactive table.\"\n",
              "              style=\"display:none;\">\n",
              "        \n",
              "  <svg xmlns=\"http://www.w3.org/2000/svg\" height=\"24px\"viewBox=\"0 0 24 24\"\n",
              "       width=\"24px\">\n",
              "    <path d=\"M0 0h24v24H0V0z\" fill=\"none\"/>\n",
              "    <path d=\"M18.56 5.44l.94 2.06.94-2.06 2.06-.94-2.06-.94-.94-2.06-.94 2.06-2.06.94zm-11 1L8.5 8.5l.94-2.06 2.06-.94-2.06-.94L8.5 2.5l-.94 2.06-2.06.94zm10 10l.94 2.06.94-2.06 2.06-.94-2.06-.94-.94-2.06-.94 2.06-2.06.94z\"/><path d=\"M17.41 7.96l-1.37-1.37c-.4-.4-.92-.59-1.43-.59-.52 0-1.04.2-1.43.59L10.3 9.45l-7.72 7.72c-.78.78-.78 2.05 0 2.83L4 21.41c.39.39.9.59 1.41.59.51 0 1.02-.2 1.41-.59l7.78-7.78 2.81-2.81c.8-.78.8-2.07 0-2.86zM5.41 20L4 18.59l7.72-7.72 1.47 1.35L5.41 20z\"/>\n",
              "  </svg>\n",
              "      </button>\n",
              "      \n",
              "  <style>\n",
              "    .colab-df-container {\n",
              "      display:flex;\n",
              "      flex-wrap:wrap;\n",
              "      gap: 12px;\n",
              "    }\n",
              "\n",
              "    .colab-df-convert {\n",
              "      background-color: #E8F0FE;\n",
              "      border: none;\n",
              "      border-radius: 50%;\n",
              "      cursor: pointer;\n",
              "      display: none;\n",
              "      fill: #1967D2;\n",
              "      height: 32px;\n",
              "      padding: 0 0 0 0;\n",
              "      width: 32px;\n",
              "    }\n",
              "\n",
              "    .colab-df-convert:hover {\n",
              "      background-color: #E2EBFA;\n",
              "      box-shadow: 0px 1px 2px rgba(60, 64, 67, 0.3), 0px 1px 3px 1px rgba(60, 64, 67, 0.15);\n",
              "      fill: #174EA6;\n",
              "    }\n",
              "\n",
              "    [theme=dark] .colab-df-convert {\n",
              "      background-color: #3B4455;\n",
              "      fill: #D2E3FC;\n",
              "    }\n",
              "\n",
              "    [theme=dark] .colab-df-convert:hover {\n",
              "      background-color: #434B5C;\n",
              "      box-shadow: 0px 1px 3px 1px rgba(0, 0, 0, 0.15);\n",
              "      filter: drop-shadow(0px 1px 2px rgba(0, 0, 0, 0.3));\n",
              "      fill: #FFFFFF;\n",
              "    }\n",
              "  </style>\n",
              "\n",
              "      <script>\n",
              "        const buttonEl =\n",
              "          document.querySelector('#df-147eb546-df2c-471d-a4f5-874a8c52f4a4 button.colab-df-convert');\n",
              "        buttonEl.style.display =\n",
              "          google.colab.kernel.accessAllowed ? 'block' : 'none';\n",
              "\n",
              "        async function convertToInteractive(key) {\n",
              "          const element = document.querySelector('#df-147eb546-df2c-471d-a4f5-874a8c52f4a4');\n",
              "          const dataTable =\n",
              "            await google.colab.kernel.invokeFunction('convertToInteractive',\n",
              "                                                     [key], {});\n",
              "          if (!dataTable) return;\n",
              "\n",
              "          const docLinkHtml = 'Like what you see? Visit the ' +\n",
              "            '<a target=\"_blank\" href=https://colab.research.google.com/notebooks/data_table.ipynb>data table notebook</a>'\n",
              "            + ' to learn more about interactive tables.';\n",
              "          element.innerHTML = '';\n",
              "          dataTable['output_type'] = 'display_data';\n",
              "          await google.colab.output.renderOutput(dataTable, element);\n",
              "          const docLink = document.createElement('div');\n",
              "          docLink.innerHTML = docLinkHtml;\n",
              "          element.appendChild(docLink);\n",
              "        }\n",
              "      </script>\n",
              "    </div>\n",
              "  </div>\n",
              "  "
            ]
          },
          "metadata": {},
          "execution_count": 23
        }
      ],
      "source": [
        "X_train[:10]"
      ]
    },
    {
      "cell_type": "code",
      "execution_count": null,
      "metadata": {
        "id": "zg1qCRBRDtZc",
        "colab": {
          "base_uri": "https://localhost:8080/"
        },
        "outputId": "d5195f81-651e-4f9c-ca1e-4daf64e0f579"
      },
      "outputs": [
        {
          "output_type": "execute_result",
          "data": {
            "text/plain": [
              "10"
            ]
          },
          "metadata": {},
          "execution_count": 24
        }
      ],
      "source": [
        "len(X_train.columns)"
      ]
    },
    {
      "cell_type": "markdown",
      "metadata": {
        "id": "HvE825UNDtZd"
      },
      "source": [
        "# Build a model (ANN) in tensorflow/keras"
      ]
    },
    {
      "cell_type": "markdown",
      "source": [
        "epoch = 1 kali ann melakukan forward dan bacward propagation\n",
        "\n",
        "learning rate = \n",
        "\n",
        "bach size = berapa data yang di gunakan dala satu proses biasanya makin besar ukuran bach makin cepat perhitungan namun makan banyak memori"
      ],
      "metadata": {
        "id": "EPRWyWErHh39"
      }
    },
    {
      "cell_type": "code",
      "execution_count": null,
      "metadata": {
        "id": "t8IUVdQTDtZe"
      },
      "outputs": [],
      "source": [
        "import tensorflow as tf\n",
        "from tensorflow import keras\n",
        "\n",
        "\n",
        "model = keras.Sequential([\n",
        "    keras.layers.Dense(10, input_shape=(10,), activation='relu'),\n",
        "    keras.layers.Dense(5, activation='relu'),\n",
        "    keras.layers.Dense(1, activation='sigmoid')\n",
        "])\n",
        "\n"
      ]
    },
    {
      "cell_type": "code",
      "source": [
        "model.summary()"
      ],
      "metadata": {
        "id": "hwZPEFSPX5sA",
        "colab": {
          "base_uri": "https://localhost:8080/"
        },
        "outputId": "94c4b39d-a0e4-49ed-d155-b2868c38e6ef"
      },
      "execution_count": null,
      "outputs": [
        {
          "output_type": "stream",
          "name": "stdout",
          "text": [
            "Model: \"sequential\"\n",
            "_________________________________________________________________\n",
            " Layer (type)                Output Shape              Param #   \n",
            "=================================================================\n",
            " dense (Dense)               (None, 10)                110       \n",
            "                                                                 \n",
            " dense_1 (Dense)             (None, 5)                 55        \n",
            "                                                                 \n",
            " dense_2 (Dense)             (None, 1)                 6         \n",
            "                                                                 \n",
            "=================================================================\n",
            "Total params: 171\n",
            "Trainable params: 171\n",
            "Non-trainable params: 0\n",
            "_________________________________________________________________\n"
          ]
        }
      ]
    },
    {
      "cell_type": "code",
      "source": [
        "model.layers"
      ],
      "metadata": {
        "colab": {
          "base_uri": "https://localhost:8080/"
        },
        "id": "uqcHttIY2WFM",
        "outputId": "ed8f5bfd-d6b1-4edd-8605-863c986c4940"
      },
      "execution_count": null,
      "outputs": [
        {
          "output_type": "execute_result",
          "data": {
            "text/plain": [
              "[<keras.layers.core.dense.Dense at 0x7fef222efc40>,\n",
              " <keras.layers.core.dense.Dense at 0x7fef222efcd0>,\n",
              " <keras.layers.core.dense.Dense at 0x7fef222efd00>]"
            ]
          },
          "metadata": {},
          "execution_count": 27
        }
      ]
    },
    {
      "cell_type": "code",
      "source": [
        "model.layers[0]"
      ],
      "metadata": {
        "colab": {
          "base_uri": "https://localhost:8080/"
        },
        "id": "CCvZ2qEv2Yt1",
        "outputId": "cc006485-6399-4bf6-a273-8b5e8f777e1c"
      },
      "execution_count": null,
      "outputs": [
        {
          "output_type": "execute_result",
          "data": {
            "text/plain": [
              "<keras.layers.core.dense.Dense at 0x7fe3f7e087c0>"
            ]
          },
          "metadata": {},
          "execution_count": 28
        }
      ]
    },
    {
      "cell_type": "code",
      "source": [
        "w,b = model.layers[0].get_weights()\n",
        "print(w)"
      ],
      "metadata": {
        "colab": {
          "base_uri": "https://localhost:8080/"
        },
        "id": "CVpvxRdZ24ST",
        "outputId": "61b6a21d-c25a-4b22-eca1-0d925b61754a"
      },
      "execution_count": null,
      "outputs": [
        {
          "output_type": "stream",
          "name": "stdout",
          "text": [
            "[[ 0.3962739   0.23695159 -0.32686353  0.1019693  -0.5197671  -0.2968602\n",
            "   0.13440263 -0.02689642  0.201312   -0.41488808]\n",
            " [-0.37864137  0.49645066  0.35530543  0.15179068  0.11785144 -0.08094177\n",
            "   0.3203907  -0.06286705  0.00798267 -0.16004524]\n",
            " [-0.53033125 -0.33014584 -0.3921194   0.1929493   0.17455912  0.0097298\n",
            "   0.07149845 -0.25067383 -0.38730896 -0.01028049]\n",
            " [ 0.31419122  0.49033892  0.01363593  0.1052947  -0.3194335   0.5068606\n",
            "   0.5152949  -0.06013152 -0.19440901  0.10603881]\n",
            " [-0.03235728  0.37022734  0.00140488 -0.51807433 -0.43108115  0.28870684\n",
            "  -0.16384402 -0.24567443  0.33279377  0.2961713 ]\n",
            " [-0.04225856  0.11778992 -0.53698766  0.39316773  0.2901966  -0.42304167\n",
            "  -0.5386264   0.08279008 -0.29403964 -0.49833253]\n",
            " [ 0.31250256 -0.38259214  0.06346864  0.46639204  0.33454037  0.2970196\n",
            "  -0.21680915  0.2556036   0.3798895   0.16446954]\n",
            " [-0.1396671  -0.49330962  0.507005   -0.2685123  -0.47293514  0.12184495\n",
            "  -0.13992944  0.15000492 -0.06857148 -0.40850967]\n",
            " [-0.3731516  -0.1303783  -0.42525956 -0.46039236  0.07874227  0.37782478\n",
            "  -0.3403772  -0.5130765  -0.25171277 -0.5255047 ]\n",
            " [ 0.16147411  0.31481922  0.01384223  0.39446658  0.22522718  0.5471399\n",
            "   0.38535208  0.38790977  0.47135317 -0.51278657]]\n"
          ]
        }
      ]
    },
    {
      "cell_type": "code",
      "source": [
        "w,b = model.layers[1].get_weights()"
      ],
      "metadata": {
        "id": "nWS1xEBh2eXY"
      },
      "execution_count": null,
      "outputs": []
    },
    {
      "cell_type": "code",
      "source": [
        "print(w)\n"
      ],
      "metadata": {
        "colab": {
          "base_uri": "https://localhost:8080/"
        },
        "id": "WLz3rx8e2pmT",
        "outputId": "9aae2686-7f4c-41ec-e20d-ee18a31183ff"
      },
      "execution_count": null,
      "outputs": [
        {
          "output_type": "stream",
          "name": "stdout",
          "text": [
            "[[-0.57371455  0.1307149  -0.47907674 -0.31769103 -0.39506727]\n",
            " [-0.20372173 -0.15461814  0.37852007  0.52380246 -0.60742164]\n",
            " [ 0.20050794  0.00235444  0.19896132 -0.2580034   0.44857067]\n",
            " [ 0.4732353  -0.43467247 -0.48417762  0.4109406   0.46946424]\n",
            " [-0.3656783   0.54551095  0.369806    0.27718484  0.4925763 ]\n",
            " [-0.17719308  0.39819604 -0.12649477  0.53988045  0.56034   ]\n",
            " [ 0.59806865  0.33517337 -0.4137743  -0.6021843   0.38120252]\n",
            " [ 0.11180443  0.35533297  0.43780512  0.2714882  -0.26250565]\n",
            " [-0.3261408  -0.59184396 -0.21458578 -0.5180067   0.5532548 ]\n",
            " [ 0.6301051  -0.28882378  0.59231097  0.08889651  0.24223417]]\n"
          ]
        }
      ]
    },
    {
      "cell_type": "code",
      "source": [
        "print(b)"
      ],
      "metadata": {
        "colab": {
          "base_uri": "https://localhost:8080/"
        },
        "id": "IpVNIQkA2v9N",
        "outputId": "2a7204db-ec36-4bdf-cec6-769024cffd78"
      },
      "execution_count": null,
      "outputs": [
        {
          "output_type": "stream",
          "name": "stdout",
          "text": [
            "[0. 0. 0. 0. 0.]\n"
          ]
        }
      ]
    },
    {
      "cell_type": "code",
      "source": [
        "w,b = model.layers[2].get_weights()\n",
        "print(w)"
      ],
      "metadata": {
        "colab": {
          "base_uri": "https://localhost:8080/"
        },
        "id": "9IgEW_XYZ9Zw",
        "outputId": "ad0affd4-d276-4224-d868-beca7a14b305"
      },
      "execution_count": null,
      "outputs": [
        {
          "output_type": "stream",
          "name": "stdout",
          "text": [
            "[[-0.07855415]\n",
            " [ 0.07908607]\n",
            " [-0.64724493]\n",
            " [-0.21017838]\n",
            " [ 0.65986323]]\n"
          ]
        }
      ]
    },
    {
      "cell_type": "code",
      "source": [
        "print(b)"
      ],
      "metadata": {
        "colab": {
          "base_uri": "https://localhost:8080/"
        },
        "id": "pAz4BtVjaK4N",
        "outputId": "726237a1-5e62-456b-c061-0fba86a3e9ac"
      },
      "execution_count": null,
      "outputs": [
        {
          "output_type": "stream",
          "name": "stdout",
          "text": [
            "[0.]\n"
          ]
        }
      ]
    },
    {
      "cell_type": "markdown",
      "source": [
        "## compiling model"
      ],
      "metadata": {
        "id": "z8xUzcnC4ihw"
      }
    },
    {
      "cell_type": "code",
      "source": [
        "# opt = keras.optimizers.Adam(learning_rate=0.01)\n",
        "\n",
        "model.compile(optimizer='adam',\n",
        "              loss='binary_crossentropy',\n",
        "              metrics=['accuracy'])"
      ],
      "metadata": {
        "id": "5S8ZoEMK2Khn"
      },
      "execution_count": null,
      "outputs": []
    },
    {
      "cell_type": "markdown",
      "source": [
        "###training the model"
      ],
      "metadata": {
        "id": "dHGpWasm4n2y"
      }
    },
    {
      "cell_type": "code",
      "source": [
        "history = model.fit(X_train, y_train, epochs=100, validation_data=(X_test,y_test))"
      ],
      "metadata": {
        "colab": {
          "base_uri": "https://localhost:8080/"
        },
        "id": "9Hq_HOcE4q7H",
        "outputId": "4e787fcb-2c13-4944-bbf1-177b77ccd8f9"
      },
      "execution_count": null,
      "outputs": [
        {
          "output_type": "stream",
          "name": "stdout",
          "text": [
            "Epoch 1/100\n",
            "84/84 [==============================] - 1s 5ms/step - loss: 0.5964 - accuracy: 0.7281 - val_loss: 0.4623 - val_accuracy: 0.8621\n",
            "Epoch 2/100\n",
            "84/84 [==============================] - 0s 3ms/step - loss: 0.4292 - accuracy: 0.8533 - val_loss: 0.3893 - val_accuracy: 0.8621\n",
            "Epoch 3/100\n",
            "84/84 [==============================] - 0s 3ms/step - loss: 0.4058 - accuracy: 0.8533 - val_loss: 0.3805 - val_accuracy: 0.8621\n",
            "Epoch 4/100\n",
            "84/84 [==============================] - 0s 3ms/step - loss: 0.3989 - accuracy: 0.8533 - val_loss: 0.3715 - val_accuracy: 0.8621\n",
            "Epoch 5/100\n",
            "84/84 [==============================] - 0s 3ms/step - loss: 0.3913 - accuracy: 0.8533 - val_loss: 0.3630 - val_accuracy: 0.8621\n",
            "Epoch 6/100\n",
            "84/84 [==============================] - 0s 3ms/step - loss: 0.3848 - accuracy: 0.8533 - val_loss: 0.3574 - val_accuracy: 0.8621\n",
            "Epoch 7/100\n",
            "84/84 [==============================] - 0s 3ms/step - loss: 0.3793 - accuracy: 0.8533 - val_loss: 0.3481 - val_accuracy: 0.8621\n",
            "Epoch 8/100\n",
            "84/84 [==============================] - 0s 3ms/step - loss: 0.3737 - accuracy: 0.8533 - val_loss: 0.3414 - val_accuracy: 0.8621\n",
            "Epoch 9/100\n",
            "84/84 [==============================] - 0s 3ms/step - loss: 0.3687 - accuracy: 0.8533 - val_loss: 0.3338 - val_accuracy: 0.8621\n",
            "Epoch 10/100\n",
            "84/84 [==============================] - 0s 3ms/step - loss: 0.3625 - accuracy: 0.8533 - val_loss: 0.3283 - val_accuracy: 0.8621\n",
            "Epoch 11/100\n",
            "84/84 [==============================] - 0s 2ms/step - loss: 0.3568 - accuracy: 0.8533 - val_loss: 0.3218 - val_accuracy: 0.8621\n",
            "Epoch 12/100\n",
            "84/84 [==============================] - 0s 3ms/step - loss: 0.3525 - accuracy: 0.8533 - val_loss: 0.3165 - val_accuracy: 0.8621\n",
            "Epoch 13/100\n",
            "84/84 [==============================] - 0s 2ms/step - loss: 0.3486 - accuracy: 0.8533 - val_loss: 0.3137 - val_accuracy: 0.8621\n",
            "Epoch 14/100\n",
            "84/84 [==============================] - 0s 3ms/step - loss: 0.3453 - accuracy: 0.8533 - val_loss: 0.3079 - val_accuracy: 0.8621\n",
            "Epoch 15/100\n",
            "84/84 [==============================] - 0s 3ms/step - loss: 0.3409 - accuracy: 0.8533 - val_loss: 0.3054 - val_accuracy: 0.8621\n",
            "Epoch 16/100\n",
            "84/84 [==============================] - 0s 3ms/step - loss: 0.3391 - accuracy: 0.8533 - val_loss: 0.3017 - val_accuracy: 0.8621\n",
            "Epoch 17/100\n",
            "84/84 [==============================] - 0s 2ms/step - loss: 0.3363 - accuracy: 0.8533 - val_loss: 0.2976 - val_accuracy: 0.8621\n",
            "Epoch 18/100\n",
            "84/84 [==============================] - 0s 2ms/step - loss: 0.3330 - accuracy: 0.8533 - val_loss: 0.2951 - val_accuracy: 0.8621\n",
            "Epoch 19/100\n",
            "84/84 [==============================] - 0s 3ms/step - loss: 0.3307 - accuracy: 0.8533 - val_loss: 0.2975 - val_accuracy: 0.8621\n",
            "Epoch 20/100\n",
            "84/84 [==============================] - 0s 3ms/step - loss: 0.3295 - accuracy: 0.8533 - val_loss: 0.2921 - val_accuracy: 0.8621\n",
            "Epoch 21/100\n",
            "84/84 [==============================] - 0s 3ms/step - loss: 0.3288 - accuracy: 0.8533 - val_loss: 0.2891 - val_accuracy: 0.8621\n",
            "Epoch 22/100\n",
            "84/84 [==============================] - 0s 3ms/step - loss: 0.3274 - accuracy: 0.8533 - val_loss: 0.2937 - val_accuracy: 0.8621\n",
            "Epoch 23/100\n",
            "84/84 [==============================] - 0s 3ms/step - loss: 0.3251 - accuracy: 0.8533 - val_loss: 0.2839 - val_accuracy: 0.8621\n",
            "Epoch 24/100\n",
            "84/84 [==============================] - 0s 2ms/step - loss: 0.3228 - accuracy: 0.8533 - val_loss: 0.2834 - val_accuracy: 0.8621\n",
            "Epoch 25/100\n",
            "84/84 [==============================] - 0s 3ms/step - loss: 0.3216 - accuracy: 0.8533 - val_loss: 0.2819 - val_accuracy: 0.8621\n",
            "Epoch 26/100\n",
            "84/84 [==============================] - 0s 2ms/step - loss: 0.3207 - accuracy: 0.8533 - val_loss: 0.2810 - val_accuracy: 0.8621\n",
            "Epoch 27/100\n",
            "84/84 [==============================] - 0s 2ms/step - loss: 0.3191 - accuracy: 0.8533 - val_loss: 0.2815 - val_accuracy: 0.8621\n",
            "Epoch 28/100\n",
            "84/84 [==============================] - 0s 3ms/step - loss: 0.3178 - accuracy: 0.8533 - val_loss: 0.2789 - val_accuracy: 0.8621\n",
            "Epoch 29/100\n",
            "84/84 [==============================] - 0s 3ms/step - loss: 0.3161 - accuracy: 0.8533 - val_loss: 0.2757 - val_accuracy: 0.8621\n",
            "Epoch 30/100\n",
            "84/84 [==============================] - 0s 3ms/step - loss: 0.3146 - accuracy: 0.8533 - val_loss: 0.2770 - val_accuracy: 0.8621\n",
            "Epoch 31/100\n",
            "84/84 [==============================] - 0s 2ms/step - loss: 0.3132 - accuracy: 0.8533 - val_loss: 0.2791 - val_accuracy: 0.8621\n",
            "Epoch 32/100\n",
            "84/84 [==============================] - 0s 2ms/step - loss: 0.3124 - accuracy: 0.8533 - val_loss: 0.2753 - val_accuracy: 0.8621\n",
            "Epoch 33/100\n",
            "84/84 [==============================] - 0s 3ms/step - loss: 0.3116 - accuracy: 0.8533 - val_loss: 0.2725 - val_accuracy: 0.8621\n",
            "Epoch 34/100\n",
            "84/84 [==============================] - 0s 3ms/step - loss: 0.3090 - accuracy: 0.8533 - val_loss: 0.2698 - val_accuracy: 0.8621\n",
            "Epoch 35/100\n",
            "84/84 [==============================] - 0s 3ms/step - loss: 0.3057 - accuracy: 0.8533 - val_loss: 0.2689 - val_accuracy: 0.8621\n",
            "Epoch 36/100\n",
            "84/84 [==============================] - 0s 2ms/step - loss: 0.3017 - accuracy: 0.8533 - val_loss: 0.2658 - val_accuracy: 0.8621\n",
            "Epoch 37/100\n",
            "84/84 [==============================] - 0s 3ms/step - loss: 0.2985 - accuracy: 0.8533 - val_loss: 0.2636 - val_accuracy: 0.8621\n",
            "Epoch 38/100\n",
            "84/84 [==============================] - 0s 3ms/step - loss: 0.2968 - accuracy: 0.8533 - val_loss: 0.2615 - val_accuracy: 0.8621\n",
            "Epoch 39/100\n",
            "84/84 [==============================] - 0s 3ms/step - loss: 0.2946 - accuracy: 0.8537 - val_loss: 0.2602 - val_accuracy: 0.8621\n",
            "Epoch 40/100\n",
            "84/84 [==============================] - 0s 3ms/step - loss: 0.2932 - accuracy: 0.8548 - val_loss: 0.2587 - val_accuracy: 0.8621\n",
            "Epoch 41/100\n",
            "84/84 [==============================] - 0s 3ms/step - loss: 0.2915 - accuracy: 0.8552 - val_loss: 0.2559 - val_accuracy: 0.8636\n",
            "Epoch 42/100\n",
            "84/84 [==============================] - 0s 3ms/step - loss: 0.2893 - accuracy: 0.8575 - val_loss: 0.2524 - val_accuracy: 0.8666\n",
            "Epoch 43/100\n",
            "84/84 [==============================] - 0s 3ms/step - loss: 0.2873 - accuracy: 0.8665 - val_loss: 0.2539 - val_accuracy: 0.8651\n",
            "Epoch 44/100\n",
            "84/84 [==============================] - 0s 3ms/step - loss: 0.2841 - accuracy: 0.8642 - val_loss: 0.2487 - val_accuracy: 0.8666\n",
            "Epoch 45/100\n",
            "84/84 [==============================] - 0s 2ms/step - loss: 0.2831 - accuracy: 0.8650 - val_loss: 0.2471 - val_accuracy: 0.8636\n",
            "Epoch 46/100\n",
            "84/84 [==============================] - 0s 3ms/step - loss: 0.2801 - accuracy: 0.8687 - val_loss: 0.2481 - val_accuracy: 0.8651\n",
            "Epoch 47/100\n",
            "84/84 [==============================] - 0s 3ms/step - loss: 0.2793 - accuracy: 0.8691 - val_loss: 0.2451 - val_accuracy: 0.8726\n",
            "Epoch 48/100\n",
            "84/84 [==============================] - 0s 2ms/step - loss: 0.2777 - accuracy: 0.8683 - val_loss: 0.2436 - val_accuracy: 0.8741\n",
            "Epoch 49/100\n",
            "84/84 [==============================] - 0s 3ms/step - loss: 0.2765 - accuracy: 0.8683 - val_loss: 0.2408 - val_accuracy: 0.8741\n",
            "Epoch 50/100\n",
            "84/84 [==============================] - 0s 3ms/step - loss: 0.2757 - accuracy: 0.8695 - val_loss: 0.2397 - val_accuracy: 0.8756\n",
            "Epoch 51/100\n",
            "84/84 [==============================] - 0s 3ms/step - loss: 0.2740 - accuracy: 0.8717 - val_loss: 0.2376 - val_accuracy: 0.8756\n",
            "Epoch 52/100\n",
            "84/84 [==============================] - 0s 2ms/step - loss: 0.2738 - accuracy: 0.8743 - val_loss: 0.2387 - val_accuracy: 0.8756\n",
            "Epoch 53/100\n",
            "84/84 [==============================] - 0s 3ms/step - loss: 0.2724 - accuracy: 0.8755 - val_loss: 0.2380 - val_accuracy: 0.8786\n",
            "Epoch 54/100\n",
            "84/84 [==============================] - 0s 3ms/step - loss: 0.2719 - accuracy: 0.8770 - val_loss: 0.2377 - val_accuracy: 0.8771\n",
            "Epoch 55/100\n",
            "84/84 [==============================] - 0s 2ms/step - loss: 0.2706 - accuracy: 0.8785 - val_loss: 0.2353 - val_accuracy: 0.8816\n",
            "Epoch 56/100\n",
            "84/84 [==============================] - 0s 3ms/step - loss: 0.2693 - accuracy: 0.8826 - val_loss: 0.2365 - val_accuracy: 0.8846\n",
            "Epoch 57/100\n",
            "84/84 [==============================] - 0s 3ms/step - loss: 0.2691 - accuracy: 0.8818 - val_loss: 0.2351 - val_accuracy: 0.8816\n",
            "Epoch 58/100\n",
            "84/84 [==============================] - 0s 3ms/step - loss: 0.2685 - accuracy: 0.8830 - val_loss: 0.2419 - val_accuracy: 0.9010\n",
            "Epoch 59/100\n",
            "84/84 [==============================] - 0s 3ms/step - loss: 0.2691 - accuracy: 0.8848 - val_loss: 0.2335 - val_accuracy: 0.8846\n",
            "Epoch 60/100\n",
            "84/84 [==============================] - 0s 2ms/step - loss: 0.2686 - accuracy: 0.8856 - val_loss: 0.2341 - val_accuracy: 0.8981\n",
            "Epoch 61/100\n",
            "84/84 [==============================] - 0s 3ms/step - loss: 0.2674 - accuracy: 0.8848 - val_loss: 0.2328 - val_accuracy: 0.8876\n",
            "Epoch 62/100\n",
            "84/84 [==============================] - 0s 3ms/step - loss: 0.2662 - accuracy: 0.8867 - val_loss: 0.2313 - val_accuracy: 0.8906\n",
            "Epoch 63/100\n",
            "84/84 [==============================] - 0s 3ms/step - loss: 0.2658 - accuracy: 0.8878 - val_loss: 0.2300 - val_accuracy: 0.8906\n",
            "Epoch 64/100\n",
            "84/84 [==============================] - 0s 3ms/step - loss: 0.2663 - accuracy: 0.8848 - val_loss: 0.2299 - val_accuracy: 0.8936\n",
            "Epoch 65/100\n",
            "84/84 [==============================] - 0s 3ms/step - loss: 0.2658 - accuracy: 0.8890 - val_loss: 0.2306 - val_accuracy: 0.8951\n",
            "Epoch 66/100\n",
            "84/84 [==============================] - 0s 3ms/step - loss: 0.2648 - accuracy: 0.8897 - val_loss: 0.2306 - val_accuracy: 0.8906\n",
            "Epoch 67/100\n",
            "84/84 [==============================] - 0s 3ms/step - loss: 0.2647 - accuracy: 0.8901 - val_loss: 0.2290 - val_accuracy: 0.8951\n",
            "Epoch 68/100\n",
            "84/84 [==============================] - 0s 2ms/step - loss: 0.2642 - accuracy: 0.8886 - val_loss: 0.2277 - val_accuracy: 0.8936\n",
            "Epoch 69/100\n",
            "84/84 [==============================] - 0s 3ms/step - loss: 0.2641 - accuracy: 0.8890 - val_loss: 0.2322 - val_accuracy: 0.8906\n",
            "Epoch 70/100\n",
            "84/84 [==============================] - 0s 3ms/step - loss: 0.2634 - accuracy: 0.8908 - val_loss: 0.2292 - val_accuracy: 0.9100\n",
            "Epoch 71/100\n",
            "84/84 [==============================] - 0s 3ms/step - loss: 0.2640 - accuracy: 0.8942 - val_loss: 0.2297 - val_accuracy: 0.8891\n",
            "Epoch 72/100\n",
            "84/84 [==============================] - 0s 3ms/step - loss: 0.2652 - accuracy: 0.8901 - val_loss: 0.2275 - val_accuracy: 0.8981\n",
            "Epoch 73/100\n",
            "84/84 [==============================] - 0s 3ms/step - loss: 0.2631 - accuracy: 0.8920 - val_loss: 0.2272 - val_accuracy: 0.9100\n",
            "Epoch 74/100\n",
            "84/84 [==============================] - 0s 3ms/step - loss: 0.2628 - accuracy: 0.8927 - val_loss: 0.2265 - val_accuracy: 0.9130\n",
            "Epoch 75/100\n",
            "84/84 [==============================] - 0s 2ms/step - loss: 0.2622 - accuracy: 0.8908 - val_loss: 0.2267 - val_accuracy: 0.8951\n",
            "Epoch 76/100\n",
            "84/84 [==============================] - 0s 3ms/step - loss: 0.2616 - accuracy: 0.8938 - val_loss: 0.2277 - val_accuracy: 0.8891\n",
            "Epoch 77/100\n",
            "84/84 [==============================] - 0s 2ms/step - loss: 0.2609 - accuracy: 0.8927 - val_loss: 0.2280 - val_accuracy: 0.8876\n",
            "Epoch 78/100\n",
            "84/84 [==============================] - 0s 3ms/step - loss: 0.2624 - accuracy: 0.8965 - val_loss: 0.2246 - val_accuracy: 0.8996\n",
            "Epoch 79/100\n",
            "84/84 [==============================] - 0s 3ms/step - loss: 0.2605 - accuracy: 0.8908 - val_loss: 0.2277 - val_accuracy: 0.9190\n",
            "Epoch 80/100\n",
            "84/84 [==============================] - 0s 2ms/step - loss: 0.2611 - accuracy: 0.8935 - val_loss: 0.2266 - val_accuracy: 0.9085\n",
            "Epoch 81/100\n",
            "84/84 [==============================] - 0s 3ms/step - loss: 0.2608 - accuracy: 0.8983 - val_loss: 0.2283 - val_accuracy: 0.8936\n",
            "Epoch 82/100\n",
            "84/84 [==============================] - 0s 3ms/step - loss: 0.2612 - accuracy: 0.8927 - val_loss: 0.2251 - val_accuracy: 0.9010\n",
            "Epoch 83/100\n",
            "84/84 [==============================] - 0s 3ms/step - loss: 0.2596 - accuracy: 0.8957 - val_loss: 0.2253 - val_accuracy: 0.9070\n",
            "Epoch 84/100\n",
            "84/84 [==============================] - 0s 3ms/step - loss: 0.2591 - accuracy: 0.8968 - val_loss: 0.2235 - val_accuracy: 0.9055\n",
            "Epoch 85/100\n",
            "84/84 [==============================] - 0s 2ms/step - loss: 0.2602 - accuracy: 0.8935 - val_loss: 0.2234 - val_accuracy: 0.9070\n",
            "Epoch 86/100\n",
            "84/84 [==============================] - 0s 3ms/step - loss: 0.2619 - accuracy: 0.8961 - val_loss: 0.2267 - val_accuracy: 0.9085\n",
            "Epoch 87/100\n",
            "84/84 [==============================] - 0s 2ms/step - loss: 0.2598 - accuracy: 0.8961 - val_loss: 0.2256 - val_accuracy: 0.9100\n",
            "Epoch 88/100\n",
            "84/84 [==============================] - 0s 3ms/step - loss: 0.2581 - accuracy: 0.8995 - val_loss: 0.2223 - val_accuracy: 0.9070\n",
            "Epoch 89/100\n",
            "84/84 [==============================] - 0s 2ms/step - loss: 0.2586 - accuracy: 0.8950 - val_loss: 0.2237 - val_accuracy: 0.9115\n",
            "Epoch 90/100\n",
            "84/84 [==============================] - 0s 3ms/step - loss: 0.2582 - accuracy: 0.8998 - val_loss: 0.2238 - val_accuracy: 0.9085\n",
            "Epoch 91/100\n",
            "84/84 [==============================] - 0s 3ms/step - loss: 0.2568 - accuracy: 0.8995 - val_loss: 0.2300 - val_accuracy: 0.8846\n",
            "Epoch 92/100\n",
            "84/84 [==============================] - 0s 3ms/step - loss: 0.2595 - accuracy: 0.8987 - val_loss: 0.2277 - val_accuracy: 0.8876\n",
            "Epoch 93/100\n",
            "84/84 [==============================] - 0s 2ms/step - loss: 0.2581 - accuracy: 0.8976 - val_loss: 0.2235 - val_accuracy: 0.9145\n",
            "Epoch 94/100\n",
            "84/84 [==============================] - 0s 3ms/step - loss: 0.2564 - accuracy: 0.9006 - val_loss: 0.2227 - val_accuracy: 0.9055\n",
            "Epoch 95/100\n",
            "84/84 [==============================] - 0s 2ms/step - loss: 0.2573 - accuracy: 0.8995 - val_loss: 0.2213 - val_accuracy: 0.9100\n",
            "Epoch 96/100\n",
            "84/84 [==============================] - 0s 3ms/step - loss: 0.2564 - accuracy: 0.8991 - val_loss: 0.2230 - val_accuracy: 0.9070\n",
            "Epoch 97/100\n",
            "84/84 [==============================] - 0s 3ms/step - loss: 0.2568 - accuracy: 0.8998 - val_loss: 0.2221 - val_accuracy: 0.9100\n",
            "Epoch 98/100\n",
            "84/84 [==============================] - 0s 2ms/step - loss: 0.2562 - accuracy: 0.9002 - val_loss: 0.2234 - val_accuracy: 0.9175\n",
            "Epoch 99/100\n",
            "84/84 [==============================] - 0s 3ms/step - loss: 0.2568 - accuracy: 0.9010 - val_loss: 0.2224 - val_accuracy: 0.9115\n",
            "Epoch 100/100\n",
            "84/84 [==============================] - 0s 2ms/step - loss: 0.2556 - accuracy: 0.9017 - val_loss: 0.2225 - val_accuracy: 0.9070\n"
          ]
        }
      ]
    },
    {
      "cell_type": "markdown",
      "source": [
        "##visualizing learning curve"
      ],
      "metadata": {
        "id": "qf4xU3Nu52Ft"
      }
    },
    {
      "cell_type": "code",
      "source": [
        "df = pd.DataFrame(history.history)\n",
        "df.head()"
      ],
      "metadata": {
        "colab": {
          "base_uri": "https://localhost:8080/",
          "height": 206
        },
        "id": "zd61tjjj7ZHj",
        "outputId": "914121b8-a975-45bc-dcba-0a8b5babe4f6"
      },
      "execution_count": null,
      "outputs": [
        {
          "output_type": "execute_result",
          "data": {
            "text/plain": [
              "       loss  accuracy  val_loss  val_accuracy\n",
              "0  0.596437  0.728057  0.462313      0.862069\n",
              "1  0.429242  0.853338  0.389328      0.862069\n",
              "2  0.405780  0.853338  0.380519      0.862069\n",
              "3  0.398905  0.853338  0.371547      0.862069\n",
              "4  0.391324  0.853338  0.363012      0.862069"
            ],
            "text/html": [
              "\n",
              "  <div id=\"df-f57be186-4211-41cc-8322-1e65eca393ce\">\n",
              "    <div class=\"colab-df-container\">\n",
              "      <div>\n",
              "<style scoped>\n",
              "    .dataframe tbody tr th:only-of-type {\n",
              "        vertical-align: middle;\n",
              "    }\n",
              "\n",
              "    .dataframe tbody tr th {\n",
              "        vertical-align: top;\n",
              "    }\n",
              "\n",
              "    .dataframe thead th {\n",
              "        text-align: right;\n",
              "    }\n",
              "</style>\n",
              "<table border=\"1\" class=\"dataframe\">\n",
              "  <thead>\n",
              "    <tr style=\"text-align: right;\">\n",
              "      <th></th>\n",
              "      <th>loss</th>\n",
              "      <th>accuracy</th>\n",
              "      <th>val_loss</th>\n",
              "      <th>val_accuracy</th>\n",
              "    </tr>\n",
              "  </thead>\n",
              "  <tbody>\n",
              "    <tr>\n",
              "      <th>0</th>\n",
              "      <td>0.596437</td>\n",
              "      <td>0.728057</td>\n",
              "      <td>0.462313</td>\n",
              "      <td>0.862069</td>\n",
              "    </tr>\n",
              "    <tr>\n",
              "      <th>1</th>\n",
              "      <td>0.429242</td>\n",
              "      <td>0.853338</td>\n",
              "      <td>0.389328</td>\n",
              "      <td>0.862069</td>\n",
              "    </tr>\n",
              "    <tr>\n",
              "      <th>2</th>\n",
              "      <td>0.405780</td>\n",
              "      <td>0.853338</td>\n",
              "      <td>0.380519</td>\n",
              "      <td>0.862069</td>\n",
              "    </tr>\n",
              "    <tr>\n",
              "      <th>3</th>\n",
              "      <td>0.398905</td>\n",
              "      <td>0.853338</td>\n",
              "      <td>0.371547</td>\n",
              "      <td>0.862069</td>\n",
              "    </tr>\n",
              "    <tr>\n",
              "      <th>4</th>\n",
              "      <td>0.391324</td>\n",
              "      <td>0.853338</td>\n",
              "      <td>0.363012</td>\n",
              "      <td>0.862069</td>\n",
              "    </tr>\n",
              "  </tbody>\n",
              "</table>\n",
              "</div>\n",
              "      <button class=\"colab-df-convert\" onclick=\"convertToInteractive('df-f57be186-4211-41cc-8322-1e65eca393ce')\"\n",
              "              title=\"Convert this dataframe to an interactive table.\"\n",
              "              style=\"display:none;\">\n",
              "        \n",
              "  <svg xmlns=\"http://www.w3.org/2000/svg\" height=\"24px\"viewBox=\"0 0 24 24\"\n",
              "       width=\"24px\">\n",
              "    <path d=\"M0 0h24v24H0V0z\" fill=\"none\"/>\n",
              "    <path d=\"M18.56 5.44l.94 2.06.94-2.06 2.06-.94-2.06-.94-.94-2.06-.94 2.06-2.06.94zm-11 1L8.5 8.5l.94-2.06 2.06-.94-2.06-.94L8.5 2.5l-.94 2.06-2.06.94zm10 10l.94 2.06.94-2.06 2.06-.94-2.06-.94-.94-2.06-.94 2.06-2.06.94z\"/><path d=\"M17.41 7.96l-1.37-1.37c-.4-.4-.92-.59-1.43-.59-.52 0-1.04.2-1.43.59L10.3 9.45l-7.72 7.72c-.78.78-.78 2.05 0 2.83L4 21.41c.39.39.9.59 1.41.59.51 0 1.02-.2 1.41-.59l7.78-7.78 2.81-2.81c.8-.78.8-2.07 0-2.86zM5.41 20L4 18.59l7.72-7.72 1.47 1.35L5.41 20z\"/>\n",
              "  </svg>\n",
              "      </button>\n",
              "      \n",
              "  <style>\n",
              "    .colab-df-container {\n",
              "      display:flex;\n",
              "      flex-wrap:wrap;\n",
              "      gap: 12px;\n",
              "    }\n",
              "\n",
              "    .colab-df-convert {\n",
              "      background-color: #E8F0FE;\n",
              "      border: none;\n",
              "      border-radius: 50%;\n",
              "      cursor: pointer;\n",
              "      display: none;\n",
              "      fill: #1967D2;\n",
              "      height: 32px;\n",
              "      padding: 0 0 0 0;\n",
              "      width: 32px;\n",
              "    }\n",
              "\n",
              "    .colab-df-convert:hover {\n",
              "      background-color: #E2EBFA;\n",
              "      box-shadow: 0px 1px 2px rgba(60, 64, 67, 0.3), 0px 1px 3px 1px rgba(60, 64, 67, 0.15);\n",
              "      fill: #174EA6;\n",
              "    }\n",
              "\n",
              "    [theme=dark] .colab-df-convert {\n",
              "      background-color: #3B4455;\n",
              "      fill: #D2E3FC;\n",
              "    }\n",
              "\n",
              "    [theme=dark] .colab-df-convert:hover {\n",
              "      background-color: #434B5C;\n",
              "      box-shadow: 0px 1px 3px 1px rgba(0, 0, 0, 0.15);\n",
              "      filter: drop-shadow(0px 1px 2px rgba(0, 0, 0, 0.3));\n",
              "      fill: #FFFFFF;\n",
              "    }\n",
              "  </style>\n",
              "\n",
              "      <script>\n",
              "        const buttonEl =\n",
              "          document.querySelector('#df-f57be186-4211-41cc-8322-1e65eca393ce button.colab-df-convert');\n",
              "        buttonEl.style.display =\n",
              "          google.colab.kernel.accessAllowed ? 'block' : 'none';\n",
              "\n",
              "        async function convertToInteractive(key) {\n",
              "          const element = document.querySelector('#df-f57be186-4211-41cc-8322-1e65eca393ce');\n",
              "          const dataTable =\n",
              "            await google.colab.kernel.invokeFunction('convertToInteractive',\n",
              "                                                     [key], {});\n",
              "          if (!dataTable) return;\n",
              "\n",
              "          const docLinkHtml = 'Like what you see? Visit the ' +\n",
              "            '<a target=\"_blank\" href=https://colab.research.google.com/notebooks/data_table.ipynb>data table notebook</a>'\n",
              "            + ' to learn more about interactive tables.';\n",
              "          element.innerHTML = '';\n",
              "          dataTable['output_type'] = 'display_data';\n",
              "          await google.colab.output.renderOutput(dataTable, element);\n",
              "          const docLink = document.createElement('div');\n",
              "          docLink.innerHTML = docLinkHtml;\n",
              "          element.appendChild(docLink);\n",
              "        }\n",
              "      </script>\n",
              "    </div>\n",
              "  </div>\n",
              "  "
            ]
          },
          "metadata": {},
          "execution_count": 37
        }
      ]
    },
    {
      "cell_type": "code",
      "source": [
        "df[['accuracy','val_accuracy']].plot(figsize=(8, 5))\n",
        "plt.grid(True)\n",
        "plt.gca().set_ylim(0, 1) # set the vertical range to [0-1\n",
        "plt.title('Training Accuracy vs Validation Accuracy')\n",
        "plt.show()"
      ],
      "metadata": {
        "colab": {
          "base_uri": "https://localhost:8080/",
          "height": 336
        },
        "id": "5VmBdMrO56wZ",
        "outputId": "a24d6ec8-6e07-43d4-8b8c-a6d7f0dfc1d8"
      },
      "execution_count": null,
      "outputs": [
        {
          "output_type": "display_data",
          "data": {
            "text/plain": [
              "<Figure size 576x360 with 1 Axes>"
            ],
            "image/png": "[encoded data removed]"
          },
          "metadata": {
            "needs_background": "light"
          }
        }
      ]
    },
    {
      "cell_type": "code",
      "source": [
        "df[['loss','val_loss']].plot(figsize=(8, 5))\n",
        "plt.grid(True)\n",
        "plt.gca().set_ylim(0, 1) # set the vertical range to [0-1]\n",
        "plt.title('Training Loss vs Validation Loss')\n",
        "plt.show()"
      ],
      "metadata": {
        "colab": {
          "base_uri": "https://localhost:8080/",
          "height": 336
        },
        "id": "GQOhGPLa9BpX",
        "outputId": "c31f474c-d8ff-4bb0-9961-ff5630b238ef"
      },
      "execution_count": null,
      "outputs": [
        {
          "output_type": "display_data",
          "data": {
            "text/plain": [
              "<Figure size 576x360 with 1 Axes>"
            ],
            "image/png": "[encoded data removed]"
          },
          "metadata": {
            "needs_background": "light"
          }
        }
      ]
    },
    {
      "cell_type": "markdown",
      "source": [
        "##evaluasi model"
      ],
      "metadata": {
        "id": "IFPGz_g8ZQRP"
      }
    },
    {
      "cell_type": "code",
      "execution_count": null,
      "metadata": {
        "id": "ObThRX1JDtZg",
        "colab": {
          "base_uri": "https://localhost:8080/"
        },
        "outputId": "a6c19e37-78d8-4ccc-e6dc-1995b6af032a"
      },
      "outputs": [
        {
          "output_type": "stream",
          "name": "stdout",
          "text": [
            "21/21 [==============================] - 0s 1ms/step - loss: 0.2225 - accuracy: 0.9070\n"
          ]
        },
        {
          "output_type": "execute_result",
          "data": {
            "text/plain": [
              "[0.22247515618801117, 0.9070464968681335]"
            ]
          },
          "metadata": {},
          "execution_count": 40
        }
      ],
      "source": [
        "model.evaluate(X_test, y_test)"
      ]
    },
    {
      "cell_type": "code",
      "execution_count": null,
      "metadata": {
        "id": "zfeibiYhDtZh",
        "colab": {
          "base_uri": "https://localhost:8080/"
        },
        "outputId": "34631307-a308-49c1-cfff-1c98a11a6ee2"
      },
      "outputs": [
        {
          "output_type": "stream",
          "name": "stdout",
          "text": [
            "21/21 [==============================] - 0s 1ms/step\n"
          ]
        },
        {
          "output_type": "execute_result",
          "data": {
            "text/plain": [
              "array([[0.00441065],\n",
              "       [0.00704139],\n",
              "       [0.01582703],\n",
              "       [0.0461708 ],\n",
              "       [0.03768877]], dtype=float32)"
            ]
          },
          "metadata": {},
          "execution_count": 41
        }
      ],
      "source": [
        "yp = model.predict(X_test)\n",
        "yp[:5]"
      ]
    },
    {
      "cell_type": "code",
      "execution_count": null,
      "metadata": {
        "id": "6_R7R53eDtZj"
      },
      "outputs": [],
      "source": [
        "y_pred = []\n",
        "for element in yp:\n",
        "    if element > 0.5:\n",
        "        y_pred.append(1)\n",
        "    else:\n",
        "        y_pred.append(0)"
      ]
    },
    {
      "cell_type": "code",
      "execution_count": null,
      "metadata": {
        "id": "yNNVsZDqDtZk",
        "colab": {
          "base_uri": "https://localhost:8080/"
        },
        "outputId": "06e6e3ef-7800-4e1a-92b7-2379eaf41c99"
      },
      "outputs": [
        {
          "output_type": "execute_result",
          "data": {
            "text/plain": [
              "[0, 0, 0, 0, 0, 1, 1, 0, 0, 0]"
            ]
          },
          "metadata": {},
          "execution_count": 43
        }
      ],
      "source": [
        "y_pred[:10]"
      ]
    },
    {
      "cell_type": "code",
      "execution_count": null,
      "metadata": {
        "id": "VtBgmkGjDtZk",
        "colab": {
          "base_uri": "https://localhost:8080/"
        },
        "outputId": "9e9fc261-1e6b-46bb-9899-0558f1d2493d"
      },
      "outputs": [
        {
          "output_type": "execute_result",
          "data": {
            "text/plain": [
              "1879    0\n",
              "1518    0\n",
              "1813    0\n",
              "890     0\n",
              "1343    0\n",
              "3072    1\n",
              "546     1\n",
              "2401    1\n",
              "1827    0\n",
              "758     0\n",
              "Name: Churn, dtype: int64"
            ]
          },
          "metadata": {},
          "execution_count": 44
        }
      ],
      "source": [
        "y_test[:10]"
      ]
    },
    {
      "cell_type": "code",
      "execution_count": null,
      "metadata": {
        "id": "9sWxrnd4DtZl",
        "colab": {
          "base_uri": "https://localhost:8080/"
        },
        "outputId": "97dba186-e15a-4505-c157-11d43e062a28"
      },
      "outputs": [
        {
          "output_type": "stream",
          "name": "stdout",
          "text": [
            "              precision    recall  f1-score   support\n",
            "\n",
            "           0       0.91      0.99      0.95       575\n",
            "           1       0.88      0.38      0.53        92\n",
            "\n",
            "    accuracy                           0.91       667\n",
            "   macro avg       0.89      0.69      0.74       667\n",
            "weighted avg       0.90      0.91      0.89       667\n",
            "\n"
          ]
        }
      ],
      "source": [
        "from sklearn.metrics import confusion_matrix , classification_report\n",
        "\n",
        "print(classification_report(y_test,y_pred))"
      ]
    },
    {
      "cell_type": "code",
      "execution_count": null,
      "metadata": {
        "id": "fBSmzMC-DtZl",
        "colab": {
          "base_uri": "https://localhost:8080/",
          "height": 459
        },
        "outputId": "e0f427b9-edab-48b2-91c6-3446ee846857"
      },
      "outputs": [
        {
          "output_type": "execute_result",
          "data": {
            "text/plain": [
              "Text(69.0, 0.5, 'Truth')"
            ]
          },
          "metadata": {},
          "execution_count": 46
        },
        {
          "output_type": "display_data",
          "data": {
            "text/plain": [
              "<Figure size 720x504 with 2 Axes>"
            ],
            "image/png": "[encoded data removed]"
          },
          "metadata": {
            "needs_background": "light"
          }
        }
      ],
      "source": [
        "import seaborn as sn\n",
        "cm = tf.math.confusion_matrix(labels=y_test,predictions=y_pred)\n",
        "\n",
        "plt.figure(figsize = (10,7))\n",
        "sn.heatmap(cm, annot=True, fmt='d')\n",
        "plt.xlabel('Predicted')\n",
        "plt.ylabel('Truth')"
      ]
    },
    {
      "cell_type": "markdown",
      "metadata": {
        "id": "y4YUR_1bDtZn"
      },
      "source": [
        "# Accuracy"
      ]
    },
    {
      "cell_type": "code",
      "execution_count": null,
      "metadata": {
        "id": "WCsV19O2DtZn",
        "colab": {
          "base_uri": "https://localhost:8080/"
        },
        "outputId": "8a8169be-00ba-44c3-c83c-f7a1973286c2"
      },
      "outputs": [
        {
          "output_type": "execute_result",
          "data": {
            "text/plain": [
              "0.91"
            ]
          },
          "metadata": {},
          "execution_count": 61
        }
      ],
      "source": [
        "round((570+35)/(570+57+5+35),2)"
      ]
    },
    {
      "cell_type": "markdown",
      "source": [
        "setalah di hitung manual akurannya sama dengan yang di evaluasi"
      ],
      "metadata": {
        "id": "Br-nW-nAxiQF"
      }
    },
    {
      "cell_type": "markdown",
      "metadata": {
        "id": "JO3XFtzCDtZo"
      },
      "source": [
        "# Precision for 0 class. i.e. Precision for customers who did not churn"
      ]
    },
    {
      "cell_type": "code",
      "execution_count": null,
      "metadata": {
        "id": "3JNYcRA5DtZo",
        "colab": {
          "base_uri": "https://localhost:8080/"
        },
        "outputId": "3e5d7ebf-a371-4935-da98-ff7ef2f7a475"
      },
      "outputs": [
        {
          "output_type": "execute_result",
          "data": {
            "text/plain": [
              "0.91"
            ]
          },
          "metadata": {},
          "execution_count": 62
        }
      ],
      "source": [
        "round(570/(570+57),2)"
      ]
    },
    {
      "cell_type": "markdown",
      "source": [
        "sama dengan report"
      ],
      "metadata": {
        "id": "w9LTDGpay7x4"
      }
    },
    {
      "cell_type": "markdown",
      "metadata": {
        "id": "fMbMpZ8nDtZq"
      },
      "source": [
        "# Precision for 1 class. i.e. Precision for customers who actually churned"
      ]
    },
    {
      "cell_type": "code",
      "execution_count": null,
      "metadata": {
        "id": "fKdkGku4DtZr",
        "colab": {
          "base_uri": "https://localhost:8080/"
        },
        "outputId": "6f1fc3f0-2170-4e07-acd4-297e8f34f26a"
      },
      "outputs": [
        {
          "output_type": "execute_result",
          "data": {
            "text/plain": [
              "0.88"
            ]
          },
          "metadata": {},
          "execution_count": 63
        }
      ],
      "source": [
        "round(35/(35+5),2)"
      ]
    },
    {
      "cell_type": "markdown",
      "source": [
        "juga sama dengna report"
      ],
      "metadata": {
        "id": "sVLiAIxTy_6Q"
      }
    },
    {
      "cell_type": "markdown",
      "metadata": {
        "id": "jB3ZQQDQDtZs"
      },
      "source": [
        "# Recall for 0 class"
      ]
    },
    {
      "cell_type": "code",
      "execution_count": null,
      "metadata": {
        "id": "DjBChh6pDtZt",
        "colab": {
          "base_uri": "https://localhost:8080/"
        },
        "outputId": "7e5e526d-9c2d-4c35-a5e5-f39fa45f8044"
      },
      "outputs": [
        {
          "output_type": "execute_result",
          "data": {
            "text/plain": [
              "0.99"
            ]
          },
          "metadata": {},
          "execution_count": 64
        }
      ],
      "source": [
        "round(570/(570+5),2)"
      ]
    },
    {
      "cell_type": "markdown",
      "source": [
        "##recal for 1 class"
      ],
      "metadata": {
        "id": "XPRrwOWTzkwH"
      }
    },
    {
      "cell_type": "code",
      "execution_count": null,
      "metadata": {
        "id": "nrGg3mVADtZu",
        "colab": {
          "base_uri": "https://localhost:8080/"
        },
        "outputId": "7e80d262-90d4-48bc-a208-d69e98345eef"
      },
      "outputs": [
        {
          "output_type": "execute_result",
          "data": {
            "text/plain": [
              "0.38"
            ]
          },
          "metadata": {},
          "execution_count": 65
        }
      ],
      "source": [
        "round(35/(35+57),2)"
      ]
    },
    {
      "cell_type": "markdown",
      "source": [
        "# model dg early stop "
      ],
      "metadata": {
        "id": "AgoX44G1vesv"
      }
    },
    {
      "cell_type": "code",
      "source": [
        "import tensorflow as tf\n",
        "from tensorflow import keras\n",
        "\n",
        "\n",
        "model = keras.Sequential([\n",
        "    keras.layers.Dense(10, input_shape=(10,), activation='relu'),\n",
        "    keras.layers.Dense(5, activation='relu'),\n",
        "    keras.layers.Dense(1, activation='sigmoid')\n",
        "])\n"
      ],
      "metadata": {
        "id": "3CkXWpbSx1iA"
      },
      "execution_count": null,
      "outputs": []
    },
    {
      "cell_type": "code",
      "source": [
        "# opt = keras.optimizers.Adam(learning_rate=0.01)\n",
        "\n",
        "model.compile(optimizer='adam',\n",
        "              loss='binary_crossentropy',\n",
        "              metrics=['accuracy'])"
      ],
      "metadata": {
        "id": "YyNakAVkx9er"
      },
      "execution_count": null,
      "outputs": []
    },
    {
      "cell_type": "code",
      "source": [
        "from tensorflow.keras.callbacks import EarlyStopping"
      ],
      "metadata": {
        "id": "xMj_AxwFv6NH"
      },
      "execution_count": null,
      "outputs": []
    },
    {
      "cell_type": "code",
      "source": [
        "early_stop=EarlyStopping(monitor='val_loss',mode='min',verbose=1,patience=25)"
      ],
      "metadata": {
        "id": "KGU3csbqv94-"
      },
      "execution_count": null,
      "outputs": []
    },
    {
      "cell_type": "code",
      "source": [
        "history = model.fit(X_train, y_train, epochs=1000, validation_data=(X_test,y_test),callbacks=[early_stop])"
      ],
      "metadata": {
        "colab": {
          "base_uri": "https://localhost:8080/"
        },
        "id": "zjN4gXmhwq3Y",
        "outputId": "81affa99-96dd-41db-a5c7-f082c48e3feb"
      },
      "execution_count": null,
      "outputs": [
        {
          "output_type": "stream",
          "name": "stdout",
          "text": [
            "Epoch 1/1000\n",
            "84/84 [==============================] - 1s 4ms/step - loss: 0.6390 - accuracy: 0.7176 - val_loss: 0.5364 - val_accuracy: 0.8621\n",
            "Epoch 2/1000\n",
            "84/84 [==============================] - 0s 3ms/step - loss: 0.4668 - accuracy: 0.8533 - val_loss: 0.3997 - val_accuracy: 0.8621\n",
            "Epoch 3/1000\n",
            "84/84 [==============================] - 0s 3ms/step - loss: 0.4047 - accuracy: 0.8533 - val_loss: 0.3794 - val_accuracy: 0.8621\n",
            "Epoch 4/1000\n",
            "84/84 [==============================] - 0s 2ms/step - loss: 0.3984 - accuracy: 0.8533 - val_loss: 0.3748 - val_accuracy: 0.8621\n",
            "Epoch 5/1000\n",
            "84/84 [==============================] - 0s 3ms/step - loss: 0.3945 - accuracy: 0.8533 - val_loss: 0.3699 - val_accuracy: 0.8621\n",
            "Epoch 6/1000\n",
            "84/84 [==============================] - 0s 3ms/step - loss: 0.3912 - accuracy: 0.8533 - val_loss: 0.3655 - val_accuracy: 0.8621\n",
            "Epoch 7/1000\n",
            "84/84 [==============================] - 0s 3ms/step - loss: 0.3877 - accuracy: 0.8533 - val_loss: 0.3612 - val_accuracy: 0.8621\n",
            "Epoch 8/1000\n",
            "84/84 [==============================] - 0s 2ms/step - loss: 0.3847 - accuracy: 0.8533 - val_loss: 0.3572 - val_accuracy: 0.8621\n",
            "Epoch 9/1000\n",
            "84/84 [==============================] - 0s 2ms/step - loss: 0.3814 - accuracy: 0.8533 - val_loss: 0.3530 - val_accuracy: 0.8621\n",
            "Epoch 10/1000\n",
            "84/84 [==============================] - 0s 3ms/step - loss: 0.3782 - accuracy: 0.8533 - val_loss: 0.3489 - val_accuracy: 0.8621\n",
            "Epoch 11/1000\n",
            "84/84 [==============================] - 0s 2ms/step - loss: 0.3754 - accuracy: 0.8533 - val_loss: 0.3452 - val_accuracy: 0.8621\n",
            "Epoch 12/1000\n",
            "84/84 [==============================] - 0s 2ms/step - loss: 0.3725 - accuracy: 0.8533 - val_loss: 0.3415 - val_accuracy: 0.8621\n",
            "Epoch 13/1000\n",
            "84/84 [==============================] - 0s 3ms/step - loss: 0.3695 - accuracy: 0.8533 - val_loss: 0.3380 - val_accuracy: 0.8621\n",
            "Epoch 14/1000\n",
            "84/84 [==============================] - 0s 3ms/step - loss: 0.3670 - accuracy: 0.8533 - val_loss: 0.3359 - val_accuracy: 0.8621\n",
            "Epoch 15/1000\n",
            "84/84 [==============================] - 0s 3ms/step - loss: 0.3641 - accuracy: 0.8533 - val_loss: 0.3319 - val_accuracy: 0.8621\n",
            "Epoch 16/1000\n",
            "84/84 [==============================] - 0s 3ms/step - loss: 0.3617 - accuracy: 0.8533 - val_loss: 0.3299 - val_accuracy: 0.8621\n",
            "Epoch 17/1000\n",
            "84/84 [==============================] - 0s 3ms/step - loss: 0.3595 - accuracy: 0.8533 - val_loss: 0.3262 - val_accuracy: 0.8621\n",
            "Epoch 18/1000\n",
            "84/84 [==============================] - 0s 2ms/step - loss: 0.3573 - accuracy: 0.8537 - val_loss: 0.3237 - val_accuracy: 0.8621\n",
            "Epoch 19/1000\n",
            "84/84 [==============================] - 0s 3ms/step - loss: 0.3547 - accuracy: 0.8537 - val_loss: 0.3207 - val_accuracy: 0.8621\n",
            "Epoch 20/1000\n",
            "84/84 [==============================] - 0s 3ms/step - loss: 0.3523 - accuracy: 0.8537 - val_loss: 0.3201 - val_accuracy: 0.8621\n",
            "Epoch 21/1000\n",
            "84/84 [==============================] - 0s 2ms/step - loss: 0.3501 - accuracy: 0.8537 - val_loss: 0.3165 - val_accuracy: 0.8621\n",
            "Epoch 22/1000\n",
            "84/84 [==============================] - 0s 2ms/step - loss: 0.3475 - accuracy: 0.8548 - val_loss: 0.3130 - val_accuracy: 0.8636\n",
            "Epoch 23/1000\n",
            "84/84 [==============================] - 0s 3ms/step - loss: 0.3438 - accuracy: 0.8560 - val_loss: 0.3140 - val_accuracy: 0.8756\n",
            "Epoch 24/1000\n",
            "84/84 [==============================] - 0s 3ms/step - loss: 0.3407 - accuracy: 0.8582 - val_loss: 0.3061 - val_accuracy: 0.8786\n",
            "Epoch 25/1000\n",
            "84/84 [==============================] - 0s 3ms/step - loss: 0.3381 - accuracy: 0.8560 - val_loss: 0.3025 - val_accuracy: 0.8771\n",
            "Epoch 26/1000\n",
            "84/84 [==============================] - 0s 3ms/step - loss: 0.3360 - accuracy: 0.8590 - val_loss: 0.3015 - val_accuracy: 0.8756\n",
            "Epoch 27/1000\n",
            "84/84 [==============================] - 0s 2ms/step - loss: 0.3343 - accuracy: 0.8586 - val_loss: 0.3000 - val_accuracy: 0.8756\n",
            "Epoch 28/1000\n",
            "84/84 [==============================] - 0s 3ms/step - loss: 0.3331 - accuracy: 0.8608 - val_loss: 0.2982 - val_accuracy: 0.8741\n",
            "Epoch 29/1000\n",
            "84/84 [==============================] - 0s 3ms/step - loss: 0.3316 - accuracy: 0.8608 - val_loss: 0.2986 - val_accuracy: 0.8756\n",
            "Epoch 30/1000\n",
            "84/84 [==============================] - 0s 2ms/step - loss: 0.3298 - accuracy: 0.8590 - val_loss: 0.2939 - val_accuracy: 0.8771\n",
            "Epoch 31/1000\n",
            "84/84 [==============================] - 0s 3ms/step - loss: 0.3281 - accuracy: 0.8593 - val_loss: 0.2938 - val_accuracy: 0.8786\n",
            "Epoch 32/1000\n",
            "84/84 [==============================] - 0s 3ms/step - loss: 0.3272 - accuracy: 0.8597 - val_loss: 0.2902 - val_accuracy: 0.8756\n",
            "Epoch 33/1000\n",
            "84/84 [==============================] - 0s 3ms/step - loss: 0.3249 - accuracy: 0.8605 - val_loss: 0.2885 - val_accuracy: 0.8786\n",
            "Epoch 34/1000\n",
            "84/84 [==============================] - 0s 3ms/step - loss: 0.3233 - accuracy: 0.8597 - val_loss: 0.2863 - val_accuracy: 0.8801\n",
            "Epoch 35/1000\n",
            "84/84 [==============================] - 0s 3ms/step - loss: 0.3215 - accuracy: 0.8620 - val_loss: 0.2839 - val_accuracy: 0.8816\n",
            "Epoch 36/1000\n",
            "84/84 [==============================] - 0s 3ms/step - loss: 0.3197 - accuracy: 0.8638 - val_loss: 0.2819 - val_accuracy: 0.8801\n",
            "Epoch 37/1000\n",
            "84/84 [==============================] - 0s 2ms/step - loss: 0.3172 - accuracy: 0.8638 - val_loss: 0.2838 - val_accuracy: 0.8891\n",
            "Epoch 38/1000\n",
            "84/84 [==============================] - 0s 2ms/step - loss: 0.3164 - accuracy: 0.8653 - val_loss: 0.2788 - val_accuracy: 0.8891\n",
            "Epoch 39/1000\n",
            "84/84 [==============================] - 0s 3ms/step - loss: 0.3142 - accuracy: 0.8653 - val_loss: 0.2772 - val_accuracy: 0.8936\n",
            "Epoch 40/1000\n",
            "84/84 [==============================] - 0s 3ms/step - loss: 0.3123 - accuracy: 0.8676 - val_loss: 0.2736 - val_accuracy: 0.8876\n",
            "Epoch 41/1000\n",
            "84/84 [==============================] - 0s 3ms/step - loss: 0.3110 - accuracy: 0.8680 - val_loss: 0.2721 - val_accuracy: 0.8906\n",
            "Epoch 42/1000\n",
            "84/84 [==============================] - 0s 3ms/step - loss: 0.3089 - accuracy: 0.8680 - val_loss: 0.2707 - val_accuracy: 0.8876\n",
            "Epoch 43/1000\n",
            "84/84 [==============================] - 0s 2ms/step - loss: 0.3085 - accuracy: 0.8706 - val_loss: 0.2687 - val_accuracy: 0.8846\n",
            "Epoch 44/1000\n",
            "84/84 [==============================] - 0s 3ms/step - loss: 0.3060 - accuracy: 0.8676 - val_loss: 0.2670 - val_accuracy: 0.8891\n",
            "Epoch 45/1000\n",
            "84/84 [==============================] - 0s 3ms/step - loss: 0.3043 - accuracy: 0.8698 - val_loss: 0.2651 - val_accuracy: 0.8861\n",
            "Epoch 46/1000\n",
            "84/84 [==============================] - 0s 3ms/step - loss: 0.3044 - accuracy: 0.8702 - val_loss: 0.2638 - val_accuracy: 0.8891\n",
            "Epoch 47/1000\n",
            "84/84 [==============================] - 0s 3ms/step - loss: 0.3008 - accuracy: 0.8732 - val_loss: 0.2638 - val_accuracy: 0.8966\n",
            "Epoch 48/1000\n",
            "84/84 [==============================] - 0s 3ms/step - loss: 0.2993 - accuracy: 0.8758 - val_loss: 0.2604 - val_accuracy: 0.8891\n",
            "Epoch 49/1000\n",
            "84/84 [==============================] - 0s 3ms/step - loss: 0.2981 - accuracy: 0.8751 - val_loss: 0.2589 - val_accuracy: 0.8876\n",
            "Epoch 50/1000\n",
            "84/84 [==============================] - 0s 3ms/step - loss: 0.2973 - accuracy: 0.8777 - val_loss: 0.2575 - val_accuracy: 0.8951\n",
            "Epoch 51/1000\n",
            "84/84 [==============================] - 0s 3ms/step - loss: 0.2961 - accuracy: 0.8766 - val_loss: 0.2572 - val_accuracy: 0.8996\n",
            "Epoch 52/1000\n",
            "84/84 [==============================] - 0s 2ms/step - loss: 0.2949 - accuracy: 0.8830 - val_loss: 0.2544 - val_accuracy: 0.8951\n",
            "Epoch 53/1000\n",
            "84/84 [==============================] - 0s 3ms/step - loss: 0.2934 - accuracy: 0.8785 - val_loss: 0.2525 - val_accuracy: 0.8936\n",
            "Epoch 54/1000\n",
            "84/84 [==============================] - 0s 3ms/step - loss: 0.2915 - accuracy: 0.8811 - val_loss: 0.2515 - val_accuracy: 0.8951\n",
            "Epoch 55/1000\n",
            "84/84 [==============================] - 0s 2ms/step - loss: 0.2900 - accuracy: 0.8815 - val_loss: 0.2510 - val_accuracy: 0.9010\n",
            "Epoch 56/1000\n",
            "84/84 [==============================] - 0s 3ms/step - loss: 0.2898 - accuracy: 0.8833 - val_loss: 0.2490 - val_accuracy: 0.8951\n",
            "Epoch 57/1000\n",
            "84/84 [==============================] - 0s 3ms/step - loss: 0.2886 - accuracy: 0.8845 - val_loss: 0.2475 - val_accuracy: 0.8996\n",
            "Epoch 58/1000\n",
            "84/84 [==============================] - 0s 3ms/step - loss: 0.2871 - accuracy: 0.8841 - val_loss: 0.2469 - val_accuracy: 0.9055\n",
            "Epoch 59/1000\n",
            "84/84 [==============================] - 0s 2ms/step - loss: 0.2854 - accuracy: 0.8845 - val_loss: 0.2481 - val_accuracy: 0.9070\n",
            "Epoch 60/1000\n",
            "84/84 [==============================] - 0s 2ms/step - loss: 0.2854 - accuracy: 0.8863 - val_loss: 0.2441 - val_accuracy: 0.9025\n",
            "Epoch 61/1000\n",
            "84/84 [==============================] - 0s 3ms/step - loss: 0.2831 - accuracy: 0.8852 - val_loss: 0.2426 - val_accuracy: 0.9010\n",
            "Epoch 62/1000\n",
            "84/84 [==============================] - 0s 3ms/step - loss: 0.2823 - accuracy: 0.8878 - val_loss: 0.2423 - val_accuracy: 0.9100\n",
            "Epoch 63/1000\n",
            "84/84 [==============================] - 0s 2ms/step - loss: 0.2808 - accuracy: 0.8890 - val_loss: 0.2449 - val_accuracy: 0.9085\n",
            "Epoch 64/1000\n",
            "84/84 [==============================] - 0s 3ms/step - loss: 0.2805 - accuracy: 0.8867 - val_loss: 0.2394 - val_accuracy: 0.9100\n",
            "Epoch 65/1000\n",
            "84/84 [==============================] - 0s 3ms/step - loss: 0.2790 - accuracy: 0.8882 - val_loss: 0.2383 - val_accuracy: 0.9100\n",
            "Epoch 66/1000\n",
            "84/84 [==============================] - 0s 3ms/step - loss: 0.2779 - accuracy: 0.8897 - val_loss: 0.2393 - val_accuracy: 0.9085\n",
            "Epoch 67/1000\n",
            "84/84 [==============================] - 0s 3ms/step - loss: 0.2778 - accuracy: 0.8863 - val_loss: 0.2375 - val_accuracy: 0.9100\n",
            "Epoch 68/1000\n",
            "84/84 [==============================] - 0s 3ms/step - loss: 0.2762 - accuracy: 0.8901 - val_loss: 0.2346 - val_accuracy: 0.9115\n",
            "Epoch 69/1000\n",
            "84/84 [==============================] - 0s 2ms/step - loss: 0.2755 - accuracy: 0.8893 - val_loss: 0.2354 - val_accuracy: 0.9115\n",
            "Epoch 70/1000\n",
            "84/84 [==============================] - 0s 3ms/step - loss: 0.2746 - accuracy: 0.8886 - val_loss: 0.2334 - val_accuracy: 0.9145\n",
            "Epoch 71/1000\n",
            "84/84 [==============================] - 0s 3ms/step - loss: 0.2736 - accuracy: 0.8901 - val_loss: 0.2381 - val_accuracy: 0.9115\n",
            "Epoch 72/1000\n",
            "84/84 [==============================] - 0s 3ms/step - loss: 0.2731 - accuracy: 0.8893 - val_loss: 0.2312 - val_accuracy: 0.9115\n",
            "Epoch 73/1000\n",
            "84/84 [==============================] - 0s 3ms/step - loss: 0.2722 - accuracy: 0.8905 - val_loss: 0.2300 - val_accuracy: 0.9115\n",
            "Epoch 74/1000\n",
            "84/84 [==============================] - 0s 3ms/step - loss: 0.2719 - accuracy: 0.8905 - val_loss: 0.2297 - val_accuracy: 0.9115\n",
            "Epoch 75/1000\n",
            "84/84 [==============================] - 0s 3ms/step - loss: 0.2707 - accuracy: 0.8905 - val_loss: 0.2286 - val_accuracy: 0.9115\n",
            "Epoch 76/1000\n",
            "84/84 [==============================] - 0s 3ms/step - loss: 0.2695 - accuracy: 0.8927 - val_loss: 0.2290 - val_accuracy: 0.9115\n",
            "Epoch 77/1000\n",
            "84/84 [==============================] - 0s 2ms/step - loss: 0.2686 - accuracy: 0.8901 - val_loss: 0.2285 - val_accuracy: 0.9145\n",
            "Epoch 78/1000\n",
            "84/84 [==============================] - 0s 3ms/step - loss: 0.2683 - accuracy: 0.8942 - val_loss: 0.2314 - val_accuracy: 0.9130\n",
            "Epoch 79/1000\n",
            "84/84 [==============================] - 0s 3ms/step - loss: 0.2676 - accuracy: 0.8923 - val_loss: 0.2260 - val_accuracy: 0.9145\n",
            "Epoch 80/1000\n",
            "84/84 [==============================] - 0s 2ms/step - loss: 0.2664 - accuracy: 0.8935 - val_loss: 0.2254 - val_accuracy: 0.9115\n",
            "Epoch 81/1000\n",
            "84/84 [==============================] - 0s 3ms/step - loss: 0.2663 - accuracy: 0.8931 - val_loss: 0.2255 - val_accuracy: 0.9160\n",
            "Epoch 82/1000\n",
            "84/84 [==============================] - 0s 3ms/step - loss: 0.2660 - accuracy: 0.8961 - val_loss: 0.2266 - val_accuracy: 0.9145\n",
            "Epoch 83/1000\n",
            "84/84 [==============================] - 0s 2ms/step - loss: 0.2651 - accuracy: 0.8938 - val_loss: 0.2226 - val_accuracy: 0.9160\n",
            "Epoch 84/1000\n",
            "84/84 [==============================] - 0s 3ms/step - loss: 0.2637 - accuracy: 0.8953 - val_loss: 0.2224 - val_accuracy: 0.9145\n",
            "Epoch 85/1000\n",
            "84/84 [==============================] - 0s 3ms/step - loss: 0.2632 - accuracy: 0.8965 - val_loss: 0.2215 - val_accuracy: 0.9130\n",
            "Epoch 86/1000\n",
            "84/84 [==============================] - 0s 2ms/step - loss: 0.2631 - accuracy: 0.8935 - val_loss: 0.2228 - val_accuracy: 0.9145\n",
            "Epoch 87/1000\n",
            "84/84 [==============================] - 0s 3ms/step - loss: 0.2623 - accuracy: 0.8950 - val_loss: 0.2211 - val_accuracy: 0.9160\n",
            "Epoch 88/1000\n",
            "84/84 [==============================] - 0s 3ms/step - loss: 0.2615 - accuracy: 0.8976 - val_loss: 0.2197 - val_accuracy: 0.9145\n",
            "Epoch 89/1000\n",
            "84/84 [==============================] - 0s 2ms/step - loss: 0.2608 - accuracy: 0.8980 - val_loss: 0.2191 - val_accuracy: 0.9130\n",
            "Epoch 90/1000\n",
            "84/84 [==============================] - 0s 3ms/step - loss: 0.2606 - accuracy: 0.8965 - val_loss: 0.2181 - val_accuracy: 0.9160\n",
            "Epoch 91/1000\n",
            "84/84 [==============================] - 0s 3ms/step - loss: 0.2603 - accuracy: 0.8968 - val_loss: 0.2201 - val_accuracy: 0.9145\n",
            "Epoch 92/1000\n",
            "84/84 [==============================] - 0s 3ms/step - loss: 0.2595 - accuracy: 0.8968 - val_loss: 0.2183 - val_accuracy: 0.9145\n",
            "Epoch 93/1000\n",
            "84/84 [==============================] - 0s 3ms/step - loss: 0.2596 - accuracy: 0.8972 - val_loss: 0.2166 - val_accuracy: 0.9130\n",
            "Epoch 94/1000\n",
            "84/84 [==============================] - 0s 3ms/step - loss: 0.2614 - accuracy: 0.8953 - val_loss: 0.2191 - val_accuracy: 0.9160\n",
            "Epoch 95/1000\n",
            "84/84 [==============================] - 0s 3ms/step - loss: 0.2585 - accuracy: 0.8987 - val_loss: 0.2159 - val_accuracy: 0.9130\n",
            "Epoch 96/1000\n",
            "84/84 [==============================] - 0s 3ms/step - loss: 0.2572 - accuracy: 0.8972 - val_loss: 0.2180 - val_accuracy: 0.9145\n",
            "Epoch 97/1000\n",
            "84/84 [==============================] - 0s 3ms/step - loss: 0.2561 - accuracy: 0.8972 - val_loss: 0.2148 - val_accuracy: 0.9160\n",
            "Epoch 98/1000\n",
            "84/84 [==============================] - 0s 3ms/step - loss: 0.2564 - accuracy: 0.8995 - val_loss: 0.2149 - val_accuracy: 0.9130\n",
            "Epoch 99/1000\n",
            "84/84 [==============================] - 0s 3ms/step - loss: 0.2553 - accuracy: 0.8998 - val_loss: 0.2150 - val_accuracy: 0.9160\n",
            "Epoch 100/1000\n",
            "84/84 [==============================] - 0s 2ms/step - loss: 0.2552 - accuracy: 0.9017 - val_loss: 0.2132 - val_accuracy: 0.9175\n",
            "Epoch 101/1000\n",
            "84/84 [==============================] - 0s 3ms/step - loss: 0.2541 - accuracy: 0.9017 - val_loss: 0.2180 - val_accuracy: 0.9160\n",
            "Epoch 102/1000\n",
            "84/84 [==============================] - 0s 3ms/step - loss: 0.2544 - accuracy: 0.9032 - val_loss: 0.2122 - val_accuracy: 0.9130\n",
            "Epoch 103/1000\n",
            "84/84 [==============================] - 0s 3ms/step - loss: 0.2540 - accuracy: 0.9025 - val_loss: 0.2121 - val_accuracy: 0.9130\n",
            "Epoch 104/1000\n",
            "84/84 [==============================] - 0s 3ms/step - loss: 0.2539 - accuracy: 0.9021 - val_loss: 0.2117 - val_accuracy: 0.9190\n",
            "Epoch 105/1000\n",
            "84/84 [==============================] - 0s 3ms/step - loss: 0.2528 - accuracy: 0.9025 - val_loss: 0.2122 - val_accuracy: 0.9175\n",
            "Epoch 106/1000\n",
            "84/84 [==============================] - 0s 3ms/step - loss: 0.2529 - accuracy: 0.9025 - val_loss: 0.2104 - val_accuracy: 0.9205\n",
            "Epoch 107/1000\n",
            "84/84 [==============================] - 0s 2ms/step - loss: 0.2522 - accuracy: 0.9062 - val_loss: 0.2098 - val_accuracy: 0.9190\n",
            "Epoch 108/1000\n",
            "84/84 [==============================] - 0s 2ms/step - loss: 0.2520 - accuracy: 0.9029 - val_loss: 0.2108 - val_accuracy: 0.9190\n",
            "Epoch 109/1000\n",
            "84/84 [==============================] - 0s 3ms/step - loss: 0.2528 - accuracy: 0.9021 - val_loss: 0.2093 - val_accuracy: 0.9190\n",
            "Epoch 110/1000\n",
            "84/84 [==============================] - 0s 3ms/step - loss: 0.2515 - accuracy: 0.9044 - val_loss: 0.2087 - val_accuracy: 0.9205\n",
            "Epoch 111/1000\n",
            "84/84 [==============================] - 0s 2ms/step - loss: 0.2515 - accuracy: 0.9029 - val_loss: 0.2085 - val_accuracy: 0.9145\n",
            "Epoch 112/1000\n",
            "84/84 [==============================] - 0s 3ms/step - loss: 0.2507 - accuracy: 0.9036 - val_loss: 0.2085 - val_accuracy: 0.9190\n",
            "Epoch 113/1000\n",
            "84/84 [==============================] - 0s 3ms/step - loss: 0.2502 - accuracy: 0.9044 - val_loss: 0.2082 - val_accuracy: 0.9190\n",
            "Epoch 114/1000\n",
            "84/84 [==============================] - 0s 2ms/step - loss: 0.2501 - accuracy: 0.9059 - val_loss: 0.2074 - val_accuracy: 0.9190\n",
            "Epoch 115/1000\n",
            "84/84 [==============================] - 0s 3ms/step - loss: 0.2496 - accuracy: 0.9066 - val_loss: 0.2066 - val_accuracy: 0.9190\n",
            "Epoch 116/1000\n",
            "84/84 [==============================] - 0s 3ms/step - loss: 0.2483 - accuracy: 0.9047 - val_loss: 0.2078 - val_accuracy: 0.9145\n",
            "Epoch 117/1000\n",
            "84/84 [==============================] - 0s 3ms/step - loss: 0.2487 - accuracy: 0.9077 - val_loss: 0.2087 - val_accuracy: 0.9160\n",
            "Epoch 118/1000\n",
            "84/84 [==============================] - 0s 3ms/step - loss: 0.2490 - accuracy: 0.9070 - val_loss: 0.2053 - val_accuracy: 0.9205\n",
            "Epoch 119/1000\n",
            "84/84 [==============================] - 0s 2ms/step - loss: 0.2476 - accuracy: 0.9077 - val_loss: 0.2057 - val_accuracy: 0.9130\n",
            "Epoch 120/1000\n",
            "84/84 [==============================] - 0s 3ms/step - loss: 0.2482 - accuracy: 0.9040 - val_loss: 0.2056 - val_accuracy: 0.9175\n",
            "Epoch 121/1000\n",
            "84/84 [==============================] - 0s 3ms/step - loss: 0.2473 - accuracy: 0.9085 - val_loss: 0.2047 - val_accuracy: 0.9160\n",
            "Epoch 122/1000\n",
            "84/84 [==============================] - 0s 3ms/step - loss: 0.2478 - accuracy: 0.9055 - val_loss: 0.2041 - val_accuracy: 0.9220\n",
            "Epoch 123/1000\n",
            "84/84 [==============================] - 0s 3ms/step - loss: 0.2465 - accuracy: 0.9077 - val_loss: 0.2038 - val_accuracy: 0.9205\n",
            "Epoch 124/1000\n",
            "84/84 [==============================] - 0s 3ms/step - loss: 0.2464 - accuracy: 0.9089 - val_loss: 0.2033 - val_accuracy: 0.9235\n",
            "Epoch 125/1000\n",
            "84/84 [==============================] - 0s 3ms/step - loss: 0.2467 - accuracy: 0.9077 - val_loss: 0.2028 - val_accuracy: 0.9160\n",
            "Epoch 126/1000\n",
            "84/84 [==============================] - 0s 2ms/step - loss: 0.2466 - accuracy: 0.9089 - val_loss: 0.2023 - val_accuracy: 0.9235\n",
            "Epoch 127/1000\n",
            "84/84 [==============================] - 0s 3ms/step - loss: 0.2459 - accuracy: 0.9074 - val_loss: 0.2030 - val_accuracy: 0.9175\n",
            "Epoch 128/1000\n",
            "84/84 [==============================] - 0s 2ms/step - loss: 0.2463 - accuracy: 0.9066 - val_loss: 0.2021 - val_accuracy: 0.9190\n",
            "Epoch 129/1000\n",
            "84/84 [==============================] - 0s 3ms/step - loss: 0.2460 - accuracy: 0.9081 - val_loss: 0.2014 - val_accuracy: 0.9175\n",
            "Epoch 130/1000\n",
            "84/84 [==============================] - 0s 3ms/step - loss: 0.2454 - accuracy: 0.9055 - val_loss: 0.2020 - val_accuracy: 0.9160\n",
            "Epoch 131/1000\n",
            "84/84 [==============================] - 0s 3ms/step - loss: 0.2452 - accuracy: 0.9081 - val_loss: 0.2014 - val_accuracy: 0.9190\n",
            "Epoch 132/1000\n",
            "84/84 [==============================] - 0s 3ms/step - loss: 0.2444 - accuracy: 0.9089 - val_loss: 0.2014 - val_accuracy: 0.9175\n",
            "Epoch 133/1000\n",
            "84/84 [==============================] - 0s 2ms/step - loss: 0.2438 - accuracy: 0.9062 - val_loss: 0.2022 - val_accuracy: 0.9175\n",
            "Epoch 134/1000\n",
            "84/84 [==============================] - 0s 3ms/step - loss: 0.2447 - accuracy: 0.9085 - val_loss: 0.2002 - val_accuracy: 0.9175\n",
            "Epoch 135/1000\n",
            "84/84 [==============================] - 0s 3ms/step - loss: 0.2438 - accuracy: 0.9074 - val_loss: 0.2001 - val_accuracy: 0.9190\n",
            "Epoch 136/1000\n",
            "84/84 [==============================] - 0s 3ms/step - loss: 0.2448 - accuracy: 0.9062 - val_loss: 0.1999 - val_accuracy: 0.9175\n",
            "Epoch 137/1000\n",
            "84/84 [==============================] - 0s 3ms/step - loss: 0.2434 - accuracy: 0.9074 - val_loss: 0.1993 - val_accuracy: 0.9235\n",
            "Epoch 138/1000\n",
            "84/84 [==============================] - 0s 3ms/step - loss: 0.2430 - accuracy: 0.9089 - val_loss: 0.1987 - val_accuracy: 0.9220\n",
            "Epoch 139/1000\n",
            "84/84 [==============================] - 0s 3ms/step - loss: 0.2426 - accuracy: 0.9081 - val_loss: 0.1983 - val_accuracy: 0.9190\n",
            "Epoch 140/1000\n",
            "84/84 [==============================] - 0s 3ms/step - loss: 0.2435 - accuracy: 0.9126 - val_loss: 0.1985 - val_accuracy: 0.9250\n",
            "Epoch 141/1000\n",
            "84/84 [==============================] - 0s 3ms/step - loss: 0.2425 - accuracy: 0.9096 - val_loss: 0.1982 - val_accuracy: 0.9250\n",
            "Epoch 142/1000\n",
            "84/84 [==============================] - 0s 3ms/step - loss: 0.2427 - accuracy: 0.9100 - val_loss: 0.1983 - val_accuracy: 0.9175\n",
            "Epoch 143/1000\n",
            "84/84 [==============================] - 0s 3ms/step - loss: 0.2417 - accuracy: 0.9081 - val_loss: 0.1978 - val_accuracy: 0.9205\n",
            "Epoch 144/1000\n",
            "84/84 [==============================] - 0s 3ms/step - loss: 0.2425 - accuracy: 0.9096 - val_loss: 0.1969 - val_accuracy: 0.9265\n",
            "Epoch 145/1000\n",
            "84/84 [==============================] - 0s 3ms/step - loss: 0.2416 - accuracy: 0.9089 - val_loss: 0.1968 - val_accuracy: 0.9250\n",
            "Epoch 146/1000\n",
            "84/84 [==============================] - 0s 3ms/step - loss: 0.2428 - accuracy: 0.9089 - val_loss: 0.1999 - val_accuracy: 0.9190\n",
            "Epoch 147/1000\n",
            "84/84 [==============================] - 0s 3ms/step - loss: 0.2427 - accuracy: 0.9111 - val_loss: 0.1961 - val_accuracy: 0.9235\n",
            "Epoch 148/1000\n",
            "84/84 [==============================] - 0s 3ms/step - loss: 0.2410 - accuracy: 0.9115 - val_loss: 0.1969 - val_accuracy: 0.9220\n",
            "Epoch 149/1000\n",
            "84/84 [==============================] - 0s 3ms/step - loss: 0.2410 - accuracy: 0.9092 - val_loss: 0.1961 - val_accuracy: 0.9280\n",
            "Epoch 150/1000\n",
            "84/84 [==============================] - 0s 3ms/step - loss: 0.2426 - accuracy: 0.9070 - val_loss: 0.1953 - val_accuracy: 0.9205\n",
            "Epoch 151/1000\n",
            "84/84 [==============================] - 0s 3ms/step - loss: 0.2419 - accuracy: 0.9107 - val_loss: 0.1952 - val_accuracy: 0.9250\n",
            "Epoch 152/1000\n",
            "84/84 [==============================] - 0s 3ms/step - loss: 0.2404 - accuracy: 0.9092 - val_loss: 0.1947 - val_accuracy: 0.9280\n",
            "Epoch 153/1000\n",
            "84/84 [==============================] - 0s 3ms/step - loss: 0.2415 - accuracy: 0.9100 - val_loss: 0.1959 - val_accuracy: 0.9205\n",
            "Epoch 154/1000\n",
            "84/84 [==============================] - 0s 3ms/step - loss: 0.2417 - accuracy: 0.9104 - val_loss: 0.1946 - val_accuracy: 0.9220\n",
            "Epoch 155/1000\n",
            "84/84 [==============================] - 0s 3ms/step - loss: 0.2402 - accuracy: 0.9107 - val_loss: 0.1976 - val_accuracy: 0.9205\n",
            "Epoch 156/1000\n",
            "84/84 [==============================] - 0s 3ms/step - loss: 0.2396 - accuracy: 0.9100 - val_loss: 0.1974 - val_accuracy: 0.9205\n",
            "Epoch 157/1000\n",
            "84/84 [==============================] - 0s 3ms/step - loss: 0.2407 - accuracy: 0.9100 - val_loss: 0.1943 - val_accuracy: 0.9235\n",
            "Epoch 158/1000\n",
            "84/84 [==============================] - 0s 3ms/step - loss: 0.2397 - accuracy: 0.9122 - val_loss: 0.1933 - val_accuracy: 0.9265\n",
            "Epoch 159/1000\n",
            "84/84 [==============================] - 0s 3ms/step - loss: 0.2397 - accuracy: 0.9130 - val_loss: 0.1930 - val_accuracy: 0.9250\n",
            "Epoch 160/1000\n",
            "84/84 [==============================] - 0s 2ms/step - loss: 0.2391 - accuracy: 0.9119 - val_loss: 0.1934 - val_accuracy: 0.9250\n",
            "Epoch 161/1000\n",
            "84/84 [==============================] - 0s 3ms/step - loss: 0.2394 - accuracy: 0.9096 - val_loss: 0.1926 - val_accuracy: 0.9250\n",
            "Epoch 162/1000\n",
            "84/84 [==============================] - 0s 3ms/step - loss: 0.2385 - accuracy: 0.9126 - val_loss: 0.1919 - val_accuracy: 0.9280\n",
            "Epoch 163/1000\n",
            "84/84 [==============================] - 0s 3ms/step - loss: 0.2389 - accuracy: 0.9115 - val_loss: 0.1960 - val_accuracy: 0.9190\n",
            "Epoch 164/1000\n",
            "84/84 [==============================] - 0s 3ms/step - loss: 0.2390 - accuracy: 0.9122 - val_loss: 0.1913 - val_accuracy: 0.9280\n",
            "Epoch 165/1000\n",
            "84/84 [==============================] - 0s 3ms/step - loss: 0.2385 - accuracy: 0.9092 - val_loss: 0.1910 - val_accuracy: 0.9280\n",
            "Epoch 166/1000\n",
            "84/84 [==============================] - 0s 3ms/step - loss: 0.2392 - accuracy: 0.9107 - val_loss: 0.1916 - val_accuracy: 0.9250\n",
            "Epoch 167/1000\n",
            "84/84 [==============================] - 0s 3ms/step - loss: 0.2391 - accuracy: 0.9119 - val_loss: 0.1910 - val_accuracy: 0.9265\n",
            "Epoch 168/1000\n",
            "84/84 [==============================] - 0s 3ms/step - loss: 0.2385 - accuracy: 0.9130 - val_loss: 0.1905 - val_accuracy: 0.9280\n",
            "Epoch 169/1000\n",
            "84/84 [==============================] - 0s 3ms/step - loss: 0.2385 - accuracy: 0.9092 - val_loss: 0.1912 - val_accuracy: 0.9250\n",
            "Epoch 170/1000\n",
            "84/84 [==============================] - 0s 3ms/step - loss: 0.2383 - accuracy: 0.9126 - val_loss: 0.1904 - val_accuracy: 0.9250\n",
            "Epoch 171/1000\n",
            "84/84 [==============================] - 0s 3ms/step - loss: 0.2375 - accuracy: 0.9122 - val_loss: 0.1907 - val_accuracy: 0.9235\n",
            "Epoch 172/1000\n",
            "84/84 [==============================] - 0s 3ms/step - loss: 0.2375 - accuracy: 0.9137 - val_loss: 0.1904 - val_accuracy: 0.9250\n",
            "Epoch 173/1000\n",
            "84/84 [==============================] - 0s 3ms/step - loss: 0.2373 - accuracy: 0.9119 - val_loss: 0.1902 - val_accuracy: 0.9250\n",
            "Epoch 174/1000\n",
            "84/84 [==============================] - 0s 3ms/step - loss: 0.2376 - accuracy: 0.9115 - val_loss: 0.1903 - val_accuracy: 0.9265\n",
            "Epoch 175/1000\n",
            "84/84 [==============================] - 0s 3ms/step - loss: 0.2372 - accuracy: 0.9122 - val_loss: 0.1904 - val_accuracy: 0.9250\n",
            "Epoch 176/1000\n",
            "84/84 [==============================] - 0s 3ms/step - loss: 0.2368 - accuracy: 0.9137 - val_loss: 0.1899 - val_accuracy: 0.9235\n",
            "Epoch 177/1000\n",
            "84/84 [==============================] - 0s 3ms/step - loss: 0.2371 - accuracy: 0.9126 - val_loss: 0.1908 - val_accuracy: 0.9280\n",
            "Epoch 178/1000\n",
            "84/84 [==============================] - 0s 3ms/step - loss: 0.2368 - accuracy: 0.9107 - val_loss: 0.1895 - val_accuracy: 0.9265\n",
            "Epoch 179/1000\n",
            "84/84 [==============================] - 0s 2ms/step - loss: 0.2372 - accuracy: 0.9122 - val_loss: 0.1914 - val_accuracy: 0.9235\n",
            "Epoch 180/1000\n",
            "84/84 [==============================] - 0s 3ms/step - loss: 0.2365 - accuracy: 0.9126 - val_loss: 0.1888 - val_accuracy: 0.9235\n",
            "Epoch 181/1000\n",
            "84/84 [==============================] - 0s 2ms/step - loss: 0.2373 - accuracy: 0.9115 - val_loss: 0.1888 - val_accuracy: 0.9250\n",
            "Epoch 182/1000\n",
            "84/84 [==============================] - 0s 3ms/step - loss: 0.2363 - accuracy: 0.9107 - val_loss: 0.1894 - val_accuracy: 0.9235\n",
            "Epoch 183/1000\n",
            "84/84 [==============================] - 0s 3ms/step - loss: 0.2362 - accuracy: 0.9160 - val_loss: 0.1882 - val_accuracy: 0.9235\n",
            "Epoch 184/1000\n",
            "84/84 [==============================] - 0s 3ms/step - loss: 0.2374 - accuracy: 0.9119 - val_loss: 0.1876 - val_accuracy: 0.9265\n",
            "Epoch 185/1000\n",
            "84/84 [==============================] - 0s 3ms/step - loss: 0.2362 - accuracy: 0.9115 - val_loss: 0.1878 - val_accuracy: 0.9235\n",
            "Epoch 186/1000\n",
            "84/84 [==============================] - 0s 2ms/step - loss: 0.2358 - accuracy: 0.9119 - val_loss: 0.1879 - val_accuracy: 0.9235\n",
            "Epoch 187/1000\n",
            "84/84 [==============================] - 0s 3ms/step - loss: 0.2358 - accuracy: 0.9119 - val_loss: 0.1891 - val_accuracy: 0.9235\n",
            "Epoch 188/1000\n",
            "84/84 [==============================] - 0s 3ms/step - loss: 0.2359 - accuracy: 0.9119 - val_loss: 0.1881 - val_accuracy: 0.9250\n",
            "Epoch 189/1000\n",
            "84/84 [==============================] - 0s 3ms/step - loss: 0.2355 - accuracy: 0.9130 - val_loss: 0.1882 - val_accuracy: 0.9235\n",
            "Epoch 190/1000\n",
            "84/84 [==============================] - 0s 3ms/step - loss: 0.2357 - accuracy: 0.9145 - val_loss: 0.1920 - val_accuracy: 0.9250\n",
            "Epoch 191/1000\n",
            "84/84 [==============================] - 0s 3ms/step - loss: 0.2345 - accuracy: 0.9134 - val_loss: 0.1892 - val_accuracy: 0.9220\n",
            "Epoch 192/1000\n",
            "84/84 [==============================] - 0s 3ms/step - loss: 0.2361 - accuracy: 0.9141 - val_loss: 0.1874 - val_accuracy: 0.9235\n",
            "Epoch 193/1000\n",
            "84/84 [==============================] - 0s 3ms/step - loss: 0.2350 - accuracy: 0.9126 - val_loss: 0.1867 - val_accuracy: 0.9265\n",
            "Epoch 194/1000\n",
            "84/84 [==============================] - 0s 3ms/step - loss: 0.2343 - accuracy: 0.9182 - val_loss: 0.1876 - val_accuracy: 0.9250\n",
            "Epoch 195/1000\n",
            "84/84 [==============================] - 0s 3ms/step - loss: 0.2342 - accuracy: 0.9149 - val_loss: 0.1876 - val_accuracy: 0.9235\n",
            "Epoch 196/1000\n",
            "84/84 [==============================] - 0s 3ms/step - loss: 0.2323 - accuracy: 0.9186 - val_loss: 0.1916 - val_accuracy: 0.9220\n",
            "Epoch 197/1000\n",
            "84/84 [==============================] - 0s 3ms/step - loss: 0.2340 - accuracy: 0.9111 - val_loss: 0.1913 - val_accuracy: 0.9250\n",
            "Epoch 198/1000\n",
            "84/84 [==============================] - 0s 3ms/step - loss: 0.2354 - accuracy: 0.9149 - val_loss: 0.1880 - val_accuracy: 0.9175\n",
            "Epoch 199/1000\n",
            "84/84 [==============================] - 0s 3ms/step - loss: 0.2341 - accuracy: 0.9104 - val_loss: 0.1868 - val_accuracy: 0.9265\n",
            "Epoch 200/1000\n",
            "84/84 [==============================] - 0s 3ms/step - loss: 0.2339 - accuracy: 0.9164 - val_loss: 0.1879 - val_accuracy: 0.9205\n",
            "Epoch 201/1000\n",
            "84/84 [==============================] - 0s 3ms/step - loss: 0.2337 - accuracy: 0.9152 - val_loss: 0.1867 - val_accuracy: 0.9250\n",
            "Epoch 202/1000\n",
            "84/84 [==============================] - 0s 3ms/step - loss: 0.2329 - accuracy: 0.9126 - val_loss: 0.1873 - val_accuracy: 0.9220\n",
            "Epoch 203/1000\n",
            "84/84 [==============================] - 0s 3ms/step - loss: 0.2337 - accuracy: 0.9126 - val_loss: 0.1864 - val_accuracy: 0.9250\n",
            "Epoch 204/1000\n",
            "84/84 [==============================] - 0s 3ms/step - loss: 0.2328 - accuracy: 0.9145 - val_loss: 0.1861 - val_accuracy: 0.9280\n",
            "Epoch 205/1000\n",
            "84/84 [==============================] - 0s 3ms/step - loss: 0.2317 - accuracy: 0.9171 - val_loss: 0.1866 - val_accuracy: 0.9265\n",
            "Epoch 206/1000\n",
            "84/84 [==============================] - 0s 2ms/step - loss: 0.2325 - accuracy: 0.9130 - val_loss: 0.1880 - val_accuracy: 0.9280\n",
            "Epoch 207/1000\n",
            "84/84 [==============================] - 0s 3ms/step - loss: 0.2328 - accuracy: 0.9152 - val_loss: 0.1865 - val_accuracy: 0.9280\n",
            "Epoch 208/1000\n",
            "84/84 [==============================] - 0s 3ms/step - loss: 0.2317 - accuracy: 0.9164 - val_loss: 0.1866 - val_accuracy: 0.9280\n",
            "Epoch 209/1000\n",
            "84/84 [==============================] - 0s 3ms/step - loss: 0.2318 - accuracy: 0.9167 - val_loss: 0.1867 - val_accuracy: 0.9280\n",
            "Epoch 210/1000\n",
            "84/84 [==============================] - 0s 3ms/step - loss: 0.2320 - accuracy: 0.9160 - val_loss: 0.1861 - val_accuracy: 0.9280\n",
            "Epoch 211/1000\n",
            "84/84 [==============================] - 0s 3ms/step - loss: 0.2319 - accuracy: 0.9186 - val_loss: 0.1873 - val_accuracy: 0.9280\n",
            "Epoch 212/1000\n",
            "84/84 [==============================] - 0s 3ms/step - loss: 0.2315 - accuracy: 0.9134 - val_loss: 0.1877 - val_accuracy: 0.9250\n",
            "Epoch 213/1000\n",
            "84/84 [==============================] - 0s 3ms/step - loss: 0.2331 - accuracy: 0.9167 - val_loss: 0.1861 - val_accuracy: 0.9265\n",
            "Epoch 214/1000\n",
            "84/84 [==============================] - 0s 3ms/step - loss: 0.2320 - accuracy: 0.9152 - val_loss: 0.1879 - val_accuracy: 0.9265\n",
            "Epoch 215/1000\n",
            "84/84 [==============================] - 0s 4ms/step - loss: 0.2306 - accuracy: 0.9182 - val_loss: 0.1862 - val_accuracy: 0.9265\n",
            "Epoch 216/1000\n",
            "84/84 [==============================] - 0s 5ms/step - loss: 0.2308 - accuracy: 0.9160 - val_loss: 0.1858 - val_accuracy: 0.9250\n",
            "Epoch 217/1000\n",
            "84/84 [==============================] - 0s 5ms/step - loss: 0.2311 - accuracy: 0.9197 - val_loss: 0.1865 - val_accuracy: 0.9250\n",
            "Epoch 218/1000\n",
            "84/84 [==============================] - 0s 4ms/step - loss: 0.2305 - accuracy: 0.9179 - val_loss: 0.1901 - val_accuracy: 0.9250\n",
            "Epoch 219/1000\n",
            "84/84 [==============================] - 0s 4ms/step - loss: 0.2304 - accuracy: 0.9145 - val_loss: 0.1864 - val_accuracy: 0.9265\n",
            "Epoch 220/1000\n",
            "84/84 [==============================] - 0s 4ms/step - loss: 0.2305 - accuracy: 0.9186 - val_loss: 0.1874 - val_accuracy: 0.9175\n",
            "Epoch 221/1000\n",
            "84/84 [==============================] - 0s 4ms/step - loss: 0.2303 - accuracy: 0.9179 - val_loss: 0.1871 - val_accuracy: 0.9265\n",
            "Epoch 222/1000\n",
            "84/84 [==============================] - 0s 5ms/step - loss: 0.2298 - accuracy: 0.9160 - val_loss: 0.1886 - val_accuracy: 0.9250\n",
            "Epoch 223/1000\n",
            "84/84 [==============================] - 0s 5ms/step - loss: 0.2319 - accuracy: 0.9145 - val_loss: 0.1865 - val_accuracy: 0.9205\n",
            "Epoch 224/1000\n",
            "84/84 [==============================] - 0s 4ms/step - loss: 0.2300 - accuracy: 0.9175 - val_loss: 0.1894 - val_accuracy: 0.9250\n",
            "Epoch 225/1000\n",
            "84/84 [==============================] - 0s 5ms/step - loss: 0.2304 - accuracy: 0.9160 - val_loss: 0.1843 - val_accuracy: 0.9310\n",
            "Epoch 226/1000\n",
            "84/84 [==============================] - 0s 4ms/step - loss: 0.2295 - accuracy: 0.9179 - val_loss: 0.1865 - val_accuracy: 0.9235\n",
            "Epoch 227/1000\n",
            "84/84 [==============================] - 0s 4ms/step - loss: 0.2294 - accuracy: 0.9164 - val_loss: 0.1851 - val_accuracy: 0.9295\n",
            "Epoch 228/1000\n",
            "84/84 [==============================] - 0s 5ms/step - loss: 0.2301 - accuracy: 0.9186 - val_loss: 0.1866 - val_accuracy: 0.9280\n",
            "Epoch 229/1000\n",
            "84/84 [==============================] - 0s 5ms/step - loss: 0.2296 - accuracy: 0.9197 - val_loss: 0.1845 - val_accuracy: 0.9295\n",
            "Epoch 230/1000\n",
            "84/84 [==============================] - 0s 5ms/step - loss: 0.2292 - accuracy: 0.9186 - val_loss: 0.1852 - val_accuracy: 0.9310\n",
            "Epoch 231/1000\n",
            "84/84 [==============================] - 0s 4ms/step - loss: 0.2293 - accuracy: 0.9205 - val_loss: 0.1860 - val_accuracy: 0.9205\n",
            "Epoch 232/1000\n",
            "84/84 [==============================] - 0s 4ms/step - loss: 0.2297 - accuracy: 0.9152 - val_loss: 0.1840 - val_accuracy: 0.9265\n",
            "Epoch 233/1000\n",
            "84/84 [==============================] - 0s 4ms/step - loss: 0.2293 - accuracy: 0.9190 - val_loss: 0.1858 - val_accuracy: 0.9280\n",
            "Epoch 234/1000\n",
            "84/84 [==============================] - 0s 3ms/step - loss: 0.2292 - accuracy: 0.9182 - val_loss: 0.1856 - val_accuracy: 0.9250\n",
            "Epoch 235/1000\n",
            "84/84 [==============================] - 0s 3ms/step - loss: 0.2287 - accuracy: 0.9179 - val_loss: 0.1833 - val_accuracy: 0.9295\n",
            "Epoch 236/1000\n",
            "84/84 [==============================] - 0s 3ms/step - loss: 0.2287 - accuracy: 0.9182 - val_loss: 0.1841 - val_accuracy: 0.9295\n",
            "Epoch 237/1000\n",
            "84/84 [==============================] - 0s 3ms/step - loss: 0.2295 - accuracy: 0.9182 - val_loss: 0.1850 - val_accuracy: 0.9265\n",
            "Epoch 238/1000\n",
            "84/84 [==============================] - 0s 3ms/step - loss: 0.2295 - accuracy: 0.9197 - val_loss: 0.1831 - val_accuracy: 0.9310\n",
            "Epoch 239/1000\n",
            "84/84 [==============================] - 0s 3ms/step - loss: 0.2286 - accuracy: 0.9194 - val_loss: 0.1834 - val_accuracy: 0.9265\n",
            "Epoch 240/1000\n",
            "84/84 [==============================] - 0s 3ms/step - loss: 0.2282 - accuracy: 0.9182 - val_loss: 0.1821 - val_accuracy: 0.9295\n",
            "Epoch 241/1000\n",
            "84/84 [==============================] - 0s 3ms/step - loss: 0.2279 - accuracy: 0.9201 - val_loss: 0.1832 - val_accuracy: 0.9235\n",
            "Epoch 242/1000\n",
            "84/84 [==============================] - 0s 3ms/step - loss: 0.2274 - accuracy: 0.9167 - val_loss: 0.1833 - val_accuracy: 0.9250\n",
            "Epoch 243/1000\n",
            "84/84 [==============================] - 0s 3ms/step - loss: 0.2277 - accuracy: 0.9224 - val_loss: 0.1824 - val_accuracy: 0.9295\n",
            "Epoch 244/1000\n",
            "84/84 [==============================] - 0s 3ms/step - loss: 0.2283 - accuracy: 0.9179 - val_loss: 0.1826 - val_accuracy: 0.9295\n",
            "Epoch 245/1000\n",
            "84/84 [==============================] - 0s 3ms/step - loss: 0.2275 - accuracy: 0.9197 - val_loss: 0.1827 - val_accuracy: 0.9280\n",
            "Epoch 246/1000\n",
            "84/84 [==============================] - 0s 2ms/step - loss: 0.2278 - accuracy: 0.9212 - val_loss: 0.1833 - val_accuracy: 0.9280\n",
            "Epoch 247/1000\n",
            "84/84 [==============================] - 0s 3ms/step - loss: 0.2257 - accuracy: 0.9201 - val_loss: 0.1871 - val_accuracy: 0.9280\n",
            "Epoch 248/1000\n",
            "84/84 [==============================] - 0s 3ms/step - loss: 0.2275 - accuracy: 0.9201 - val_loss: 0.1826 - val_accuracy: 0.9295\n",
            "Epoch 249/1000\n",
            "84/84 [==============================] - 0s 3ms/step - loss: 0.2264 - accuracy: 0.9179 - val_loss: 0.1820 - val_accuracy: 0.9295\n",
            "Epoch 250/1000\n",
            "84/84 [==============================] - 0s 3ms/step - loss: 0.2261 - accuracy: 0.9216 - val_loss: 0.1824 - val_accuracy: 0.9280\n",
            "Epoch 251/1000\n",
            "84/84 [==============================] - 0s 3ms/step - loss: 0.2272 - accuracy: 0.9186 - val_loss: 0.1819 - val_accuracy: 0.9325\n",
            "Epoch 252/1000\n",
            "84/84 [==============================] - 0s 3ms/step - loss: 0.2257 - accuracy: 0.9216 - val_loss: 0.1834 - val_accuracy: 0.9310\n",
            "Epoch 253/1000\n",
            "84/84 [==============================] - 0s 3ms/step - loss: 0.2265 - accuracy: 0.9197 - val_loss: 0.1815 - val_accuracy: 0.9310\n",
            "Epoch 254/1000\n",
            "84/84 [==============================] - 0s 3ms/step - loss: 0.2261 - accuracy: 0.9205 - val_loss: 0.1863 - val_accuracy: 0.9295\n",
            "Epoch 255/1000\n",
            "84/84 [==============================] - 0s 3ms/step - loss: 0.2249 - accuracy: 0.9197 - val_loss: 0.1876 - val_accuracy: 0.9310\n",
            "Epoch 256/1000\n",
            "84/84 [==============================] - 0s 3ms/step - loss: 0.2263 - accuracy: 0.9224 - val_loss: 0.1817 - val_accuracy: 0.9280\n",
            "Epoch 257/1000\n",
            "84/84 [==============================] - 0s 3ms/step - loss: 0.2256 - accuracy: 0.9194 - val_loss: 0.1813 - val_accuracy: 0.9250\n",
            "Epoch 258/1000\n",
            "84/84 [==============================] - 0s 3ms/step - loss: 0.2268 - accuracy: 0.9216 - val_loss: 0.1815 - val_accuracy: 0.9250\n",
            "Epoch 259/1000\n",
            "84/84 [==============================] - 0s 3ms/step - loss: 0.2260 - accuracy: 0.9209 - val_loss: 0.1835 - val_accuracy: 0.9310\n",
            "Epoch 260/1000\n",
            "84/84 [==============================] - 0s 3ms/step - loss: 0.2255 - accuracy: 0.9212 - val_loss: 0.1815 - val_accuracy: 0.9310\n",
            "Epoch 261/1000\n",
            "84/84 [==============================] - 0s 3ms/step - loss: 0.2256 - accuracy: 0.9194 - val_loss: 0.1811 - val_accuracy: 0.9295\n",
            "Epoch 262/1000\n",
            "84/84 [==============================] - 0s 3ms/step - loss: 0.2252 - accuracy: 0.9175 - val_loss: 0.1801 - val_accuracy: 0.9355\n",
            "Epoch 263/1000\n",
            "84/84 [==============================] - 0s 3ms/step - loss: 0.2254 - accuracy: 0.9216 - val_loss: 0.1809 - val_accuracy: 0.9295\n",
            "Epoch 264/1000\n",
            "84/84 [==============================] - 0s 3ms/step - loss: 0.2247 - accuracy: 0.9205 - val_loss: 0.1815 - val_accuracy: 0.9280\n",
            "Epoch 265/1000\n",
            "84/84 [==============================] - 0s 3ms/step - loss: 0.2249 - accuracy: 0.9220 - val_loss: 0.1807 - val_accuracy: 0.9325\n",
            "Epoch 266/1000\n",
            "84/84 [==============================] - 0s 2ms/step - loss: 0.2253 - accuracy: 0.9205 - val_loss: 0.1841 - val_accuracy: 0.9265\n",
            "Epoch 267/1000\n",
            "84/84 [==============================] - 0s 3ms/step - loss: 0.2254 - accuracy: 0.9201 - val_loss: 0.1823 - val_accuracy: 0.9250\n",
            "Epoch 268/1000\n",
            "84/84 [==============================] - 0s 3ms/step - loss: 0.2256 - accuracy: 0.9220 - val_loss: 0.1825 - val_accuracy: 0.9325\n",
            "Epoch 269/1000\n",
            "84/84 [==============================] - 0s 3ms/step - loss: 0.2243 - accuracy: 0.9231 - val_loss: 0.1794 - val_accuracy: 0.9235\n",
            "Epoch 270/1000\n",
            "84/84 [==============================] - 0s 3ms/step - loss: 0.2239 - accuracy: 0.9246 - val_loss: 0.1800 - val_accuracy: 0.9310\n",
            "Epoch 271/1000\n",
            "84/84 [==============================] - 0s 3ms/step - loss: 0.2236 - accuracy: 0.9239 - val_loss: 0.1795 - val_accuracy: 0.9280\n",
            "Epoch 272/1000\n",
            "84/84 [==============================] - 0s 3ms/step - loss: 0.2254 - accuracy: 0.9224 - val_loss: 0.1818 - val_accuracy: 0.9280\n",
            "Epoch 273/1000\n",
            "84/84 [==============================] - 0s 3ms/step - loss: 0.2245 - accuracy: 0.9224 - val_loss: 0.1803 - val_accuracy: 0.9295\n",
            "Epoch 274/1000\n",
            "84/84 [==============================] - 0s 3ms/step - loss: 0.2234 - accuracy: 0.9239 - val_loss: 0.1809 - val_accuracy: 0.9295\n",
            "Epoch 275/1000\n",
            "84/84 [==============================] - 0s 3ms/step - loss: 0.2253 - accuracy: 0.9209 - val_loss: 0.1808 - val_accuracy: 0.9280\n",
            "Epoch 276/1000\n",
            "84/84 [==============================] - 0s 3ms/step - loss: 0.2229 - accuracy: 0.9216 - val_loss: 0.1791 - val_accuracy: 0.9295\n",
            "Epoch 277/1000\n",
            "84/84 [==============================] - 0s 3ms/step - loss: 0.2228 - accuracy: 0.9272 - val_loss: 0.1805 - val_accuracy: 0.9280\n",
            "Epoch 278/1000\n",
            "84/84 [==============================] - 0s 3ms/step - loss: 0.2229 - accuracy: 0.9250 - val_loss: 0.1799 - val_accuracy: 0.9310\n",
            "Epoch 279/1000\n",
            "84/84 [==============================] - 0s 2ms/step - loss: 0.2228 - accuracy: 0.9239 - val_loss: 0.1796 - val_accuracy: 0.9325\n",
            "Epoch 280/1000\n",
            "84/84 [==============================] - 0s 3ms/step - loss: 0.2240 - accuracy: 0.9227 - val_loss: 0.1814 - val_accuracy: 0.9280\n",
            "Epoch 281/1000\n",
            "84/84 [==============================] - 0s 3ms/step - loss: 0.2235 - accuracy: 0.9220 - val_loss: 0.1834 - val_accuracy: 0.9325\n",
            "Epoch 282/1000\n",
            "84/84 [==============================] - 0s 3ms/step - loss: 0.2231 - accuracy: 0.9246 - val_loss: 0.1818 - val_accuracy: 0.9235\n",
            "Epoch 283/1000\n",
            "84/84 [==============================] - 0s 3ms/step - loss: 0.2219 - accuracy: 0.9242 - val_loss: 0.1808 - val_accuracy: 0.9295\n",
            "Epoch 284/1000\n",
            "84/84 [==============================] - 0s 3ms/step - loss: 0.2240 - accuracy: 0.9209 - val_loss: 0.1838 - val_accuracy: 0.9295\n",
            "Epoch 285/1000\n",
            "84/84 [==============================] - 0s 3ms/step - loss: 0.2224 - accuracy: 0.9246 - val_loss: 0.1781 - val_accuracy: 0.9310\n",
            "Epoch 286/1000\n",
            "84/84 [==============================] - 0s 3ms/step - loss: 0.2223 - accuracy: 0.9239 - val_loss: 0.1794 - val_accuracy: 0.9250\n",
            "Epoch 287/1000\n",
            "84/84 [==============================] - 0s 3ms/step - loss: 0.2230 - accuracy: 0.9231 - val_loss: 0.1787 - val_accuracy: 0.9325\n",
            "Epoch 288/1000\n",
            "84/84 [==============================] - 0s 3ms/step - loss: 0.2215 - accuracy: 0.9250 - val_loss: 0.1793 - val_accuracy: 0.9310\n",
            "Epoch 289/1000\n",
            "84/84 [==============================] - 0s 3ms/step - loss: 0.2217 - accuracy: 0.9205 - val_loss: 0.1793 - val_accuracy: 0.9310\n",
            "Epoch 290/1000\n",
            "84/84 [==============================] - 0s 3ms/step - loss: 0.2222 - accuracy: 0.9250 - val_loss: 0.1777 - val_accuracy: 0.9340\n",
            "Epoch 291/1000\n",
            "84/84 [==============================] - 0s 3ms/step - loss: 0.2222 - accuracy: 0.9231 - val_loss: 0.1779 - val_accuracy: 0.9325\n",
            "Epoch 292/1000\n",
            "84/84 [==============================] - 0s 3ms/step - loss: 0.2209 - accuracy: 0.9235 - val_loss: 0.1775 - val_accuracy: 0.9280\n",
            "Epoch 293/1000\n",
            "84/84 [==============================] - 0s 3ms/step - loss: 0.2216 - accuracy: 0.9242 - val_loss: 0.1782 - val_accuracy: 0.9325\n",
            "Epoch 294/1000\n",
            "84/84 [==============================] - 0s 3ms/step - loss: 0.2210 - accuracy: 0.9250 - val_loss: 0.1788 - val_accuracy: 0.9340\n",
            "Epoch 295/1000\n",
            "84/84 [==============================] - 0s 3ms/step - loss: 0.2202 - accuracy: 0.9242 - val_loss: 0.1785 - val_accuracy: 0.9310\n",
            "Epoch 296/1000\n",
            "84/84 [==============================] - 0s 3ms/step - loss: 0.2202 - accuracy: 0.9216 - val_loss: 0.1777 - val_accuracy: 0.9310\n",
            "Epoch 297/1000\n",
            "84/84 [==============================] - 0s 3ms/step - loss: 0.2204 - accuracy: 0.9265 - val_loss: 0.1785 - val_accuracy: 0.9340\n",
            "Epoch 298/1000\n",
            "84/84 [==============================] - 0s 3ms/step - loss: 0.2203 - accuracy: 0.9250 - val_loss: 0.1777 - val_accuracy: 0.9355\n",
            "Epoch 299/1000\n",
            "84/84 [==============================] - 0s 3ms/step - loss: 0.2210 - accuracy: 0.9239 - val_loss: 0.1810 - val_accuracy: 0.9310\n",
            "Epoch 300/1000\n",
            "84/84 [==============================] - 0s 3ms/step - loss: 0.2201 - accuracy: 0.9254 - val_loss: 0.1771 - val_accuracy: 0.9310\n",
            "Epoch 301/1000\n",
            "84/84 [==============================] - 0s 3ms/step - loss: 0.2193 - accuracy: 0.9261 - val_loss: 0.1770 - val_accuracy: 0.9325\n",
            "Epoch 302/1000\n",
            "84/84 [==============================] - 0s 3ms/step - loss: 0.2199 - accuracy: 0.9235 - val_loss: 0.1766 - val_accuracy: 0.9355\n",
            "Epoch 303/1000\n",
            "84/84 [==============================] - 0s 3ms/step - loss: 0.2194 - accuracy: 0.9242 - val_loss: 0.1770 - val_accuracy: 0.9325\n",
            "Epoch 304/1000\n",
            "84/84 [==============================] - 0s 3ms/step - loss: 0.2192 - accuracy: 0.9272 - val_loss: 0.1769 - val_accuracy: 0.9355\n",
            "Epoch 305/1000\n",
            "84/84 [==============================] - 0s 3ms/step - loss: 0.2191 - accuracy: 0.9254 - val_loss: 0.1766 - val_accuracy: 0.9325\n",
            "Epoch 306/1000\n",
            "84/84 [==============================] - 0s 3ms/step - loss: 0.2191 - accuracy: 0.9250 - val_loss: 0.1790 - val_accuracy: 0.9325\n",
            "Epoch 307/1000\n",
            "84/84 [==============================] - 0s 3ms/step - loss: 0.2181 - accuracy: 0.9291 - val_loss: 0.1755 - val_accuracy: 0.9325\n",
            "Epoch 308/1000\n",
            "84/84 [==============================] - 0s 3ms/step - loss: 0.2198 - accuracy: 0.9220 - val_loss: 0.1749 - val_accuracy: 0.9355\n",
            "Epoch 309/1000\n",
            "84/84 [==============================] - 0s 3ms/step - loss: 0.2187 - accuracy: 0.9246 - val_loss: 0.1793 - val_accuracy: 0.9265\n",
            "Epoch 310/1000\n",
            "84/84 [==============================] - 0s 3ms/step - loss: 0.2184 - accuracy: 0.9284 - val_loss: 0.1754 - val_accuracy: 0.9295\n",
            "Epoch 311/1000\n",
            "84/84 [==============================] - 0s 3ms/step - loss: 0.2182 - accuracy: 0.9265 - val_loss: 0.1753 - val_accuracy: 0.9340\n",
            "Epoch 312/1000\n",
            "84/84 [==============================] - 0s 3ms/step - loss: 0.2187 - accuracy: 0.9280 - val_loss: 0.1752 - val_accuracy: 0.9310\n",
            "Epoch 313/1000\n",
            "84/84 [==============================] - 0s 3ms/step - loss: 0.2178 - accuracy: 0.9272 - val_loss: 0.1775 - val_accuracy: 0.9280\n",
            "Epoch 314/1000\n",
            "84/84 [==============================] - 0s 4ms/step - loss: 0.2175 - accuracy: 0.9257 - val_loss: 0.1759 - val_accuracy: 0.9355\n",
            "Epoch 315/1000\n",
            "84/84 [==============================] - 0s 3ms/step - loss: 0.2176 - accuracy: 0.9284 - val_loss: 0.1770 - val_accuracy: 0.9325\n",
            "Epoch 316/1000\n",
            "84/84 [==============================] - 0s 3ms/step - loss: 0.2195 - accuracy: 0.9265 - val_loss: 0.1751 - val_accuracy: 0.9355\n",
            "Epoch 317/1000\n",
            "84/84 [==============================] - 0s 3ms/step - loss: 0.2174 - accuracy: 0.9280 - val_loss: 0.1745 - val_accuracy: 0.9310\n",
            "Epoch 318/1000\n",
            "84/84 [==============================] - 0s 3ms/step - loss: 0.2206 - accuracy: 0.9242 - val_loss: 0.1745 - val_accuracy: 0.9370\n",
            "Epoch 319/1000\n",
            "84/84 [==============================] - 0s 3ms/step - loss: 0.2171 - accuracy: 0.9272 - val_loss: 0.1743 - val_accuracy: 0.9325\n",
            "Epoch 320/1000\n",
            "84/84 [==============================] - 0s 3ms/step - loss: 0.2174 - accuracy: 0.9250 - val_loss: 0.1750 - val_accuracy: 0.9370\n",
            "Epoch 321/1000\n",
            "84/84 [==============================] - 0s 3ms/step - loss: 0.2168 - accuracy: 0.9280 - val_loss: 0.1748 - val_accuracy: 0.9295\n",
            "Epoch 322/1000\n",
            "84/84 [==============================] - 0s 3ms/step - loss: 0.2177 - accuracy: 0.9272 - val_loss: 0.1739 - val_accuracy: 0.9325\n",
            "Epoch 323/1000\n",
            "84/84 [==============================] - 0s 3ms/step - loss: 0.2164 - accuracy: 0.9265 - val_loss: 0.1742 - val_accuracy: 0.9295\n",
            "Epoch 324/1000\n",
            "84/84 [==============================] - 0s 3ms/step - loss: 0.2161 - accuracy: 0.9299 - val_loss: 0.1755 - val_accuracy: 0.9340\n",
            "Epoch 325/1000\n",
            "84/84 [==============================] - 0s 3ms/step - loss: 0.2153 - accuracy: 0.9254 - val_loss: 0.1762 - val_accuracy: 0.9295\n",
            "Epoch 326/1000\n",
            "84/84 [==============================] - 0s 3ms/step - loss: 0.2168 - accuracy: 0.9246 - val_loss: 0.1749 - val_accuracy: 0.9325\n",
            "Epoch 327/1000\n",
            "84/84 [==============================] - 0s 3ms/step - loss: 0.2176 - accuracy: 0.9254 - val_loss: 0.1758 - val_accuracy: 0.9340\n",
            "Epoch 328/1000\n",
            "84/84 [==============================] - 0s 3ms/step - loss: 0.2186 - accuracy: 0.9287 - val_loss: 0.1733 - val_accuracy: 0.9340\n",
            "Epoch 329/1000\n",
            "84/84 [==============================] - 0s 3ms/step - loss: 0.2167 - accuracy: 0.9306 - val_loss: 0.1723 - val_accuracy: 0.9355\n",
            "Epoch 330/1000\n",
            "84/84 [==============================] - 0s 3ms/step - loss: 0.2176 - accuracy: 0.9250 - val_loss: 0.1751 - val_accuracy: 0.9310\n",
            "Epoch 331/1000\n",
            "84/84 [==============================] - 0s 3ms/step - loss: 0.2155 - accuracy: 0.9276 - val_loss: 0.1719 - val_accuracy: 0.9340\n",
            "Epoch 332/1000\n",
            "84/84 [==============================] - 0s 3ms/step - loss: 0.2184 - accuracy: 0.9261 - val_loss: 0.1729 - val_accuracy: 0.9340\n",
            "Epoch 333/1000\n",
            "84/84 [==============================] - 0s 3ms/step - loss: 0.2163 - accuracy: 0.9261 - val_loss: 0.1727 - val_accuracy: 0.9355\n",
            "Epoch 334/1000\n",
            "84/84 [==============================] - 0s 3ms/step - loss: 0.2160 - accuracy: 0.9246 - val_loss: 0.1740 - val_accuracy: 0.9295\n",
            "Epoch 335/1000\n",
            "84/84 [==============================] - 0s 3ms/step - loss: 0.2152 - accuracy: 0.9291 - val_loss: 0.1752 - val_accuracy: 0.9265\n",
            "Epoch 336/1000\n",
            "84/84 [==============================] - 0s 3ms/step - loss: 0.2159 - accuracy: 0.9269 - val_loss: 0.1726 - val_accuracy: 0.9310\n",
            "Epoch 337/1000\n",
            "84/84 [==============================] - 0s 3ms/step - loss: 0.2156 - accuracy: 0.9284 - val_loss: 0.1730 - val_accuracy: 0.9355\n",
            "Epoch 338/1000\n",
            "84/84 [==============================] - 0s 3ms/step - loss: 0.2154 - accuracy: 0.9284 - val_loss: 0.1731 - val_accuracy: 0.9355\n",
            "Epoch 339/1000\n",
            "84/84 [==============================] - 0s 3ms/step - loss: 0.2156 - accuracy: 0.9276 - val_loss: 0.1725 - val_accuracy: 0.9355\n",
            "Epoch 340/1000\n",
            "84/84 [==============================] - 0s 3ms/step - loss: 0.2151 - accuracy: 0.9280 - val_loss: 0.1714 - val_accuracy: 0.9340\n",
            "Epoch 341/1000\n",
            "84/84 [==============================] - 0s 3ms/step - loss: 0.2156 - accuracy: 0.9284 - val_loss: 0.1734 - val_accuracy: 0.9310\n",
            "Epoch 342/1000\n",
            "84/84 [==============================] - 0s 3ms/step - loss: 0.2163 - accuracy: 0.9265 - val_loss: 0.1749 - val_accuracy: 0.9340\n",
            "Epoch 343/1000\n",
            "84/84 [==============================] - 0s 3ms/step - loss: 0.2152 - accuracy: 0.9272 - val_loss: 0.1725 - val_accuracy: 0.9340\n",
            "Epoch 344/1000\n",
            "84/84 [==============================] - 0s 3ms/step - loss: 0.2141 - accuracy: 0.9302 - val_loss: 0.1728 - val_accuracy: 0.9325\n",
            "Epoch 345/1000\n",
            "84/84 [==============================] - 0s 3ms/step - loss: 0.2152 - accuracy: 0.9254 - val_loss: 0.1729 - val_accuracy: 0.9355\n",
            "Epoch 346/1000\n",
            "84/84 [==============================] - 0s 3ms/step - loss: 0.2155 - accuracy: 0.9272 - val_loss: 0.1715 - val_accuracy: 0.9355\n",
            "Epoch 347/1000\n",
            "84/84 [==============================] - 0s 3ms/step - loss: 0.2155 - accuracy: 0.9284 - val_loss: 0.1710 - val_accuracy: 0.9325\n",
            "Epoch 348/1000\n",
            "84/84 [==============================] - 0s 3ms/step - loss: 0.2145 - accuracy: 0.9291 - val_loss: 0.1729 - val_accuracy: 0.9325\n",
            "Epoch 349/1000\n",
            "84/84 [==============================] - 0s 3ms/step - loss: 0.2148 - accuracy: 0.9280 - val_loss: 0.1740 - val_accuracy: 0.9340\n",
            "Epoch 350/1000\n",
            "84/84 [==============================] - 0s 3ms/step - loss: 0.2149 - accuracy: 0.9272 - val_loss: 0.1724 - val_accuracy: 0.9310\n",
            "Epoch 351/1000\n",
            "84/84 [==============================] - 0s 3ms/step - loss: 0.2145 - accuracy: 0.9291 - val_loss: 0.1726 - val_accuracy: 0.9325\n",
            "Epoch 352/1000\n",
            "84/84 [==============================] - 0s 4ms/step - loss: 0.2150 - accuracy: 0.9291 - val_loss: 0.1734 - val_accuracy: 0.9295\n",
            "Epoch 353/1000\n",
            "84/84 [==============================] - 0s 3ms/step - loss: 0.2141 - accuracy: 0.9287 - val_loss: 0.1724 - val_accuracy: 0.9370\n",
            "Epoch 354/1000\n",
            "84/84 [==============================] - 0s 3ms/step - loss: 0.2144 - accuracy: 0.9261 - val_loss: 0.1714 - val_accuracy: 0.9385\n",
            "Epoch 355/1000\n",
            "84/84 [==============================] - 0s 3ms/step - loss: 0.2132 - accuracy: 0.9291 - val_loss: 0.1751 - val_accuracy: 0.9295\n",
            "Epoch 356/1000\n",
            "84/84 [==============================] - 0s 3ms/step - loss: 0.2134 - accuracy: 0.9306 - val_loss: 0.1721 - val_accuracy: 0.9325\n",
            "Epoch 357/1000\n",
            "84/84 [==============================] - 0s 3ms/step - loss: 0.2128 - accuracy: 0.9314 - val_loss: 0.1709 - val_accuracy: 0.9325\n",
            "Epoch 358/1000\n",
            "84/84 [==============================] - 0s 3ms/step - loss: 0.2129 - accuracy: 0.9287 - val_loss: 0.1703 - val_accuracy: 0.9310\n",
            "Epoch 359/1000\n",
            "84/84 [==============================] - 0s 3ms/step - loss: 0.2126 - accuracy: 0.9295 - val_loss: 0.1719 - val_accuracy: 0.9325\n",
            "Epoch 360/1000\n",
            "84/84 [==============================] - 0s 3ms/step - loss: 0.2129 - accuracy: 0.9287 - val_loss: 0.1744 - val_accuracy: 0.9295\n",
            "Epoch 361/1000\n",
            "84/84 [==============================] - 0s 3ms/step - loss: 0.2139 - accuracy: 0.9269 - val_loss: 0.1727 - val_accuracy: 0.9310\n",
            "Epoch 362/1000\n",
            "84/84 [==============================] - 0s 3ms/step - loss: 0.2136 - accuracy: 0.9280 - val_loss: 0.1726 - val_accuracy: 0.9340\n",
            "Epoch 363/1000\n",
            "84/84 [==============================] - 0s 3ms/step - loss: 0.2133 - accuracy: 0.9310 - val_loss: 0.1702 - val_accuracy: 0.9325\n",
            "Epoch 364/1000\n",
            "84/84 [==============================] - 0s 3ms/step - loss: 0.2130 - accuracy: 0.9306 - val_loss: 0.1719 - val_accuracy: 0.9355\n",
            "Epoch 365/1000\n",
            "84/84 [==============================] - 0s 3ms/step - loss: 0.2133 - accuracy: 0.9287 - val_loss: 0.1707 - val_accuracy: 0.9355\n",
            "Epoch 366/1000\n",
            "84/84 [==============================] - 0s 3ms/step - loss: 0.2129 - accuracy: 0.9310 - val_loss: 0.1728 - val_accuracy: 0.9325\n",
            "Epoch 367/1000\n",
            "84/84 [==============================] - 0s 3ms/step - loss: 0.2135 - accuracy: 0.9284 - val_loss: 0.1698 - val_accuracy: 0.9325\n",
            "Epoch 368/1000\n",
            "84/84 [==============================] - 0s 3ms/step - loss: 0.2140 - accuracy: 0.9280 - val_loss: 0.1728 - val_accuracy: 0.9295\n",
            "Epoch 369/1000\n",
            "84/84 [==============================] - 0s 3ms/step - loss: 0.2129 - accuracy: 0.9314 - val_loss: 0.1706 - val_accuracy: 0.9295\n",
            "Epoch 370/1000\n",
            "84/84 [==============================] - 0s 3ms/step - loss: 0.2111 - accuracy: 0.9302 - val_loss: 0.1728 - val_accuracy: 0.9340\n",
            "Epoch 371/1000\n",
            "84/84 [==============================] - 0s 3ms/step - loss: 0.2128 - accuracy: 0.9299 - val_loss: 0.1738 - val_accuracy: 0.9310\n",
            "Epoch 372/1000\n",
            "84/84 [==============================] - 0s 3ms/step - loss: 0.2119 - accuracy: 0.9321 - val_loss: 0.1702 - val_accuracy: 0.9355\n",
            "Epoch 373/1000\n",
            "84/84 [==============================] - 0s 3ms/step - loss: 0.2124 - accuracy: 0.9287 - val_loss: 0.1733 - val_accuracy: 0.9310\n",
            "Epoch 374/1000\n",
            "84/84 [==============================] - 0s 3ms/step - loss: 0.2121 - accuracy: 0.9269 - val_loss: 0.1729 - val_accuracy: 0.9295\n",
            "Epoch 375/1000\n",
            "84/84 [==============================] - 0s 3ms/step - loss: 0.2123 - accuracy: 0.9314 - val_loss: 0.1699 - val_accuracy: 0.9370\n",
            "Epoch 376/1000\n",
            "84/84 [==============================] - 0s 3ms/step - loss: 0.2112 - accuracy: 0.9295 - val_loss: 0.1713 - val_accuracy: 0.9325\n",
            "Epoch 377/1000\n",
            "84/84 [==============================] - 0s 3ms/step - loss: 0.2128 - accuracy: 0.9295 - val_loss: 0.1718 - val_accuracy: 0.9340\n",
            "Epoch 378/1000\n",
            "84/84 [==============================] - 0s 3ms/step - loss: 0.2121 - accuracy: 0.9287 - val_loss: 0.1712 - val_accuracy: 0.9340\n",
            "Epoch 379/1000\n",
            "84/84 [==============================] - 0s 3ms/step - loss: 0.2129 - accuracy: 0.9302 - val_loss: 0.1700 - val_accuracy: 0.9355\n",
            "Epoch 380/1000\n",
            "84/84 [==============================] - 0s 3ms/step - loss: 0.2107 - accuracy: 0.9306 - val_loss: 0.1703 - val_accuracy: 0.9310\n",
            "Epoch 381/1000\n",
            "84/84 [==============================] - 0s 3ms/step - loss: 0.2115 - accuracy: 0.9314 - val_loss: 0.1697 - val_accuracy: 0.9340\n",
            "Epoch 382/1000\n",
            "84/84 [==============================] - 0s 3ms/step - loss: 0.2112 - accuracy: 0.9302 - val_loss: 0.1713 - val_accuracy: 0.9325\n",
            "Epoch 383/1000\n",
            "84/84 [==============================] - 0s 3ms/step - loss: 0.2111 - accuracy: 0.9321 - val_loss: 0.1694 - val_accuracy: 0.9325\n",
            "Epoch 384/1000\n",
            "84/84 [==============================] - 0s 3ms/step - loss: 0.2113 - accuracy: 0.9299 - val_loss: 0.1690 - val_accuracy: 0.9325\n",
            "Epoch 385/1000\n",
            "84/84 [==============================] - 0s 3ms/step - loss: 0.2123 - accuracy: 0.9269 - val_loss: 0.1691 - val_accuracy: 0.9370\n",
            "Epoch 386/1000\n",
            "84/84 [==============================] - 0s 3ms/step - loss: 0.2115 - accuracy: 0.9317 - val_loss: 0.1694 - val_accuracy: 0.9355\n",
            "Epoch 387/1000\n",
            "84/84 [==============================] - 0s 3ms/step - loss: 0.2112 - accuracy: 0.9302 - val_loss: 0.1708 - val_accuracy: 0.9340\n",
            "Epoch 388/1000\n",
            "84/84 [==============================] - 0s 3ms/step - loss: 0.2118 - accuracy: 0.9291 - val_loss: 0.1703 - val_accuracy: 0.9355\n",
            "Epoch 389/1000\n",
            "84/84 [==============================] - 0s 3ms/step - loss: 0.2107 - accuracy: 0.9306 - val_loss: 0.1700 - val_accuracy: 0.9325\n",
            "Epoch 390/1000\n",
            "84/84 [==============================] - 0s 3ms/step - loss: 0.2108 - accuracy: 0.9332 - val_loss: 0.1712 - val_accuracy: 0.9310\n",
            "Epoch 391/1000\n",
            "84/84 [==============================] - 0s 3ms/step - loss: 0.2113 - accuracy: 0.9287 - val_loss: 0.1693 - val_accuracy: 0.9355\n",
            "Epoch 392/1000\n",
            "84/84 [==============================] - 0s 3ms/step - loss: 0.2112 - accuracy: 0.9299 - val_loss: 0.1688 - val_accuracy: 0.9385\n",
            "Epoch 393/1000\n",
            "84/84 [==============================] - 0s 3ms/step - loss: 0.2100 - accuracy: 0.9306 - val_loss: 0.1681 - val_accuracy: 0.9325\n",
            "Epoch 394/1000\n",
            "84/84 [==============================] - 0s 3ms/step - loss: 0.2103 - accuracy: 0.9291 - val_loss: 0.1748 - val_accuracy: 0.9295\n",
            "Epoch 395/1000\n",
            "84/84 [==============================] - 0s 3ms/step - loss: 0.2101 - accuracy: 0.9306 - val_loss: 0.1696 - val_accuracy: 0.9340\n",
            "Epoch 396/1000\n",
            "84/84 [==============================] - 0s 3ms/step - loss: 0.2102 - accuracy: 0.9314 - val_loss: 0.1751 - val_accuracy: 0.9325\n",
            "Epoch 397/1000\n",
            "84/84 [==============================] - 0s 3ms/step - loss: 0.2099 - accuracy: 0.9284 - val_loss: 0.1716 - val_accuracy: 0.9310\n",
            "Epoch 398/1000\n",
            "84/84 [==============================] - 0s 3ms/step - loss: 0.2100 - accuracy: 0.9314 - val_loss: 0.1683 - val_accuracy: 0.9325\n",
            "Epoch 399/1000\n",
            "84/84 [==============================] - 0s 3ms/step - loss: 0.2112 - accuracy: 0.9310 - val_loss: 0.1694 - val_accuracy: 0.9325\n",
            "Epoch 400/1000\n",
            "84/84 [==============================] - 0s 3ms/step - loss: 0.2100 - accuracy: 0.9295 - val_loss: 0.1690 - val_accuracy: 0.9325\n",
            "Epoch 401/1000\n",
            "84/84 [==============================] - 0s 3ms/step - loss: 0.2104 - accuracy: 0.9310 - val_loss: 0.1697 - val_accuracy: 0.9340\n",
            "Epoch 402/1000\n",
            "84/84 [==============================] - 0s 3ms/step - loss: 0.2101 - accuracy: 0.9295 - val_loss: 0.1729 - val_accuracy: 0.9325\n",
            "Epoch 403/1000\n",
            "84/84 [==============================] - 0s 3ms/step - loss: 0.2113 - accuracy: 0.9295 - val_loss: 0.1718 - val_accuracy: 0.9325\n",
            "Epoch 404/1000\n",
            "84/84 [==============================] - 0s 3ms/step - loss: 0.2083 - accuracy: 0.9340 - val_loss: 0.1707 - val_accuracy: 0.9355\n",
            "Epoch 405/1000\n",
            "84/84 [==============================] - 0s 3ms/step - loss: 0.2092 - accuracy: 0.9302 - val_loss: 0.1707 - val_accuracy: 0.9325\n",
            "Epoch 406/1000\n",
            "84/84 [==============================] - 0s 3ms/step - loss: 0.2093 - accuracy: 0.9306 - val_loss: 0.1692 - val_accuracy: 0.9385\n",
            "Epoch 407/1000\n",
            "84/84 [==============================] - 0s 3ms/step - loss: 0.2093 - accuracy: 0.9347 - val_loss: 0.1679 - val_accuracy: 0.9355\n",
            "Epoch 408/1000\n",
            "84/84 [==============================] - 0s 3ms/step - loss: 0.2088 - accuracy: 0.9321 - val_loss: 0.1676 - val_accuracy: 0.9385\n",
            "Epoch 409/1000\n",
            "84/84 [==============================] - 0s 3ms/step - loss: 0.2098 - accuracy: 0.9284 - val_loss: 0.1699 - val_accuracy: 0.9340\n",
            "Epoch 410/1000\n",
            "84/84 [==============================] - 0s 3ms/step - loss: 0.2091 - accuracy: 0.9344 - val_loss: 0.1677 - val_accuracy: 0.9385\n",
            "Epoch 411/1000\n",
            "84/84 [==============================] - 0s 3ms/step - loss: 0.2095 - accuracy: 0.9340 - val_loss: 0.1693 - val_accuracy: 0.9370\n",
            "Epoch 412/1000\n",
            "84/84 [==============================] - 0s 3ms/step - loss: 0.2086 - accuracy: 0.9329 - val_loss: 0.1695 - val_accuracy: 0.9370\n",
            "Epoch 413/1000\n",
            "84/84 [==============================] - 0s 3ms/step - loss: 0.2090 - accuracy: 0.9299 - val_loss: 0.1672 - val_accuracy: 0.9385\n",
            "Epoch 414/1000\n",
            "84/84 [==============================] - 0s 3ms/step - loss: 0.2085 - accuracy: 0.9314 - val_loss: 0.1711 - val_accuracy: 0.9325\n",
            "Epoch 415/1000\n",
            "84/84 [==============================] - 0s 3ms/step - loss: 0.2086 - accuracy: 0.9310 - val_loss: 0.1673 - val_accuracy: 0.9385\n",
            "Epoch 416/1000\n",
            "84/84 [==============================] - 0s 3ms/step - loss: 0.2083 - accuracy: 0.9310 - val_loss: 0.1709 - val_accuracy: 0.9370\n",
            "Epoch 417/1000\n",
            "84/84 [==============================] - 0s 3ms/step - loss: 0.2097 - accuracy: 0.9332 - val_loss: 0.1692 - val_accuracy: 0.9370\n",
            "Epoch 418/1000\n",
            "84/84 [==============================] - 0s 3ms/step - loss: 0.2086 - accuracy: 0.9299 - val_loss: 0.1671 - val_accuracy: 0.9355\n",
            "Epoch 419/1000\n",
            "84/84 [==============================] - 0s 3ms/step - loss: 0.2081 - accuracy: 0.9336 - val_loss: 0.1687 - val_accuracy: 0.9340\n",
            "Epoch 420/1000\n",
            "84/84 [==============================] - 0s 3ms/step - loss: 0.2076 - accuracy: 0.9329 - val_loss: 0.1663 - val_accuracy: 0.9355\n",
            "Epoch 421/1000\n",
            "84/84 [==============================] - 0s 3ms/step - loss: 0.2083 - accuracy: 0.9329 - val_loss: 0.1707 - val_accuracy: 0.9325\n",
            "Epoch 422/1000\n",
            "84/84 [==============================] - 0s 3ms/step - loss: 0.2076 - accuracy: 0.9340 - val_loss: 0.1690 - val_accuracy: 0.9385\n",
            "Epoch 423/1000\n",
            "84/84 [==============================] - 0s 3ms/step - loss: 0.2074 - accuracy: 0.9317 - val_loss: 0.1705 - val_accuracy: 0.9325\n",
            "Epoch 424/1000\n",
            "84/84 [==============================] - 0s 3ms/step - loss: 0.2098 - accuracy: 0.9317 - val_loss: 0.1674 - val_accuracy: 0.9355\n",
            "Epoch 425/1000\n",
            "84/84 [==============================] - 0s 3ms/step - loss: 0.2088 - accuracy: 0.9314 - val_loss: 0.1672 - val_accuracy: 0.9355\n",
            "Epoch 426/1000\n",
            "84/84 [==============================] - 0s 3ms/step - loss: 0.2094 - accuracy: 0.9310 - val_loss: 0.1675 - val_accuracy: 0.9370\n",
            "Epoch 427/1000\n",
            "84/84 [==============================] - 0s 3ms/step - loss: 0.2085 - accuracy: 0.9287 - val_loss: 0.1714 - val_accuracy: 0.9310\n",
            "Epoch 428/1000\n",
            "84/84 [==============================] - 0s 3ms/step - loss: 0.2076 - accuracy: 0.9317 - val_loss: 0.1682 - val_accuracy: 0.9400\n",
            "Epoch 429/1000\n",
            "84/84 [==============================] - 0s 3ms/step - loss: 0.2072 - accuracy: 0.9340 - val_loss: 0.1696 - val_accuracy: 0.9370\n",
            "Epoch 430/1000\n",
            "84/84 [==============================] - 0s 3ms/step - loss: 0.2083 - accuracy: 0.9302 - val_loss: 0.1694 - val_accuracy: 0.9355\n",
            "Epoch 431/1000\n",
            "84/84 [==============================] - 0s 3ms/step - loss: 0.2073 - accuracy: 0.9340 - val_loss: 0.1676 - val_accuracy: 0.9385\n",
            "Epoch 432/1000\n",
            "84/84 [==============================] - 0s 3ms/step - loss: 0.2071 - accuracy: 0.9317 - val_loss: 0.1689 - val_accuracy: 0.9325\n",
            "Epoch 433/1000\n",
            "84/84 [==============================] - 0s 3ms/step - loss: 0.2080 - accuracy: 0.9325 - val_loss: 0.1673 - val_accuracy: 0.9370\n",
            "Epoch 434/1000\n",
            "84/84 [==============================] - 0s 3ms/step - loss: 0.2065 - accuracy: 0.9359 - val_loss: 0.1689 - val_accuracy: 0.9370\n",
            "Epoch 435/1000\n",
            "84/84 [==============================] - 0s 3ms/step - loss: 0.2083 - accuracy: 0.9314 - val_loss: 0.1684 - val_accuracy: 0.9370\n",
            "Epoch 436/1000\n",
            "84/84 [==============================] - 0s 3ms/step - loss: 0.2062 - accuracy: 0.9340 - val_loss: 0.1688 - val_accuracy: 0.9340\n",
            "Epoch 437/1000\n",
            "84/84 [==============================] - 0s 3ms/step - loss: 0.2073 - accuracy: 0.9336 - val_loss: 0.1670 - val_accuracy: 0.9370\n",
            "Epoch 438/1000\n",
            "84/84 [==============================] - 0s 3ms/step - loss: 0.2069 - accuracy: 0.9332 - val_loss: 0.1682 - val_accuracy: 0.9340\n",
            "Epoch 439/1000\n",
            "84/84 [==============================] - 0s 3ms/step - loss: 0.2053 - accuracy: 0.9329 - val_loss: 0.1719 - val_accuracy: 0.9295\n",
            "Epoch 440/1000\n",
            "84/84 [==============================] - 0s 4ms/step - loss: 0.2080 - accuracy: 0.9299 - val_loss: 0.1670 - val_accuracy: 0.9385\n",
            "Epoch 441/1000\n",
            "84/84 [==============================] - 0s 3ms/step - loss: 0.2075 - accuracy: 0.9310 - val_loss: 0.1681 - val_accuracy: 0.9385\n",
            "Epoch 442/1000\n",
            "84/84 [==============================] - 0s 3ms/step - loss: 0.2070 - accuracy: 0.9310 - val_loss: 0.1674 - val_accuracy: 0.9400\n",
            "Epoch 443/1000\n",
            "84/84 [==============================] - 0s 3ms/step - loss: 0.2063 - accuracy: 0.9336 - val_loss: 0.1681 - val_accuracy: 0.9400\n",
            "Epoch 444/1000\n",
            "84/84 [==============================] - 0s 3ms/step - loss: 0.2059 - accuracy: 0.9332 - val_loss: 0.1686 - val_accuracy: 0.9415\n",
            "Epoch 445/1000\n",
            "84/84 [==============================] - 0s 3ms/step - loss: 0.2055 - accuracy: 0.9344 - val_loss: 0.1680 - val_accuracy: 0.9325\n",
            "Epoch 445: early stopping\n"
          ]
        }
      ]
    },
    {
      "cell_type": "code",
      "source": [
        "df = pd.DataFrame(history.history)\n",
        "df.head()"
      ],
      "metadata": {
        "colab": {
          "base_uri": "https://localhost:8080/",
          "height": 206
        },
        "id": "yUQsEh9iyPZg",
        "outputId": "01e4653a-4074-407f-ba0d-da0b06f22c31"
      },
      "execution_count": null,
      "outputs": [
        {
          "output_type": "execute_result",
          "data": {
            "text/plain": [
              "       loss  accuracy  val_loss  val_accuracy\n",
              "0  0.639028  0.717554  0.536381      0.862069\n",
              "1  0.466762  0.853338  0.399702      0.862069\n",
              "2  0.404715  0.853338  0.379402      0.862069\n",
              "3  0.398405  0.853338  0.374784      0.862069\n",
              "4  0.394485  0.853338  0.369866      0.862069"
            ],
            "text/html": [
              "\n",
              "  <div id=\"df-b1902a75-a1bd-4930-b132-1b96867ef00f\">\n",
              "    <div class=\"colab-df-container\">\n",
              "      <div>\n",
              "<style scoped>\n",
              "    .dataframe tbody tr th:only-of-type {\n",
              "        vertical-align: middle;\n",
              "    }\n",
              "\n",
              "    .dataframe tbody tr th {\n",
              "        vertical-align: top;\n",
              "    }\n",
              "\n",
              "    .dataframe thead th {\n",
              "        text-align: right;\n",
              "    }\n",
              "</style>\n",
              "<table border=\"1\" class=\"dataframe\">\n",
              "  <thead>\n",
              "    <tr style=\"text-align: right;\">\n",
              "      <th></th>\n",
              "      <th>loss</th>\n",
              "      <th>accuracy</th>\n",
              "      <th>val_loss</th>\n",
              "      <th>val_accuracy</th>\n",
              "    </tr>\n",
              "  </thead>\n",
              "  <tbody>\n",
              "    <tr>\n",
              "      <th>0</th>\n",
              "      <td>0.639028</td>\n",
              "      <td>0.717554</td>\n",
              "      <td>0.536381</td>\n",
              "      <td>0.862069</td>\n",
              "    </tr>\n",
              "    <tr>\n",
              "      <th>1</th>\n",
              "      <td>0.466762</td>\n",
              "      <td>0.853338</td>\n",
              "      <td>0.399702</td>\n",
              "      <td>0.862069</td>\n",
              "    </tr>\n",
              "    <tr>\n",
              "      <th>2</th>\n",
              "      <td>0.404715</td>\n",
              "      <td>0.853338</td>\n",
              "      <td>0.379402</td>\n",
              "      <td>0.862069</td>\n",
              "    </tr>\n",
              "    <tr>\n",
              "      <th>3</th>\n",
              "      <td>0.398405</td>\n",
              "      <td>0.853338</td>\n",
              "      <td>0.374784</td>\n",
              "      <td>0.862069</td>\n",
              "    </tr>\n",
              "    <tr>\n",
              "      <th>4</th>\n",
              "      <td>0.394485</td>\n",
              "      <td>0.853338</td>\n",
              "      <td>0.369866</td>\n",
              "      <td>0.862069</td>\n",
              "    </tr>\n",
              "  </tbody>\n",
              "</table>\n",
              "</div>\n",
              "      <button class=\"colab-df-convert\" onclick=\"convertToInteractive('df-b1902a75-a1bd-4930-b132-1b96867ef00f')\"\n",
              "              title=\"Convert this dataframe to an interactive table.\"\n",
              "              style=\"display:none;\">\n",
              "        \n",
              "  <svg xmlns=\"http://www.w3.org/2000/svg\" height=\"24px\"viewBox=\"0 0 24 24\"\n",
              "       width=\"24px\">\n",
              "    <path d=\"M0 0h24v24H0V0z\" fill=\"none\"/>\n",
              "    <path d=\"M18.56 5.44l.94 2.06.94-2.06 2.06-.94-2.06-.94-.94-2.06-.94 2.06-2.06.94zm-11 1L8.5 8.5l.94-2.06 2.06-.94-2.06-.94L8.5 2.5l-.94 2.06-2.06.94zm10 10l.94 2.06.94-2.06 2.06-.94-2.06-.94-.94-2.06-.94 2.06-2.06.94z\"/><path d=\"M17.41 7.96l-1.37-1.37c-.4-.4-.92-.59-1.43-.59-.52 0-1.04.2-1.43.59L10.3 9.45l-7.72 7.72c-.78.78-.78 2.05 0 2.83L4 21.41c.39.39.9.59 1.41.59.51 0 1.02-.2 1.41-.59l7.78-7.78 2.81-2.81c.8-.78.8-2.07 0-2.86zM5.41 20L4 18.59l7.72-7.72 1.47 1.35L5.41 20z\"/>\n",
              "  </svg>\n",
              "      </button>\n",
              "      \n",
              "  <style>\n",
              "    .colab-df-container {\n",
              "      display:flex;\n",
              "      flex-wrap:wrap;\n",
              "      gap: 12px;\n",
              "    }\n",
              "\n",
              "    .colab-df-convert {\n",
              "      background-color: #E8F0FE;\n",
              "      border: none;\n",
              "      border-radius: 50%;\n",
              "      cursor: pointer;\n",
              "      display: none;\n",
              "      fill: #1967D2;\n",
              "      height: 32px;\n",
              "      padding: 0 0 0 0;\n",
              "      width: 32px;\n",
              "    }\n",
              "\n",
              "    .colab-df-convert:hover {\n",
              "      background-color: #E2EBFA;\n",
              "      box-shadow: 0px 1px 2px rgba(60, 64, 67, 0.3), 0px 1px 3px 1px rgba(60, 64, 67, 0.15);\n",
              "      fill: #174EA6;\n",
              "    }\n",
              "\n",
              "    [theme=dark] .colab-df-convert {\n",
              "      background-color: #3B4455;\n",
              "      fill: #D2E3FC;\n",
              "    }\n",
              "\n",
              "    [theme=dark] .colab-df-convert:hover {\n",
              "      background-color: #434B5C;\n",
              "      box-shadow: 0px 1px 3px 1px rgba(0, 0, 0, 0.15);\n",
              "      filter: drop-shadow(0px 1px 2px rgba(0, 0, 0, 0.3));\n",
              "      fill: #FFFFFF;\n",
              "    }\n",
              "  </style>\n",
              "\n",
              "      <script>\n",
              "        const buttonEl =\n",
              "          document.querySelector('#df-b1902a75-a1bd-4930-b132-1b96867ef00f button.colab-df-convert');\n",
              "        buttonEl.style.display =\n",
              "          google.colab.kernel.accessAllowed ? 'block' : 'none';\n",
              "\n",
              "        async function convertToInteractive(key) {\n",
              "          const element = document.querySelector('#df-b1902a75-a1bd-4930-b132-1b96867ef00f');\n",
              "          const dataTable =\n",
              "            await google.colab.kernel.invokeFunction('convertToInteractive',\n",
              "                                                     [key], {});\n",
              "          if (!dataTable) return;\n",
              "\n",
              "          const docLinkHtml = 'Like what you see? Visit the ' +\n",
              "            '<a target=\"_blank\" href=https://colab.research.google.com/notebooks/data_table.ipynb>data table notebook</a>'\n",
              "            + ' to learn more about interactive tables.';\n",
              "          element.innerHTML = '';\n",
              "          dataTable['output_type'] = 'display_data';\n",
              "          await google.colab.output.renderOutput(dataTable, element);\n",
              "          const docLink = document.createElement('div');\n",
              "          docLink.innerHTML = docLinkHtml;\n",
              "          element.appendChild(docLink);\n",
              "        }\n",
              "      </script>\n",
              "    </div>\n",
              "  </div>\n",
              "  "
            ]
          },
          "metadata": {},
          "execution_count": 33
        }
      ]
    },
    {
      "cell_type": "code",
      "source": [
        "df[['accuracy','val_accuracy']].plot(figsize=(8, 5))\n",
        "plt.grid(True)\n",
        "plt.gca().set_ylim(0, 1) # set the vertical range to [0-1\n",
        "plt.title('Training Accuracy vs Validation Accuracy')\n",
        "plt.show()"
      ],
      "metadata": {
        "colab": {
          "base_uri": "https://localhost:8080/",
          "height": 336
        },
        "id": "M3nDuniPyR54",
        "outputId": "91ef96ff-bed7-4986-e141-3d976801881b"
      },
      "execution_count": null,
      "outputs": [
        {
          "output_type": "display_data",
          "data": {
            "text/plain": [
              "<Figure size 576x360 with 1 Axes>"
            ],
            "image/png": "[encoded data removed]"
          },
          "metadata": {
            "needs_background": "light"
          }
        }
      ]
    },
    {
      "cell_type": "code",
      "source": [
        "df[['loss','val_loss']].plot(figsize=(8, 5))\n",
        "plt.grid(True)\n",
        "plt.gca().set_ylim(0, 1) # set the vertical range to [0-1]\n",
        "plt.title('Training Loss vs Validation Loss')\n",
        "plt.show()"
      ],
      "metadata": {
        "colab": {
          "base_uri": "https://localhost:8080/",
          "height": 336
        },
        "id": "yqQa9ElFyU5H",
        "outputId": "d9d8e591-02b4-46a6-fa2c-16961bf7b671"
      },
      "execution_count": null,
      "outputs": [
        {
          "output_type": "display_data",
          "data": {
            "text/plain": [
              "<Figure size 576x360 with 1 Axes>"
            ],
            "image/png": "[encoded data removed]"
          },
          "metadata": {
            "needs_background": "light"
          }
        }
      ]
    },
    {
      "cell_type": "code",
      "execution_count": null,
      "metadata": {
        "colab": {
          "base_uri": "https://localhost:8080/"
        },
        "outputId": "becb19ae-2a1d-4983-e111-1f2b099823a8",
        "id": "SNc1Joar2-qL"
      },
      "outputs": [
        {
          "output_type": "stream",
          "name": "stdout",
          "text": [
            "21/21 [==============================] - 0s 1ms/step - loss: 0.1680 - accuracy: 0.9325\n"
          ]
        },
        {
          "output_type": "execute_result",
          "data": {
            "text/plain": [
              "[0.16800309717655182, 0.9325337409973145]"
            ]
          },
          "metadata": {},
          "execution_count": 36
        }
      ],
      "source": [
        "model.evaluate(X_test, y_test)"
      ]
    },
    {
      "cell_type": "code",
      "execution_count": null,
      "metadata": {
        "colab": {
          "base_uri": "https://localhost:8080/"
        },
        "outputId": "55986c53-f6d6-471e-c56d-903834409433",
        "id": "inx0OXq32-qO"
      },
      "outputs": [
        {
          "output_type": "stream",
          "name": "stdout",
          "text": [
            "21/21 [==============================] - 0s 1ms/step\n"
          ]
        },
        {
          "output_type": "execute_result",
          "data": {
            "text/plain": [
              "array([[0.02459806],\n",
              "       [0.02289906],\n",
              "       [0.01826017],\n",
              "       [0.04594365],\n",
              "       [0.02988397]], dtype=float32)"
            ]
          },
          "metadata": {},
          "execution_count": 37
        }
      ],
      "source": [
        "yp = model.predict(X_test)\n",
        "yp[:5]"
      ]
    },
    {
      "cell_type": "code",
      "execution_count": null,
      "metadata": {
        "id": "N--mYR9r2-qR"
      },
      "outputs": [],
      "source": [
        "y_pred = []\n",
        "for element in yp:\n",
        "    if element > 0.5:\n",
        "        y_pred.append(1)\n",
        "    else:\n",
        "        y_pred.append(0)"
      ]
    },
    {
      "cell_type": "code",
      "execution_count": null,
      "metadata": {
        "colab": {
          "base_uri": "https://localhost:8080/"
        },
        "outputId": "7643bac1-5f2f-45f5-8947-2d7b5219e0bb",
        "id": "KkFh7R4_2-qT"
      },
      "outputs": [
        {
          "output_type": "execute_result",
          "data": {
            "text/plain": [
              "[0, 0, 0, 0, 0, 1, 0, 1, 0, 0]"
            ]
          },
          "metadata": {},
          "execution_count": 39
        }
      ],
      "source": [
        "y_pred[:10]"
      ]
    },
    {
      "cell_type": "code",
      "execution_count": null,
      "metadata": {
        "colab": {
          "base_uri": "https://localhost:8080/"
        },
        "outputId": "40847b73-f7c3-4e07-d3f8-2c13e6a13078",
        "id": "TMp7UqCB2-qT"
      },
      "outputs": [
        {
          "output_type": "execute_result",
          "data": {
            "text/plain": [
              "1879    0\n",
              "1518    0\n",
              "1813    0\n",
              "890     0\n",
              "1343    0\n",
              "3072    1\n",
              "546     1\n",
              "2401    1\n",
              "1827    0\n",
              "758     0\n",
              "Name: Churn, dtype: int64"
            ]
          },
          "metadata": {},
          "execution_count": 40
        }
      ],
      "source": [
        "y_test[:10]"
      ]
    },
    {
      "cell_type": "code",
      "execution_count": null,
      "metadata": {
        "colab": {
          "base_uri": "https://localhost:8080/"
        },
        "outputId": "a57f9b23-b43a-4939-d98e-57b1c86d108b",
        "id": "JC999RrU2-qV"
      },
      "outputs": [
        {
          "output_type": "stream",
          "name": "stdout",
          "text": [
            "              precision    recall  f1-score   support\n",
            "\n",
            "           0       0.94      0.98      0.96       575\n",
            "           1       0.85      0.62      0.72        92\n",
            "\n",
            "    accuracy                           0.93       667\n",
            "   macro avg       0.90      0.80      0.84       667\n",
            "weighted avg       0.93      0.93      0.93       667\n",
            "\n"
          ]
        }
      ],
      "source": [
        "from sklearn.metrics import confusion_matrix , classification_report\n",
        "\n",
        "print(classification_report(y_test,y_pred))"
      ]
    },
    {
      "cell_type": "code",
      "execution_count": null,
      "metadata": {
        "colab": {
          "base_uri": "https://localhost:8080/",
          "height": 459
        },
        "outputId": "265dc080-fb59-42c8-ba71-724175190afa",
        "id": "a08M06U52-qW"
      },
      "outputs": [
        {
          "output_type": "execute_result",
          "data": {
            "text/plain": [
              "Text(69.0, 0.5, 'Truth')"
            ]
          },
          "metadata": {},
          "execution_count": 42
        },
        {
          "output_type": "display_data",
          "data": {
            "text/plain": [
              "<Figure size 720x504 with 2 Axes>"
            ],
            "image/png": "[encoded data removed]"
          },
          "metadata": {
            "needs_background": "light"
          }
        }
      ],
      "source": [
        "import seaborn as sn\n",
        "cm = tf.math.confusion_matrix(labels=y_test,predictions=y_pred)\n",
        "\n",
        "plt.figure(figsize = (10,7))\n",
        "sn.heatmap(cm, annot=True, fmt='d')\n",
        "plt.xlabel('Predicted')\n",
        "plt.ylabel('Truth')"
      ]
    }
  ],
  "metadata": {
    "kernelspec": {
      "display_name": "Python 3.10.0 64-bit",
      "language": "python",
      "name": "python3"
    },
    "language_info": {
      "codemirror_mode": {
        "name": "ipython",
        "version": 3
      },
      "file_extension": ".py",
      "mimetype": "text/x-python",
      "name": "python",
      "nbconvert_exporter": "python",
      "pygments_lexer": "ipython3",
      "version": "3.10.0"
    },
    "orig_nbformat": 4,
    "vscode": {
      "interpreter": {
        "hash": "27f6fea6f47ae512550f0b8facdbd035a93e1dd89633f7bf2dd00a2502c71d0d"
      }
    },
    "colab": {
      "provenance": [],
      "include_colab_link": true
    }
  },
  "nbformat": 4,
  "nbformat_minor": 0
}