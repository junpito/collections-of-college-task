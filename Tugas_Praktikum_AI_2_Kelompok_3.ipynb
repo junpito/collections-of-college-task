{
  "nbformat": 4,
  "nbformat_minor": 0,
  "metadata": {
    "colab": {
      "provenance": [],
      "authorship_tag": "ABX9TyOmbstLW7bolp45M5aV40H8",
      "include_colab_link": true
    },
    "kernelspec": {
      "name": "python3",
      "display_name": "Python 3"
    },
    "language_info": {
      "name": "python"
    }
  },
  "cells": [
    {
      "cell_type": "markdown",
      "metadata": {
        "id": "view-in-github",
        "colab_type": "text"
      },
      "source": [
        "<a href=\"https://colab.research.google.com/github/junpito/collections-of-college-task/blob/main/Tugas_Praktikum_AI_2_Kelompok_3.ipynb\" target=\"_parent\"><img src=\"https://colab.research.google.com/assets/colab-badge.svg\" alt=\"Open In Colab\"/></a>"
      ]
    },
    {
      "cell_type": "code",
      "execution_count": null,
      "metadata": {
        "id": "Tyhu5P_vtMG8"
      },
      "outputs": [],
      "source": [
        "import pandas as pd\n",
        "import numpy as np"
      ]
    },
    {
      "cell_type": "code",
      "source": [
        "from google.colab import drive\n",
        "drive.mount('/content/gdrive')"
      ],
      "metadata": {
        "colab": {
          "base_uri": "https://localhost:8080/"
        },
        "id": "qYy3PR4jtYY_",
        "outputId": "248ceee7-ffbb-438a-a40e-8f6dd0c019a8"
      },
      "execution_count": null,
      "outputs": [
        {
          "output_type": "stream",
          "name": "stdout",
          "text": [
            "Mounted at /content/gdrive\n"
          ]
        }
      ]
    },
    {
      "cell_type": "code",
      "source": [
        "df = pd.read_csv(\"/content/gdrive/MyDrive/praktikum/heart.csv\")\n",
        "df.head()\n"
      ],
      "metadata": {
        "colab": {
          "base_uri": "https://localhost:8080/",
          "height": 206
        },
        "id": "rgYOR6W2trmI",
        "outputId": "18711323-fc55-4a86-905b-582e7368584e"
      },
      "execution_count": null,
      "outputs": [
        {
          "output_type": "execute_result",
          "data": {
            "text/plain": [
              "   age  sex  cp  trestbps  chol  fbs  restecg  thalach  exang  oldpeak  slope  \\\n",
              "0   52    1   0       125   212    0        1      168      0      1.0      2   \n",
              "1   53    1   0       140   203    1        0      155      1      3.1      0   \n",
              "2   70    1   0       145   174    0        1      125      1      2.6      0   \n",
              "3   61    1   0       148   203    0        1      161      0      0.0      2   \n",
              "4   62    0   0       138   294    1        1      106      0      1.9      1   \n",
              "\n",
              "   ca  thal  target  \n",
              "0   2     3       0  \n",
              "1   0     3       0  \n",
              "2   0     3       0  \n",
              "3   1     3       0  \n",
              "4   3     2       0  "
            ],
            "text/html": [
              "\n",
              "  <div id=\"df-512a67ec-387a-4c3d-a138-a24ebdff21c2\">\n",
              "    <div class=\"colab-df-container\">\n",
              "      <div>\n",
              "<style scoped>\n",
              "    .dataframe tbody tr th:only-of-type {\n",
              "        vertical-align: middle;\n",
              "    }\n",
              "\n",
              "    .dataframe tbody tr th {\n",
              "        vertical-align: top;\n",
              "    }\n",
              "\n",
              "    .dataframe thead th {\n",
              "        text-align: right;\n",
              "    }\n",
              "</style>\n",
              "<table border=\"1\" class=\"dataframe\">\n",
              "  <thead>\n",
              "    <tr style=\"text-align: right;\">\n",
              "      <th></th>\n",
              "      <th>age</th>\n",
              "      <th>sex</th>\n",
              "      <th>cp</th>\n",
              "      <th>trestbps</th>\n",
              "      <th>chol</th>\n",
              "      <th>fbs</th>\n",
              "      <th>restecg</th>\n",
              "      <th>thalach</th>\n",
              "      <th>exang</th>\n",
              "      <th>oldpeak</th>\n",
              "      <th>slope</th>\n",
              "      <th>ca</th>\n",
              "      <th>thal</th>\n",
              "      <th>target</th>\n",
              "    </tr>\n",
              "  </thead>\n",
              "  <tbody>\n",
              "    <tr>\n",
              "      <th>0</th>\n",
              "      <td>52</td>\n",
              "      <td>1</td>\n",
              "      <td>0</td>\n",
              "      <td>125</td>\n",
              "      <td>212</td>\n",
              "      <td>0</td>\n",
              "      <td>1</td>\n",
              "      <td>168</td>\n",
              "      <td>0</td>\n",
              "      <td>1.0</td>\n",
              "      <td>2</td>\n",
              "      <td>2</td>\n",
              "      <td>3</td>\n",
              "      <td>0</td>\n",
              "    </tr>\n",
              "    <tr>\n",
              "      <th>1</th>\n",
              "      <td>53</td>\n",
              "      <td>1</td>\n",
              "      <td>0</td>\n",
              "      <td>140</td>\n",
              "      <td>203</td>\n",
              "      <td>1</td>\n",
              "      <td>0</td>\n",
              "      <td>155</td>\n",
              "      <td>1</td>\n",
              "      <td>3.1</td>\n",
              "      <td>0</td>\n",
              "      <td>0</td>\n",
              "      <td>3</td>\n",
              "      <td>0</td>\n",
              "    </tr>\n",
              "    <tr>\n",
              "      <th>2</th>\n",
              "      <td>70</td>\n",
              "      <td>1</td>\n",
              "      <td>0</td>\n",
              "      <td>145</td>\n",
              "      <td>174</td>\n",
              "      <td>0</td>\n",
              "      <td>1</td>\n",
              "      <td>125</td>\n",
              "      <td>1</td>\n",
              "      <td>2.6</td>\n",
              "      <td>0</td>\n",
              "      <td>0</td>\n",
              "      <td>3</td>\n",
              "      <td>0</td>\n",
              "    </tr>\n",
              "    <tr>\n",
              "      <th>3</th>\n",
              "      <td>61</td>\n",
              "      <td>1</td>\n",
              "      <td>0</td>\n",
              "      <td>148</td>\n",
              "      <td>203</td>\n",
              "      <td>0</td>\n",
              "      <td>1</td>\n",
              "      <td>161</td>\n",
              "      <td>0</td>\n",
              "      <td>0.0</td>\n",
              "      <td>2</td>\n",
              "      <td>1</td>\n",
              "      <td>3</td>\n",
              "      <td>0</td>\n",
              "    </tr>\n",
              "    <tr>\n",
              "      <th>4</th>\n",
              "      <td>62</td>\n",
              "      <td>0</td>\n",
              "      <td>0</td>\n",
              "      <td>138</td>\n",
              "      <td>294</td>\n",
              "      <td>1</td>\n",
              "      <td>1</td>\n",
              "      <td>106</td>\n",
              "      <td>0</td>\n",
              "      <td>1.9</td>\n",
              "      <td>1</td>\n",
              "      <td>3</td>\n",
              "      <td>2</td>\n",
              "      <td>0</td>\n",
              "    </tr>\n",
              "  </tbody>\n",
              "</table>\n",
              "</div>\n",
              "      <button class=\"colab-df-convert\" onclick=\"convertToInteractive('df-512a67ec-387a-4c3d-a138-a24ebdff21c2')\"\n",
              "              title=\"Convert this dataframe to an interactive table.\"\n",
              "              style=\"display:none;\">\n",
              "        \n",
              "  <svg xmlns=\"http://www.w3.org/2000/svg\" height=\"24px\"viewBox=\"0 0 24 24\"\n",
              "       width=\"24px\">\n",
              "    <path d=\"M0 0h24v24H0V0z\" fill=\"none\"/>\n",
              "    <path d=\"M18.56 5.44l.94 2.06.94-2.06 2.06-.94-2.06-.94-.94-2.06-.94 2.06-2.06.94zm-11 1L8.5 8.5l.94-2.06 2.06-.94-2.06-.94L8.5 2.5l-.94 2.06-2.06.94zm10 10l.94 2.06.94-2.06 2.06-.94-2.06-.94-.94-2.06-.94 2.06-2.06.94z\"/><path d=\"M17.41 7.96l-1.37-1.37c-.4-.4-.92-.59-1.43-.59-.52 0-1.04.2-1.43.59L10.3 9.45l-7.72 7.72c-.78.78-.78 2.05 0 2.83L4 21.41c.39.39.9.59 1.41.59.51 0 1.02-.2 1.41-.59l7.78-7.78 2.81-2.81c.8-.78.8-2.07 0-2.86zM5.41 20L4 18.59l7.72-7.72 1.47 1.35L5.41 20z\"/>\n",
              "  </svg>\n",
              "      </button>\n",
              "      \n",
              "  <style>\n",
              "    .colab-df-container {\n",
              "      display:flex;\n",
              "      flex-wrap:wrap;\n",
              "      gap: 12px;\n",
              "    }\n",
              "\n",
              "    .colab-df-convert {\n",
              "      background-color: #E8F0FE;\n",
              "      border: none;\n",
              "      border-radius: 50%;\n",
              "      cursor: pointer;\n",
              "      display: none;\n",
              "      fill: #1967D2;\n",
              "      height: 32px;\n",
              "      padding: 0 0 0 0;\n",
              "      width: 32px;\n",
              "    }\n",
              "\n",
              "    .colab-df-convert:hover {\n",
              "      background-color: #E2EBFA;\n",
              "      box-shadow: 0px 1px 2px rgba(60, 64, 67, 0.3), 0px 1px 3px 1px rgba(60, 64, 67, 0.15);\n",
              "      fill: #174EA6;\n",
              "    }\n",
              "\n",
              "    [theme=dark] .colab-df-convert {\n",
              "      background-color: #3B4455;\n",
              "      fill: #D2E3FC;\n",
              "    }\n",
              "\n",
              "    [theme=dark] .colab-df-convert:hover {\n",
              "      background-color: #434B5C;\n",
              "      box-shadow: 0px 1px 3px 1px rgba(0, 0, 0, 0.15);\n",
              "      filter: drop-shadow(0px 1px 2px rgba(0, 0, 0, 0.3));\n",
              "      fill: #FFFFFF;\n",
              "    }\n",
              "  </style>\n",
              "\n",
              "      <script>\n",
              "        const buttonEl =\n",
              "          document.querySelector('#df-512a67ec-387a-4c3d-a138-a24ebdff21c2 button.colab-df-convert');\n",
              "        buttonEl.style.display =\n",
              "          google.colab.kernel.accessAllowed ? 'block' : 'none';\n",
              "\n",
              "        async function convertToInteractive(key) {\n",
              "          const element = document.querySelector('#df-512a67ec-387a-4c3d-a138-a24ebdff21c2');\n",
              "          const dataTable =\n",
              "            await google.colab.kernel.invokeFunction('convertToInteractive',\n",
              "                                                     [key], {});\n",
              "          if (!dataTable) return;\n",
              "\n",
              "          const docLinkHtml = 'Like what you see? Visit the ' +\n",
              "            '<a target=\"_blank\" href=https://colab.research.google.com/notebooks/data_table.ipynb>data table notebook</a>'\n",
              "            + ' to learn more about interactive tables.';\n",
              "          element.innerHTML = '';\n",
              "          dataTable['output_type'] = 'display_data';\n",
              "          await google.colab.output.renderOutput(dataTable, element);\n",
              "          const docLink = document.createElement('div');\n",
              "          docLink.innerHTML = docLinkHtml;\n",
              "          element.appendChild(docLink);\n",
              "        }\n",
              "      </script>\n",
              "    </div>\n",
              "  </div>\n",
              "  "
            ]
          },
          "metadata": {},
          "execution_count": 15
        }
      ]
    },
    {
      "cell_type": "code",
      "source": [
        "df = df.to_numpy()"
      ],
      "metadata": {
        "id": "ktyiv7rO3XCC"
      },
      "execution_count": null,
      "outputs": []
    },
    {
      "cell_type": "code",
      "source": [
        "df"
      ],
      "metadata": {
        "colab": {
          "base_uri": "https://localhost:8080/"
        },
        "id": "irG_XNYz4xR2",
        "outputId": "1fb4f626-4d3a-4bdc-df12-b105c37009ba"
      },
      "execution_count": null,
      "outputs": [
        {
          "output_type": "execute_result",
          "data": {
            "text/plain": [
              "array([[52.,  1.,  0., ...,  2.,  3.,  0.],\n",
              "       [53.,  1.,  0., ...,  0.,  3.,  0.],\n",
              "       [70.,  1.,  0., ...,  0.,  3.,  0.],\n",
              "       ...,\n",
              "       [47.,  1.,  0., ...,  1.,  2.,  0.],\n",
              "       [50.,  0.,  0., ...,  0.,  2.,  1.],\n",
              "       [54.,  1.,  0., ...,  1.,  3.,  0.]])"
            ]
          },
          "metadata": {},
          "execution_count": 17
        }
      ]
    },
    {
      "cell_type": "code",
      "source": [
        "dataTraining = np.concatenate((df[0:40, :], df[50:90, :]),\n",
        "                              axis=0)\n",
        "dataTesting = np.concatenate((df[40:50, :], df[90:100, :]),\n",
        "                                axis=0)\n",
        "\n"
      ],
      "metadata": {
        "id": "epsk36be4yHX"
      },
      "execution_count": null,
      "outputs": []
    },
    {
      "cell_type": "code",
      "source": [
        "print(dataTraining)\n",
        "len(dataTraining)"
      ],
      "metadata": {
        "colab": {
          "base_uri": "https://localhost:8080/"
        },
        "id": "u9T0njaN5Qhq",
        "outputId": "a4181fb7-c903-402b-ed3c-c79422263a79"
      },
      "execution_count": null,
      "outputs": [
        {
          "output_type": "stream",
          "name": "stdout",
          "text": [
            "[[52.  1.  0. ...  2.  3.  0.]\n",
            " [53.  1.  0. ...  0.  3.  0.]\n",
            " [70.  1.  0. ...  0.  3.  0.]\n",
            " ...\n",
            " [59.  0.  0. ...  0.  2.  0.]\n",
            " [62.  0.  0. ...  2.  2.  0.]\n",
            " [68.  1.  0. ...  2.  3.  0.]]\n"
          ]
        },
        {
          "output_type": "execute_result",
          "data": {
            "text/plain": [
              "80"
            ]
          },
          "metadata": {},
          "execution_count": 20
        }
      ]
    },
    {
      "cell_type": "code",
      "source": [
        "print(dataTesting)\n",
        "len(dataTesting)"
      ],
      "metadata": {
        "colab": {
          "base_uri": "https://localhost:8080/"
        },
        "id": "lqEdeEXj5UJA",
        "outputId": "066bc90c-eb35-4da9-daf2-426d8c6d0b91"
      },
      "execution_count": null,
      "outputs": [
        {
          "output_type": "stream",
          "name": "stdout",
          "text": [
            "[[6.50e+01 0.00e+00 2.00e+00 1.60e+02 3.60e+02 0.00e+00 0.00e+00 1.51e+02\n",
            "  0.00e+00 8.00e-01 2.00e+00 0.00e+00 2.00e+00 1.00e+00]\n",
            " [5.40e+01 1.00e+00 2.00e+00 1.20e+02 2.58e+02 0.00e+00 0.00e+00 1.47e+02\n",
            "  0.00e+00 4.00e-01 1.00e+00 0.00e+00 3.00e+00 1.00e+00]\n",
            " [6.10e+01 0.00e+00 0.00e+00 1.30e+02 3.30e+02 0.00e+00 0.00e+00 1.69e+02\n",
            "  0.00e+00 0.00e+00 2.00e+00 0.00e+00 2.00e+00 0.00e+00]\n",
            " [4.60e+01 1.00e+00 0.00e+00 1.20e+02 2.49e+02 0.00e+00 0.00e+00 1.44e+02\n",
            "  0.00e+00 8.00e-01 2.00e+00 0.00e+00 3.00e+00 0.00e+00]\n",
            " [5.50e+01 0.00e+00 1.00e+00 1.32e+02 3.42e+02 0.00e+00 1.00e+00 1.66e+02\n",
            "  0.00e+00 1.20e+00 2.00e+00 0.00e+00 2.00e+00 1.00e+00]\n",
            " [4.20e+01 1.00e+00 0.00e+00 1.40e+02 2.26e+02 0.00e+00 1.00e+00 1.78e+02\n",
            "  0.00e+00 0.00e+00 2.00e+00 0.00e+00 2.00e+00 1.00e+00]\n",
            " [4.10e+01 1.00e+00 1.00e+00 1.35e+02 2.03e+02 0.00e+00 1.00e+00 1.32e+02\n",
            "  0.00e+00 0.00e+00 1.00e+00 0.00e+00 1.00e+00 1.00e+00]\n",
            " [6.60e+01 0.00e+00 0.00e+00 1.78e+02 2.28e+02 1.00e+00 1.00e+00 1.65e+02\n",
            "  1.00e+00 1.00e+00 1.00e+00 2.00e+00 3.00e+00 0.00e+00]\n",
            " [6.60e+01 0.00e+00 2.00e+00 1.46e+02 2.78e+02 0.00e+00 0.00e+00 1.52e+02\n",
            "  0.00e+00 0.00e+00 1.00e+00 1.00e+00 2.00e+00 1.00e+00]\n",
            " [6.00e+01 1.00e+00 0.00e+00 1.17e+02 2.30e+02 1.00e+00 1.00e+00 1.60e+02\n",
            "  1.00e+00 1.40e+00 2.00e+00 2.00e+00 3.00e+00 0.00e+00]\n",
            " [5.40e+01 0.00e+00 2.00e+00 1.08e+02 2.67e+02 0.00e+00 0.00e+00 1.67e+02\n",
            "  0.00e+00 0.00e+00 2.00e+00 0.00e+00 2.00e+00 1.00e+00]\n",
            " [6.20e+01 0.00e+00 0.00e+00 1.24e+02 2.09e+02 0.00e+00 1.00e+00 1.63e+02\n",
            "  0.00e+00 0.00e+00 2.00e+00 0.00e+00 2.00e+00 1.00e+00]\n",
            " [6.30e+01 1.00e+00 0.00e+00 1.40e+02 1.87e+02 0.00e+00 0.00e+00 1.44e+02\n",
            "  1.00e+00 4.00e+00 2.00e+00 2.00e+00 3.00e+00 0.00e+00]\n",
            " [4.40e+01 1.00e+00 0.00e+00 1.20e+02 1.69e+02 0.00e+00 1.00e+00 1.44e+02\n",
            "  1.00e+00 2.80e+00 0.00e+00 0.00e+00 1.00e+00 0.00e+00]\n",
            " [6.20e+01 1.00e+00 1.00e+00 1.28e+02 2.08e+02 1.00e+00 0.00e+00 1.40e+02\n",
            "  0.00e+00 0.00e+00 2.00e+00 0.00e+00 2.00e+00 1.00e+00]\n",
            " [4.50e+01 0.00e+00 0.00e+00 1.38e+02 2.36e+02 0.00e+00 0.00e+00 1.52e+02\n",
            "  1.00e+00 2.00e-01 1.00e+00 0.00e+00 2.00e+00 1.00e+00]\n",
            " [5.70e+01 0.00e+00 0.00e+00 1.28e+02 3.03e+02 0.00e+00 0.00e+00 1.59e+02\n",
            "  0.00e+00 0.00e+00 2.00e+00 1.00e+00 2.00e+00 1.00e+00]\n",
            " [5.30e+01 1.00e+00 0.00e+00 1.23e+02 2.82e+02 0.00e+00 1.00e+00 9.50e+01\n",
            "  1.00e+00 2.00e+00 1.00e+00 2.00e+00 3.00e+00 0.00e+00]\n",
            " [6.50e+01 1.00e+00 0.00e+00 1.10e+02 2.48e+02 0.00e+00 0.00e+00 1.58e+02\n",
            "  0.00e+00 6.00e-01 2.00e+00 2.00e+00 1.00e+00 0.00e+00]\n",
            " [7.60e+01 0.00e+00 2.00e+00 1.40e+02 1.97e+02 0.00e+00 2.00e+00 1.16e+02\n",
            "  0.00e+00 1.10e+00 1.00e+00 0.00e+00 2.00e+00 1.00e+00]]\n"
          ]
        },
        {
          "output_type": "execute_result",
          "data": {
            "text/plain": [
              "20"
            ]
          },
          "metadata": {},
          "execution_count": 21
        }
      ]
    },
    {
      "cell_type": "code",
      "source": [
        "inputTraining = dataTraining[:, 0:4]\n",
        "inputTesting = dataTesting[:, 0:4]\n",
        "labelTraining = dataTraining[:, 4]\n",
        "labelTesting = dataTesting[:, 4]\n",
        "print(labelTraining)\n",
        "len(labelTraining)"
      ],
      "metadata": {
        "colab": {
          "base_uri": "https://localhost:8080/"
        },
        "id": "5ToPnp5a5WzA",
        "outputId": "154358ae-80b3-4719-aea7-e3dbe63a162e"
      },
      "execution_count": null,
      "outputs": [
        {
          "output_type": "stream",
          "name": "stdout",
          "text": [
            "[212. 203. 174. 203. 294. 248. 318. 289. 249. 286. 149. 341. 210. 298.\n",
            " 204. 210. 308. 266. 244. 211. 185. 223. 208. 252. 209. 307. 233. 319.\n",
            " 256. 327. 169. 244. 131. 269. 196. 231. 213. 271. 263. 229. 283. 241.\n",
            " 175. 188. 217. 217. 193. 245. 212. 232. 204. 278. 299. 212. 204. 288.\n",
            " 197. 315. 215. 164. 326. 207. 249. 177. 256. 257. 255. 187. 201. 201.\n",
            " 233. 149. 231. 175. 215. 220. 211. 249. 268. 193.]\n"
          ]
        },
        {
          "output_type": "execute_result",
          "data": {
            "text/plain": [
              "80"
            ]
          },
          "metadata": {},
          "execution_count": 22
        }
      ]
    },
    {
      "cell_type": "code",
      "source": [
        "from sklearn import tree\n",
        "model = tree.DecisionTreeClassifier()"
      ],
      "metadata": {
        "id": "O_EtkLxI5ZJT"
      },
      "execution_count": null,
      "outputs": []
    },
    {
      "cell_type": "code",
      "source": [
        "model = model.fit(inputTraining, labelTraining)"
      ],
      "metadata": {
        "id": "ru-xjd2y5odq"
      },
      "execution_count": null,
      "outputs": []
    },
    {
      "cell_type": "code",
      "source": [
        "\n",
        "\n",
        "hasilPrediksi = model.predict(inputTesting)\n",
        "print(\"Label Sebenarnya : \", labelTesting)\n",
        "print(\"Hasil Prediksi : \", hasilPrediksi)\n",
        "\n"
      ],
      "metadata": {
        "id": "LDJ2r6Sp5qWY",
        "outputId": "e2d95909-67ac-4e34-a734-6d3804dfd8de",
        "colab": {
          "base_uri": "https://localhost:8080/"
        }
      },
      "execution_count": null,
      "outputs": [
        {
          "output_type": "stream",
          "name": "stdout",
          "text": [
            "Label Sebenarnya :  [360. 258. 330. 249. 342. 226. 203. 228. 278. 230. 267. 209. 187. 169.\n",
            " 208. 236. 303. 282. 248. 197.]\n",
            "Hasil Prediksi :  [269. 197. 294. 249. 217. 315. 315. 164. 278. 318. 248. 294. 187. 169.\n",
            " 263. 341. 241. 286. 318. 185.]\n"
          ]
        }
      ]
    },
    {
      "cell_type": "code",
      "source": [
        "import matplotlib.pyplot as plt"
      ],
      "metadata": {
        "id": "YMARD605aOxp"
      },
      "execution_count": null,
      "outputs": []
    },
    {
      "cell_type": "code",
      "source": [],
      "metadata": {
        "id": "tsFfy3qYbCK7"
      },
      "execution_count": null,
      "outputs": []
    },
    {
      "cell_type": "code",
      "source": [
        "\n",
        "\n",
        "prediksiBenar = (hasilPrediksi == labelTesting).sum()\n",
        "prediksiSalah = (hasilPrediksi != labelTesting).sum()\n",
        "print(\"Prediksi Benar : \", prediksiBenar, \"data\")\n",
        "print(\"Prediksi Salah : \", prediksiSalah, \"data\")\n",
        "print(\"Akurasi :\", prediksiBenar/(prediksiBenar+prediksiSalah) * 100, \"%\")\n",
        "\n"
      ],
      "metadata": {
        "id": "dDlgeS5Z5spj",
        "outputId": "bdaca453-65eb-4786-882b-a80a4b6b0751",
        "colab": {
          "base_uri": "https://localhost:8080/"
        }
      },
      "execution_count": null,
      "outputs": [
        {
          "output_type": "stream",
          "name": "stdout",
          "text": [
            "Prediksi Benar :  4 data\n",
            "Prediksi Salah :  16 data\n",
            "Akurasi : 20.0 %\n"
          ]
        }
      ]
    }
  ]
}