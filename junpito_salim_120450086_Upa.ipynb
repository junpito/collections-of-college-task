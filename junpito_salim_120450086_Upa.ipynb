{
  "nbformat": 4,
  "nbformat_minor": 0,
  "metadata": {
    "colab": {
      "provenance": [],
      "authorship_tag": "ABX9TyORjd0zMDm3tLnZ6liaaGg9",
      "include_colab_link": true
    },
    "kernelspec": {
      "name": "python3",
      "display_name": "Python 3"
    },
    "language_info": {
      "name": "python"
    }
  },
  "cells": [
    {
      "cell_type": "markdown",
      "metadata": {
        "id": "view-in-github",
        "colab_type": "text"
      },
      "source": [
        "<a href=\"https://colab.research.google.com/github/junpito/collections-of-college-task/blob/main/junpito_salim_120450086_Upa.ipynb\" target=\"_parent\"><img src=\"https://colab.research.google.com/assets/colab-badge.svg\" alt=\"Open In Colab\"/></a>"
      ]
    },
    {
      "cell_type": "markdown",
      "source": [
        "#data preprocessing"
      ],
      "metadata": {
        "id": "q1yzc5kEY3i9"
      }
    },
    {
      "cell_type": "code",
      "source": [
        "import pandas as pd\n",
        "import matplotlib.pyplot as plt\n",
        "import seaborn as sns\n",
        "import numpy as np"
      ],
      "metadata": {
        "id": "nFRyf6cdXzsN"
      },
      "execution_count": null,
      "outputs": []
    },
    {
      "cell_type": "code",
      "execution_count": null,
      "metadata": {
        "colab": {
          "base_uri": "https://localhost:8080/"
        },
        "id": "erWibbGwWcA-",
        "outputId": "3ca313d7-0fa1-4bbc-c6c6-c2230097955c"
      },
      "outputs": [
        {
          "output_type": "stream",
          "name": "stdout",
          "text": [
            "Drive already mounted at /content/drive; to attempt to forcibly remount, call drive.mount(\"/content/drive\", force_remount=True).\n"
          ]
        }
      ],
      "source": [
        "from google.colab import drive \n",
        "drive.mount('/content/drive')"
      ]
    },
    {
      "cell_type": "code",
      "source": [
        "df = pd.read_csv('/content/drive/MyDrive/praktikum/Data_Tanaman_Padi_Sumatera.csv')"
      ],
      "metadata": {
        "id": "fsJpyF9RXvK2"
      },
      "execution_count": null,
      "outputs": []
    },
    {
      "cell_type": "code",
      "source": [
        "df.head()"
      ],
      "metadata": {
        "colab": {
          "base_uri": "https://localhost:8080/",
          "height": 206
        },
        "id": "w5ZqFw-nYpH9",
        "outputId": "54d9e6b8-5b68-4382-939f-827ca0c1d3f0"
      },
      "execution_count": null,
      "outputs": [
        {
          "output_type": "execute_result",
          "data": {
            "text/plain": [
              "  Provinsi  Tahun   Produksi  Luas Panen  Curah hujan  Kelembapan  \\\n",
              "0     Aceh   1993  1329536.0    323589.0       1627.0       82.00   \n",
              "1     Aceh   1994  1299699.0    329041.0       1521.0       82.12   \n",
              "2     Aceh   1995  1382905.0    339253.0       1476.0       82.72   \n",
              "3     Aceh   1996  1419128.0    348223.0       1557.0       83.00   \n",
              "4     Aceh   1997  1368074.0    337561.0       1339.0       82.46   \n",
              "\n",
              "   Suhu rata-rata  \n",
              "0           26.06  \n",
              "1           26.92  \n",
              "2           26.27  \n",
              "3           26.08  \n",
              "4           26.31  "
            ],
            "text/html": [
              "\n",
              "  <div id=\"df-296b9cfe-740f-4104-925c-460e6173886d\">\n",
              "    <div class=\"colab-df-container\">\n",
              "      <div>\n",
              "<style scoped>\n",
              "    .dataframe tbody tr th:only-of-type {\n",
              "        vertical-align: middle;\n",
              "    }\n",
              "\n",
              "    .dataframe tbody tr th {\n",
              "        vertical-align: top;\n",
              "    }\n",
              "\n",
              "    .dataframe thead th {\n",
              "        text-align: right;\n",
              "    }\n",
              "</style>\n",
              "<table border=\"1\" class=\"dataframe\">\n",
              "  <thead>\n",
              "    <tr style=\"text-align: right;\">\n",
              "      <th></th>\n",
              "      <th>Provinsi</th>\n",
              "      <th>Tahun</th>\n",
              "      <th>Produksi</th>\n",
              "      <th>Luas Panen</th>\n",
              "      <th>Curah hujan</th>\n",
              "      <th>Kelembapan</th>\n",
              "      <th>Suhu rata-rata</th>\n",
              "    </tr>\n",
              "  </thead>\n",
              "  <tbody>\n",
              "    <tr>\n",
              "      <th>0</th>\n",
              "      <td>Aceh</td>\n",
              "      <td>1993</td>\n",
              "      <td>1329536.0</td>\n",
              "      <td>323589.0</td>\n",
              "      <td>1627.0</td>\n",
              "      <td>82.00</td>\n",
              "      <td>26.06</td>\n",
              "    </tr>\n",
              "    <tr>\n",
              "      <th>1</th>\n",
              "      <td>Aceh</td>\n",
              "      <td>1994</td>\n",
              "      <td>1299699.0</td>\n",
              "      <td>329041.0</td>\n",
              "      <td>1521.0</td>\n",
              "      <td>82.12</td>\n",
              "      <td>26.92</td>\n",
              "    </tr>\n",
              "    <tr>\n",
              "      <th>2</th>\n",
              "      <td>Aceh</td>\n",
              "      <td>1995</td>\n",
              "      <td>1382905.0</td>\n",
              "      <td>339253.0</td>\n",
              "      <td>1476.0</td>\n",
              "      <td>82.72</td>\n",
              "      <td>26.27</td>\n",
              "    </tr>\n",
              "    <tr>\n",
              "      <th>3</th>\n",
              "      <td>Aceh</td>\n",
              "      <td>1996</td>\n",
              "      <td>1419128.0</td>\n",
              "      <td>348223.0</td>\n",
              "      <td>1557.0</td>\n",
              "      <td>83.00</td>\n",
              "      <td>26.08</td>\n",
              "    </tr>\n",
              "    <tr>\n",
              "      <th>4</th>\n",
              "      <td>Aceh</td>\n",
              "      <td>1997</td>\n",
              "      <td>1368074.0</td>\n",
              "      <td>337561.0</td>\n",
              "      <td>1339.0</td>\n",
              "      <td>82.46</td>\n",
              "      <td>26.31</td>\n",
              "    </tr>\n",
              "  </tbody>\n",
              "</table>\n",
              "</div>\n",
              "      <button class=\"colab-df-convert\" onclick=\"convertToInteractive('df-296b9cfe-740f-4104-925c-460e6173886d')\"\n",
              "              title=\"Convert this dataframe to an interactive table.\"\n",
              "              style=\"display:none;\">\n",
              "        \n",
              "  <svg xmlns=\"http://www.w3.org/2000/svg\" height=\"24px\"viewBox=\"0 0 24 24\"\n",
              "       width=\"24px\">\n",
              "    <path d=\"M0 0h24v24H0V0z\" fill=\"none\"/>\n",
              "    <path d=\"M18.56 5.44l.94 2.06.94-2.06 2.06-.94-2.06-.94-.94-2.06-.94 2.06-2.06.94zm-11 1L8.5 8.5l.94-2.06 2.06-.94-2.06-.94L8.5 2.5l-.94 2.06-2.06.94zm10 10l.94 2.06.94-2.06 2.06-.94-2.06-.94-.94-2.06-.94 2.06-2.06.94z\"/><path d=\"M17.41 7.96l-1.37-1.37c-.4-.4-.92-.59-1.43-.59-.52 0-1.04.2-1.43.59L10.3 9.45l-7.72 7.72c-.78.78-.78 2.05 0 2.83L4 21.41c.39.39.9.59 1.41.59.51 0 1.02-.2 1.41-.59l7.78-7.78 2.81-2.81c.8-.78.8-2.07 0-2.86zM5.41 20L4 18.59l7.72-7.72 1.47 1.35L5.41 20z\"/>\n",
              "  </svg>\n",
              "      </button>\n",
              "      \n",
              "  <style>\n",
              "    .colab-df-container {\n",
              "      display:flex;\n",
              "      flex-wrap:wrap;\n",
              "      gap: 12px;\n",
              "    }\n",
              "\n",
              "    .colab-df-convert {\n",
              "      background-color: #E8F0FE;\n",
              "      border: none;\n",
              "      border-radius: 50%;\n",
              "      cursor: pointer;\n",
              "      display: none;\n",
              "      fill: #1967D2;\n",
              "      height: 32px;\n",
              "      padding: 0 0 0 0;\n",
              "      width: 32px;\n",
              "    }\n",
              "\n",
              "    .colab-df-convert:hover {\n",
              "      background-color: #E2EBFA;\n",
              "      box-shadow: 0px 1px 2px rgba(60, 64, 67, 0.3), 0px 1px 3px 1px rgba(60, 64, 67, 0.15);\n",
              "      fill: #174EA6;\n",
              "    }\n",
              "\n",
              "    [theme=dark] .colab-df-convert {\n",
              "      background-color: #3B4455;\n",
              "      fill: #D2E3FC;\n",
              "    }\n",
              "\n",
              "    [theme=dark] .colab-df-convert:hover {\n",
              "      background-color: #434B5C;\n",
              "      box-shadow: 0px 1px 3px 1px rgba(0, 0, 0, 0.15);\n",
              "      filter: drop-shadow(0px 1px 2px rgba(0, 0, 0, 0.3));\n",
              "      fill: #FFFFFF;\n",
              "    }\n",
              "  </style>\n",
              "\n",
              "      <script>\n",
              "        const buttonEl =\n",
              "          document.querySelector('#df-296b9cfe-740f-4104-925c-460e6173886d button.colab-df-convert');\n",
              "        buttonEl.style.display =\n",
              "          google.colab.kernel.accessAllowed ? 'block' : 'none';\n",
              "\n",
              "        async function convertToInteractive(key) {\n",
              "          const element = document.querySelector('#df-296b9cfe-740f-4104-925c-460e6173886d');\n",
              "          const dataTable =\n",
              "            await google.colab.kernel.invokeFunction('convertToInteractive',\n",
              "                                                     [key], {});\n",
              "          if (!dataTable) return;\n",
              "\n",
              "          const docLinkHtml = 'Like what you see? Visit the ' +\n",
              "            '<a target=\"_blank\" href=https://colab.research.google.com/notebooks/data_table.ipynb>data table notebook</a>'\n",
              "            + ' to learn more about interactive tables.';\n",
              "          element.innerHTML = '';\n",
              "          dataTable['output_type'] = 'display_data';\n",
              "          await google.colab.output.renderOutput(dataTable, element);\n",
              "          const docLink = document.createElement('div');\n",
              "          docLink.innerHTML = docLinkHtml;\n",
              "          element.appendChild(docLink);\n",
              "        }\n",
              "      </script>\n",
              "    </div>\n",
              "  </div>\n",
              "  "
            ]
          },
          "metadata": {},
          "execution_count": 4
        }
      ]
    },
    {
      "cell_type": "code",
      "source": [
        "df.tail()"
      ],
      "metadata": {
        "colab": {
          "base_uri": "https://localhost:8080/",
          "height": 206
        },
        "id": "WzbAjlQ9YrUs",
        "outputId": "f14b2af5-d136-4fd6-a640-a2a43331de13"
      },
      "execution_count": null,
      "outputs": [
        {
          "output_type": "execute_result",
          "data": {
            "text/plain": [
              "    Provinsi  Tahun    Produksi  Luas Panen  Curah hujan  Kelembapan  \\\n",
              "219  Lampung   2016  3831923.00   390799.00       2317.6       79.40   \n",
              "220  Lampung   2017  4090654.00   396559.00       1825.1       77.04   \n",
              "221  Lampung   2018  2488641.91   511940.93       1385.8       76.05   \n",
              "222  Lampung   2019  2164089.33   464103.42       1706.4       78.03   \n",
              "223  Lampung   2020  2604913.29   545149.05       2211.3       75.80   \n",
              "\n",
              "     Suhu rata-rata  \n",
              "219           26.45  \n",
              "220           26.36  \n",
              "221           25.50  \n",
              "222           27.23  \n",
              "223           24.58  "
            ],
            "text/html": [
              "\n",
              "  <div id=\"df-c31aa253-5a9f-4c09-97e5-b4a2cf171abd\">\n",
              "    <div class=\"colab-df-container\">\n",
              "      <div>\n",
              "<style scoped>\n",
              "    .dataframe tbody tr th:only-of-type {\n",
              "        vertical-align: middle;\n",
              "    }\n",
              "\n",
              "    .dataframe tbody tr th {\n",
              "        vertical-align: top;\n",
              "    }\n",
              "\n",
              "    .dataframe thead th {\n",
              "        text-align: right;\n",
              "    }\n",
              "</style>\n",
              "<table border=\"1\" class=\"dataframe\">\n",
              "  <thead>\n",
              "    <tr style=\"text-align: right;\">\n",
              "      <th></th>\n",
              "      <th>Provinsi</th>\n",
              "      <th>Tahun</th>\n",
              "      <th>Produksi</th>\n",
              "      <th>Luas Panen</th>\n",
              "      <th>Curah hujan</th>\n",
              "      <th>Kelembapan</th>\n",
              "      <th>Suhu rata-rata</th>\n",
              "    </tr>\n",
              "  </thead>\n",
              "  <tbody>\n",
              "    <tr>\n",
              "      <th>219</th>\n",
              "      <td>Lampung</td>\n",
              "      <td>2016</td>\n",
              "      <td>3831923.00</td>\n",
              "      <td>390799.00</td>\n",
              "      <td>2317.6</td>\n",
              "      <td>79.40</td>\n",
              "      <td>26.45</td>\n",
              "    </tr>\n",
              "    <tr>\n",
              "      <th>220</th>\n",
              "      <td>Lampung</td>\n",
              "      <td>2017</td>\n",
              "      <td>4090654.00</td>\n",
              "      <td>396559.00</td>\n",
              "      <td>1825.1</td>\n",
              "      <td>77.04</td>\n",
              "      <td>26.36</td>\n",
              "    </tr>\n",
              "    <tr>\n",
              "      <th>221</th>\n",
              "      <td>Lampung</td>\n",
              "      <td>2018</td>\n",
              "      <td>2488641.91</td>\n",
              "      <td>511940.93</td>\n",
              "      <td>1385.8</td>\n",
              "      <td>76.05</td>\n",
              "      <td>25.50</td>\n",
              "    </tr>\n",
              "    <tr>\n",
              "      <th>222</th>\n",
              "      <td>Lampung</td>\n",
              "      <td>2019</td>\n",
              "      <td>2164089.33</td>\n",
              "      <td>464103.42</td>\n",
              "      <td>1706.4</td>\n",
              "      <td>78.03</td>\n",
              "      <td>27.23</td>\n",
              "    </tr>\n",
              "    <tr>\n",
              "      <th>223</th>\n",
              "      <td>Lampung</td>\n",
              "      <td>2020</td>\n",
              "      <td>2604913.29</td>\n",
              "      <td>545149.05</td>\n",
              "      <td>2211.3</td>\n",
              "      <td>75.80</td>\n",
              "      <td>24.58</td>\n",
              "    </tr>\n",
              "  </tbody>\n",
              "</table>\n",
              "</div>\n",
              "      <button class=\"colab-df-convert\" onclick=\"convertToInteractive('df-c31aa253-5a9f-4c09-97e5-b4a2cf171abd')\"\n",
              "              title=\"Convert this dataframe to an interactive table.\"\n",
              "              style=\"display:none;\">\n",
              "        \n",
              "  <svg xmlns=\"http://www.w3.org/2000/svg\" height=\"24px\"viewBox=\"0 0 24 24\"\n",
              "       width=\"24px\">\n",
              "    <path d=\"M0 0h24v24H0V0z\" fill=\"none\"/>\n",
              "    <path d=\"M18.56 5.44l.94 2.06.94-2.06 2.06-.94-2.06-.94-.94-2.06-.94 2.06-2.06.94zm-11 1L8.5 8.5l.94-2.06 2.06-.94-2.06-.94L8.5 2.5l-.94 2.06-2.06.94zm10 10l.94 2.06.94-2.06 2.06-.94-2.06-.94-.94-2.06-.94 2.06-2.06.94z\"/><path d=\"M17.41 7.96l-1.37-1.37c-.4-.4-.92-.59-1.43-.59-.52 0-1.04.2-1.43.59L10.3 9.45l-7.72 7.72c-.78.78-.78 2.05 0 2.83L4 21.41c.39.39.9.59 1.41.59.51 0 1.02-.2 1.41-.59l7.78-7.78 2.81-2.81c.8-.78.8-2.07 0-2.86zM5.41 20L4 18.59l7.72-7.72 1.47 1.35L5.41 20z\"/>\n",
              "  </svg>\n",
              "      </button>\n",
              "      \n",
              "  <style>\n",
              "    .colab-df-container {\n",
              "      display:flex;\n",
              "      flex-wrap:wrap;\n",
              "      gap: 12px;\n",
              "    }\n",
              "\n",
              "    .colab-df-convert {\n",
              "      background-color: #E8F0FE;\n",
              "      border: none;\n",
              "      border-radius: 50%;\n",
              "      cursor: pointer;\n",
              "      display: none;\n",
              "      fill: #1967D2;\n",
              "      height: 32px;\n",
              "      padding: 0 0 0 0;\n",
              "      width: 32px;\n",
              "    }\n",
              "\n",
              "    .colab-df-convert:hover {\n",
              "      background-color: #E2EBFA;\n",
              "      box-shadow: 0px 1px 2px rgba(60, 64, 67, 0.3), 0px 1px 3px 1px rgba(60, 64, 67, 0.15);\n",
              "      fill: #174EA6;\n",
              "    }\n",
              "\n",
              "    [theme=dark] .colab-df-convert {\n",
              "      background-color: #3B4455;\n",
              "      fill: #D2E3FC;\n",
              "    }\n",
              "\n",
              "    [theme=dark] .colab-df-convert:hover {\n",
              "      background-color: #434B5C;\n",
              "      box-shadow: 0px 1px 3px 1px rgba(0, 0, 0, 0.15);\n",
              "      filter: drop-shadow(0px 1px 2px rgba(0, 0, 0, 0.3));\n",
              "      fill: #FFFFFF;\n",
              "    }\n",
              "  </style>\n",
              "\n",
              "      <script>\n",
              "        const buttonEl =\n",
              "          document.querySelector('#df-c31aa253-5a9f-4c09-97e5-b4a2cf171abd button.colab-df-convert');\n",
              "        buttonEl.style.display =\n",
              "          google.colab.kernel.accessAllowed ? 'block' : 'none';\n",
              "\n",
              "        async function convertToInteractive(key) {\n",
              "          const element = document.querySelector('#df-c31aa253-5a9f-4c09-97e5-b4a2cf171abd');\n",
              "          const dataTable =\n",
              "            await google.colab.kernel.invokeFunction('convertToInteractive',\n",
              "                                                     [key], {});\n",
              "          if (!dataTable) return;\n",
              "\n",
              "          const docLinkHtml = 'Like what you see? Visit the ' +\n",
              "            '<a target=\"_blank\" href=https://colab.research.google.com/notebooks/data_table.ipynb>data table notebook</a>'\n",
              "            + ' to learn more about interactive tables.';\n",
              "          element.innerHTML = '';\n",
              "          dataTable['output_type'] = 'display_data';\n",
              "          await google.colab.output.renderOutput(dataTable, element);\n",
              "          const docLink = document.createElement('div');\n",
              "          docLink.innerHTML = docLinkHtml;\n",
              "          element.appendChild(docLink);\n",
              "        }\n",
              "      </script>\n",
              "    </div>\n",
              "  </div>\n",
              "  "
            ]
          },
          "metadata": {},
          "execution_count": 5
        }
      ]
    },
    {
      "cell_type": "code",
      "source": [
        "df.info()"
      ],
      "metadata": {
        "colab": {
          "base_uri": "https://localhost:8080/"
        },
        "id": "vgJ3pr2mYsos",
        "outputId": "a7f9e7d9-11d0-4a7e-ee3e-519f95b51404"
      },
      "execution_count": null,
      "outputs": [
        {
          "output_type": "stream",
          "name": "stdout",
          "text": [
            "<class 'pandas.core.frame.DataFrame'>\n",
            "RangeIndex: 224 entries, 0 to 223\n",
            "Data columns (total 7 columns):\n",
            " #   Column          Non-Null Count  Dtype  \n",
            "---  ------          --------------  -----  \n",
            " 0   Provinsi        224 non-null    object \n",
            " 1   Tahun           224 non-null    int64  \n",
            " 2   Produksi        224 non-null    float64\n",
            " 3   Luas Panen      224 non-null    float64\n",
            " 4   Curah hujan     224 non-null    float64\n",
            " 5   Kelembapan      224 non-null    float64\n",
            " 6   Suhu rata-rata  224 non-null    float64\n",
            "dtypes: float64(5), int64(1), object(1)\n",
            "memory usage: 12.4+ KB\n"
          ]
        }
      ]
    },
    {
      "cell_type": "code",
      "source": [
        "df.describe()"
      ],
      "metadata": {
        "colab": {
          "base_uri": "https://localhost:8080/",
          "height": 300
        },
        "id": "qgbcUsLCYt90",
        "outputId": "66c14a32-bf2c-44ea-98f4-62337b90d6ac"
      },
      "execution_count": null,
      "outputs": [
        {
          "output_type": "execute_result",
          "data": {
            "text/plain": [
              "             Tahun      Produksi     Luas Panen  Curah hujan  Kelembapan  \\\n",
              "count   224.000000  2.240000e+02     224.000000   224.000000  224.000000   \n",
              "mean   2006.500000  1.679701e+06  374349.966920  2452.490759   80.948705   \n",
              "std       8.095838  1.161387e+06  232751.161987  1031.972625    4.878680   \n",
              "min    1993.000000  4.293800e+04   63142.040000   222.500000   54.200000   \n",
              "25%    1999.750000  5.488570e+05  146919.500000  1703.525000   78.975000   \n",
              "50%    2006.500000  1.667773e+06  373551.500000  2315.700000   82.375000   \n",
              "75%    2013.250000  2.436851e+06  514570.250000  3039.700000   84.000000   \n",
              "max    2020.000000  4.881089e+06  872737.000000  5522.000000   90.600000   \n",
              "\n",
              "       Suhu rata-rata  \n",
              "count      224.000000  \n",
              "mean        26.801964  \n",
              "std          1.197041  \n",
              "min         22.190000  \n",
              "25%         26.177500  \n",
              "50%         26.730000  \n",
              "75%         27.200000  \n",
              "max         29.850000  "
            ],
            "text/html": [
              "\n",
              "  <div id=\"df-fe181228-0c9e-4036-88b3-942281646907\">\n",
              "    <div class=\"colab-df-container\">\n",
              "      <div>\n",
              "<style scoped>\n",
              "    .dataframe tbody tr th:only-of-type {\n",
              "        vertical-align: middle;\n",
              "    }\n",
              "\n",
              "    .dataframe tbody tr th {\n",
              "        vertical-align: top;\n",
              "    }\n",
              "\n",
              "    .dataframe thead th {\n",
              "        text-align: right;\n",
              "    }\n",
              "</style>\n",
              "<table border=\"1\" class=\"dataframe\">\n",
              "  <thead>\n",
              "    <tr style=\"text-align: right;\">\n",
              "      <th></th>\n",
              "      <th>Tahun</th>\n",
              "      <th>Produksi</th>\n",
              "      <th>Luas Panen</th>\n",
              "      <th>Curah hujan</th>\n",
              "      <th>Kelembapan</th>\n",
              "      <th>Suhu rata-rata</th>\n",
              "    </tr>\n",
              "  </thead>\n",
              "  <tbody>\n",
              "    <tr>\n",
              "      <th>count</th>\n",
              "      <td>224.000000</td>\n",
              "      <td>2.240000e+02</td>\n",
              "      <td>224.000000</td>\n",
              "      <td>224.000000</td>\n",
              "      <td>224.000000</td>\n",
              "      <td>224.000000</td>\n",
              "    </tr>\n",
              "    <tr>\n",
              "      <th>mean</th>\n",
              "      <td>2006.500000</td>\n",
              "      <td>1.679701e+06</td>\n",
              "      <td>374349.966920</td>\n",
              "      <td>2452.490759</td>\n",
              "      <td>80.948705</td>\n",
              "      <td>26.801964</td>\n",
              "    </tr>\n",
              "    <tr>\n",
              "      <th>std</th>\n",
              "      <td>8.095838</td>\n",
              "      <td>1.161387e+06</td>\n",
              "      <td>232751.161987</td>\n",
              "      <td>1031.972625</td>\n",
              "      <td>4.878680</td>\n",
              "      <td>1.197041</td>\n",
              "    </tr>\n",
              "    <tr>\n",
              "      <th>min</th>\n",
              "      <td>1993.000000</td>\n",
              "      <td>4.293800e+04</td>\n",
              "      <td>63142.040000</td>\n",
              "      <td>222.500000</td>\n",
              "      <td>54.200000</td>\n",
              "      <td>22.190000</td>\n",
              "    </tr>\n",
              "    <tr>\n",
              "      <th>25%</th>\n",
              "      <td>1999.750000</td>\n",
              "      <td>5.488570e+05</td>\n",
              "      <td>146919.500000</td>\n",
              "      <td>1703.525000</td>\n",
              "      <td>78.975000</td>\n",
              "      <td>26.177500</td>\n",
              "    </tr>\n",
              "    <tr>\n",
              "      <th>50%</th>\n",
              "      <td>2006.500000</td>\n",
              "      <td>1.667773e+06</td>\n",
              "      <td>373551.500000</td>\n",
              "      <td>2315.700000</td>\n",
              "      <td>82.375000</td>\n",
              "      <td>26.730000</td>\n",
              "    </tr>\n",
              "    <tr>\n",
              "      <th>75%</th>\n",
              "      <td>2013.250000</td>\n",
              "      <td>2.436851e+06</td>\n",
              "      <td>514570.250000</td>\n",
              "      <td>3039.700000</td>\n",
              "      <td>84.000000</td>\n",
              "      <td>27.200000</td>\n",
              "    </tr>\n",
              "    <tr>\n",
              "      <th>max</th>\n",
              "      <td>2020.000000</td>\n",
              "      <td>4.881089e+06</td>\n",
              "      <td>872737.000000</td>\n",
              "      <td>5522.000000</td>\n",
              "      <td>90.600000</td>\n",
              "      <td>29.850000</td>\n",
              "    </tr>\n",
              "  </tbody>\n",
              "</table>\n",
              "</div>\n",
              "      <button class=\"colab-df-convert\" onclick=\"convertToInteractive('df-fe181228-0c9e-4036-88b3-942281646907')\"\n",
              "              title=\"Convert this dataframe to an interactive table.\"\n",
              "              style=\"display:none;\">\n",
              "        \n",
              "  <svg xmlns=\"http://www.w3.org/2000/svg\" height=\"24px\"viewBox=\"0 0 24 24\"\n",
              "       width=\"24px\">\n",
              "    <path d=\"M0 0h24v24H0V0z\" fill=\"none\"/>\n",
              "    <path d=\"M18.56 5.44l.94 2.06.94-2.06 2.06-.94-2.06-.94-.94-2.06-.94 2.06-2.06.94zm-11 1L8.5 8.5l.94-2.06 2.06-.94-2.06-.94L8.5 2.5l-.94 2.06-2.06.94zm10 10l.94 2.06.94-2.06 2.06-.94-2.06-.94-.94-2.06-.94 2.06-2.06.94z\"/><path d=\"M17.41 7.96l-1.37-1.37c-.4-.4-.92-.59-1.43-.59-.52 0-1.04.2-1.43.59L10.3 9.45l-7.72 7.72c-.78.78-.78 2.05 0 2.83L4 21.41c.39.39.9.59 1.41.59.51 0 1.02-.2 1.41-.59l7.78-7.78 2.81-2.81c.8-.78.8-2.07 0-2.86zM5.41 20L4 18.59l7.72-7.72 1.47 1.35L5.41 20z\"/>\n",
              "  </svg>\n",
              "      </button>\n",
              "      \n",
              "  <style>\n",
              "    .colab-df-container {\n",
              "      display:flex;\n",
              "      flex-wrap:wrap;\n",
              "      gap: 12px;\n",
              "    }\n",
              "\n",
              "    .colab-df-convert {\n",
              "      background-color: #E8F0FE;\n",
              "      border: none;\n",
              "      border-radius: 50%;\n",
              "      cursor: pointer;\n",
              "      display: none;\n",
              "      fill: #1967D2;\n",
              "      height: 32px;\n",
              "      padding: 0 0 0 0;\n",
              "      width: 32px;\n",
              "    }\n",
              "\n",
              "    .colab-df-convert:hover {\n",
              "      background-color: #E2EBFA;\n",
              "      box-shadow: 0px 1px 2px rgba(60, 64, 67, 0.3), 0px 1px 3px 1px rgba(60, 64, 67, 0.15);\n",
              "      fill: #174EA6;\n",
              "    }\n",
              "\n",
              "    [theme=dark] .colab-df-convert {\n",
              "      background-color: #3B4455;\n",
              "      fill: #D2E3FC;\n",
              "    }\n",
              "\n",
              "    [theme=dark] .colab-df-convert:hover {\n",
              "      background-color: #434B5C;\n",
              "      box-shadow: 0px 1px 3px 1px rgba(0, 0, 0, 0.15);\n",
              "      filter: drop-shadow(0px 1px 2px rgba(0, 0, 0, 0.3));\n",
              "      fill: #FFFFFF;\n",
              "    }\n",
              "  </style>\n",
              "\n",
              "      <script>\n",
              "        const buttonEl =\n",
              "          document.querySelector('#df-fe181228-0c9e-4036-88b3-942281646907 button.colab-df-convert');\n",
              "        buttonEl.style.display =\n",
              "          google.colab.kernel.accessAllowed ? 'block' : 'none';\n",
              "\n",
              "        async function convertToInteractive(key) {\n",
              "          const element = document.querySelector('#df-fe181228-0c9e-4036-88b3-942281646907');\n",
              "          const dataTable =\n",
              "            await google.colab.kernel.invokeFunction('convertToInteractive',\n",
              "                                                     [key], {});\n",
              "          if (!dataTable) return;\n",
              "\n",
              "          const docLinkHtml = 'Like what you see? Visit the ' +\n",
              "            '<a target=\"_blank\" href=https://colab.research.google.com/notebooks/data_table.ipynb>data table notebook</a>'\n",
              "            + ' to learn more about interactive tables.';\n",
              "          element.innerHTML = '';\n",
              "          dataTable['output_type'] = 'display_data';\n",
              "          await google.colab.output.renderOutput(dataTable, element);\n",
              "          const docLink = document.createElement('div');\n",
              "          docLink.innerHTML = docLinkHtml;\n",
              "          element.appendChild(docLink);\n",
              "        }\n",
              "      </script>\n",
              "    </div>\n",
              "  </div>\n",
              "  "
            ]
          },
          "metadata": {},
          "execution_count": 7
        }
      ]
    },
    {
      "cell_type": "code",
      "source": [
        "df.columns"
      ],
      "metadata": {
        "colab": {
          "base_uri": "https://localhost:8080/"
        },
        "id": "u4L2K1xdYvsU",
        "outputId": "cb7adc97-50ef-43a8-e8bb-17f0e65cac00"
      },
      "execution_count": null,
      "outputs": [
        {
          "output_type": "execute_result",
          "data": {
            "text/plain": [
              "Index(['Provinsi', 'Tahun', 'Produksi', 'Luas Panen', 'Curah hujan',\n",
              "       'Kelembapan', 'Suhu rata-rata'],\n",
              "      dtype='object')"
            ]
          },
          "metadata": {},
          "execution_count": 8
        }
      ]
    },
    {
      "cell_type": "code",
      "source": [
        "df.shape"
      ],
      "metadata": {
        "colab": {
          "base_uri": "https://localhost:8080/"
        },
        "id": "ReKNJZuxYxsM",
        "outputId": "048fd57b-9ed6-49c2-d496-369e46b7b858"
      },
      "execution_count": null,
      "outputs": [
        {
          "output_type": "execute_result",
          "data": {
            "text/plain": [
              "(224, 7)"
            ]
          },
          "metadata": {},
          "execution_count": 9
        }
      ]
    },
    {
      "cell_type": "code",
      "source": [
        "df.dtypes"
      ],
      "metadata": {
        "colab": {
          "base_uri": "https://localhost:8080/"
        },
        "id": "8ycRQwqjYzFO",
        "outputId": "a1d80e27-227e-4508-e21e-b31ff5611217"
      },
      "execution_count": null,
      "outputs": [
        {
          "output_type": "execute_result",
          "data": {
            "text/plain": [
              "Provinsi           object\n",
              "Tahun               int64\n",
              "Produksi          float64\n",
              "Luas Panen        float64\n",
              "Curah hujan       float64\n",
              "Kelembapan        float64\n",
              "Suhu rata-rata    float64\n",
              "dtype: object"
            ]
          },
          "metadata": {},
          "execution_count": 10
        }
      ]
    },
    {
      "cell_type": "code",
      "source": [
        "df.isnull().sum()"
      ],
      "metadata": {
        "colab": {
          "base_uri": "https://localhost:8080/"
        },
        "id": "f-gj2b2kaHbk",
        "outputId": "b914b7c3-9823-447e-d43b-1644782536f5"
      },
      "execution_count": null,
      "outputs": [
        {
          "output_type": "execute_result",
          "data": {
            "text/plain": [
              "Provinsi          0\n",
              "Tahun             0\n",
              "Produksi          0\n",
              "Luas Panen        0\n",
              "Curah hujan       0\n",
              "Kelembapan        0\n",
              "Suhu rata-rata    0\n",
              "dtype: int64"
            ]
          },
          "metadata": {},
          "execution_count": 11
        }
      ]
    },
    {
      "cell_type": "markdown",
      "source": [
        "## ekplorasi data analisis"
      ],
      "metadata": {
        "id": "0YhiG2rJaBVF"
      }
    },
    {
      "cell_type": "code",
      "source": [
        "plt.figure(figsize=(10,7))\n",
        "plt.subplot(2,1,1)\n",
        "sns.lineplot(df['Tahun'],df['Produksi'])\n",
        "plt.ylabel('produksi(ton)')\n",
        "plt.xlabel('tahun')"
      ],
      "metadata": {
        "colab": {
          "base_uri": "https://localhost:8080/",
          "height": 321
        },
        "id": "WGrVYN5RdzW1",
        "outputId": "82d6c59d-476a-42e5-b272-b387c2d61fbb"
      },
      "execution_count": null,
      "outputs": [
        {
          "output_type": "stream",
          "name": "stderr",
          "text": [
            "/usr/local/lib/python3.8/dist-packages/seaborn/_decorators.py:36: FutureWarning: Pass the following variables as keyword args: x, y. From version 0.12, the only valid positional argument will be `data`, and passing other arguments without an explicit keyword will result in an error or misinterpretation.\n",
            "  warnings.warn(\n"
          ]
        },
        {
          "output_type": "execute_result",
          "data": {
            "text/plain": [
              "Text(0.5, 0, 'tahun')"
            ]
          },
          "metadata": {},
          "execution_count": 12
        },
        {
          "output_type": "display_data",
          "data": {
            "text/plain": [
              "<Figure size 720x504 with 1 Axes>"
            ],
            "image/png": "[encoded data removed]"
          },
          "metadata": {
            "needs_background": "light"
          }
        }
      ]
    },
    {
      "cell_type": "code",
      "source": [
        "plt.figure(figsize=(20,7))\n",
        "plt.subplot(2,1,1)\n",
        "sns.barplot(df['Tahun'],df['Produksi'])\n",
        "plt.ylabel('produksi(ton)')\n",
        "plt.xlabel('tahun')"
      ],
      "metadata": {
        "colab": {
          "base_uri": "https://localhost:8080/",
          "height": 243
        },
        "id": "iL0nksRDaE2T",
        "outputId": "2702c315-a29f-4238-ac28-f02e4aa0f437"
      },
      "execution_count": null,
      "outputs": [
        {
          "output_type": "stream",
          "name": "stderr",
          "text": [
            "/usr/local/lib/python3.8/dist-packages/seaborn/_decorators.py:36: FutureWarning: Pass the following variables as keyword args: x, y. From version 0.12, the only valid positional argument will be `data`, and passing other arguments without an explicit keyword will result in an error or misinterpretation.\n",
            "  warnings.warn(\n"
          ]
        },
        {
          "output_type": "execute_result",
          "data": {
            "text/plain": [
              "Text(0.5, 0, 'tahun')"
            ]
          },
          "metadata": {},
          "execution_count": 13
        },
        {
          "output_type": "display_data",
          "data": {
            "text/plain": [
              "<Figure size 1440x504 with 1 Axes>"
            ],
            "image/png": "[encoded data removed]"
          },
          "metadata": {
            "needs_background": "light"
          }
        }
      ]
    },
    {
      "cell_type": "markdown",
      "source": [
        "dapat dilihat pada chart bahwa kenaikan produksi tertinggi ada pada tahun 2017 namun setelah itu juga terdapat penurunan yang signifikan "
      ],
      "metadata": {
        "id": "69CmixIfc1Nm"
      }
    },
    {
      "cell_type": "code",
      "source": [
        "plt.figure(figsize=(15,7))\n",
        "plt.subplot(2,1,1)\n",
        "sns.barplot(df['Provinsi'],df['Produksi'])\n",
        "plt.ylabel('produksi(ton)')\n",
        "plt.xlabel('Provinsi')"
      ],
      "metadata": {
        "colab": {
          "base_uri": "https://localhost:8080/",
          "height": 290
        },
        "id": "FMGfWUG3cxK9",
        "outputId": "5abc5611-cfcd-4ec2-a29d-aaf116236293"
      },
      "execution_count": null,
      "outputs": [
        {
          "output_type": "stream",
          "name": "stderr",
          "text": [
            "/usr/local/lib/python3.8/dist-packages/seaborn/_decorators.py:36: FutureWarning: Pass the following variables as keyword args: x, y. From version 0.12, the only valid positional argument will be `data`, and passing other arguments without an explicit keyword will result in an error or misinterpretation.\n",
            "  warnings.warn(\n"
          ]
        },
        {
          "output_type": "execute_result",
          "data": {
            "text/plain": [
              "Text(0.5, 0, 'Provinsi')"
            ]
          },
          "metadata": {},
          "execution_count": 14
        },
        {
          "output_type": "display_data",
          "data": {
            "text/plain": [
              "<Figure size 1080x504 with 1 Axes>"
            ],
            "image/png": "[encoded data removed]"
          },
          "metadata": {
            "needs_background": "light"
          }
        }
      ]
    },
    {
      "cell_type": "markdown",
      "source": [
        "dari chart di atas dapat diketahui bahwa provinsi yang memiliki  hasil produksi paling banyak adalah sumatra utara kemudian di ikuti sumatra selatan dan produksi paling sedikit ada di riau"
      ],
      "metadata": {
        "id": "gcnY8NwkeJ9V"
      }
    },
    {
      "cell_type": "code",
      "source": [
        "plt.figure(figsize=(10,10))\n",
        "sns.regplot(df['Luas Panen'],df['Produksi'])\n",
        "plt.ylabel('produksi(ton)')\n",
        "plt.xlabel('luas panen')"
      ],
      "metadata": {
        "colab": {
          "base_uri": "https://localhost:8080/",
          "height": 691
        },
        "id": "N-4SYsn_eHTt",
        "outputId": "bc625e97-f667-4cc8-ac32-d6f3e4e33867"
      },
      "execution_count": null,
      "outputs": [
        {
          "output_type": "stream",
          "name": "stderr",
          "text": [
            "/usr/local/lib/python3.8/dist-packages/seaborn/_decorators.py:36: FutureWarning: Pass the following variables as keyword args: x, y. From version 0.12, the only valid positional argument will be `data`, and passing other arguments without an explicit keyword will result in an error or misinterpretation.\n",
            "  warnings.warn(\n"
          ]
        },
        {
          "output_type": "execute_result",
          "data": {
            "text/plain": [
              "Text(0.5, 0, 'luas panen')"
            ]
          },
          "metadata": {},
          "execution_count": 15
        },
        {
          "output_type": "display_data",
          "data": {
            "text/plain": [
              "<Figure size 720x720 with 1 Axes>"
            ],
            "image/png": "[encoded data removed]"
          },
          "metadata": {
            "needs_background": "light"
          }
        }
      ]
    },
    {
      "cell_type": "markdown",
      "source": [
        "dari garis regresi yang di atas dapat di ketahui bahwa peningkatan hasil panen juga naik seiring dengan luas panen"
      ],
      "metadata": {
        "id": "jWH8-CRSfkTk"
      }
    },
    {
      "cell_type": "code",
      "source": [
        "plt.figure(figsize=(10,10))\n",
        "\n",
        "sns.regplot(df['Curah hujan'],df['Produksi'])\n",
        "plt.ylabel('produksi(ton)')\n",
        "plt.xlabel('Curah Hujan')"
      ],
      "metadata": {
        "colab": {
          "base_uri": "https://localhost:8080/",
          "height": 691
        },
        "id": "5pzHY4GWewp0",
        "outputId": "6a571456-e67c-49fa-f9d4-7d8163161ff4"
      },
      "execution_count": null,
      "outputs": [
        {
          "output_type": "stream",
          "name": "stderr",
          "text": [
            "/usr/local/lib/python3.8/dist-packages/seaborn/_decorators.py:36: FutureWarning: Pass the following variables as keyword args: x, y. From version 0.12, the only valid positional argument will be `data`, and passing other arguments without an explicit keyword will result in an error or misinterpretation.\n",
            "  warnings.warn(\n"
          ]
        },
        {
          "output_type": "execute_result",
          "data": {
            "text/plain": [
              "Text(0.5, 0, 'Curah Hujan')"
            ]
          },
          "metadata": {},
          "execution_count": 16
        },
        {
          "output_type": "display_data",
          "data": {
            "text/plain": [
              "<Figure size 720x720 with 1 Axes>"
            ],
            "image/png": "[encoded data removed]"
          },
          "metadata": {
            "needs_background": "light"
          }
        }
      ]
    },
    {
      "cell_type": "markdown",
      "source": [
        "dari line regresi di atas dapat dilihat bahwa peningkatan curah hujan tidak juga meningkatkan hasil panen"
      ],
      "metadata": {
        "id": "DOccaaI0fwlU"
      }
    },
    {
      "cell_type": "markdown",
      "source": [
        "## pembuatan dummy variabel"
      ],
      "metadata": {
        "id": "LxPz8AkWgets"
      }
    },
    {
      "cell_type": "code",
      "source": [
        "df1 = pd.get_dummies(df, columns=['Provinsi'], prefix=[\"Provinsi\"])"
      ],
      "metadata": {
        "id": "jnFnQ-5SgHLs"
      },
      "execution_count": null,
      "outputs": []
    },
    {
      "cell_type": "code",
      "source": [
        "df1.columns"
      ],
      "metadata": {
        "colab": {
          "base_uri": "https://localhost:8080/"
        },
        "id": "64DWzRRtgT8V",
        "outputId": "ba365639-841b-41d2-8f29-efb05c22a4dc"
      },
      "execution_count": null,
      "outputs": [
        {
          "output_type": "execute_result",
          "data": {
            "text/plain": [
              "Index(['Tahun', 'Produksi', 'Luas Panen', 'Curah hujan', 'Kelembapan',\n",
              "       'Suhu rata-rata', 'Provinsi_Aceh', 'Provinsi_Bengkulu',\n",
              "       'Provinsi_Jambi', 'Provinsi_Lampung', 'Provinsi_Riau',\n",
              "       'Provinsi_Sumatera Barat', 'Provinsi_Sumatera Selatan',\n",
              "       'Provinsi_Sumatera Utara'],\n",
              "      dtype='object')"
            ]
          },
          "metadata": {},
          "execution_count": 18
        }
      ]
    },
    {
      "cell_type": "markdown",
      "source": [
        "##bagi x dan y"
      ],
      "metadata": {
        "id": "PZHBrU0PgcXb"
      }
    },
    {
      "cell_type": "code",
      "source": [
        "X_reg = df1.loc[:,df1.columns != \"Produksi\"].values\n",
        "y_reg = df1[\"Produksi\"].values\n",
        "y_reg = y_reg.reshape(-1,1)"
      ],
      "metadata": {
        "id": "j_J_e6J-gb_E"
      },
      "execution_count": null,
      "outputs": []
    },
    {
      "cell_type": "code",
      "source": [
        "X_reg.shape"
      ],
      "metadata": {
        "colab": {
          "base_uri": "https://localhost:8080/"
        },
        "id": "ySP_luBHhB88",
        "outputId": "78948d48-ea9f-4159-8f5f-150c593ac56b"
      },
      "execution_count": null,
      "outputs": [
        {
          "output_type": "execute_result",
          "data": {
            "text/plain": [
              "(224, 13)"
            ]
          },
          "metadata": {},
          "execution_count": 20
        }
      ]
    },
    {
      "cell_type": "markdown",
      "source": [
        "##panggil library yang akan di gunakan untuk modeling"
      ],
      "metadata": {
        "id": "nM3JWq2UhHT8"
      }
    },
    {
      "cell_type": "code",
      "source": [
        "from sklearn.model_selection import train_test_split\n",
        "from sklearn.preprocessing import StandardScaler\n",
        "from sklearn.tree import DecisionTreeRegressor\n",
        "from sklearn.metrics import mean_squared_error as mse\n",
        "from sklearn.metrics import mean_absolute_error as mae\n",
        "from sklearn.metrics import r2_score\n",
        "from sklearn.metrics import classification_report, confusion_matrix"
      ],
      "metadata": {
        "id": "_qmdspR0hGGE"
      },
      "execution_count": null,
      "outputs": []
    },
    {
      "cell_type": "markdown",
      "source": [
        "## data split"
      ],
      "metadata": {
        "id": "iT3Vu4pyh8q-"
      }
    },
    {
      "cell_type": "code",
      "source": [
        "X_train, X_test, y_train, y_test = train_test_split(X_reg,y_reg,test_size=0.2,random_state=0)"
      ],
      "metadata": {
        "id": "2lGZX65OipdN"
      },
      "execution_count": null,
      "outputs": []
    },
    {
      "cell_type": "code",
      "source": [
        "print(\"X_train :\",X_train.shape)\n",
        "print(\"X_test :\",X_test.shape)\n",
        "print(\"y_train :\",y_train.shape)\n",
        "print(\"y_test :\",y_test.shape)"
      ],
      "metadata": {
        "colab": {
          "base_uri": "https://localhost:8080/"
        },
        "id": "5i8j_83CiwvT",
        "outputId": "9db31fc8-1d60-46bd-9784-cc9557bb7359"
      },
      "execution_count": null,
      "outputs": [
        {
          "output_type": "stream",
          "name": "stdout",
          "text": [
            "X_train : (179, 13)\n",
            "X_test : (45, 13)\n",
            "y_train : (179, 1)\n",
            "y_test : (45, 1)\n"
          ]
        }
      ]
    },
    {
      "cell_type": "markdown",
      "source": [
        "##standar scaler"
      ],
      "metadata": {
        "id": "1oR0ZJM6jRL0"
      }
    },
    {
      "cell_type": "code",
      "source": [
        "from sklearn.preprocessing import StandardScaler\n",
        "sc = StandardScaler()\n",
        "X_train[:, :] = sc.fit_transform(X_train[:, :])\n",
        "X_test[:, :] = sc.transform(X_test[:,:])\n",
        "y_train[:, :] = sc.fit_transform(y_train[:, :])\n",
        "y_test[:, :] = sc.transform(y_test[:,:])"
      ],
      "metadata": {
        "id": "sQCpZ7ZVjMyO"
      },
      "execution_count": null,
      "outputs": []
    },
    {
      "cell_type": "markdown",
      "source": [
        "##pemilihan model dengan maxdepth"
      ],
      "metadata": {
        "id": "6qiRxOorkWV0"
      }
    },
    {
      "cell_type": "code",
      "source": [
        "def c45_fin(max_depth):\n",
        "  for depth in max_depth:\n",
        "    print('\\n max_depth {}'.format(depth))\n",
        "    reg = DecisionTreeRegressor(max_depth=depth)\n",
        "    reg = reg.fit(X_train,y_train)\n",
        "    pred = reg.predict(X_test)\n",
        "\n",
        "    print(r2_score(y_test,pred))\n",
        "    print(mae(y_test,pred))\n",
        "    print(mse(y_test,pred))"
      ],
      "metadata": {
        "id": "Cg7UIS9Rjhct"
      },
      "execution_count": null,
      "outputs": []
    },
    {
      "cell_type": "code",
      "source": [
        "list_maxdepth = [1,2,3,4,5]\n",
        "c45_fin(list_maxdepth)"
      ],
      "metadata": {
        "colab": {
          "base_uri": "https://localhost:8080/"
        },
        "id": "uYViV94DlX8s",
        "outputId": "6da28932-5cad-4d55-ba31-8e62f5b4ff9d"
      },
      "execution_count": null,
      "outputs": [
        {
          "output_type": "stream",
          "name": "stdout",
          "text": [
            "\n",
            " max_depth 1\n",
            "0.6695343087737058\n",
            "463045.0716231343\n",
            "383784686290.01404\n",
            "\n",
            " max_depth 2\n",
            "0.8342458382229079\n",
            "290061.5466920447\n",
            "192497771078.22186\n",
            "\n",
            " max_depth 3\n",
            "0.8783573395233678\n",
            "244196.54844196758\n",
            "141269098517.51773\n",
            "\n",
            " max_depth 4\n",
            "0.9242906737621919\n",
            "201098.41907888406\n",
            "87924649338.28395\n",
            "\n",
            " max_depth 5\n",
            "0.9309611053370097\n",
            "188302.10168429534\n",
            "80177976817.27042\n"
          ]
        }
      ]
    },
    {
      "cell_type": "markdown",
      "source": [
        "#data modeling decision tree"
      ],
      "metadata": {
        "id": "5iloDA4NnPRz"
      }
    },
    {
      "cell_type": "code",
      "source": [
        "from sklearn.tree import DecisionTreeClassifier\n",
        "clf_gini = DecisionTreeClassifier(criterion='gini', max_depth=5, random_state=0)\n",
        "\n",
        "clf_gini.fit(X_train, y_train)"
      ],
      "metadata": {
        "colab": {
          "base_uri": "https://localhost:8080/",
          "height": 380
        },
        "id": "xW9BiqyUyQlT",
        "outputId": "e97bf32b-8177-4c2f-fddf-850067d49b6f"
      },
      "execution_count": null,
      "outputs": [
        {
          "output_type": "error",
          "ename": "ValueError",
          "evalue": "ignored",
          "traceback": [
            "\u001b[0;31m---------------------------------------------------------------------------\u001b[0m",
            "\u001b[0;31mValueError\u001b[0m                                Traceback (most recent call last)",
            "\u001b[0;32m<ipython-input-44-8878b5dd60bd>\u001b[0m in \u001b[0;36m<module>\u001b[0;34m\u001b[0m\n\u001b[1;32m      2\u001b[0m \u001b[0mclf_gini\u001b[0m \u001b[0;34m=\u001b[0m \u001b[0mDecisionTreeClassifier\u001b[0m\u001b[0;34m(\u001b[0m\u001b[0mcriterion\u001b[0m\u001b[0;34m=\u001b[0m\u001b[0;34m'gini'\u001b[0m\u001b[0;34m,\u001b[0m \u001b[0mmax_depth\u001b[0m\u001b[0;34m=\u001b[0m\u001b[0;36m5\u001b[0m\u001b[0;34m,\u001b[0m \u001b[0mrandom_state\u001b[0m\u001b[0;34m=\u001b[0m\u001b[0;36m0\u001b[0m\u001b[0;34m)\u001b[0m\u001b[0;34m\u001b[0m\u001b[0;34m\u001b[0m\u001b[0m\n\u001b[1;32m      3\u001b[0m \u001b[0;34m\u001b[0m\u001b[0m\n\u001b[0;32m----> 4\u001b[0;31m \u001b[0mclf_gini\u001b[0m\u001b[0;34m.\u001b[0m\u001b[0mfit\u001b[0m\u001b[0;34m(\u001b[0m\u001b[0mX_train\u001b[0m\u001b[0;34m,\u001b[0m \u001b[0my_train\u001b[0m\u001b[0;34m)\u001b[0m\u001b[0;34m\u001b[0m\u001b[0;34m\u001b[0m\u001b[0m\n\u001b[0m",
            "\u001b[0;32m/usr/local/lib/python3.8/dist-packages/sklearn/tree/_classes.py\u001b[0m in \u001b[0;36mfit\u001b[0;34m(self, X, y, sample_weight, check_input, X_idx_sorted)\u001b[0m\n\u001b[1;32m    935\u001b[0m         \"\"\"\n\u001b[1;32m    936\u001b[0m \u001b[0;34m\u001b[0m\u001b[0m\n\u001b[0;32m--> 937\u001b[0;31m         super().fit(\n\u001b[0m\u001b[1;32m    938\u001b[0m             \u001b[0mX\u001b[0m\u001b[0;34m,\u001b[0m\u001b[0;34m\u001b[0m\u001b[0;34m\u001b[0m\u001b[0m\n\u001b[1;32m    939\u001b[0m             \u001b[0my\u001b[0m\u001b[0;34m,\u001b[0m\u001b[0;34m\u001b[0m\u001b[0;34m\u001b[0m\u001b[0m\n",
            "\u001b[0;32m/usr/local/lib/python3.8/dist-packages/sklearn/tree/_classes.py\u001b[0m in \u001b[0;36mfit\u001b[0;34m(self, X, y, sample_weight, check_input, X_idx_sorted)\u001b[0m\n\u001b[1;32m    201\u001b[0m \u001b[0;34m\u001b[0m\u001b[0m\n\u001b[1;32m    202\u001b[0m         \u001b[0;32mif\u001b[0m \u001b[0mis_classification\u001b[0m\u001b[0;34m:\u001b[0m\u001b[0;34m\u001b[0m\u001b[0;34m\u001b[0m\u001b[0m\n\u001b[0;32m--> 203\u001b[0;31m             \u001b[0mcheck_classification_targets\u001b[0m\u001b[0;34m(\u001b[0m\u001b[0my\u001b[0m\u001b[0;34m)\u001b[0m\u001b[0;34m\u001b[0m\u001b[0;34m\u001b[0m\u001b[0m\n\u001b[0m\u001b[1;32m    204\u001b[0m             \u001b[0my\u001b[0m \u001b[0;34m=\u001b[0m \u001b[0mnp\u001b[0m\u001b[0;34m.\u001b[0m\u001b[0mcopy\u001b[0m\u001b[0;34m(\u001b[0m\u001b[0my\u001b[0m\u001b[0;34m)\u001b[0m\u001b[0;34m\u001b[0m\u001b[0;34m\u001b[0m\u001b[0m\n\u001b[1;32m    205\u001b[0m \u001b[0;34m\u001b[0m\u001b[0m\n",
            "\u001b[0;32m/usr/local/lib/python3.8/dist-packages/sklearn/utils/multiclass.py\u001b[0m in \u001b[0;36mcheck_classification_targets\u001b[0;34m(y)\u001b[0m\n\u001b[1;32m    195\u001b[0m         \u001b[0;34m\"multilabel-sequences\"\u001b[0m\u001b[0;34m,\u001b[0m\u001b[0;34m\u001b[0m\u001b[0;34m\u001b[0m\u001b[0m\n\u001b[1;32m    196\u001b[0m     ]:\n\u001b[0;32m--> 197\u001b[0;31m         \u001b[0;32mraise\u001b[0m \u001b[0mValueError\u001b[0m\u001b[0;34m(\u001b[0m\u001b[0;34m\"Unknown label type: %r\"\u001b[0m \u001b[0;34m%\u001b[0m \u001b[0my_type\u001b[0m\u001b[0;34m)\u001b[0m\u001b[0;34m\u001b[0m\u001b[0;34m\u001b[0m\u001b[0m\n\u001b[0m\u001b[1;32m    198\u001b[0m \u001b[0;34m\u001b[0m\u001b[0m\n\u001b[1;32m    199\u001b[0m \u001b[0;34m\u001b[0m\u001b[0m\n",
            "\u001b[0;31mValueError\u001b[0m: Unknown label type: 'continuous'"
          ]
        }
      ]
    },
    {
      "cell_type": "code",
      "source": [
        "y_pred_gini = clf_gini.predict(X_test)\n",
        "y_pred_gini"
      ],
      "metadata": {
        "id": "W38xER1Lyf_L"
      },
      "execution_count": null,
      "outputs": []
    },
    {
      "cell_type": "markdown",
      "source": [
        "# library  ann"
      ],
      "metadata": {
        "id": "C_HLhgiLm5E1"
      }
    },
    {
      "cell_type": "code",
      "source": [
        "import keras\n",
        "from tensorflow.keras.models import Sequential\n",
        "from keras.callbacks import History"
      ],
      "metadata": {
        "id": "tJWeaVx0m-as"
      },
      "execution_count": null,
      "outputs": []
    },
    {
      "cell_type": "markdown",
      "source": [
        "# 5 modeling ANN"
      ],
      "metadata": {
        "id": "vzTazbhXnnM8"
      }
    },
    {
      "cell_type": "code",
      "source": [
        "model = Sequential()\n",
        "\n",
        "model = keras.Sequential([\n",
        "    keras.layers.Dense(13, input_shape=(13,), activation='relu'),\n",
        "    keras.layers.Dense(5, activation='relu'),\n",
        "    keras.layers.Dense(1, activation='sigmoid')\n",
        "])\n"
      ],
      "metadata": {
        "id": "4icxTflUnpnM"
      },
      "execution_count": null,
      "outputs": []
    },
    {
      "cell_type": "code",
      "source": [
        "model.compile(optimizer='adam',\n",
        "              loss='binary_crossentropy',\n",
        "              metrics=['mean_absolute_error'])"
      ],
      "metadata": {
        "id": "S9R2Rhi5oQEk"
      },
      "execution_count": null,
      "outputs": []
    },
    {
      "cell_type": "code",
      "source": [
        "model.summary()"
      ],
      "metadata": {
        "colab": {
          "base_uri": "https://localhost:8080/"
        },
        "id": "7IlulVIJoz6D",
        "outputId": "21b9750b-02b8-4508-9742-937d75fc9eee"
      },
      "execution_count": null,
      "outputs": [
        {
          "output_type": "stream",
          "name": "stdout",
          "text": [
            "Model: \"sequential_1\"\n",
            "_________________________________________________________________\n",
            " Layer (type)                Output Shape              Param #   \n",
            "=================================================================\n",
            " dense (Dense)               (None, 13)                182       \n",
            "                                                                 \n",
            " dense_1 (Dense)             (None, 5)                 70        \n",
            "                                                                 \n",
            " dense_2 (Dense)             (None, 1)                 6         \n",
            "                                                                 \n",
            "=================================================================\n",
            "Total params: 258\n",
            "Trainable params: 258\n",
            "Non-trainable params: 0\n",
            "_________________________________________________________________\n"
          ]
        }
      ]
    },
    {
      "cell_type": "markdown",
      "source": [
        "#Data modeling ann"
      ],
      "metadata": {
        "id": "MOSzlLRqo53c"
      }
    },
    {
      "cell_type": "code",
      "source": [
        "history =History()\n",
        "History = model.fit(X_train, y_train, epochs=50, validation_data=(X_test,y_test))"
      ],
      "metadata": {
        "colab": {
          "base_uri": "https://localhost:8080/"
        },
        "id": "WA6ggahQp4jt",
        "outputId": "cdcd389f-e962-474d-9a36-67cbd32f14b8"
      },
      "execution_count": null,
      "outputs": [
        {
          "output_type": "stream",
          "name": "stdout",
          "text": [
            "Epoch 1/50\n",
            "6/6 [==============================] - 1s 43ms/step - loss: 0.1096 - mean_absolute_error: 0.8615 - val_loss: -0.1076 - val_mean_absolute_error: 0.7968\n",
            "Epoch 2/50\n",
            "6/6 [==============================] - 0s 6ms/step - loss: 0.0361 - mean_absolute_error: 0.8499 - val_loss: -0.1873 - val_mean_absolute_error: 0.7868\n",
            "Epoch 3/50\n",
            "6/6 [==============================] - 0s 8ms/step - loss: -0.0406 - mean_absolute_error: 0.8384 - val_loss: -0.2652 - val_mean_absolute_error: 0.7778\n",
            "Epoch 4/50\n",
            "6/6 [==============================] - 0s 6ms/step - loss: -0.1203 - mean_absolute_error: 0.8276 - val_loss: -0.3454 - val_mean_absolute_error: 0.7690\n",
            "Epoch 5/50\n",
            "6/6 [==============================] - 0s 6ms/step - loss: -0.1938 - mean_absolute_error: 0.8175 - val_loss: -0.4310 - val_mean_absolute_error: 0.7605\n",
            "Epoch 6/50\n",
            "6/6 [==============================] - 0s 7ms/step - loss: -0.2816 - mean_absolute_error: 0.8069 - val_loss: -0.5172 - val_mean_absolute_error: 0.7527\n",
            "Epoch 7/50\n",
            "6/6 [==============================] - 0s 7ms/step - loss: -0.3636 - mean_absolute_error: 0.7970 - val_loss: -0.6096 - val_mean_absolute_error: 0.7451\n",
            "Epoch 8/50\n",
            "6/6 [==============================] - 0s 12ms/step - loss: -0.4500 - mean_absolute_error: 0.7877 - val_loss: -0.7056 - val_mean_absolute_error: 0.7382\n",
            "Epoch 9/50\n",
            "6/6 [==============================] - 0s 7ms/step - loss: -0.5447 - mean_absolute_error: 0.7789 - val_loss: -0.8004 - val_mean_absolute_error: 0.7317\n",
            "Epoch 10/50\n",
            "6/6 [==============================] - 0s 7ms/step - loss: -0.6350 - mean_absolute_error: 0.7703 - val_loss: -0.9046 - val_mean_absolute_error: 0.7258\n",
            "Epoch 11/50\n",
            "6/6 [==============================] - 0s 7ms/step - loss: -0.7298 - mean_absolute_error: 0.7630 - val_loss: -1.0121 - val_mean_absolute_error: 0.7205\n",
            "Epoch 12/50\n",
            "6/6 [==============================] - 0s 13ms/step - loss: -0.8264 - mean_absolute_error: 0.7560 - val_loss: -1.1252 - val_mean_absolute_error: 0.7155\n",
            "Epoch 13/50\n",
            "6/6 [==============================] - 0s 9ms/step - loss: -0.9278 - mean_absolute_error: 0.7496 - val_loss: -1.2421 - val_mean_absolute_error: 0.7110\n",
            "Epoch 14/50\n",
            "6/6 [==============================] - 0s 7ms/step - loss: -1.0373 - mean_absolute_error: 0.7436 - val_loss: -1.3612 - val_mean_absolute_error: 0.7069\n",
            "Epoch 15/50\n",
            "6/6 [==============================] - 0s 7ms/step - loss: -1.1454 - mean_absolute_error: 0.7382 - val_loss: -1.4856 - val_mean_absolute_error: 0.7029\n",
            "Epoch 16/50\n",
            "6/6 [==============================] - 0s 7ms/step - loss: -1.2654 - mean_absolute_error: 0.7332 - val_loss: -1.6158 - val_mean_absolute_error: 0.6989\n",
            "Epoch 17/50\n",
            "6/6 [==============================] - 0s 8ms/step - loss: -1.3776 - mean_absolute_error: 0.7285 - val_loss: -1.7625 - val_mean_absolute_error: 0.6955\n",
            "Epoch 18/50\n",
            "6/6 [==============================] - 0s 6ms/step - loss: -1.5148 - mean_absolute_error: 0.7237 - val_loss: -1.9156 - val_mean_absolute_error: 0.6921\n",
            "Epoch 19/50\n",
            "6/6 [==============================] - 0s 7ms/step - loss: -1.6568 - mean_absolute_error: 0.7195 - val_loss: -2.0837 - val_mean_absolute_error: 0.6889\n",
            "Epoch 20/50\n",
            "6/6 [==============================] - 0s 7ms/step - loss: -1.8078 - mean_absolute_error: 0.7155 - val_loss: -2.2682 - val_mean_absolute_error: 0.6857\n",
            "Epoch 21/50\n",
            "6/6 [==============================] - 0s 7ms/step - loss: -1.9775 - mean_absolute_error: 0.7118 - val_loss: -2.4593 - val_mean_absolute_error: 0.6824\n",
            "Epoch 22/50\n",
            "6/6 [==============================] - 0s 8ms/step - loss: -2.1528 - mean_absolute_error: 0.7077 - val_loss: -2.6585 - val_mean_absolute_error: 0.6791\n",
            "Epoch 23/50\n",
            "6/6 [==============================] - 0s 8ms/step - loss: -2.3434 - mean_absolute_error: 0.7042 - val_loss: -2.8658 - val_mean_absolute_error: 0.6756\n",
            "Epoch 24/50\n",
            "6/6 [==============================] - 0s 8ms/step - loss: -2.5320 - mean_absolute_error: 0.7001 - val_loss: -3.0876 - val_mean_absolute_error: 0.6719\n",
            "Epoch 25/50\n",
            "6/6 [==============================] - 0s 7ms/step - loss: -2.7477 - mean_absolute_error: 0.6963 - val_loss: -3.3107 - val_mean_absolute_error: 0.6681\n",
            "Epoch 26/50\n",
            "6/6 [==============================] - 0s 7ms/step - loss: -2.9518 - mean_absolute_error: 0.6923 - val_loss: -3.5568 - val_mean_absolute_error: 0.6647\n",
            "Epoch 27/50\n",
            "6/6 [==============================] - 0s 7ms/step - loss: -3.1923 - mean_absolute_error: 0.6889 - val_loss: -3.8064 - val_mean_absolute_error: 0.6613\n",
            "Epoch 28/50\n",
            "6/6 [==============================] - 0s 7ms/step - loss: -3.4281 - mean_absolute_error: 0.6852 - val_loss: -4.0735 - val_mean_absolute_error: 0.6588\n",
            "Epoch 29/50\n",
            "6/6 [==============================] - 0s 7ms/step - loss: -3.6808 - mean_absolute_error: 0.6817 - val_loss: -4.3550 - val_mean_absolute_error: 0.6558\n",
            "Epoch 30/50\n",
            "6/6 [==============================] - 0s 7ms/step - loss: -3.9559 - mean_absolute_error: 0.6781 - val_loss: -4.6438 - val_mean_absolute_error: 0.6528\n",
            "Epoch 31/50\n",
            "6/6 [==============================] - 0s 7ms/step - loss: -4.2247 - mean_absolute_error: 0.6743 - val_loss: -4.9573 - val_mean_absolute_error: 0.6503\n",
            "Epoch 32/50\n",
            "6/6 [==============================] - 0s 7ms/step - loss: -4.5330 - mean_absolute_error: 0.6707 - val_loss: -5.2795 - val_mean_absolute_error: 0.6475\n",
            "Epoch 33/50\n",
            "6/6 [==============================] - 0s 10ms/step - loss: -4.8454 - mean_absolute_error: 0.6672 - val_loss: -5.6297 - val_mean_absolute_error: 0.6448\n",
            "Epoch 34/50\n",
            "6/6 [==============================] - 0s 7ms/step - loss: -5.1914 - mean_absolute_error: 0.6639 - val_loss: -5.9874 - val_mean_absolute_error: 0.6423\n",
            "Epoch 35/50\n",
            "6/6 [==============================] - 0s 10ms/step - loss: -5.5274 - mean_absolute_error: 0.6606 - val_loss: -6.3918 - val_mean_absolute_error: 0.6404\n",
            "Epoch 36/50\n",
            "6/6 [==============================] - 0s 7ms/step - loss: -5.9285 - mean_absolute_error: 0.6574 - val_loss: -6.8280 - val_mean_absolute_error: 0.6376\n",
            "Epoch 37/50\n",
            "6/6 [==============================] - 0s 7ms/step - loss: -6.3477 - mean_absolute_error: 0.6540 - val_loss: -7.3096 - val_mean_absolute_error: 0.6348\n",
            "Epoch 38/50\n",
            "6/6 [==============================] - 0s 8ms/step - loss: -6.8028 - mean_absolute_error: 0.6507 - val_loss: -7.8229 - val_mean_absolute_error: 0.6329\n",
            "Epoch 39/50\n",
            "6/6 [==============================] - 0s 7ms/step - loss: -7.3070 - mean_absolute_error: 0.6478 - val_loss: -8.3661 - val_mean_absolute_error: 0.6297\n",
            "Epoch 40/50\n",
            "6/6 [==============================] - 0s 8ms/step - loss: -7.8377 - mean_absolute_error: 0.6446 - val_loss: -8.9439 - val_mean_absolute_error: 0.6272\n",
            "Epoch 41/50\n",
            "6/6 [==============================] - 0s 7ms/step - loss: -8.4070 - mean_absolute_error: 0.6420 - val_loss: -9.5512 - val_mean_absolute_error: 0.6254\n",
            "Epoch 42/50\n",
            "6/6 [==============================] - 0s 7ms/step - loss: -8.9905 - mean_absolute_error: 0.6397 - val_loss: -10.1850 - val_mean_absolute_error: 0.6228\n",
            "Epoch 43/50\n",
            "6/6 [==============================] - 0s 7ms/step - loss: -9.6117 - mean_absolute_error: 0.6370 - val_loss: -10.8571 - val_mean_absolute_error: 0.6208\n",
            "Epoch 44/50\n",
            "6/6 [==============================] - 0s 7ms/step - loss: -10.2464 - mean_absolute_error: 0.6351 - val_loss: -11.5731 - val_mean_absolute_error: 0.6190\n",
            "Epoch 45/50\n",
            "6/6 [==============================] - 0s 11ms/step - loss: -10.9405 - mean_absolute_error: 0.6327 - val_loss: -12.3018 - val_mean_absolute_error: 0.6161\n",
            "Epoch 46/50\n",
            "6/6 [==============================] - 0s 8ms/step - loss: -11.6631 - mean_absolute_error: 0.6304 - val_loss: -13.0517 - val_mean_absolute_error: 0.6138\n",
            "Epoch 47/50\n",
            "6/6 [==============================] - 0s 7ms/step - loss: -12.4433 - mean_absolute_error: 0.6272 - val_loss: -13.8189 - val_mean_absolute_error: 0.6120\n",
            "Epoch 48/50\n",
            "6/6 [==============================] - 0s 7ms/step - loss: -13.1903 - mean_absolute_error: 0.6254 - val_loss: -14.6732 - val_mean_absolute_error: 0.6105\n",
            "Epoch 49/50\n",
            "6/6 [==============================] - 0s 7ms/step - loss: -13.9921 - mean_absolute_error: 0.6231 - val_loss: -15.5993 - val_mean_absolute_error: 0.6093\n",
            "Epoch 50/50\n",
            "6/6 [==============================] - 0s 8ms/step - loss: -14.9461 - mean_absolute_error: 0.6208 - val_loss: -16.5477 - val_mean_absolute_error: 0.6077\n"
          ]
        }
      ]
    },
    {
      "cell_type": "code",
      "source": [
        "plt.figure(figsize=(14,8))\n",
        "plt.plot(History.history['mean_absolute_error'])\n",
        "plt.plot(History.history['val_mean_absolute_error'])\n",
        "plt.title('Mean Absolute Error', fontsize=14)\n",
        "plt.ylabel('mean absolute error', fontsize=12)\n",
        "plt.xlabel('Epoch', fontsize=12)\n",
        "plt.legend(['train', 'test'], loc='upper left')\n",
        "plt.show()\n",
        " # summarize history for loss\n",
        "plt.figure(figsize=(14,8))\n",
        "plt.plot(History.history['loss'])\n",
        "plt.plot(History.history['val_loss'])\n",
        "plt.title('Model Loss', fontsize=14)\n",
        "plt.ylabel('Loss',fontsize=12)\n",
        "plt.xlabel('Epoch',fontsize=12)\n",
        "plt.legend(['train', 'test'], loc='upper left')\n",
        "plt.show()"
      ],
      "metadata": {
        "colab": {
          "base_uri": "https://localhost:8080/",
          "height": 924
        },
        "id": "6a6WzQ3gqBWZ",
        "outputId": "5ae9f79c-ca5e-447d-e7df-050b610c033f"
      },
      "execution_count": null,
      "outputs": [
        {
          "output_type": "display_data",
          "data": {
            "text/plain": [
              "<Figure size 1008x576 with 1 Axes>"
            ],
            "image/png": "[encoded data removed]"
          },
          "metadata": {
            "needs_background": "light"
          }
        },
        {
          "output_type": "display_data",
          "data": {
            "text/plain": [
              "<Figure size 1008x576 with 1 Axes>"
            ],
            "image/png": "[encoded data removed]"
          },
          "metadata": {
            "needs_background": "light"
          }
        }
      ]
    },
    {
      "cell_type": "markdown",
      "source": [
        "## metriks evaluasi ANN"
      ],
      "metadata": {
        "id": "YyNwqo_esvD1"
      }
    },
    {
      "cell_type": "code",
      "source": [
        "model.evaluate(X_test, y_test)"
      ],
      "metadata": {
        "colab": {
          "base_uri": "https://localhost:8080/"
        },
        "id": "DymnPcxWv5-E",
        "outputId": "e0f0bb2b-513b-4ac1-9fe4-ad456fcc1018"
      },
      "execution_count": null,
      "outputs": [
        {
          "output_type": "stream",
          "name": "stdout",
          "text": [
            "2/2 [==============================] - 0s 6ms/step - loss: -16.5477 - mean_absolute_error: 0.6077\n"
          ]
        },
        {
          "output_type": "execute_result",
          "data": {
            "text/plain": [
              "[-16.547748565673828, 0.6077088713645935]"
            ]
          },
          "metadata": {},
          "execution_count": 34
        }
      ]
    },
    {
      "cell_type": "code",
      "source": [
        "pred = model.predict(X_test)"
      ],
      "metadata": {
        "colab": {
          "base_uri": "https://localhost:8080/"
        },
        "id": "xndmfoJhsGaD",
        "outputId": "4d0788c1-f504-4697-b480-85927cd75baf"
      },
      "execution_count": null,
      "outputs": [
        {
          "output_type": "stream",
          "name": "stdout",
          "text": [
            "2/2 [==============================] - 0s 6ms/step\n"
          ]
        }
      ]
    },
    {
      "cell_type": "code",
      "source": [
        "pred"
      ],
      "metadata": {
        "colab": {
          "base_uri": "https://localhost:8080/"
        },
        "id": "sslx4MiKv_MT",
        "outputId": "72368241-86aa-4c4d-ff34-ca186338b6a6"
      },
      "execution_count": null,
      "outputs": [
        {
          "output_type": "execute_result",
          "data": {
            "text/plain": [
              "array([[5.7481815e-20],\n",
              "       [2.8615363e-02],\n",
              "       [1.7285759e-16],\n",
              "       [7.7756806e-18],\n",
              "       [6.9105130e-16],\n",
              "       [2.4321424e-03],\n",
              "       [9.3710512e-01],\n",
              "       [1.1562559e-01],\n",
              "       [1.3603403e-02],\n",
              "       [6.0242717e-05],\n",
              "       [1.2934420e-19],\n",
              "       [8.8688326e-01],\n",
              "       [6.4880133e-04],\n",
              "       [9.2487857e-02],\n",
              "       [3.4530550e-02],\n",
              "       [2.2476355e-16],\n",
              "       [2.3273313e-16],\n",
              "       [8.7804701e-03],\n",
              "       [3.4657018e-03],\n",
              "       [2.0871334e-20],\n",
              "       [5.2074737e-19],\n",
              "       [3.4724578e-01],\n",
              "       [1.6711596e-18],\n",
              "       [7.1381420e-02],\n",
              "       [6.3692755e-01],\n",
              "       [2.6288459e-03],\n",
              "       [8.0732763e-01],\n",
              "       [7.9832405e-01],\n",
              "       [2.0131905e-18],\n",
              "       [3.4547835e-18],\n",
              "       [8.1955475e-01],\n",
              "       [1.0619909e-17],\n",
              "       [7.9309613e-01],\n",
              "       [1.9822813e-18],\n",
              "       [3.5303563e-03],\n",
              "       [2.4154442e-03],\n",
              "       [2.9122938e-19],\n",
              "       [2.6221782e-05],\n",
              "       [6.4090528e-02],\n",
              "       [8.4279621e-01],\n",
              "       [1.6310031e-18],\n",
              "       [2.1321746e-03],\n",
              "       [4.2793074e-01],\n",
              "       [1.4183272e-18],\n",
              "       [1.2476527e-01]], dtype=float32)"
            ]
          },
          "metadata": {},
          "execution_count": 36
        }
      ]
    },
    {
      "cell_type": "code",
      "source": [
        "r2 = r2_score(y_test,pred)\n",
        "print(r2)"
      ],
      "metadata": {
        "colab": {
          "base_uri": "https://localhost:8080/"
        },
        "id": "Hcvo7bBW0QcF",
        "outputId": "df9ff122-8b14-4c19-a4db-65d588592375"
      },
      "execution_count": null,
      "outputs": [
        {
          "output_type": "stream",
          "name": "stdout",
          "text": [
            "-2.1298327082290722\n"
          ]
        }
      ]
    },
    {
      "cell_type": "code",
      "source": [
        "r2 = mse(y_test,pred)\n",
        "print(r2)"
      ],
      "metadata": {
        "colab": {
          "base_uri": "https://localhost:8080/"
        },
        "id": "ZRZnzICR0eYC",
        "outputId": "fdd634ed-c8c8-40af-8a4a-bf7bd3c35f3a"
      },
      "execution_count": null,
      "outputs": [
        {
          "output_type": "stream",
          "name": "stdout",
          "text": [
            "3634815643374.554\n"
          ]
        }
      ]
    },
    {
      "cell_type": "code",
      "source": [
        "r2 = mae(y_test,pred)\n",
        "print(r2)"
      ],
      "metadata": {
        "id": "LKeDpteG0rLi",
        "outputId": "ce579d41-e30b-4f3e-ea74-b99e057bbc44",
        "colab": {
          "base_uri": "https://localhost:8080/"
        }
      },
      "execution_count": null,
      "outputs": [
        {
          "output_type": "stream",
          "name": "stdout",
          "text": [
            "1572727.297368631\n"
          ]
        }
      ]
    },
    {
      "cell_type": "markdown",
      "source": [
        "##perbandingan regresi plot"
      ],
      "metadata": {
        "id": "TKBpwSz5wYqt"
      }
    },
    {
      "cell_type": "code",
      "source": [
        "plt.figure(figsize=(10,7))\n",
        "sns.regplot(y_test,pred,marker='o')\n",
        "# set regplot(y_test,pred,marker='^')\n",
        "plt.xlabel(\"actual value\")\n",
        "plt.ylabel(\"Predicted value\")\n",
        "plt.legend([\"ANN\",\"DecisionTree\"],loc='upper left')\n",
        "plt.show"
      ],
      "metadata": {
        "colab": {
          "base_uri": "https://localhost:8080/",
          "height": 517
        },
        "id": "ilYiWb6swb_8",
        "outputId": "5ed395d3-3ae3-4672-a1d7-5988c301cb9b"
      },
      "execution_count": null,
      "outputs": [
        {
          "output_type": "stream",
          "name": "stderr",
          "text": [
            "/usr/local/lib/python3.8/dist-packages/seaborn/_decorators.py:36: FutureWarning: Pass the following variables as keyword args: x, y. From version 0.12, the only valid positional argument will be `data`, and passing other arguments without an explicit keyword will result in an error or misinterpretation.\n",
            "  warnings.warn(\n"
          ]
        },
        {
          "output_type": "execute_result",
          "data": {
            "text/plain": [
              "<function matplotlib.pyplot.show(*args, **kw)>"
            ]
          },
          "metadata": {},
          "execution_count": 38
        },
        {
          "output_type": "display_data",
          "data": {
            "text/plain": [
              "<Figure size 720x504 with 1 Axes>"
            ],
            "image/png": "[encoded data removed]"
          },
          "metadata": {
            "needs_background": "light"
          }
        }
      ]
    }
  ]
}