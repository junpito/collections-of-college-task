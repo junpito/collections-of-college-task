{
  "nbformat": 4,
  "nbformat_minor": 0,
  "metadata": {
    "colab": {
      "provenance": [],
      "authorship_tag": "ABX9TyPMf/+GVC3h1oHes634dmr1",
      "include_colab_link": true
    },
    "kernelspec": {
      "name": "python3",
      "display_name": "Python 3"
    },
    "language_info": {
      "name": "python"
    },
    "accelerator": "GPU",
    "gpuClass": "standard"
  },
  "cells": [
    {
      "cell_type": "markdown",
      "metadata": {
        "id": "view-in-github",
        "colab_type": "text"
      },
      "source": [
        "<a href=\"https://colab.research.google.com/github/junpito/collections-of-college-task/blob/main/Uprak_DM_junpito_salim_120450086.ipynb\" target=\"_parent\"><img src=\"https://colab.research.google.com/assets/colab-badge.svg\" alt=\"Open In Colab\"/></a>"
      ]
    },
    {
      "cell_type": "markdown",
      "source": [
        "\n",
        "\n",
        "```\n",
        "nama : junpito salim\n",
        "nim : 120450086\n",
        "```\n",
        "\n"
      ],
      "metadata": {
        "id": "MxcJipQg1TvL"
      }
    },
    {
      "cell_type": "markdown",
      "source": [
        "# UJIAN PRAKTIKUM DATA MINING"
      ],
      "metadata": {
        "id": "N23MsL-F1dCU"
      }
    },
    {
      "cell_type": "markdown",
      "source": [
        "##import library penting"
      ],
      "metadata": {
        "id": "Mi80aeVn1itK"
      }
    },
    {
      "cell_type": "code",
      "source": [
        "import pandas as pd\n",
        "import matplotlib.pyplot as plt\n",
        "import seaborn as sns\n",
        "import numpy as np\n"
      ],
      "metadata": {
        "id": "_-chha743QoH"
      },
      "execution_count": null,
      "outputs": []
    },
    {
      "cell_type": "code",
      "execution_count": null,
      "metadata": {
        "colab": {
          "base_uri": "https://localhost:8080/"
        },
        "id": "2J6_82_sygps",
        "outputId": "4cd86435-299f-47dd-c60a-8798ab4d0d8c"
      },
      "outputs": [
        {
          "output_type": "stream",
          "name": "stdout",
          "text": [
            "Drive already mounted at /content/drive; to attempt to forcibly remount, call drive.mount(\"/content/drive\", force_remount=True).\n"
          ]
        }
      ],
      "source": [
        "from google.colab import drive\n",
        "drive.mount('/content/drive')"
      ]
    },
    {
      "cell_type": "markdown",
      "source": [
        "##algoritma 1 data preprocessing"
      ],
      "metadata": {
        "id": "62hhgD2B38Nu"
      }
    },
    {
      "cell_type": "code",
      "source": [
        "df = pd.read_excel('/content/drive/MyDrive/tugas/Copy of Data - Adaptation Innovation in Water Sector in Africa.xlsx')\n",
        "df"
      ],
      "metadata": {
        "id": "sTjLUE0Yy86G",
        "colab": {
          "base_uri": "https://localhost:8080/",
          "height": 592
        },
        "outputId": "cfd8adbd-f5ea-4033-d1cf-8baa5715c3bb"
      },
      "execution_count": null,
      "outputs": [
        {
          "output_type": "execute_result",
          "data": {
            "text/plain": [
              "      Country  Country.1  Year  Water-related Adaptation technologies  \\\n",
              "0     Algeria          1  1990                                    0.0   \n",
              "1     Algeria          1  2000                                    0.0   \n",
              "2     Algeria          1  2005                                    0.0   \n",
              "3     Algeria          1  2010                                    0.0   \n",
              "4     Algeria          1  2011                                    0.0   \n",
              "..        ...        ...   ...                                    ...   \n",
              "495  Zimbabwe         50  2012                                    0.0   \n",
              "496  Zimbabwe         50  2013                                    0.0   \n",
              "497  Zimbabwe         50  2014                                    0.0   \n",
              "498  Zimbabwe         50  2015                                    0.0   \n",
              "499  Zimbabwe         50  2016                                    0.0   \n",
              "\n",
              "     Trade (% of GDP)  Time required to register property (days)  \\\n",
              "0           48.380714                                        NaN   \n",
              "1           62.863795                                        NaN   \n",
              "2           71.277440                                       74.0   \n",
              "3           69.867572                                       55.0   \n",
              "4           67.473455                                       55.0   \n",
              "..                ...                                        ...   \n",
              "495         74.162535                                       36.0   \n",
              "496         58.656494                                       36.0   \n",
              "497         54.671615                                       36.0   \n",
              "498         56.748811                                       36.0   \n",
              "499         51.219025                                       36.0   \n",
              "\n",
              "     GDP per capita, PPP (constant 2011 international $)  \\\n",
              "0                                         10300.015042     \n",
              "1                                         10257.741569     \n",
              "2                                         12370.892005     \n",
              "3                                         12919.491054     \n",
              "4                                         13046.128511     \n",
              "..                                                 ...     \n",
              "495                                        2486.847930     \n",
              "496                                        2491.635140     \n",
              "497                                        2506.490220     \n",
              "498                                        2509.008140     \n",
              "499                                        2489.097494     \n",
              "\n",
              "     Employers, total (% of total employment) (modeled ILO estimate)  \\\n",
              "0                                                  NaN                 \n",
              "1                                                6.993                 \n",
              "2                                                5.239                 \n",
              "3                                                3.699                 \n",
              "4                                                3.438                 \n",
              "..                                                 ...                 \n",
              "495                                              0.488                 \n",
              "496                                              0.480                 \n",
              "497                                              0.479                 \n",
              "498                                              0.476                 \n",
              "499                                              0.473                 \n",
              "\n",
              "     Gross enrolment ratio, primary, both sexes (%)  Water Stress Index  \n",
              "0                                          92.59344                 NaN  \n",
              "1                                         105.16491            0.302660  \n",
              "2                                         107.58610            0.319612  \n",
              "3                                         115.33758            0.342618  \n",
              "4                                         116.56791            0.347353  \n",
              "..                                              ...                 ...  \n",
              "495                                       112.51679            0.298693  \n",
              "496                                       109.89279            0.299107  \n",
              "497                                             NaN            0.299521  \n",
              "498                                             NaN            0.299935  \n",
              "499                                             NaN            0.299935  \n",
              "\n",
              "[500 rows x 10 columns]"
            ],
            "text/html": [
              "\n",
              "  <div id=\"df-eba09f09-5a6a-461a-a588-87a686fa7ac6\">\n",
              "    <div class=\"colab-df-container\">\n",
              "      <div>\n",
              "<style scoped>\n",
              "    .dataframe tbody tr th:only-of-type {\n",
              "        vertical-align: middle;\n",
              "    }\n",
              "\n",
              "    .dataframe tbody tr th {\n",
              "        vertical-align: top;\n",
              "    }\n",
              "\n",
              "    .dataframe thead th {\n",
              "        text-align: right;\n",
              "    }\n",
              "</style>\n",
              "<table border=\"1\" class=\"dataframe\">\n",
              "  <thead>\n",
              "    <tr style=\"text-align: right;\">\n",
              "      <th></th>\n",
              "      <th>Country</th>\n",
              "      <th>Country.1</th>\n",
              "      <th>Year</th>\n",
              "      <th>Water-related Adaptation technologies</th>\n",
              "      <th>Trade (% of GDP)</th>\n",
              "      <th>Time required to register property (days)</th>\n",
              "      <th>GDP per capita, PPP (constant 2011 international $)</th>\n",
              "      <th>Employers, total (% of total employment) (modeled ILO estimate)</th>\n",
              "      <th>Gross enrolment ratio, primary, both sexes (%)</th>\n",
              "      <th>Water Stress Index</th>\n",
              "    </tr>\n",
              "  </thead>\n",
              "  <tbody>\n",
              "    <tr>\n",
              "      <th>0</th>\n",
              "      <td>Algeria</td>\n",
              "      <td>1</td>\n",
              "      <td>1990</td>\n",
              "      <td>0.0</td>\n",
              "      <td>48.380714</td>\n",
              "      <td>NaN</td>\n",
              "      <td>10300.015042</td>\n",
              "      <td>NaN</td>\n",
              "      <td>92.59344</td>\n",
              "      <td>NaN</td>\n",
              "    </tr>\n",
              "    <tr>\n",
              "      <th>1</th>\n",
              "      <td>Algeria</td>\n",
              "      <td>1</td>\n",
              "      <td>2000</td>\n",
              "      <td>0.0</td>\n",
              "      <td>62.863795</td>\n",
              "      <td>NaN</td>\n",
              "      <td>10257.741569</td>\n",
              "      <td>6.993</td>\n",
              "      <td>105.16491</td>\n",
              "      <td>0.302660</td>\n",
              "    </tr>\n",
              "    <tr>\n",
              "      <th>2</th>\n",
              "      <td>Algeria</td>\n",
              "      <td>1</td>\n",
              "      <td>2005</td>\n",
              "      <td>0.0</td>\n",
              "      <td>71.277440</td>\n",
              "      <td>74.0</td>\n",
              "      <td>12370.892005</td>\n",
              "      <td>5.239</td>\n",
              "      <td>107.58610</td>\n",
              "      <td>0.319612</td>\n",
              "    </tr>\n",
              "    <tr>\n",
              "      <th>3</th>\n",
              "      <td>Algeria</td>\n",
              "      <td>1</td>\n",
              "      <td>2010</td>\n",
              "      <td>0.0</td>\n",
              "      <td>69.867572</td>\n",
              "      <td>55.0</td>\n",
              "      <td>12919.491054</td>\n",
              "      <td>3.699</td>\n",
              "      <td>115.33758</td>\n",
              "      <td>0.342618</td>\n",
              "    </tr>\n",
              "    <tr>\n",
              "      <th>4</th>\n",
              "      <td>Algeria</td>\n",
              "      <td>1</td>\n",
              "      <td>2011</td>\n",
              "      <td>0.0</td>\n",
              "      <td>67.473455</td>\n",
              "      <td>55.0</td>\n",
              "      <td>13046.128511</td>\n",
              "      <td>3.438</td>\n",
              "      <td>116.56791</td>\n",
              "      <td>0.347353</td>\n",
              "    </tr>\n",
              "    <tr>\n",
              "      <th>...</th>\n",
              "      <td>...</td>\n",
              "      <td>...</td>\n",
              "      <td>...</td>\n",
              "      <td>...</td>\n",
              "      <td>...</td>\n",
              "      <td>...</td>\n",
              "      <td>...</td>\n",
              "      <td>...</td>\n",
              "      <td>...</td>\n",
              "      <td>...</td>\n",
              "    </tr>\n",
              "    <tr>\n",
              "      <th>495</th>\n",
              "      <td>Zimbabwe</td>\n",
              "      <td>50</td>\n",
              "      <td>2012</td>\n",
              "      <td>0.0</td>\n",
              "      <td>74.162535</td>\n",
              "      <td>36.0</td>\n",
              "      <td>2486.847930</td>\n",
              "      <td>0.488</td>\n",
              "      <td>112.51679</td>\n",
              "      <td>0.298693</td>\n",
              "    </tr>\n",
              "    <tr>\n",
              "      <th>496</th>\n",
              "      <td>Zimbabwe</td>\n",
              "      <td>50</td>\n",
              "      <td>2013</td>\n",
              "      <td>0.0</td>\n",
              "      <td>58.656494</td>\n",
              "      <td>36.0</td>\n",
              "      <td>2491.635140</td>\n",
              "      <td>0.480</td>\n",
              "      <td>109.89279</td>\n",
              "      <td>0.299107</td>\n",
              "    </tr>\n",
              "    <tr>\n",
              "      <th>497</th>\n",
              "      <td>Zimbabwe</td>\n",
              "      <td>50</td>\n",
              "      <td>2014</td>\n",
              "      <td>0.0</td>\n",
              "      <td>54.671615</td>\n",
              "      <td>36.0</td>\n",
              "      <td>2506.490220</td>\n",
              "      <td>0.479</td>\n",
              "      <td>NaN</td>\n",
              "      <td>0.299521</td>\n",
              "    </tr>\n",
              "    <tr>\n",
              "      <th>498</th>\n",
              "      <td>Zimbabwe</td>\n",
              "      <td>50</td>\n",
              "      <td>2015</td>\n",
              "      <td>0.0</td>\n",
              "      <td>56.748811</td>\n",
              "      <td>36.0</td>\n",
              "      <td>2509.008140</td>\n",
              "      <td>0.476</td>\n",
              "      <td>NaN</td>\n",
              "      <td>0.299935</td>\n",
              "    </tr>\n",
              "    <tr>\n",
              "      <th>499</th>\n",
              "      <td>Zimbabwe</td>\n",
              "      <td>50</td>\n",
              "      <td>2016</td>\n",
              "      <td>0.0</td>\n",
              "      <td>51.219025</td>\n",
              "      <td>36.0</td>\n",
              "      <td>2489.097494</td>\n",
              "      <td>0.473</td>\n",
              "      <td>NaN</td>\n",
              "      <td>0.299935</td>\n",
              "    </tr>\n",
              "  </tbody>\n",
              "</table>\n",
              "<p>500 rows × 10 columns</p>\n",
              "</div>\n",
              "      <button class=\"colab-df-convert\" onclick=\"convertToInteractive('df-eba09f09-5a6a-461a-a588-87a686fa7ac6')\"\n",
              "              title=\"Convert this dataframe to an interactive table.\"\n",
              "              style=\"display:none;\">\n",
              "        \n",
              "  <svg xmlns=\"http://www.w3.org/2000/svg\" height=\"24px\"viewBox=\"0 0 24 24\"\n",
              "       width=\"24px\">\n",
              "    <path d=\"M0 0h24v24H0V0z\" fill=\"none\"/>\n",
              "    <path d=\"M18.56 5.44l.94 2.06.94-2.06 2.06-.94-2.06-.94-.94-2.06-.94 2.06-2.06.94zm-11 1L8.5 8.5l.94-2.06 2.06-.94-2.06-.94L8.5 2.5l-.94 2.06-2.06.94zm10 10l.94 2.06.94-2.06 2.06-.94-2.06-.94-.94-2.06-.94 2.06-2.06.94z\"/><path d=\"M17.41 7.96l-1.37-1.37c-.4-.4-.92-.59-1.43-.59-.52 0-1.04.2-1.43.59L10.3 9.45l-7.72 7.72c-.78.78-.78 2.05 0 2.83L4 21.41c.39.39.9.59 1.41.59.51 0 1.02-.2 1.41-.59l7.78-7.78 2.81-2.81c.8-.78.8-2.07 0-2.86zM5.41 20L4 18.59l7.72-7.72 1.47 1.35L5.41 20z\"/>\n",
              "  </svg>\n",
              "      </button>\n",
              "      \n",
              "  <style>\n",
              "    .colab-df-container {\n",
              "      display:flex;\n",
              "      flex-wrap:wrap;\n",
              "      gap: 12px;\n",
              "    }\n",
              "\n",
              "    .colab-df-convert {\n",
              "      background-color: #E8F0FE;\n",
              "      border: none;\n",
              "      border-radius: 50%;\n",
              "      cursor: pointer;\n",
              "      display: none;\n",
              "      fill: #1967D2;\n",
              "      height: 32px;\n",
              "      padding: 0 0 0 0;\n",
              "      width: 32px;\n",
              "    }\n",
              "\n",
              "    .colab-df-convert:hover {\n",
              "      background-color: #E2EBFA;\n",
              "      box-shadow: 0px 1px 2px rgba(60, 64, 67, 0.3), 0px 1px 3px 1px rgba(60, 64, 67, 0.15);\n",
              "      fill: #174EA6;\n",
              "    }\n",
              "\n",
              "    [theme=dark] .colab-df-convert {\n",
              "      background-color: #3B4455;\n",
              "      fill: #D2E3FC;\n",
              "    }\n",
              "\n",
              "    [theme=dark] .colab-df-convert:hover {\n",
              "      background-color: #434B5C;\n",
              "      box-shadow: 0px 1px 3px 1px rgba(0, 0, 0, 0.15);\n",
              "      filter: drop-shadow(0px 1px 2px rgba(0, 0, 0, 0.3));\n",
              "      fill: #FFFFFF;\n",
              "    }\n",
              "  </style>\n",
              "\n",
              "      <script>\n",
              "        const buttonEl =\n",
              "          document.querySelector('#df-eba09f09-5a6a-461a-a588-87a686fa7ac6 button.colab-df-convert');\n",
              "        buttonEl.style.display =\n",
              "          google.colab.kernel.accessAllowed ? 'block' : 'none';\n",
              "\n",
              "        async function convertToInteractive(key) {\n",
              "          const element = document.querySelector('#df-eba09f09-5a6a-461a-a588-87a686fa7ac6');\n",
              "          const dataTable =\n",
              "            await google.colab.kernel.invokeFunction('convertToInteractive',\n",
              "                                                     [key], {});\n",
              "          if (!dataTable) return;\n",
              "\n",
              "          const docLinkHtml = 'Like what you see? Visit the ' +\n",
              "            '<a target=\"_blank\" href=https://colab.research.google.com/notebooks/data_table.ipynb>data table notebook</a>'\n",
              "            + ' to learn more about interactive tables.';\n",
              "          element.innerHTML = '';\n",
              "          dataTable['output_type'] = 'display_data';\n",
              "          await google.colab.output.renderOutput(dataTable, element);\n",
              "          const docLink = document.createElement('div');\n",
              "          docLink.innerHTML = docLinkHtml;\n",
              "          element.appendChild(docLink);\n",
              "        }\n",
              "      </script>\n",
              "    </div>\n",
              "  </div>\n",
              "  "
            ]
          },
          "metadata": {},
          "execution_count": 3
        }
      ]
    },
    {
      "cell_type": "code",
      "source": [
        "df.head()"
      ],
      "metadata": {
        "colab": {
          "base_uri": "https://localhost:8080/",
          "height": 375
        },
        "id": "q5ccE3Vq4CcQ",
        "outputId": "bafda32c-e5e5-46f9-ebaa-acf891cc0812"
      },
      "execution_count": null,
      "outputs": [
        {
          "output_type": "execute_result",
          "data": {
            "text/plain": [
              "   Country  Country.1  Year  Water-related Adaptation technologies  \\\n",
              "0  Algeria          1  1990                                    0.0   \n",
              "1  Algeria          1  2000                                    0.0   \n",
              "2  Algeria          1  2005                                    0.0   \n",
              "3  Algeria          1  2010                                    0.0   \n",
              "4  Algeria          1  2011                                    0.0   \n",
              "\n",
              "   Trade (% of GDP)  Time required to register property (days)  \\\n",
              "0         48.380714                                        NaN   \n",
              "1         62.863795                                        NaN   \n",
              "2         71.277440                                       74.0   \n",
              "3         69.867572                                       55.0   \n",
              "4         67.473455                                       55.0   \n",
              "\n",
              "   GDP per capita, PPP (constant 2011 international $)  \\\n",
              "0                                       10300.015042     \n",
              "1                                       10257.741569     \n",
              "2                                       12370.892005     \n",
              "3                                       12919.491054     \n",
              "4                                       13046.128511     \n",
              "\n",
              "   Employers, total (% of total employment) (modeled ILO estimate)  \\\n",
              "0                                                NaN                 \n",
              "1                                              6.993                 \n",
              "2                                              5.239                 \n",
              "3                                              3.699                 \n",
              "4                                              3.438                 \n",
              "\n",
              "   Gross enrolment ratio, primary, both sexes (%)  Water Stress Index  \n",
              "0                                        92.59344                 NaN  \n",
              "1                                       105.16491            0.302660  \n",
              "2                                       107.58610            0.319612  \n",
              "3                                       115.33758            0.342618  \n",
              "4                                       116.56791            0.347353  "
            ],
            "text/html": [
              "\n",
              "  <div id=\"df-9f5f5b30-74d2-43f7-a931-16f0cfa30e44\">\n",
              "    <div class=\"colab-df-container\">\n",
              "      <div>\n",
              "<style scoped>\n",
              "    .dataframe tbody tr th:only-of-type {\n",
              "        vertical-align: middle;\n",
              "    }\n",
              "\n",
              "    .dataframe tbody tr th {\n",
              "        vertical-align: top;\n",
              "    }\n",
              "\n",
              "    .dataframe thead th {\n",
              "        text-align: right;\n",
              "    }\n",
              "</style>\n",
              "<table border=\"1\" class=\"dataframe\">\n",
              "  <thead>\n",
              "    <tr style=\"text-align: right;\">\n",
              "      <th></th>\n",
              "      <th>Country</th>\n",
              "      <th>Country.1</th>\n",
              "      <th>Year</th>\n",
              "      <th>Water-related Adaptation technologies</th>\n",
              "      <th>Trade (% of GDP)</th>\n",
              "      <th>Time required to register property (days)</th>\n",
              "      <th>GDP per capita, PPP (constant 2011 international $)</th>\n",
              "      <th>Employers, total (% of total employment) (modeled ILO estimate)</th>\n",
              "      <th>Gross enrolment ratio, primary, both sexes (%)</th>\n",
              "      <th>Water Stress Index</th>\n",
              "    </tr>\n",
              "  </thead>\n",
              "  <tbody>\n",
              "    <tr>\n",
              "      <th>0</th>\n",
              "      <td>Algeria</td>\n",
              "      <td>1</td>\n",
              "      <td>1990</td>\n",
              "      <td>0.0</td>\n",
              "      <td>48.380714</td>\n",
              "      <td>NaN</td>\n",
              "      <td>10300.015042</td>\n",
              "      <td>NaN</td>\n",
              "      <td>92.59344</td>\n",
              "      <td>NaN</td>\n",
              "    </tr>\n",
              "    <tr>\n",
              "      <th>1</th>\n",
              "      <td>Algeria</td>\n",
              "      <td>1</td>\n",
              "      <td>2000</td>\n",
              "      <td>0.0</td>\n",
              "      <td>62.863795</td>\n",
              "      <td>NaN</td>\n",
              "      <td>10257.741569</td>\n",
              "      <td>6.993</td>\n",
              "      <td>105.16491</td>\n",
              "      <td>0.302660</td>\n",
              "    </tr>\n",
              "    <tr>\n",
              "      <th>2</th>\n",
              "      <td>Algeria</td>\n",
              "      <td>1</td>\n",
              "      <td>2005</td>\n",
              "      <td>0.0</td>\n",
              "      <td>71.277440</td>\n",
              "      <td>74.0</td>\n",
              "      <td>12370.892005</td>\n",
              "      <td>5.239</td>\n",
              "      <td>107.58610</td>\n",
              "      <td>0.319612</td>\n",
              "    </tr>\n",
              "    <tr>\n",
              "      <th>3</th>\n",
              "      <td>Algeria</td>\n",
              "      <td>1</td>\n",
              "      <td>2010</td>\n",
              "      <td>0.0</td>\n",
              "      <td>69.867572</td>\n",
              "      <td>55.0</td>\n",
              "      <td>12919.491054</td>\n",
              "      <td>3.699</td>\n",
              "      <td>115.33758</td>\n",
              "      <td>0.342618</td>\n",
              "    </tr>\n",
              "    <tr>\n",
              "      <th>4</th>\n",
              "      <td>Algeria</td>\n",
              "      <td>1</td>\n",
              "      <td>2011</td>\n",
              "      <td>0.0</td>\n",
              "      <td>67.473455</td>\n",
              "      <td>55.0</td>\n",
              "      <td>13046.128511</td>\n",
              "      <td>3.438</td>\n",
              "      <td>116.56791</td>\n",
              "      <td>0.347353</td>\n",
              "    </tr>\n",
              "  </tbody>\n",
              "</table>\n",
              "</div>\n",
              "      <button class=\"colab-df-convert\" onclick=\"convertToInteractive('df-9f5f5b30-74d2-43f7-a931-16f0cfa30e44')\"\n",
              "              title=\"Convert this dataframe to an interactive table.\"\n",
              "              style=\"display:none;\">\n",
              "        \n",
              "  <svg xmlns=\"http://www.w3.org/2000/svg\" height=\"24px\"viewBox=\"0 0 24 24\"\n",
              "       width=\"24px\">\n",
              "    <path d=\"M0 0h24v24H0V0z\" fill=\"none\"/>\n",
              "    <path d=\"M18.56 5.44l.94 2.06.94-2.06 2.06-.94-2.06-.94-.94-2.06-.94 2.06-2.06.94zm-11 1L8.5 8.5l.94-2.06 2.06-.94-2.06-.94L8.5 2.5l-.94 2.06-2.06.94zm10 10l.94 2.06.94-2.06 2.06-.94-2.06-.94-.94-2.06-.94 2.06-2.06.94z\"/><path d=\"M17.41 7.96l-1.37-1.37c-.4-.4-.92-.59-1.43-.59-.52 0-1.04.2-1.43.59L10.3 9.45l-7.72 7.72c-.78.78-.78 2.05 0 2.83L4 21.41c.39.39.9.59 1.41.59.51 0 1.02-.2 1.41-.59l7.78-7.78 2.81-2.81c.8-.78.8-2.07 0-2.86zM5.41 20L4 18.59l7.72-7.72 1.47 1.35L5.41 20z\"/>\n",
              "  </svg>\n",
              "      </button>\n",
              "      \n",
              "  <style>\n",
              "    .colab-df-container {\n",
              "      display:flex;\n",
              "      flex-wrap:wrap;\n",
              "      gap: 12px;\n",
              "    }\n",
              "\n",
              "    .colab-df-convert {\n",
              "      background-color: #E8F0FE;\n",
              "      border: none;\n",
              "      border-radius: 50%;\n",
              "      cursor: pointer;\n",
              "      display: none;\n",
              "      fill: #1967D2;\n",
              "      height: 32px;\n",
              "      padding: 0 0 0 0;\n",
              "      width: 32px;\n",
              "    }\n",
              "\n",
              "    .colab-df-convert:hover {\n",
              "      background-color: #E2EBFA;\n",
              "      box-shadow: 0px 1px 2px rgba(60, 64, 67, 0.3), 0px 1px 3px 1px rgba(60, 64, 67, 0.15);\n",
              "      fill: #174EA6;\n",
              "    }\n",
              "\n",
              "    [theme=dark] .colab-df-convert {\n",
              "      background-color: #3B4455;\n",
              "      fill: #D2E3FC;\n",
              "    }\n",
              "\n",
              "    [theme=dark] .colab-df-convert:hover {\n",
              "      background-color: #434B5C;\n",
              "      box-shadow: 0px 1px 3px 1px rgba(0, 0, 0, 0.15);\n",
              "      filter: drop-shadow(0px 1px 2px rgba(0, 0, 0, 0.3));\n",
              "      fill: #FFFFFF;\n",
              "    }\n",
              "  </style>\n",
              "\n",
              "      <script>\n",
              "        const buttonEl =\n",
              "          document.querySelector('#df-9f5f5b30-74d2-43f7-a931-16f0cfa30e44 button.colab-df-convert');\n",
              "        buttonEl.style.display =\n",
              "          google.colab.kernel.accessAllowed ? 'block' : 'none';\n",
              "\n",
              "        async function convertToInteractive(key) {\n",
              "          const element = document.querySelector('#df-9f5f5b30-74d2-43f7-a931-16f0cfa30e44');\n",
              "          const dataTable =\n",
              "            await google.colab.kernel.invokeFunction('convertToInteractive',\n",
              "                                                     [key], {});\n",
              "          if (!dataTable) return;\n",
              "\n",
              "          const docLinkHtml = 'Like what you see? Visit the ' +\n",
              "            '<a target=\"_blank\" href=https://colab.research.google.com/notebooks/data_table.ipynb>data table notebook</a>'\n",
              "            + ' to learn more about interactive tables.';\n",
              "          element.innerHTML = '';\n",
              "          dataTable['output_type'] = 'display_data';\n",
              "          await google.colab.output.renderOutput(dataTable, element);\n",
              "          const docLink = document.createElement('div');\n",
              "          docLink.innerHTML = docLinkHtml;\n",
              "          element.appendChild(docLink);\n",
              "        }\n",
              "      </script>\n",
              "    </div>\n",
              "  </div>\n",
              "  "
            ]
          },
          "metadata": {},
          "execution_count": 4
        }
      ]
    },
    {
      "cell_type": "code",
      "source": [
        "df.tail()"
      ],
      "metadata": {
        "colab": {
          "base_uri": "https://localhost:8080/",
          "height": 375
        },
        "id": "kSuNn_mj3dUV",
        "outputId": "961f4fb8-7745-44bd-ece1-1186a1e075ed"
      },
      "execution_count": null,
      "outputs": [
        {
          "output_type": "execute_result",
          "data": {
            "text/plain": [
              "      Country  Country.1  Year  Water-related Adaptation technologies  \\\n",
              "495  Zimbabwe         50  2012                                    0.0   \n",
              "496  Zimbabwe         50  2013                                    0.0   \n",
              "497  Zimbabwe         50  2014                                    0.0   \n",
              "498  Zimbabwe         50  2015                                    0.0   \n",
              "499  Zimbabwe         50  2016                                    0.0   \n",
              "\n",
              "     Trade (% of GDP)  Time required to register property (days)  \\\n",
              "495         74.162535                                       36.0   \n",
              "496         58.656494                                       36.0   \n",
              "497         54.671615                                       36.0   \n",
              "498         56.748811                                       36.0   \n",
              "499         51.219025                                       36.0   \n",
              "\n",
              "     GDP per capita, PPP (constant 2011 international $)  \\\n",
              "495                                        2486.847930     \n",
              "496                                        2491.635140     \n",
              "497                                        2506.490220     \n",
              "498                                        2509.008140     \n",
              "499                                        2489.097494     \n",
              "\n",
              "     Employers, total (% of total employment) (modeled ILO estimate)  \\\n",
              "495                                              0.488                 \n",
              "496                                              0.480                 \n",
              "497                                              0.479                 \n",
              "498                                              0.476                 \n",
              "499                                              0.473                 \n",
              "\n",
              "     Gross enrolment ratio, primary, both sexes (%)  Water Stress Index  \n",
              "495                                       112.51679            0.298693  \n",
              "496                                       109.89279            0.299107  \n",
              "497                                             NaN            0.299521  \n",
              "498                                             NaN            0.299935  \n",
              "499                                             NaN            0.299935  "
            ],
            "text/html": [
              "\n",
              "  <div id=\"df-500c511e-9bd9-4a70-8304-c28aba3b6acc\">\n",
              "    <div class=\"colab-df-container\">\n",
              "      <div>\n",
              "<style scoped>\n",
              "    .dataframe tbody tr th:only-of-type {\n",
              "        vertical-align: middle;\n",
              "    }\n",
              "\n",
              "    .dataframe tbody tr th {\n",
              "        vertical-align: top;\n",
              "    }\n",
              "\n",
              "    .dataframe thead th {\n",
              "        text-align: right;\n",
              "    }\n",
              "</style>\n",
              "<table border=\"1\" class=\"dataframe\">\n",
              "  <thead>\n",
              "    <tr style=\"text-align: right;\">\n",
              "      <th></th>\n",
              "      <th>Country</th>\n",
              "      <th>Country.1</th>\n",
              "      <th>Year</th>\n",
              "      <th>Water-related Adaptation technologies</th>\n",
              "      <th>Trade (% of GDP)</th>\n",
              "      <th>Time required to register property (days)</th>\n",
              "      <th>GDP per capita, PPP (constant 2011 international $)</th>\n",
              "      <th>Employers, total (% of total employment) (modeled ILO estimate)</th>\n",
              "      <th>Gross enrolment ratio, primary, both sexes (%)</th>\n",
              "      <th>Water Stress Index</th>\n",
              "    </tr>\n",
              "  </thead>\n",
              "  <tbody>\n",
              "    <tr>\n",
              "      <th>495</th>\n",
              "      <td>Zimbabwe</td>\n",
              "      <td>50</td>\n",
              "      <td>2012</td>\n",
              "      <td>0.0</td>\n",
              "      <td>74.162535</td>\n",
              "      <td>36.0</td>\n",
              "      <td>2486.847930</td>\n",
              "      <td>0.488</td>\n",
              "      <td>112.51679</td>\n",
              "      <td>0.298693</td>\n",
              "    </tr>\n",
              "    <tr>\n",
              "      <th>496</th>\n",
              "      <td>Zimbabwe</td>\n",
              "      <td>50</td>\n",
              "      <td>2013</td>\n",
              "      <td>0.0</td>\n",
              "      <td>58.656494</td>\n",
              "      <td>36.0</td>\n",
              "      <td>2491.635140</td>\n",
              "      <td>0.480</td>\n",
              "      <td>109.89279</td>\n",
              "      <td>0.299107</td>\n",
              "    </tr>\n",
              "    <tr>\n",
              "      <th>497</th>\n",
              "      <td>Zimbabwe</td>\n",
              "      <td>50</td>\n",
              "      <td>2014</td>\n",
              "      <td>0.0</td>\n",
              "      <td>54.671615</td>\n",
              "      <td>36.0</td>\n",
              "      <td>2506.490220</td>\n",
              "      <td>0.479</td>\n",
              "      <td>NaN</td>\n",
              "      <td>0.299521</td>\n",
              "    </tr>\n",
              "    <tr>\n",
              "      <th>498</th>\n",
              "      <td>Zimbabwe</td>\n",
              "      <td>50</td>\n",
              "      <td>2015</td>\n",
              "      <td>0.0</td>\n",
              "      <td>56.748811</td>\n",
              "      <td>36.0</td>\n",
              "      <td>2509.008140</td>\n",
              "      <td>0.476</td>\n",
              "      <td>NaN</td>\n",
              "      <td>0.299935</td>\n",
              "    </tr>\n",
              "    <tr>\n",
              "      <th>499</th>\n",
              "      <td>Zimbabwe</td>\n",
              "      <td>50</td>\n",
              "      <td>2016</td>\n",
              "      <td>0.0</td>\n",
              "      <td>51.219025</td>\n",
              "      <td>36.0</td>\n",
              "      <td>2489.097494</td>\n",
              "      <td>0.473</td>\n",
              "      <td>NaN</td>\n",
              "      <td>0.299935</td>\n",
              "    </tr>\n",
              "  </tbody>\n",
              "</table>\n",
              "</div>\n",
              "      <button class=\"colab-df-convert\" onclick=\"convertToInteractive('df-500c511e-9bd9-4a70-8304-c28aba3b6acc')\"\n",
              "              title=\"Convert this dataframe to an interactive table.\"\n",
              "              style=\"display:none;\">\n",
              "        \n",
              "  <svg xmlns=\"http://www.w3.org/2000/svg\" height=\"24px\"viewBox=\"0 0 24 24\"\n",
              "       width=\"24px\">\n",
              "    <path d=\"M0 0h24v24H0V0z\" fill=\"none\"/>\n",
              "    <path d=\"M18.56 5.44l.94 2.06.94-2.06 2.06-.94-2.06-.94-.94-2.06-.94 2.06-2.06.94zm-11 1L8.5 8.5l.94-2.06 2.06-.94-2.06-.94L8.5 2.5l-.94 2.06-2.06.94zm10 10l.94 2.06.94-2.06 2.06-.94-2.06-.94-.94-2.06-.94 2.06-2.06.94z\"/><path d=\"M17.41 7.96l-1.37-1.37c-.4-.4-.92-.59-1.43-.59-.52 0-1.04.2-1.43.59L10.3 9.45l-7.72 7.72c-.78.78-.78 2.05 0 2.83L4 21.41c.39.39.9.59 1.41.59.51 0 1.02-.2 1.41-.59l7.78-7.78 2.81-2.81c.8-.78.8-2.07 0-2.86zM5.41 20L4 18.59l7.72-7.72 1.47 1.35L5.41 20z\"/>\n",
              "  </svg>\n",
              "      </button>\n",
              "      \n",
              "  <style>\n",
              "    .colab-df-container {\n",
              "      display:flex;\n",
              "      flex-wrap:wrap;\n",
              "      gap: 12px;\n",
              "    }\n",
              "\n",
              "    .colab-df-convert {\n",
              "      background-color: #E8F0FE;\n",
              "      border: none;\n",
              "      border-radius: 50%;\n",
              "      cursor: pointer;\n",
              "      display: none;\n",
              "      fill: #1967D2;\n",
              "      height: 32px;\n",
              "      padding: 0 0 0 0;\n",
              "      width: 32px;\n",
              "    }\n",
              "\n",
              "    .colab-df-convert:hover {\n",
              "      background-color: #E2EBFA;\n",
              "      box-shadow: 0px 1px 2px rgba(60, 64, 67, 0.3), 0px 1px 3px 1px rgba(60, 64, 67, 0.15);\n",
              "      fill: #174EA6;\n",
              "    }\n",
              "\n",
              "    [theme=dark] .colab-df-convert {\n",
              "      background-color: #3B4455;\n",
              "      fill: #D2E3FC;\n",
              "    }\n",
              "\n",
              "    [theme=dark] .colab-df-convert:hover {\n",
              "      background-color: #434B5C;\n",
              "      box-shadow: 0px 1px 3px 1px rgba(0, 0, 0, 0.15);\n",
              "      filter: drop-shadow(0px 1px 2px rgba(0, 0, 0, 0.3));\n",
              "      fill: #FFFFFF;\n",
              "    }\n",
              "  </style>\n",
              "\n",
              "      <script>\n",
              "        const buttonEl =\n",
              "          document.querySelector('#df-500c511e-9bd9-4a70-8304-c28aba3b6acc button.colab-df-convert');\n",
              "        buttonEl.style.display =\n",
              "          google.colab.kernel.accessAllowed ? 'block' : 'none';\n",
              "\n",
              "        async function convertToInteractive(key) {\n",
              "          const element = document.querySelector('#df-500c511e-9bd9-4a70-8304-c28aba3b6acc');\n",
              "          const dataTable =\n",
              "            await google.colab.kernel.invokeFunction('convertToInteractive',\n",
              "                                                     [key], {});\n",
              "          if (!dataTable) return;\n",
              "\n",
              "          const docLinkHtml = 'Like what you see? Visit the ' +\n",
              "            '<a target=\"_blank\" href=https://colab.research.google.com/notebooks/data_table.ipynb>data table notebook</a>'\n",
              "            + ' to learn more about interactive tables.';\n",
              "          element.innerHTML = '';\n",
              "          dataTable['output_type'] = 'display_data';\n",
              "          await google.colab.output.renderOutput(dataTable, element);\n",
              "          const docLink = document.createElement('div');\n",
              "          docLink.innerHTML = docLinkHtml;\n",
              "          element.appendChild(docLink);\n",
              "        }\n",
              "      </script>\n",
              "    </div>\n",
              "  </div>\n",
              "  "
            ]
          },
          "metadata": {},
          "execution_count": 5
        }
      ]
    },
    {
      "cell_type": "code",
      "source": [
        "df.info()"
      ],
      "metadata": {
        "colab": {
          "base_uri": "https://localhost:8080/"
        },
        "id": "_BBNkyuO3xVW",
        "outputId": "da638695-aee0-424f-d488-0b581687470d"
      },
      "execution_count": null,
      "outputs": [
        {
          "output_type": "stream",
          "name": "stdout",
          "text": [
            "<class 'pandas.core.frame.DataFrame'>\n",
            "RangeIndex: 500 entries, 0 to 499\n",
            "Data columns (total 10 columns):\n",
            " #   Column                                                           Non-Null Count  Dtype  \n",
            "---  ------                                                           --------------  -----  \n",
            " 0   Country                                                          500 non-null    object \n",
            " 1   Country.1                                                        500 non-null    int64  \n",
            " 2   Year                                                             500 non-null    int64  \n",
            " 3   Water-related Adaptation technologies                            375 non-null    float64\n",
            " 4   Trade (% of GDP)                                                 460 non-null    float64\n",
            " 5   Time required to register property (days)                        381 non-null    float64\n",
            " 6   GDP per capita, PPP (constant 2011 international $)              471 non-null    float64\n",
            " 7   Employers, total (% of total employment) (modeled ILO estimate)  441 non-null    float64\n",
            " 8   Gross enrolment ratio, primary, both sexes (%)                   412 non-null    float64\n",
            " 9   Water Stress Index                                               432 non-null    float64\n",
            "dtypes: float64(7), int64(2), object(1)\n",
            "memory usage: 39.2+ KB\n"
          ]
        }
      ]
    },
    {
      "cell_type": "code",
      "source": [
        "df.describe()"
      ],
      "metadata": {
        "colab": {
          "base_uri": "https://localhost:8080/",
          "height": 469
        },
        "id": "KrBwWxcB4LHP",
        "outputId": "270f6bff-5e04-4f09-bd0c-5308c640cb47"
      },
      "execution_count": null,
      "outputs": [
        {
          "output_type": "execute_result",
          "data": {
            "text/plain": [
              "        Country.1         Year  Water-related Adaptation technologies  \\\n",
              "count  500.000000   500.000000                             375.000000   \n",
              "mean    25.500000  2008.600000                               0.203733   \n",
              "std     14.445322     7.730428                               0.912161   \n",
              "min      1.000000  1990.000000                               0.000000   \n",
              "25%     13.000000  2005.000000                               0.000000   \n",
              "50%     25.500000  2011.500000                               0.000000   \n",
              "75%     38.000000  2014.000000                               0.000000   \n",
              "max     50.000000  2016.000000                              10.330000   \n",
              "\n",
              "       Trade (% of GDP)  Time required to register property (days)  \\\n",
              "count        460.000000                                 381.000000   \n",
              "mean          77.667287                                  65.592651   \n",
              "std           40.935195                                  54.421274   \n",
              "min           11.087456                                  11.000000   \n",
              "25%           50.632784                                  33.000000   \n",
              "50%           68.299645                                  52.000000   \n",
              "75%           98.032062                                  75.000000   \n",
              "max          376.224090                                 389.000000   \n",
              "\n",
              "       GDP per capita, PPP (constant 2011 international $)  \\\n",
              "count                                         471.000000     \n",
              "mean                                         5519.208477     \n",
              "std                                          6367.660521     \n",
              "min                                           473.401824     \n",
              "25%                                          1618.920658     \n",
              "50%                                          2712.612632     \n",
              "75%                                          6770.389128     \n",
              "max                                         35887.816302     \n",
              "\n",
              "       Employers, total (% of total employment) (modeled ILO estimate)  \\\n",
              "count                                         441.000000                 \n",
              "mean                                            2.616823                 \n",
              "std                                             2.529517                 \n",
              "min                                             0.072000                 \n",
              "25%                                             0.931000                 \n",
              "50%                                             1.998000                 \n",
              "75%                                             3.506000                 \n",
              "max                                            17.122999                 \n",
              "\n",
              "       Gross enrolment ratio, primary, both sexes (%)  Water Stress Index  \n",
              "count                                      412.000000          432.000000  \n",
              "mean                                        98.259144            0.354257  \n",
              "std                                         22.838824            0.122646  \n",
              "min                                         26.186640            0.042425  \n",
              "25%                                         84.559907            0.288447  \n",
              "50%                                        102.881105            0.353792  \n",
              "75%                                        111.846160            0.430155  \n",
              "max                                        147.395790            0.702492  "
            ],
            "text/html": [
              "\n",
              "  <div id=\"df-278bff0a-acd4-49f4-97ee-bbdbc372ead2\">\n",
              "    <div class=\"colab-df-container\">\n",
              "      <div>\n",
              "<style scoped>\n",
              "    .dataframe tbody tr th:only-of-type {\n",
              "        vertical-align: middle;\n",
              "    }\n",
              "\n",
              "    .dataframe tbody tr th {\n",
              "        vertical-align: top;\n",
              "    }\n",
              "\n",
              "    .dataframe thead th {\n",
              "        text-align: right;\n",
              "    }\n",
              "</style>\n",
              "<table border=\"1\" class=\"dataframe\">\n",
              "  <thead>\n",
              "    <tr style=\"text-align: right;\">\n",
              "      <th></th>\n",
              "      <th>Country.1</th>\n",
              "      <th>Year</th>\n",
              "      <th>Water-related Adaptation technologies</th>\n",
              "      <th>Trade (% of GDP)</th>\n",
              "      <th>Time required to register property (days)</th>\n",
              "      <th>GDP per capita, PPP (constant 2011 international $)</th>\n",
              "      <th>Employers, total (% of total employment) (modeled ILO estimate)</th>\n",
              "      <th>Gross enrolment ratio, primary, both sexes (%)</th>\n",
              "      <th>Water Stress Index</th>\n",
              "    </tr>\n",
              "  </thead>\n",
              "  <tbody>\n",
              "    <tr>\n",
              "      <th>count</th>\n",
              "      <td>500.000000</td>\n",
              "      <td>500.000000</td>\n",
              "      <td>375.000000</td>\n",
              "      <td>460.000000</td>\n",
              "      <td>381.000000</td>\n",
              "      <td>471.000000</td>\n",
              "      <td>441.000000</td>\n",
              "      <td>412.000000</td>\n",
              "      <td>432.000000</td>\n",
              "    </tr>\n",
              "    <tr>\n",
              "      <th>mean</th>\n",
              "      <td>25.500000</td>\n",
              "      <td>2008.600000</td>\n",
              "      <td>0.203733</td>\n",
              "      <td>77.667287</td>\n",
              "      <td>65.592651</td>\n",
              "      <td>5519.208477</td>\n",
              "      <td>2.616823</td>\n",
              "      <td>98.259144</td>\n",
              "      <td>0.354257</td>\n",
              "    </tr>\n",
              "    <tr>\n",
              "      <th>std</th>\n",
              "      <td>14.445322</td>\n",
              "      <td>7.730428</td>\n",
              "      <td>0.912161</td>\n",
              "      <td>40.935195</td>\n",
              "      <td>54.421274</td>\n",
              "      <td>6367.660521</td>\n",
              "      <td>2.529517</td>\n",
              "      <td>22.838824</td>\n",
              "      <td>0.122646</td>\n",
              "    </tr>\n",
              "    <tr>\n",
              "      <th>min</th>\n",
              "      <td>1.000000</td>\n",
              "      <td>1990.000000</td>\n",
              "      <td>0.000000</td>\n",
              "      <td>11.087456</td>\n",
              "      <td>11.000000</td>\n",
              "      <td>473.401824</td>\n",
              "      <td>0.072000</td>\n",
              "      <td>26.186640</td>\n",
              "      <td>0.042425</td>\n",
              "    </tr>\n",
              "    <tr>\n",
              "      <th>25%</th>\n",
              "      <td>13.000000</td>\n",
              "      <td>2005.000000</td>\n",
              "      <td>0.000000</td>\n",
              "      <td>50.632784</td>\n",
              "      <td>33.000000</td>\n",
              "      <td>1618.920658</td>\n",
              "      <td>0.931000</td>\n",
              "      <td>84.559907</td>\n",
              "      <td>0.288447</td>\n",
              "    </tr>\n",
              "    <tr>\n",
              "      <th>50%</th>\n",
              "      <td>25.500000</td>\n",
              "      <td>2011.500000</td>\n",
              "      <td>0.000000</td>\n",
              "      <td>68.299645</td>\n",
              "      <td>52.000000</td>\n",
              "      <td>2712.612632</td>\n",
              "      <td>1.998000</td>\n",
              "      <td>102.881105</td>\n",
              "      <td>0.353792</td>\n",
              "    </tr>\n",
              "    <tr>\n",
              "      <th>75%</th>\n",
              "      <td>38.000000</td>\n",
              "      <td>2014.000000</td>\n",
              "      <td>0.000000</td>\n",
              "      <td>98.032062</td>\n",
              "      <td>75.000000</td>\n",
              "      <td>6770.389128</td>\n",
              "      <td>3.506000</td>\n",
              "      <td>111.846160</td>\n",
              "      <td>0.430155</td>\n",
              "    </tr>\n",
              "    <tr>\n",
              "      <th>max</th>\n",
              "      <td>50.000000</td>\n",
              "      <td>2016.000000</td>\n",
              "      <td>10.330000</td>\n",
              "      <td>376.224090</td>\n",
              "      <td>389.000000</td>\n",
              "      <td>35887.816302</td>\n",
              "      <td>17.122999</td>\n",
              "      <td>147.395790</td>\n",
              "      <td>0.702492</td>\n",
              "    </tr>\n",
              "  </tbody>\n",
              "</table>\n",
              "</div>\n",
              "      <button class=\"colab-df-convert\" onclick=\"convertToInteractive('df-278bff0a-acd4-49f4-97ee-bbdbc372ead2')\"\n",
              "              title=\"Convert this dataframe to an interactive table.\"\n",
              "              style=\"display:none;\">\n",
              "        \n",
              "  <svg xmlns=\"http://www.w3.org/2000/svg\" height=\"24px\"viewBox=\"0 0 24 24\"\n",
              "       width=\"24px\">\n",
              "    <path d=\"M0 0h24v24H0V0z\" fill=\"none\"/>\n",
              "    <path d=\"M18.56 5.44l.94 2.06.94-2.06 2.06-.94-2.06-.94-.94-2.06-.94 2.06-2.06.94zm-11 1L8.5 8.5l.94-2.06 2.06-.94-2.06-.94L8.5 2.5l-.94 2.06-2.06.94zm10 10l.94 2.06.94-2.06 2.06-.94-2.06-.94-.94-2.06-.94 2.06-2.06.94z\"/><path d=\"M17.41 7.96l-1.37-1.37c-.4-.4-.92-.59-1.43-.59-.52 0-1.04.2-1.43.59L10.3 9.45l-7.72 7.72c-.78.78-.78 2.05 0 2.83L4 21.41c.39.39.9.59 1.41.59.51 0 1.02-.2 1.41-.59l7.78-7.78 2.81-2.81c.8-.78.8-2.07 0-2.86zM5.41 20L4 18.59l7.72-7.72 1.47 1.35L5.41 20z\"/>\n",
              "  </svg>\n",
              "      </button>\n",
              "      \n",
              "  <style>\n",
              "    .colab-df-container {\n",
              "      display:flex;\n",
              "      flex-wrap:wrap;\n",
              "      gap: 12px;\n",
              "    }\n",
              "\n",
              "    .colab-df-convert {\n",
              "      background-color: #E8F0FE;\n",
              "      border: none;\n",
              "      border-radius: 50%;\n",
              "      cursor: pointer;\n",
              "      display: none;\n",
              "      fill: #1967D2;\n",
              "      height: 32px;\n",
              "      padding: 0 0 0 0;\n",
              "      width: 32px;\n",
              "    }\n",
              "\n",
              "    .colab-df-convert:hover {\n",
              "      background-color: #E2EBFA;\n",
              "      box-shadow: 0px 1px 2px rgba(60, 64, 67, 0.3), 0px 1px 3px 1px rgba(60, 64, 67, 0.15);\n",
              "      fill: #174EA6;\n",
              "    }\n",
              "\n",
              "    [theme=dark] .colab-df-convert {\n",
              "      background-color: #3B4455;\n",
              "      fill: #D2E3FC;\n",
              "    }\n",
              "\n",
              "    [theme=dark] .colab-df-convert:hover {\n",
              "      background-color: #434B5C;\n",
              "      box-shadow: 0px 1px 3px 1px rgba(0, 0, 0, 0.15);\n",
              "      filter: drop-shadow(0px 1px 2px rgba(0, 0, 0, 0.3));\n",
              "      fill: #FFFFFF;\n",
              "    }\n",
              "  </style>\n",
              "\n",
              "      <script>\n",
              "        const buttonEl =\n",
              "          document.querySelector('#df-278bff0a-acd4-49f4-97ee-bbdbc372ead2 button.colab-df-convert');\n",
              "        buttonEl.style.display =\n",
              "          google.colab.kernel.accessAllowed ? 'block' : 'none';\n",
              "\n",
              "        async function convertToInteractive(key) {\n",
              "          const element = document.querySelector('#df-278bff0a-acd4-49f4-97ee-bbdbc372ead2');\n",
              "          const dataTable =\n",
              "            await google.colab.kernel.invokeFunction('convertToInteractive',\n",
              "                                                     [key], {});\n",
              "          if (!dataTable) return;\n",
              "\n",
              "          const docLinkHtml = 'Like what you see? Visit the ' +\n",
              "            '<a target=\"_blank\" href=https://colab.research.google.com/notebooks/data_table.ipynb>data table notebook</a>'\n",
              "            + ' to learn more about interactive tables.';\n",
              "          element.innerHTML = '';\n",
              "          dataTable['output_type'] = 'display_data';\n",
              "          await google.colab.output.renderOutput(dataTable, element);\n",
              "          const docLink = document.createElement('div');\n",
              "          docLink.innerHTML = docLinkHtml;\n",
              "          element.appendChild(docLink);\n",
              "        }\n",
              "      </script>\n",
              "    </div>\n",
              "  </div>\n",
              "  "
            ]
          },
          "metadata": {},
          "execution_count": 7
        }
      ]
    },
    {
      "cell_type": "code",
      "source": [
        "df.isnull().sum()"
      ],
      "metadata": {
        "colab": {
          "base_uri": "https://localhost:8080/"
        },
        "id": "3awDZOsV4M4-",
        "outputId": "3a70f822-a508-432a-d579-88a6bec1791d"
      },
      "execution_count": null,
      "outputs": [
        {
          "output_type": "execute_result",
          "data": {
            "text/plain": [
              "Country                                                              0\n",
              "Country.1                                                            0\n",
              "Year                                                                 0\n",
              "Water-related Adaptation technologies                              125\n",
              "Trade (% of GDP)                                                    40\n",
              "Time required to register property (days)                          119\n",
              "GDP per capita, PPP (constant 2011 international $)                 29\n",
              "Employers, total (% of total employment) (modeled ILO estimate)     59\n",
              "Gross enrolment ratio, primary, both sexes (%)                      88\n",
              "Water Stress Index                                                  68\n",
              "dtype: int64"
            ]
          },
          "metadata": {},
          "execution_count": 8
        }
      ]
    },
    {
      "cell_type": "code",
      "source": [
        "#drop data null yang lebih dari 10%\n",
        "df1 = df.drop(['Water-related Adaptation technologies','Time required to register property (days)'],axis = 1) "
      ],
      "metadata": {
        "id": "NfIeNrKU6fiK"
      },
      "execution_count": null,
      "outputs": []
    },
    {
      "cell_type": "code",
      "source": [
        "df1.shape"
      ],
      "metadata": {
        "colab": {
          "base_uri": "https://localhost:8080/"
        },
        "id": "um8MDBiw4zff",
        "outputId": "56a166d8-e1b9-4334-c76a-c1e6aa7a2767"
      },
      "execution_count": null,
      "outputs": [
        {
          "output_type": "execute_result",
          "data": {
            "text/plain": [
              "(500, 8)"
            ]
          },
          "metadata": {},
          "execution_count": 10
        }
      ]
    },
    {
      "cell_type": "code",
      "source": [
        "df1.columns"
      ],
      "metadata": {
        "colab": {
          "base_uri": "https://localhost:8080/"
        },
        "id": "KCl9ojZn5FwP",
        "outputId": "1e0806f3-ec2c-4039-859a-3e78847cc30d"
      },
      "execution_count": null,
      "outputs": [
        {
          "output_type": "execute_result",
          "data": {
            "text/plain": [
              "Index(['Country', 'Country.1', 'Year', 'Trade (% of GDP)',\n",
              "       'GDP per capita, PPP (constant 2011 international $)',\n",
              "       'Employers, total (% of total employment) (modeled ILO estimate)',\n",
              "       'Gross enrolment ratio, primary, both sexes (%)', 'Water Stress Index'],\n",
              "      dtype='object')"
            ]
          },
          "metadata": {},
          "execution_count": 11
        }
      ]
    },
    {
      "cell_type": "markdown",
      "source": [
        "replace nan"
      ],
      "metadata": {
        "id": "k4Dc7GHF5MWn"
      }
    },
    {
      "cell_type": "code",
      "source": [
        "df1['Trade (% of GDP)'].mean()"
      ],
      "metadata": {
        "colab": {
          "base_uri": "https://localhost:8080/"
        },
        "id": "JJt7cYhB4QWW",
        "outputId": "4bf71a4a-fb9b-49ce-e062-98029d446215"
      },
      "execution_count": null,
      "outputs": [
        {
          "output_type": "execute_result",
          "data": {
            "text/plain": [
              "77.667286626867"
            ]
          },
          "metadata": {},
          "execution_count": 12
        }
      ]
    },
    {
      "cell_type": "code",
      "source": [
        "df1['Trade (% of GDP)'].fillna(77.667286626867,inplace = True)\n"
      ],
      "metadata": {
        "id": "ouP-bKDu7Gyj"
      },
      "execution_count": null,
      "outputs": []
    },
    {
      "cell_type": "code",
      "source": [
        "df1['GDP per capita, PPP (constant 2011 international $)'].mean()"
      ],
      "metadata": {
        "colab": {
          "base_uri": "https://localhost:8080/"
        },
        "id": "5VnWEyhj7kGb",
        "outputId": "6ef2ebe0-c45d-4fa5-d64a-bc38e3c52e09"
      },
      "execution_count": null,
      "outputs": [
        {
          "output_type": "execute_result",
          "data": {
            "text/plain": [
              "5519.20847704505"
            ]
          },
          "metadata": {},
          "execution_count": 23
        }
      ]
    },
    {
      "cell_type": "code",
      "source": [
        "df1['GDP per capita, PPP (constant 2011 international $)'].fillna(5519.20847704505,inplace = True)"
      ],
      "metadata": {
        "id": "b1moG3DT7va1"
      },
      "execution_count": null,
      "outputs": []
    },
    {
      "cell_type": "code",
      "source": [
        "df1['Employers, total (% of total employment) (modeled ILO estimate)'].value_counts()"
      ],
      "metadata": {
        "colab": {
          "base_uri": "https://localhost:8080/"
        },
        "id": "6lxG7QDR8lD4",
        "outputId": "6bc7ef74-f55a-4f72-8a4e-276be74bc4e4"
      },
      "execution_count": null,
      "outputs": [
        {
          "output_type": "execute_result",
          "data": {
            "text/plain": [
              "0.072    7\n",
              "0.073    2\n",
              "1.135    2\n",
              "2.571    2\n",
              "2.621    2\n",
              "        ..\n",
              "0.494    1\n",
              "0.503    1\n",
              "0.482    1\n",
              "0.485    1\n",
              "0.473    1\n",
              "Name: Employers, total (% of total employment) (modeled ILO estimate), Length: 412, dtype: int64"
            ]
          },
          "metadata": {},
          "execution_count": 21
        }
      ]
    },
    {
      "cell_type": "code",
      "source": [
        "df1['Employers, total (% of total employment) (modeled ILO estimate)'].fillna(0.072, inplace = True)"
      ],
      "metadata": {
        "id": "ap7rWDtK-QeK"
      },
      "execution_count": null,
      "outputs": []
    },
    {
      "cell_type": "code",
      "source": [
        "df1['Gross enrolment ratio, primary, both sexes (%)'].mean()"
      ],
      "metadata": {
        "colab": {
          "base_uri": "https://localhost:8080/"
        },
        "id": "wYr_XZ5b8wvx",
        "outputId": "df6881c3-18c3-4292-f52f-8fd4b31fff91"
      },
      "execution_count": null,
      "outputs": [
        {
          "output_type": "execute_result",
          "data": {
            "text/plain": [
              "98.259143907767"
            ]
          },
          "metadata": {},
          "execution_count": 25
        }
      ]
    },
    {
      "cell_type": "code",
      "source": [
        "df1['Gross enrolment ratio, primary, both sexes (%)'].fillna(98.259143907767,inplace =True)"
      ],
      "metadata": {
        "id": "Tu2KxsuZ-q7l"
      },
      "execution_count": null,
      "outputs": []
    },
    {
      "cell_type": "code",
      "source": [
        "df1['Water Stress Index'].value_counts()"
      ],
      "metadata": {
        "colab": {
          "base_uri": "https://localhost:8080/"
        },
        "id": "TQ5Vmhk28_xh",
        "outputId": "8ca27e4d-49df-4266-b28b-71945c9e0809"
      },
      "execution_count": null,
      "outputs": [
        {
          "output_type": "execute_result",
          "data": {
            "text/plain": [
              "0.115160    9\n",
              "0.273730    9\n",
              "0.542322    6\n",
              "0.439502    4\n",
              "0.042425    3\n",
              "           ..\n",
              "0.301709    1\n",
              "0.302882    1\n",
              "0.303847    1\n",
              "0.309835    1\n",
              "0.390198    1\n",
              "Name: Water Stress Index, Length: 354, dtype: int64"
            ]
          },
          "metadata": {},
          "execution_count": 35
        }
      ]
    },
    {
      "cell_type": "code",
      "source": [
        "df1['Water Stress Index'].fillna(0.115160, inplace= True)"
      ],
      "metadata": {
        "id": "xGglCPfL-zui"
      },
      "execution_count": null,
      "outputs": []
    },
    {
      "cell_type": "code",
      "source": [
        "df1.isnull().sum()"
      ],
      "metadata": {
        "colab": {
          "base_uri": "https://localhost:8080/"
        },
        "id": "2BoB4snL-8c8",
        "outputId": "285cfb63-32e9-40c5-a4ad-bcf17f115d95"
      },
      "execution_count": null,
      "outputs": [
        {
          "output_type": "execute_result",
          "data": {
            "text/plain": [
              "Country                                                            0\n",
              "Country.1                                                          0\n",
              "Year                                                               0\n",
              "Trade (% of GDP)                                                   0\n",
              "GDP per capita, PPP (constant 2011 international $)                0\n",
              "Employers, total (% of total employment) (modeled ILO estimate)    0\n",
              "Gross enrolment ratio, primary, both sexes (%)                     0\n",
              "Water Stress Index                                                 0\n",
              "dtype: int64"
            ]
          },
          "metadata": {},
          "execution_count": 30
        }
      ]
    },
    {
      "cell_type": "markdown",
      "source": [
        "##algoritma 2 explorasi data analisis"
      ],
      "metadata": {
        "id": "cZR0pB0s5xaa"
      }
    },
    {
      "cell_type": "code",
      "source": [
        "df.corr()"
      ],
      "metadata": {
        "colab": {
          "base_uri": "https://localhost:8080/",
          "height": 969
        },
        "id": "LgORMp8Y5bjq",
        "outputId": "af2cc095-1a50-4eeb-f569-2fd05e7cafa7"
      },
      "execution_count": null,
      "outputs": [
        {
          "output_type": "execute_result",
          "data": {
            "text/plain": [
              "                                                       Country.1  \\\n",
              "Country.1                                           1.000000e+00   \n",
              "Year                                               -1.520940e-14   \n",
              "Water-related Adaptation technologies               8.638154e-02   \n",
              "Trade (% of GDP)                                   -4.493479e-03   \n",
              "Time required to register property (days)          -3.554285e-02   \n",
              "GDP per capita, PPP (constant 2011 internationa... -4.995833e-02   \n",
              "Employers, total (% of total employment) (model... -3.185890e-02   \n",
              "Gross enrolment ratio, primary, both sexes (%)      4.458997e-02   \n",
              "Water Stress Index                                  2.045756e-01   \n",
              "\n",
              "                                                            Year  \\\n",
              "Country.1                                          -1.520940e-14   \n",
              "Year                                                1.000000e+00   \n",
              "Water-related Adaptation technologies               1.236343e-01   \n",
              "Trade (% of GDP)                                    1.391172e-01   \n",
              "Time required to register property (days)          -1.849637e-01   \n",
              "GDP per capita, PPP (constant 2011 internationa...  1.203827e-01   \n",
              "Employers, total (% of total employment) (model...  5.893026e-03   \n",
              "Gross enrolment ratio, primary, both sexes (%)      3.619316e-01   \n",
              "Water Stress Index                                 -3.677509e-02   \n",
              "\n",
              "                                                    Water-related Adaptation technologies  \\\n",
              "Country.1                                                                        0.086382   \n",
              "Year                                                                             0.123634   \n",
              "Water-related Adaptation technologies                                            1.000000   \n",
              "Trade (% of GDP)                                                                -0.091781   \n",
              "Time required to register property (days)                                       -0.036435   \n",
              "GDP per capita, PPP (constant 2011 internationa...                               0.155040   \n",
              "Employers, total (% of total employment) (model...                               0.374154   \n",
              "Gross enrolment ratio, primary, both sexes (%)                                   0.081402   \n",
              "Water Stress Index                                                              -0.041759   \n",
              "\n",
              "                                                    Trade (% of GDP)  \\\n",
              "Country.1                                                  -0.004493   \n",
              "Year                                                        0.139117   \n",
              "Water-related Adaptation technologies                      -0.091781   \n",
              "Trade (% of GDP)                                            1.000000   \n",
              "Time required to register property (days)                  -0.041973   \n",
              "GDP per capita, PPP (constant 2011 internationa...          0.448074   \n",
              "Employers, total (% of total employment) (model...         -0.038925   \n",
              "Gross enrolment ratio, primary, both sexes (%)              0.107387   \n",
              "Water Stress Index                                         -0.244171   \n",
              "\n",
              "                                                    Time required to register property (days)  \\\n",
              "Country.1                                                                           -0.035543   \n",
              "Year                                                                                -0.184964   \n",
              "Water-related Adaptation technologies                                               -0.036435   \n",
              "Trade (% of GDP)                                                                    -0.041973   \n",
              "Time required to register property (days)                                            1.000000   \n",
              "GDP per capita, PPP (constant 2011 internationa...                                  -0.228544   \n",
              "Employers, total (% of total employment) (model...                                  -0.072064   \n",
              "Gross enrolment ratio, primary, both sexes (%)                                       0.251458   \n",
              "Water Stress Index                                                                   0.083779   \n",
              "\n",
              "                                                    GDP per capita, PPP (constant 2011 international $)  \\\n",
              "Country.1                                                                                   -0.049958     \n",
              "Year                                                                                         0.120383     \n",
              "Water-related Adaptation technologies                                                        0.155040     \n",
              "Trade (% of GDP)                                                                             0.448074     \n",
              "Time required to register property (days)                                                   -0.228544     \n",
              "GDP per capita, PPP (constant 2011 internationa...                                           1.000000     \n",
              "Employers, total (% of total employment) (model...                                           0.472386     \n",
              "Gross enrolment ratio, primary, both sexes (%)                                               0.074881     \n",
              "Water Stress Index                                                                          -0.155204     \n",
              "\n",
              "                                                    Employers, total (% of total employment) (modeled ILO estimate)  \\\n",
              "Country.1                                                                                   -0.031859                 \n",
              "Year                                                                                         0.005893                 \n",
              "Water-related Adaptation technologies                                                        0.374154                 \n",
              "Trade (% of GDP)                                                                            -0.038925                 \n",
              "Time required to register property (days)                                                   -0.072064                 \n",
              "GDP per capita, PPP (constant 2011 internationa...                                           0.472386                 \n",
              "Employers, total (% of total employment) (model...                                           1.000000                 \n",
              "Gross enrolment ratio, primary, both sexes (%)                                               0.017047                 \n",
              "Water Stress Index                                                                          -0.046305                 \n",
              "\n",
              "                                                    Gross enrolment ratio, primary, both sexes (%)  \\\n",
              "Country.1                                                                                 0.044590   \n",
              "Year                                                                                      0.361932   \n",
              "Water-related Adaptation technologies                                                     0.081402   \n",
              "Trade (% of GDP)                                                                          0.107387   \n",
              "Time required to register property (days)                                                 0.251458   \n",
              "GDP per capita, PPP (constant 2011 internationa...                                        0.074881   \n",
              "Employers, total (% of total employment) (model...                                        0.017047   \n",
              "Gross enrolment ratio, primary, both sexes (%)                                            1.000000   \n",
              "Water Stress Index                                                                       -0.239244   \n",
              "\n",
              "                                                    Water Stress Index  \n",
              "Country.1                                                     0.204576  \n",
              "Year                                                         -0.036775  \n",
              "Water-related Adaptation technologies                        -0.041759  \n",
              "Trade (% of GDP)                                             -0.244171  \n",
              "Time required to register property (days)                     0.083779  \n",
              "GDP per capita, PPP (constant 2011 internationa...           -0.155204  \n",
              "Employers, total (% of total employment) (model...           -0.046305  \n",
              "Gross enrolment ratio, primary, both sexes (%)               -0.239244  \n",
              "Water Stress Index                                            1.000000  "
            ],
            "text/html": [
              "\n",
              "  <div id=\"df-71c9daae-9ca9-42a6-9036-f9e30c37ae6f\">\n",
              "    <div class=\"colab-df-container\">\n",
              "      <div>\n",
              "<style scoped>\n",
              "    .dataframe tbody tr th:only-of-type {\n",
              "        vertical-align: middle;\n",
              "    }\n",
              "\n",
              "    .dataframe tbody tr th {\n",
              "        vertical-align: top;\n",
              "    }\n",
              "\n",
              "    .dataframe thead th {\n",
              "        text-align: right;\n",
              "    }\n",
              "</style>\n",
              "<table border=\"1\" class=\"dataframe\">\n",
              "  <thead>\n",
              "    <tr style=\"text-align: right;\">\n",
              "      <th></th>\n",
              "      <th>Country.1</th>\n",
              "      <th>Year</th>\n",
              "      <th>Water-related Adaptation technologies</th>\n",
              "      <th>Trade (% of GDP)</th>\n",
              "      <th>Time required to register property (days)</th>\n",
              "      <th>GDP per capita, PPP (constant 2011 international $)</th>\n",
              "      <th>Employers, total (% of total employment) (modeled ILO estimate)</th>\n",
              "      <th>Gross enrolment ratio, primary, both sexes (%)</th>\n",
              "      <th>Water Stress Index</th>\n",
              "    </tr>\n",
              "  </thead>\n",
              "  <tbody>\n",
              "    <tr>\n",
              "      <th>Country.1</th>\n",
              "      <td>1.000000e+00</td>\n",
              "      <td>-1.520940e-14</td>\n",
              "      <td>0.086382</td>\n",
              "      <td>-0.004493</td>\n",
              "      <td>-0.035543</td>\n",
              "      <td>-0.049958</td>\n",
              "      <td>-0.031859</td>\n",
              "      <td>0.044590</td>\n",
              "      <td>0.204576</td>\n",
              "    </tr>\n",
              "    <tr>\n",
              "      <th>Year</th>\n",
              "      <td>-1.520940e-14</td>\n",
              "      <td>1.000000e+00</td>\n",
              "      <td>0.123634</td>\n",
              "      <td>0.139117</td>\n",
              "      <td>-0.184964</td>\n",
              "      <td>0.120383</td>\n",
              "      <td>0.005893</td>\n",
              "      <td>0.361932</td>\n",
              "      <td>-0.036775</td>\n",
              "    </tr>\n",
              "    <tr>\n",
              "      <th>Water-related Adaptation technologies</th>\n",
              "      <td>8.638154e-02</td>\n",
              "      <td>1.236343e-01</td>\n",
              "      <td>1.000000</td>\n",
              "      <td>-0.091781</td>\n",
              "      <td>-0.036435</td>\n",
              "      <td>0.155040</td>\n",
              "      <td>0.374154</td>\n",
              "      <td>0.081402</td>\n",
              "      <td>-0.041759</td>\n",
              "    </tr>\n",
              "    <tr>\n",
              "      <th>Trade (% of GDP)</th>\n",
              "      <td>-4.493479e-03</td>\n",
              "      <td>1.391172e-01</td>\n",
              "      <td>-0.091781</td>\n",
              "      <td>1.000000</td>\n",
              "      <td>-0.041973</td>\n",
              "      <td>0.448074</td>\n",
              "      <td>-0.038925</td>\n",
              "      <td>0.107387</td>\n",
              "      <td>-0.244171</td>\n",
              "    </tr>\n",
              "    <tr>\n",
              "      <th>Time required to register property (days)</th>\n",
              "      <td>-3.554285e-02</td>\n",
              "      <td>-1.849637e-01</td>\n",
              "      <td>-0.036435</td>\n",
              "      <td>-0.041973</td>\n",
              "      <td>1.000000</td>\n",
              "      <td>-0.228544</td>\n",
              "      <td>-0.072064</td>\n",
              "      <td>0.251458</td>\n",
              "      <td>0.083779</td>\n",
              "    </tr>\n",
              "    <tr>\n",
              "      <th>GDP per capita, PPP (constant 2011 international $)</th>\n",
              "      <td>-4.995833e-02</td>\n",
              "      <td>1.203827e-01</td>\n",
              "      <td>0.155040</td>\n",
              "      <td>0.448074</td>\n",
              "      <td>-0.228544</td>\n",
              "      <td>1.000000</td>\n",
              "      <td>0.472386</td>\n",
              "      <td>0.074881</td>\n",
              "      <td>-0.155204</td>\n",
              "    </tr>\n",
              "    <tr>\n",
              "      <th>Employers, total (% of total employment) (modeled ILO estimate)</th>\n",
              "      <td>-3.185890e-02</td>\n",
              "      <td>5.893026e-03</td>\n",
              "      <td>0.374154</td>\n",
              "      <td>-0.038925</td>\n",
              "      <td>-0.072064</td>\n",
              "      <td>0.472386</td>\n",
              "      <td>1.000000</td>\n",
              "      <td>0.017047</td>\n",
              "      <td>-0.046305</td>\n",
              "    </tr>\n",
              "    <tr>\n",
              "      <th>Gross enrolment ratio, primary, both sexes (%)</th>\n",
              "      <td>4.458997e-02</td>\n",
              "      <td>3.619316e-01</td>\n",
              "      <td>0.081402</td>\n",
              "      <td>0.107387</td>\n",
              "      <td>0.251458</td>\n",
              "      <td>0.074881</td>\n",
              "      <td>0.017047</td>\n",
              "      <td>1.000000</td>\n",
              "      <td>-0.239244</td>\n",
              "    </tr>\n",
              "    <tr>\n",
              "      <th>Water Stress Index</th>\n",
              "      <td>2.045756e-01</td>\n",
              "      <td>-3.677509e-02</td>\n",
              "      <td>-0.041759</td>\n",
              "      <td>-0.244171</td>\n",
              "      <td>0.083779</td>\n",
              "      <td>-0.155204</td>\n",
              "      <td>-0.046305</td>\n",
              "      <td>-0.239244</td>\n",
              "      <td>1.000000</td>\n",
              "    </tr>\n",
              "  </tbody>\n",
              "</table>\n",
              "</div>\n",
              "      <button class=\"colab-df-convert\" onclick=\"convertToInteractive('df-71c9daae-9ca9-42a6-9036-f9e30c37ae6f')\"\n",
              "              title=\"Convert this dataframe to an interactive table.\"\n",
              "              style=\"display:none;\">\n",
              "        \n",
              "  <svg xmlns=\"http://www.w3.org/2000/svg\" height=\"24px\"viewBox=\"0 0 24 24\"\n",
              "       width=\"24px\">\n",
              "    <path d=\"M0 0h24v24H0V0z\" fill=\"none\"/>\n",
              "    <path d=\"M18.56 5.44l.94 2.06.94-2.06 2.06-.94-2.06-.94-.94-2.06-.94 2.06-2.06.94zm-11 1L8.5 8.5l.94-2.06 2.06-.94-2.06-.94L8.5 2.5l-.94 2.06-2.06.94zm10 10l.94 2.06.94-2.06 2.06-.94-2.06-.94-.94-2.06-.94 2.06-2.06.94z\"/><path d=\"M17.41 7.96l-1.37-1.37c-.4-.4-.92-.59-1.43-.59-.52 0-1.04.2-1.43.59L10.3 9.45l-7.72 7.72c-.78.78-.78 2.05 0 2.83L4 21.41c.39.39.9.59 1.41.59.51 0 1.02-.2 1.41-.59l7.78-7.78 2.81-2.81c.8-.78.8-2.07 0-2.86zM5.41 20L4 18.59l7.72-7.72 1.47 1.35L5.41 20z\"/>\n",
              "  </svg>\n",
              "      </button>\n",
              "      \n",
              "  <style>\n",
              "    .colab-df-container {\n",
              "      display:flex;\n",
              "      flex-wrap:wrap;\n",
              "      gap: 12px;\n",
              "    }\n",
              "\n",
              "    .colab-df-convert {\n",
              "      background-color: #E8F0FE;\n",
              "      border: none;\n",
              "      border-radius: 50%;\n",
              "      cursor: pointer;\n",
              "      display: none;\n",
              "      fill: #1967D2;\n",
              "      height: 32px;\n",
              "      padding: 0 0 0 0;\n",
              "      width: 32px;\n",
              "    }\n",
              "\n",
              "    .colab-df-convert:hover {\n",
              "      background-color: #E2EBFA;\n",
              "      box-shadow: 0px 1px 2px rgba(60, 64, 67, 0.3), 0px 1px 3px 1px rgba(60, 64, 67, 0.15);\n",
              "      fill: #174EA6;\n",
              "    }\n",
              "\n",
              "    [theme=dark] .colab-df-convert {\n",
              "      background-color: #3B4455;\n",
              "      fill: #D2E3FC;\n",
              "    }\n",
              "\n",
              "    [theme=dark] .colab-df-convert:hover {\n",
              "      background-color: #434B5C;\n",
              "      box-shadow: 0px 1px 3px 1px rgba(0, 0, 0, 0.15);\n",
              "      filter: drop-shadow(0px 1px 2px rgba(0, 0, 0, 0.3));\n",
              "      fill: #FFFFFF;\n",
              "    }\n",
              "  </style>\n",
              "\n",
              "      <script>\n",
              "        const buttonEl =\n",
              "          document.querySelector('#df-71c9daae-9ca9-42a6-9036-f9e30c37ae6f button.colab-df-convert');\n",
              "        buttonEl.style.display =\n",
              "          google.colab.kernel.accessAllowed ? 'block' : 'none';\n",
              "\n",
              "        async function convertToInteractive(key) {\n",
              "          const element = document.querySelector('#df-71c9daae-9ca9-42a6-9036-f9e30c37ae6f');\n",
              "          const dataTable =\n",
              "            await google.colab.kernel.invokeFunction('convertToInteractive',\n",
              "                                                     [key], {});\n",
              "          if (!dataTable) return;\n",
              "\n",
              "          const docLinkHtml = 'Like what you see? Visit the ' +\n",
              "            '<a target=\"_blank\" href=https://colab.research.google.com/notebooks/data_table.ipynb>data table notebook</a>'\n",
              "            + ' to learn more about interactive tables.';\n",
              "          element.innerHTML = '';\n",
              "          dataTable['output_type'] = 'display_data';\n",
              "          await google.colab.output.renderOutput(dataTable, element);\n",
              "          const docLink = document.createElement('div');\n",
              "          docLink.innerHTML = docLinkHtml;\n",
              "          element.appendChild(docLink);\n",
              "        }\n",
              "      </script>\n",
              "    </div>\n",
              "  </div>\n",
              "  "
            ]
          },
          "metadata": {},
          "execution_count": 20
        }
      ]
    },
    {
      "cell_type": "code",
      "source": [
        "plt.figure(figsize=(8,4))\n",
        "sns.heatmap(df1.corr(), annot=True, cmap='cool')\n",
        "plt.show()"
      ],
      "metadata": {
        "colab": {
          "base_uri": "https://localhost:8080/",
          "height": 586
        },
        "id": "TcSOJIAM546K",
        "outputId": "4e524d35-4c97-40bb-b394-f3367cdda0f2"
      },
      "execution_count": null,
      "outputs": [
        {
          "output_type": "display_data",
          "data": {
            "text/plain": [
              "<Figure size 576x288 with 2 Axes>"
            ],
            "image/png": "[encoded data removed]"
          },
          "metadata": {
            "needs_background": "light"
          }
        }
      ]
    },
    {
      "cell_type": "markdown",
      "source": [
        "• Lakukan pembagian class"
      ],
      "metadata": {
        "id": "z8plXGta_lj0"
      }
    },
    {
      "cell_type": "code",
      "source": [
        "class_df = df1.copy()\n",
        "class_df['class'] = class_df['Water Stress Index']\n",
        "class_df['class'] [class_df['class']>= 0.3 ] = 1#hight water stress index\n",
        "class_df['class'] [class_df['class']< 0.3 ] = 0#low water stress index"
      ],
      "metadata": {
        "colab": {
          "base_uri": "https://localhost:8080/"
        },
        "id": "TD_wL6xx_oc4",
        "outputId": "4d1c8e16-dae5-4e4b-efc1-7e01e1fffb59"
      },
      "execution_count": null,
      "outputs": [
        {
          "output_type": "stream",
          "name": "stderr",
          "text": [
            "<ipython-input-32-57dce03938bc>:3: SettingWithCopyWarning: \n",
            "A value is trying to be set on a copy of a slice from a DataFrame\n",
            "\n",
            "See the caveats in the documentation: https://pandas.pydata.org/pandas-docs/stable/user_guide/indexing.html#returning-a-view-versus-a-copy\n",
            "  class_df['class'] [class_df['class']>= 0.3 ] = 1#hight water stress index\n",
            "<ipython-input-32-57dce03938bc>:4: SettingWithCopyWarning: \n",
            "A value is trying to be set on a copy of a slice from a DataFrame\n",
            "\n",
            "See the caveats in the documentation: https://pandas.pydata.org/pandas-docs/stable/user_guide/indexing.html#returning-a-view-versus-a-copy\n",
            "  class_df['class'] [class_df['class']< 0.3 ] = 0#low water stress index\n"
          ]
        }
      ]
    },
    {
      "cell_type": "code",
      "source": [
        "class_df.drop(['Water Stress Index'],axis=1,inplace=True)"
      ],
      "metadata": {
        "id": "Tw7kXtgdAT0l"
      },
      "execution_count": null,
      "outputs": []
    },
    {
      "cell_type": "code",
      "source": [
        "class_df.drop(['Country'],axis=1,inplace=True)"
      ],
      "metadata": {
        "id": "fz5KZTNnEsYW"
      },
      "execution_count": null,
      "outputs": []
    },
    {
      "cell_type": "code",
      "source": [
        "class_df.drop(['Country.1', 'Year'],axis=1,inplace=True)"
      ],
      "metadata": {
        "id": "aoQFMI5LFUb4"
      },
      "execution_count": null,
      "outputs": []
    },
    {
      "cell_type": "code",
      "source": [
        "class_df.columns"
      ],
      "metadata": {
        "colab": {
          "base_uri": "https://localhost:8080/"
        },
        "id": "oIy9ud9WAqaO",
        "outputId": "10e701fb-ce79-4931-c694-7c2646cefa7e"
      },
      "execution_count": null,
      "outputs": [
        {
          "output_type": "execute_result",
          "data": {
            "text/plain": [
              "Index(['Trade (% of GDP)',\n",
              "       'GDP per capita, PPP (constant 2011 international $)',\n",
              "       'Employers, total (% of total employment) (modeled ILO estimate)',\n",
              "       'Gross enrolment ratio, primary, both sexes (%)', 'class'],\n",
              "      dtype='object')"
            ]
          },
          "metadata": {},
          "execution_count": 57
        }
      ]
    },
    {
      "cell_type": "markdown",
      "source": [
        "###import library model"
      ],
      "metadata": {
        "id": "jLdCD1bEA2Kg"
      }
    },
    {
      "cell_type": "code",
      "source": [
        "from sklearn.model_selection import train_test_split\n",
        "from sklearn.svm import SVC\n",
        "from sklearn.preprocessing import MinMaxScaler\n",
        "from sklearn.metrics import classification_report,confusion_matrix,accuracy_score"
      ],
      "metadata": {
        "id": "WySszsBzAWjG"
      },
      "execution_count": null,
      "outputs": []
    },
    {
      "cell_type": "markdown",
      "source": [
        "###algoritma 3: data modeling 1"
      ],
      "metadata": {
        "id": "gE1OfV6XBdMA"
      }
    },
    {
      "cell_type": "code",
      "source": [
        "class_df.head()"
      ],
      "metadata": {
        "colab": {
          "base_uri": "https://localhost:8080/",
          "height": 285
        },
        "id": "WgZaTHa-BSYH",
        "outputId": "023b5775-6bfb-4286-e1f5-29d40da31de3"
      },
      "execution_count": null,
      "outputs": [
        {
          "output_type": "execute_result",
          "data": {
            "text/plain": [
              "   Trade (% of GDP)  GDP per capita, PPP (constant 2011 international $)  \\\n",
              "0         48.380714                                       10300.015042     \n",
              "1         62.863795                                       10257.741569     \n",
              "2         71.277440                                       12370.892005     \n",
              "3         69.867572                                       12919.491054     \n",
              "4         67.473455                                       13046.128511     \n",
              "\n",
              "   Employers, total (% of total employment) (modeled ILO estimate)  \\\n",
              "0                                              0.072                 \n",
              "1                                              6.993                 \n",
              "2                                              5.239                 \n",
              "3                                              3.699                 \n",
              "4                                              3.438                 \n",
              "\n",
              "   Gross enrolment ratio, primary, both sexes (%)  class  \n",
              "0                                        92.59344    0.0  \n",
              "1                                       105.16491    1.0  \n",
              "2                                       107.58610    1.0  \n",
              "3                                       115.33758    1.0  \n",
              "4                                       116.56791    1.0  "
            ],
            "text/html": [
              "\n",
              "  <div id=\"df-e53431bf-c844-41b8-ac46-089c3390d98c\">\n",
              "    <div class=\"colab-df-container\">\n",
              "      <div>\n",
              "<style scoped>\n",
              "    .dataframe tbody tr th:only-of-type {\n",
              "        vertical-align: middle;\n",
              "    }\n",
              "\n",
              "    .dataframe tbody tr th {\n",
              "        vertical-align: top;\n",
              "    }\n",
              "\n",
              "    .dataframe thead th {\n",
              "        text-align: right;\n",
              "    }\n",
              "</style>\n",
              "<table border=\"1\" class=\"dataframe\">\n",
              "  <thead>\n",
              "    <tr style=\"text-align: right;\">\n",
              "      <th></th>\n",
              "      <th>Trade (% of GDP)</th>\n",
              "      <th>GDP per capita, PPP (constant 2011 international $)</th>\n",
              "      <th>Employers, total (% of total employment) (modeled ILO estimate)</th>\n",
              "      <th>Gross enrolment ratio, primary, both sexes (%)</th>\n",
              "      <th>class</th>\n",
              "    </tr>\n",
              "  </thead>\n",
              "  <tbody>\n",
              "    <tr>\n",
              "      <th>0</th>\n",
              "      <td>48.380714</td>\n",
              "      <td>10300.015042</td>\n",
              "      <td>0.072</td>\n",
              "      <td>92.59344</td>\n",
              "      <td>0.0</td>\n",
              "    </tr>\n",
              "    <tr>\n",
              "      <th>1</th>\n",
              "      <td>62.863795</td>\n",
              "      <td>10257.741569</td>\n",
              "      <td>6.993</td>\n",
              "      <td>105.16491</td>\n",
              "      <td>1.0</td>\n",
              "    </tr>\n",
              "    <tr>\n",
              "      <th>2</th>\n",
              "      <td>71.277440</td>\n",
              "      <td>12370.892005</td>\n",
              "      <td>5.239</td>\n",
              "      <td>107.58610</td>\n",
              "      <td>1.0</td>\n",
              "    </tr>\n",
              "    <tr>\n",
              "      <th>3</th>\n",
              "      <td>69.867572</td>\n",
              "      <td>12919.491054</td>\n",
              "      <td>3.699</td>\n",
              "      <td>115.33758</td>\n",
              "      <td>1.0</td>\n",
              "    </tr>\n",
              "    <tr>\n",
              "      <th>4</th>\n",
              "      <td>67.473455</td>\n",
              "      <td>13046.128511</td>\n",
              "      <td>3.438</td>\n",
              "      <td>116.56791</td>\n",
              "      <td>1.0</td>\n",
              "    </tr>\n",
              "  </tbody>\n",
              "</table>\n",
              "</div>\n",
              "      <button class=\"colab-df-convert\" onclick=\"convertToInteractive('df-e53431bf-c844-41b8-ac46-089c3390d98c')\"\n",
              "              title=\"Convert this dataframe to an interactive table.\"\n",
              "              style=\"display:none;\">\n",
              "        \n",
              "  <svg xmlns=\"http://www.w3.org/2000/svg\" height=\"24px\"viewBox=\"0 0 24 24\"\n",
              "       width=\"24px\">\n",
              "    <path d=\"M0 0h24v24H0V0z\" fill=\"none\"/>\n",
              "    <path d=\"M18.56 5.44l.94 2.06.94-2.06 2.06-.94-2.06-.94-.94-2.06-.94 2.06-2.06.94zm-11 1L8.5 8.5l.94-2.06 2.06-.94-2.06-.94L8.5 2.5l-.94 2.06-2.06.94zm10 10l.94 2.06.94-2.06 2.06-.94-2.06-.94-.94-2.06-.94 2.06-2.06.94z\"/><path d=\"M17.41 7.96l-1.37-1.37c-.4-.4-.92-.59-1.43-.59-.52 0-1.04.2-1.43.59L10.3 9.45l-7.72 7.72c-.78.78-.78 2.05 0 2.83L4 21.41c.39.39.9.59 1.41.59.51 0 1.02-.2 1.41-.59l7.78-7.78 2.81-2.81c.8-.78.8-2.07 0-2.86zM5.41 20L4 18.59l7.72-7.72 1.47 1.35L5.41 20z\"/>\n",
              "  </svg>\n",
              "      </button>\n",
              "      \n",
              "  <style>\n",
              "    .colab-df-container {\n",
              "      display:flex;\n",
              "      flex-wrap:wrap;\n",
              "      gap: 12px;\n",
              "    }\n",
              "\n",
              "    .colab-df-convert {\n",
              "      background-color: #E8F0FE;\n",
              "      border: none;\n",
              "      border-radius: 50%;\n",
              "      cursor: pointer;\n",
              "      display: none;\n",
              "      fill: #1967D2;\n",
              "      height: 32px;\n",
              "      padding: 0 0 0 0;\n",
              "      width: 32px;\n",
              "    }\n",
              "\n",
              "    .colab-df-convert:hover {\n",
              "      background-color: #E2EBFA;\n",
              "      box-shadow: 0px 1px 2px rgba(60, 64, 67, 0.3), 0px 1px 3px 1px rgba(60, 64, 67, 0.15);\n",
              "      fill: #174EA6;\n",
              "    }\n",
              "\n",
              "    [theme=dark] .colab-df-convert {\n",
              "      background-color: #3B4455;\n",
              "      fill: #D2E3FC;\n",
              "    }\n",
              "\n",
              "    [theme=dark] .colab-df-convert:hover {\n",
              "      background-color: #434B5C;\n",
              "      box-shadow: 0px 1px 3px 1px rgba(0, 0, 0, 0.15);\n",
              "      filter: drop-shadow(0px 1px 2px rgba(0, 0, 0, 0.3));\n",
              "      fill: #FFFFFF;\n",
              "    }\n",
              "  </style>\n",
              "\n",
              "      <script>\n",
              "        const buttonEl =\n",
              "          document.querySelector('#df-e53431bf-c844-41b8-ac46-089c3390d98c button.colab-df-convert');\n",
              "        buttonEl.style.display =\n",
              "          google.colab.kernel.accessAllowed ? 'block' : 'none';\n",
              "\n",
              "        async function convertToInteractive(key) {\n",
              "          const element = document.querySelector('#df-e53431bf-c844-41b8-ac46-089c3390d98c');\n",
              "          const dataTable =\n",
              "            await google.colab.kernel.invokeFunction('convertToInteractive',\n",
              "                                                     [key], {});\n",
              "          if (!dataTable) return;\n",
              "\n",
              "          const docLinkHtml = 'Like what you see? Visit the ' +\n",
              "            '<a target=\"_blank\" href=https://colab.research.google.com/notebooks/data_table.ipynb>data table notebook</a>'\n",
              "            + ' to learn more about interactive tables.';\n",
              "          element.innerHTML = '';\n",
              "          dataTable['output_type'] = 'display_data';\n",
              "          await google.colab.output.renderOutput(dataTable, element);\n",
              "          const docLink = document.createElement('div');\n",
              "          docLink.innerHTML = docLinkHtml;\n",
              "          element.appendChild(docLink);\n",
              "        }\n",
              "      </script>\n",
              "    </div>\n",
              "  </div>\n",
              "  "
            ]
          },
          "metadata": {},
          "execution_count": 59
        }
      ]
    },
    {
      "cell_type": "code",
      "source": [
        "X = class_df.loc[:, class_df.columns !='class']"
      ],
      "metadata": {
        "id": "dB7l6wxIB-Ti"
      },
      "execution_count": null,
      "outputs": []
    },
    {
      "cell_type": "code",
      "source": [
        "y = class_df.loc[:, 'class']"
      ],
      "metadata": {
        "id": "Y86yGuaOCIgI"
      },
      "execution_count": null,
      "outputs": []
    },
    {
      "cell_type": "markdown",
      "source": [
        "### algoritma 4 : Data Split"
      ],
      "metadata": {
        "id": "4g69utAWCLnz"
      }
    },
    {
      "cell_type": "code",
      "source": [
        "\n",
        "X_train, X_test, y_train, y_test = train_test_split(X,y,test_size=0.2,random_state=5)"
      ],
      "metadata": {
        "id": "CT6AOTyZCuFR"
      },
      "execution_count": null,
      "outputs": []
    },
    {
      "cell_type": "code",
      "source": [
        "print('X train', X_train.shape)\n",
        "print('X test', X_test.shape)\n",
        "print('y train', y_train.shape)\n",
        "print('y test', y_test.shape)"
      ],
      "metadata": {
        "colab": {
          "base_uri": "https://localhost:8080/"
        },
        "id": "Rz_ac7ZbDRPT",
        "outputId": "e11e3a4c-8d08-4649-ee38-cf3db3cca5ed"
      },
      "execution_count": null,
      "outputs": [
        {
          "output_type": "stream",
          "name": "stdout",
          "text": [
            "X train (400, 4)\n",
            "X test (100, 4)\n",
            "y train (400,)\n",
            "y test (100,)\n"
          ]
        }
      ]
    },
    {
      "cell_type": "code",
      "source": [
        "scaler = MinMaxScaler()\n",
        "X_train = scaler.fit_transform(X_train)\n",
        "X_test = scaler.fit_transform(X_test)"
      ],
      "metadata": {
        "id": "bdUbh6l5DwjT"
      },
      "execution_count": null,
      "outputs": []
    },
    {
      "cell_type": "markdown",
      "source": [
        "Algoritma 5: Data Modeling SVM"
      ],
      "metadata": {
        "id": "eYoBOd9sFikV"
      }
    },
    {
      "cell_type": "code",
      "source": [
        "from sklearn.svm import SVC\n",
        "svc = SVC(kernel='linear', C=1, probability=True)\n",
        "svc.fit(X_train, y_train)\n",
        "y_pred=svc.predict(X_test)\n",
        "y_pred"
      ],
      "metadata": {
        "colab": {
          "base_uri": "https://localhost:8080/"
        },
        "id": "O92qokIYFpad",
        "outputId": "9e59d4df-289c-4a9a-c9e5-ef464b9ed5df"
      },
      "execution_count": null,
      "outputs": [
        {
          "output_type": "execute_result",
          "data": {
            "text/plain": [
              "array([1., 1., 1., 1., 1., 1., 1., 1., 1., 1., 1., 1., 1., 1., 1., 1., 1.,\n",
              "       1., 1., 1., 1., 1., 1., 1., 1., 1., 1., 1., 1., 1., 1., 1., 1., 1.,\n",
              "       1., 1., 1., 1., 1., 1., 1., 1., 1., 1., 1., 1., 1., 1., 1., 1., 1.,\n",
              "       1., 1., 1., 1., 1., 1., 1., 1., 1., 1., 1., 1., 1., 1., 1., 1., 1.,\n",
              "       1., 1., 1., 1., 1., 1., 1., 1., 1., 1., 1., 1., 1., 1., 1., 1., 1.,\n",
              "       1., 1., 1., 1., 1., 1., 1., 1., 1., 1., 1., 1., 1., 1., 1.])"
            ]
          },
          "metadata": {},
          "execution_count": 101
        }
      ]
    },
    {
      "cell_type": "code",
      "source": [
        "svc = SVC(kernel='rbf', C=2, probability=True)\n",
        "svc.fit(X_train, y_train)\n",
        "y_pred=svc.predict(X_test)\n",
        "y_pred"
      ],
      "metadata": {
        "colab": {
          "base_uri": "https://localhost:8080/"
        },
        "id": "gXceN-mAQjQ9",
        "outputId": "0e0d2445-71b1-4503-a15c-ed422063bca7"
      },
      "execution_count": null,
      "outputs": [
        {
          "output_type": "execute_result",
          "data": {
            "text/plain": [
              "array([1., 1., 1., 1., 1., 1., 1., 1., 0., 1., 0., 1., 0., 0., 1., 0., 0.,\n",
              "       1., 0., 1., 1., 0., 1., 0., 1., 0., 1., 1., 0., 1., 1., 1., 1., 1.,\n",
              "       1., 0., 1., 1., 1., 1., 0., 1., 0., 1., 1., 1., 0., 1., 1., 1., 1.,\n",
              "       1., 1., 0., 1., 1., 1., 1., 1., 0., 1., 1., 1., 1., 1., 1., 1., 1.,\n",
              "       1., 0., 1., 1., 1., 0., 0., 1., 1., 1., 0., 1., 0., 1., 1., 0., 1.,\n",
              "       1., 1., 1., 1., 1., 1., 1., 1., 1., 1., 1., 1., 1., 1., 1.])"
            ]
          },
          "metadata": {},
          "execution_count": 103
        }
      ]
    },
    {
      "cell_type": "code",
      "source": [
        "svc = SVC(kernel='poly', C=2, probability=True)\n",
        "svc.fit(X_train, y_train)\n",
        "y_pred=svc.predict(X_test)\n",
        "y_pred"
      ],
      "metadata": {
        "colab": {
          "base_uri": "https://localhost:8080/"
        },
        "id": "wvrkNakaQ4QE",
        "outputId": "79d351de-de13-403c-b866-be763b669c92"
      },
      "execution_count": null,
      "outputs": [
        {
          "output_type": "execute_result",
          "data": {
            "text/plain": [
              "array([1., 1., 1., 1., 1., 1., 1., 1., 1., 1., 0., 1., 0., 0., 1., 0., 0.,\n",
              "       1., 0., 1., 1., 0., 1., 0., 1., 0., 1., 1., 1., 1., 1., 1., 1., 1.,\n",
              "       1., 1., 1., 1., 1., 1., 1., 0., 0., 1., 1., 1., 0., 1., 1., 1., 1.,\n",
              "       1., 1., 0., 1., 1., 1., 1., 1., 1., 1., 1., 1., 1., 1., 1., 1., 1.,\n",
              "       1., 0., 1., 1., 1., 0., 0., 1., 1., 1., 0., 1., 0., 1., 1., 0., 1.,\n",
              "       1., 1., 1., 1., 1., 1., 1., 1., 1., 1., 1., 1., 1., 1., 0.])"
            ]
          },
          "metadata": {},
          "execution_count": 104
        }
      ]
    },
    {
      "cell_type": "code",
      "source": [
        "svc = SVC(kernel='sigmoid', C=2, probability=True)\n",
        "svc.fit(X_train, y_train)\n",
        "y_pred=svc.predict(X_test)\n",
        "y_pred"
      ],
      "metadata": {
        "colab": {
          "base_uri": "https://localhost:8080/"
        },
        "id": "bqWWI9hIQ8fN",
        "outputId": "f43ae91b-7df8-4171-ac66-1555904f8ed9"
      },
      "execution_count": null,
      "outputs": [
        {
          "output_type": "execute_result",
          "data": {
            "text/plain": [
              "array([0., 1., 0., 1., 1., 1., 0., 0., 0., 1., 0., 0., 0., 0., 1., 1., 0.,\n",
              "       0., 0., 0., 0., 0., 1., 0., 1., 1., 0., 1., 1., 1., 0., 0., 1., 1.,\n",
              "       1., 0., 1., 1., 1., 0., 0., 0., 0., 1., 0., 0., 0., 1., 1., 1., 0.,\n",
              "       0., 0., 0., 0., 1., 1., 1., 1., 1., 0., 0., 0., 1., 0., 0., 0., 1.,\n",
              "       1., 0., 1., 0., 0., 1., 0., 0., 0., 1., 0., 1., 0., 1., 0., 0., 1.,\n",
              "       1., 0., 0., 1., 1., 0., 0., 0., 1., 0., 0., 1., 1., 1., 1.])"
            ]
          },
          "metadata": {},
          "execution_count": 105
        }
      ]
    },
    {
      "cell_type": "markdown",
      "source": [
        "###import librsry untuk k_means"
      ],
      "metadata": {
        "id": "hxsrpjDWF3sA"
      }
    },
    {
      "cell_type": "code",
      "source": [
        "from sklearn.cluster import KMeans\n",
        "from sklearn import metrics\n",
        "from sklearn.metrics import silhouette_score,silhouette_samples"
      ],
      "metadata": {
        "id": "aejAAiSKF9OA"
      },
      "execution_count": null,
      "outputs": []
    },
    {
      "cell_type": "markdown",
      "source": [
        "###uji elbow"
      ],
      "metadata": {
        "id": "x58_eVG1GOZo"
      }
    },
    {
      "cell_type": "code",
      "source": [
        "df1.columns"
      ],
      "metadata": {
        "colab": {
          "base_uri": "https://localhost:8080/"
        },
        "id": "7udhOET5MBZe",
        "outputId": "070ea86c-7b57-401a-be85-0e15ad22b9b7"
      },
      "execution_count": null,
      "outputs": [
        {
          "output_type": "execute_result",
          "data": {
            "text/plain": [
              "Index(['Country', 'Country.1', 'Year', 'Trade (% of GDP)',\n",
              "       'GDP per capita, PPP (constant 2011 international $)',\n",
              "       'Employers, total (% of total employment) (modeled ILO estimate)',\n",
              "       'Gross enrolment ratio, primary, both sexes (%)', 'Water Stress Index'],\n",
              "      dtype='object')"
            ]
          },
          "metadata": {},
          "execution_count": 75
        }
      ]
    },
    {
      "cell_type": "code",
      "source": [
        "df1.drop(['Country','Country.1','Year'],axis = 1, inplace=True)"
      ],
      "metadata": {
        "id": "wfhtu2omL5Ft"
      },
      "execution_count": null,
      "outputs": []
    },
    {
      "cell_type": "code",
      "source": [
        "wcss = []\n",
        "range_values = range(1,20)\n",
        "for i in range_values:\n",
        "  kmeans = KMeans(n_clusters=i)\n",
        "  kmeans.fit(df1)\n",
        "  wcss.append(kmeans.inertia_)\n",
        "\n",
        "plt.plot(range(1,20),wcss,marker ='o')\n",
        "plt.title('the elbow methode_africa', fontsize = 20)\n",
        "plt.xlabel('No. of cluster ')\n",
        "plt.ylabel('wcss')\n",
        "plt.show()"
      ],
      "metadata": {
        "colab": {
          "base_uri": "https://localhost:8080/",
          "height": 300
        },
        "id": "VN-RDAhYGNHI",
        "outputId": "ff18a6b4-318a-4fb3-8054-ef2f69c25936"
      },
      "execution_count": null,
      "outputs": [
        {
          "output_type": "display_data",
          "data": {
            "text/plain": [
              "<Figure size 432x288 with 1 Axes>"
            ],
            "image/png": "[encoded data removed]"
          },
          "metadata": {
            "needs_background": "light"
          }
        }
      ]
    },
    {
      "cell_type": "markdown",
      "source": [
        "kesimpulan elbow methode : karena penurunan siknifikan dari curva elbow ada di titik 3 maka cluster terbaik ada di no 3"
      ],
      "metadata": {
        "id": "NsosK43VHQIq"
      }
    },
    {
      "cell_type": "code",
      "source": [
        "silhouette_avgs = []\n",
        "for k in range(2,50):\n",
        "  kmean = KMeans(n_clusters=k).fit(df1)\n",
        "  silhouette_avgs.append(metrics.silhouette_score(class_df,kmean.labels_))\n",
        "f,ax = plt.subplots(figsize=(7,5))\n",
        "ax.plot(silhouette_avgs)"
      ],
      "metadata": {
        "colab": {
          "base_uri": "https://localhost:8080/",
          "height": 337
        },
        "id": "7P_yvSq_HFfz",
        "outputId": "42aca163-dbdd-4f5b-d097-296d80df17cd"
      },
      "execution_count": null,
      "outputs": [
        {
          "output_type": "execute_result",
          "data": {
            "text/plain": [
              "[<matplotlib.lines.Line2D at 0x7efd8ddaaa30>]"
            ]
          },
          "metadata": {},
          "execution_count": 78
        },
        {
          "output_type": "display_data",
          "data": {
            "text/plain": [
              "<Figure size 504x360 with 1 Axes>"
            ],
            "image/png": "[encoded data removed]"
          },
          "metadata": {
            "needs_background": "light"
          }
        }
      ]
    },
    {
      "cell_type": "markdown",
      "source": [
        "algoritma 6 : Data modeling :kmeans"
      ],
      "metadata": {
        "id": "FFy4LE1IJBFl"
      }
    },
    {
      "cell_type": "code",
      "source": [
        "kmeans =KMeans(max_iter=200, n_clusters=3, n_init=10, random_state=None, tol=0.0001,verbose=0)\n",
        "kmeans.fit(df1)\n"
      ],
      "metadata": {
        "colab": {
          "base_uri": "https://localhost:8080/"
        },
        "id": "XfCS_gUTIumv",
        "outputId": "2ba73250-a4e2-4afa-c0fc-bf32b4cfb319"
      },
      "execution_count": null,
      "outputs": [
        {
          "output_type": "execute_result",
          "data": {
            "text/plain": [
              "KMeans(max_iter=200, n_clusters=3)"
            ]
          },
          "metadata": {},
          "execution_count": 80
        }
      ]
    },
    {
      "cell_type": "code",
      "source": [
        "df1['KMeans Label'] = kmeans.labels_\n",
        "# df2 = df1.drop([])"
      ],
      "metadata": {
        "id": "GhL49L-pKSQB"
      },
      "execution_count": null,
      "outputs": []
    },
    {
      "cell_type": "code",
      "source": [
        "df2 = df1.drop(['Water Stress Index', 'KMeans Label'], axis=1)"
      ],
      "metadata": {
        "id": "zoND3GSMNKan"
      },
      "execution_count": null,
      "outputs": []
    },
    {
      "cell_type": "code",
      "source": [
        "df2.columns"
      ],
      "metadata": {
        "colab": {
          "base_uri": "https://localhost:8080/"
        },
        "id": "DefjRMlwOtiQ",
        "outputId": "c54a637c-5734-4016-fd6c-85c58a585ac0"
      },
      "execution_count": null,
      "outputs": [
        {
          "output_type": "execute_result",
          "data": {
            "text/plain": [
              "Index(['Trade (% of GDP)',\n",
              "       'GDP per capita, PPP (constant 2011 international $)',\n",
              "       'Employers, total (% of total employment) (modeled ILO estimate)',\n",
              "       'Gross enrolment ratio, primary, both sexes (%)'],\n",
              "      dtype='object')"
            ]
          },
          "metadata": {},
          "execution_count": 94
        }
      ]
    },
    {
      "cell_type": "code",
      "source": [
        "df1.columns"
      ],
      "metadata": {
        "colab": {
          "base_uri": "https://localhost:8080/"
        },
        "id": "zTM2vV9sK1e5",
        "outputId": "3afc5ddd-8e8a-4170-fa37-6bd52fc43281"
      },
      "execution_count": null,
      "outputs": [
        {
          "output_type": "execute_result",
          "data": {
            "text/plain": [
              "Index(['Trade (% of GDP)',\n",
              "       'GDP per capita, PPP (constant 2011 international $)',\n",
              "       'Employers, total (% of total employment) (modeled ILO estimate)',\n",
              "       'Gross enrolment ratio, primary, both sexes (%)', 'Water Stress Index',\n",
              "       'KMeans Label'],\n",
              "      dtype='object')"
            ]
          },
          "metadata": {},
          "execution_count": 89
        }
      ]
    },
    {
      "cell_type": "code",
      "source": [
        "\n",
        "for i in df1.columns:\n",
        "  ax.scatter(data = df2, color=rgb[classes])\n",
        "  plt.title(i+'Water Stress Index')\n",
        "  plt.show()"
      ],
      "metadata": {
        "colab": {
          "base_uri": "https://localhost:8080/",
          "height": 217
        },
        "id": "QTMuepNfK3tx",
        "outputId": "daa1531b-4327-4170-d055-04d95a12063b"
      },
      "execution_count": null,
      "outputs": [
        {
          "output_type": "error",
          "ename": "NameError",
          "evalue": "ignored",
          "traceback": [
            "\u001b[0;31m---------------------------------------------------------------------------\u001b[0m",
            "\u001b[0;31mNameError\u001b[0m                                 Traceback (most recent call last)",
            "\u001b[0;32m<ipython-input-107-9e3d2ff889d7>\u001b[0m in \u001b[0;36m<module>\u001b[0;34m\u001b[0m\n\u001b[1;32m      1\u001b[0m \u001b[0;32mfor\u001b[0m \u001b[0mi\u001b[0m \u001b[0;32min\u001b[0m \u001b[0mdf1\u001b[0m\u001b[0;34m.\u001b[0m\u001b[0mcolumns\u001b[0m\u001b[0;34m:\u001b[0m\u001b[0;34m\u001b[0m\u001b[0;34m\u001b[0m\u001b[0m\n\u001b[0;32m----> 2\u001b[0;31m   \u001b[0max\u001b[0m\u001b[0;34m.\u001b[0m\u001b[0mscatter\u001b[0m\u001b[0;34m(\u001b[0m\u001b[0mdata\u001b[0m \u001b[0;34m=\u001b[0m \u001b[0mdf2\u001b[0m\u001b[0;34m,\u001b[0m \u001b[0mcolor\u001b[0m\u001b[0;34m=\u001b[0m\u001b[0mrgb\u001b[0m\u001b[0;34m[\u001b[0m\u001b[0mclasses\u001b[0m\u001b[0;34m]\u001b[0m\u001b[0;34m)\u001b[0m\u001b[0;34m\u001b[0m\u001b[0;34m\u001b[0m\u001b[0m\n\u001b[0m\u001b[1;32m      3\u001b[0m   \u001b[0mplt\u001b[0m\u001b[0;34m.\u001b[0m\u001b[0mtitle\u001b[0m\u001b[0;34m(\u001b[0m\u001b[0mi\u001b[0m\u001b[0;34m+\u001b[0m\u001b[0;34m'Water Stress Index'\u001b[0m\u001b[0;34m)\u001b[0m\u001b[0;34m\u001b[0m\u001b[0;34m\u001b[0m\u001b[0m\n\u001b[1;32m      4\u001b[0m   \u001b[0mplt\u001b[0m\u001b[0;34m.\u001b[0m\u001b[0mshow\u001b[0m\u001b[0;34m(\u001b[0m\u001b[0;34m)\u001b[0m\u001b[0;34m\u001b[0m\u001b[0;34m\u001b[0m\u001b[0m\n",
            "\u001b[0;31mNameError\u001b[0m: name 'rgb' is not defined"
          ]
        }
      ]
    },
    {
      "cell_type": "code",
      "source": [],
      "metadata": {
        "id": "696SZBJ2PFrH"
      },
      "execution_count": null,
      "outputs": []
    }
  ]
}